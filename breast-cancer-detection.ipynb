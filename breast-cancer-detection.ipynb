{
 "cells": [
  {
   "cell_type": "markdown",
   "source": [
    "# Breast Cancer Detection Project\n",
    "\n",
    "This notebook will look into using various different python-based machine learning libraries, models by evaluating them and improving them through hyperparameter tuning in an attempt to build a machine learning model that is capable of predicting whether someone has breast cancer based on their medical attributes.\n",
    "\n",
    "## Problem\n",
    "\n",
    "> Given clinical parameters about a patient, can we predict whether they have breast cancer or not?\n",
    "\n",
    "## Data\n",
    "\n",
    "Data is from kaggle: https://www.kaggle.com/datasets/utkarshx27/breast-cancer-wisconsin-diagnostic-dataset\n",
    "\n",
    "## Target\n",
    "\n",
    "Evaluate the model using various different statistics:\n",
    "* Hyperparameter Tuning\n",
    "* ROC Curve + Area under the curve (AUC)\n",
    "* Confusion Matrix\n",
    "* Cross-validation\n",
    "* Precision\n",
    "* Recall\n",
    "* F1 Score\n",
    "* Classification Report\n",
    "* Feature Importance\n",
    "\n",
    "> Aiming to reach 95% accuracy when predicting whether a patient has breast cancer or not.\n",
    "\n",
    "## Features\n",
    "\n",
    "> y. The outcomes. A factor with two levels denoting whether a mass is malignant (\"M\") or benign (\"B\"). => B - 0, M - 1\n",
    "> x. The predictors. A matrix with the mean, standard error and worst value of each of 10 nuclear measurements on the slide, for 30 total features per biopsy:\n",
    "\n",
    "x.radius_mean - Mean radius of the tumor cells\n",
    "x.texture_mean - Mean texture of the tumor cells\n",
    "x.perimeter_mean - Mean perimeter of the tumor cells\n",
    "x.area_mean - Mean area of the tumor cells\n",
    "x.smoothness_mean - Mean smoothness of the tumor cells\n",
    "x.compactness_mean - Mean compactness of the tumor cells\n",
    "x.concavity_mean - Mean concavity of the tumor cells\n",
    "x.concave_points_mean - Mean number of concave portions of the contour of the tumor cells\n",
    "x.symmetry_mean\tMean - symmetry of the tumor cells\n",
    "x.fractal_dimension_mean - Mean \"coastline approximation\" of the tumor cells\n",
    "x.radius_se - Standard error of the radius of the tumor cells\n",
    "x.texture_se - Standard error of the texture of the tumor cells\n",
    "x.perimeter_se - Standard error of the perimeter of the tumor cells\n",
    "x.area_se - Standard error of the area of the tumor cells\n",
    "x.smoothness_se - Standard error of the smoothness of the tumor cells\n",
    "x.compactness_se - Standard error of the compactness of the tumor cells\n",
    "x.concavity_se - Standard error of the concavity of the tumor cells\n",
    "x.concave_points_se - Standard error of the number of concave portions of the contour of the tumor cells\n",
    "x.symmetry_se - Standard error of the symmetry of the tumor cells\n",
    "x.fractal_dimension_se - Standard error of the \"coastline approximation\" of the tumor cells\n",
    "x.radius_worst - Worst (largest) radius of the tumor cells\n",
    "x.texture_worst - Worst (most severe) texture of the tumor cells\n",
    "x.perimeter_worst - Worst (largest) perimeter of the tumor cells\n",
    "x.area_worst - Worst (largest) area of the tumor cells\n",
    "x.smoothness_worst - Worst (most severe) smoothness of the tumor cells\n",
    "x.compactness_worst - Worst (most severe) compactness of the tumor cells\n",
    "x.concavity_worst - Worst (most severe) concavity of the tumor cells\n",
    "x.concave_points_worst - Worst (most severe) number of concave portions of the contour of the tumor cells\n",
    "x.symmetry_worst - Worst (most severe) symmetry of the tumor cells\n",
    "x.fractal_dimension_worst - Worst (most severe) \"coastline approximation\" of the tumor cells\n",
    "y - target"
   ],
   "metadata": {
    "collapsed": false
   }
  },
  {
   "cell_type": "markdown",
   "source": [
    "## Getting Workspace Ready"
   ],
   "metadata": {
    "collapsed": false
   }
  },
  {
   "cell_type": "code",
   "execution_count": 181,
   "metadata": {
    "collapsed": true,
    "ExecuteTime": {
     "end_time": "2023-07-07T00:30:19.416676Z",
     "start_time": "2023-07-07T00:30:19.393325Z"
    }
   },
   "outputs": [],
   "source": [
    "import numpy as np\n",
    "import pandas as pd\n",
    "import plotly.express as px\n",
    "import plotly.graph_objects as go\n",
    "\n",
    "from sklearn.linear_model import LogisticRegression\n",
    "from sklearn.ensemble import BaggingClassifier\n",
    "from sklearn.neighbors import KNeighborsClassifier\n",
    "from sklearn.ensemble import RandomForestClassifier\n",
    "from sklearn.svm import SVC\n",
    "from sklearn.svm import LinearSVC\n",
    "import xgboost as xgb\n",
    "from sklearn.model_selection import train_test_split, cross_val_score, RandomizedSearchCV, GridSearchCV\n",
    "from sklearn.metrics import confusion_matrix, classification_report, precision_score, recall_score, f1_score, \\\n",
    "    RocCurveDisplay"
   ]
  },
  {
   "cell_type": "markdown",
   "source": [
    "## Exploring Data"
   ],
   "metadata": {
    "collapsed": false
   }
  },
  {
   "cell_type": "code",
   "execution_count": null,
   "outputs": [],
   "source": [
    "df = pd.read_csv(\"brca.csv\")\n",
    "df.head()"
   ],
   "metadata": {
    "collapsed": false,
    "is_executing": true,
    "ExecuteTime": {
     "start_time": "2023-07-07T00:30:19.396292Z"
    }
   }
  },
  {
   "cell_type": "code",
   "execution_count": null,
   "outputs": [
    {
     "data": {
      "text/plain": "     Unnamed: 0  x.radius_mean  x.texture_mean  x.perimeter_mean  x.area_mean  \\\n564         565          20.92           25.09             143.0       1347.0   \n565         566          21.56           22.39             142.0       1479.0   \n566         567          20.13           28.25             131.2       1261.0   \n567         568          16.60           28.08             108.3        858.1   \n568         569          20.60           29.33             140.1       1265.0   \n\n     x.smoothness_mean  x.compactness_mean  x.concavity_mean  \\\n564            0.10990              0.2236           0.31740   \n565            0.11100              0.1159           0.24390   \n566            0.09780              0.1034           0.14400   \n567            0.08455              0.1023           0.09251   \n568            0.11780              0.2770           0.35140   \n\n     x.concave_pts_mean  x.symmetry_mean  ...  x.texture_worst  \\\n564             0.14740           0.2149  ...            29.41   \n565             0.13890           0.1726  ...            26.40   \n566             0.09791           0.1752  ...            38.25   \n567             0.05302           0.1590  ...            34.12   \n568             0.15200           0.2397  ...            39.42   \n\n     x.perimeter_worst  x.area_worst  x.smoothness_worst  x.compactness_worst  \\\n564              179.1        1819.0              0.1407               0.4186   \n565              166.1        2027.0              0.1410               0.2113   \n566              155.0        1731.0              0.1166               0.1922   \n567              126.7        1124.0              0.1139               0.3094   \n568              184.6        1821.0              0.1650               0.8681   \n\n     x.concavity_worst  x.concave_pts_worst  x.symmetry_worst  \\\n564             0.6599               0.2542            0.2929   \n565             0.4107               0.2216            0.2060   \n566             0.3215               0.1628            0.2572   \n567             0.3403               0.1418            0.2218   \n568             0.9387               0.2650            0.4087   \n\n     x.fractal_dim_worst  y  \n564              0.09873  M  \n565              0.07115  M  \n566              0.06637  M  \n567              0.07820  M  \n568              0.12400  M  \n\n[5 rows x 32 columns]",
      "text/html": "<div>\n<style scoped>\n    .dataframe tbody tr th:only-of-type {\n        vertical-align: middle;\n    }\n\n    .dataframe tbody tr th {\n        vertical-align: top;\n    }\n\n    .dataframe thead th {\n        text-align: right;\n    }\n</style>\n<table border=\"1\" class=\"dataframe\">\n  <thead>\n    <tr style=\"text-align: right;\">\n      <th></th>\n      <th>Unnamed: 0</th>\n      <th>x.radius_mean</th>\n      <th>x.texture_mean</th>\n      <th>x.perimeter_mean</th>\n      <th>x.area_mean</th>\n      <th>x.smoothness_mean</th>\n      <th>x.compactness_mean</th>\n      <th>x.concavity_mean</th>\n      <th>x.concave_pts_mean</th>\n      <th>x.symmetry_mean</th>\n      <th>...</th>\n      <th>x.texture_worst</th>\n      <th>x.perimeter_worst</th>\n      <th>x.area_worst</th>\n      <th>x.smoothness_worst</th>\n      <th>x.compactness_worst</th>\n      <th>x.concavity_worst</th>\n      <th>x.concave_pts_worst</th>\n      <th>x.symmetry_worst</th>\n      <th>x.fractal_dim_worst</th>\n      <th>y</th>\n    </tr>\n  </thead>\n  <tbody>\n    <tr>\n      <th>564</th>\n      <td>565</td>\n      <td>20.92</td>\n      <td>25.09</td>\n      <td>143.0</td>\n      <td>1347.0</td>\n      <td>0.10990</td>\n      <td>0.2236</td>\n      <td>0.31740</td>\n      <td>0.14740</td>\n      <td>0.2149</td>\n      <td>...</td>\n      <td>29.41</td>\n      <td>179.1</td>\n      <td>1819.0</td>\n      <td>0.1407</td>\n      <td>0.4186</td>\n      <td>0.6599</td>\n      <td>0.2542</td>\n      <td>0.2929</td>\n      <td>0.09873</td>\n      <td>M</td>\n    </tr>\n    <tr>\n      <th>565</th>\n      <td>566</td>\n      <td>21.56</td>\n      <td>22.39</td>\n      <td>142.0</td>\n      <td>1479.0</td>\n      <td>0.11100</td>\n      <td>0.1159</td>\n      <td>0.24390</td>\n      <td>0.13890</td>\n      <td>0.1726</td>\n      <td>...</td>\n      <td>26.40</td>\n      <td>166.1</td>\n      <td>2027.0</td>\n      <td>0.1410</td>\n      <td>0.2113</td>\n      <td>0.4107</td>\n      <td>0.2216</td>\n      <td>0.2060</td>\n      <td>0.07115</td>\n      <td>M</td>\n    </tr>\n    <tr>\n      <th>566</th>\n      <td>567</td>\n      <td>20.13</td>\n      <td>28.25</td>\n      <td>131.2</td>\n      <td>1261.0</td>\n      <td>0.09780</td>\n      <td>0.1034</td>\n      <td>0.14400</td>\n      <td>0.09791</td>\n      <td>0.1752</td>\n      <td>...</td>\n      <td>38.25</td>\n      <td>155.0</td>\n      <td>1731.0</td>\n      <td>0.1166</td>\n      <td>0.1922</td>\n      <td>0.3215</td>\n      <td>0.1628</td>\n      <td>0.2572</td>\n      <td>0.06637</td>\n      <td>M</td>\n    </tr>\n    <tr>\n      <th>567</th>\n      <td>568</td>\n      <td>16.60</td>\n      <td>28.08</td>\n      <td>108.3</td>\n      <td>858.1</td>\n      <td>0.08455</td>\n      <td>0.1023</td>\n      <td>0.09251</td>\n      <td>0.05302</td>\n      <td>0.1590</td>\n      <td>...</td>\n      <td>34.12</td>\n      <td>126.7</td>\n      <td>1124.0</td>\n      <td>0.1139</td>\n      <td>0.3094</td>\n      <td>0.3403</td>\n      <td>0.1418</td>\n      <td>0.2218</td>\n      <td>0.07820</td>\n      <td>M</td>\n    </tr>\n    <tr>\n      <th>568</th>\n      <td>569</td>\n      <td>20.60</td>\n      <td>29.33</td>\n      <td>140.1</td>\n      <td>1265.0</td>\n      <td>0.11780</td>\n      <td>0.2770</td>\n      <td>0.35140</td>\n      <td>0.15200</td>\n      <td>0.2397</td>\n      <td>...</td>\n      <td>39.42</td>\n      <td>184.6</td>\n      <td>1821.0</td>\n      <td>0.1650</td>\n      <td>0.8681</td>\n      <td>0.9387</td>\n      <td>0.2650</td>\n      <td>0.4087</td>\n      <td>0.12400</td>\n      <td>M</td>\n    </tr>\n  </tbody>\n</table>\n<p>5 rows × 32 columns</p>\n</div>"
     },
     "execution_count": 183,
     "metadata": {},
     "output_type": "execute_result"
    }
   ],
   "source": [
    "df.tail()"
   ],
   "metadata": {
    "collapsed": false,
    "is_executing": true,
    "ExecuteTime": {
     "start_time": "2023-07-07T00:30:19.411306Z"
    }
   }
  },
  {
   "cell_type": "code",
   "execution_count": null,
   "outputs": [
    {
     "name": "stdout",
     "output_type": "stream",
     "text": [
      "<class 'pandas.core.frame.DataFrame'>\n",
      "RangeIndex: 569 entries, 0 to 568\n",
      "Data columns (total 32 columns):\n",
      " #   Column               Non-Null Count  Dtype  \n",
      "---  ------               --------------  -----  \n",
      " 0   Unnamed: 0           569 non-null    int64  \n",
      " 1   x.radius_mean        569 non-null    float64\n",
      " 2   x.texture_mean       569 non-null    float64\n",
      " 3   x.perimeter_mean     569 non-null    float64\n",
      " 4   x.area_mean          569 non-null    float64\n",
      " 5   x.smoothness_mean    569 non-null    float64\n",
      " 6   x.compactness_mean   569 non-null    float64\n",
      " 7   x.concavity_mean     569 non-null    float64\n",
      " 8   x.concave_pts_mean   569 non-null    float64\n",
      " 9   x.symmetry_mean      569 non-null    float64\n",
      " 10  x.fractal_dim_mean   569 non-null    float64\n",
      " 11  x.radius_se          569 non-null    float64\n",
      " 12  x.texture_se         569 non-null    float64\n",
      " 13  x.perimeter_se       569 non-null    float64\n",
      " 14  x.area_se            569 non-null    float64\n",
      " 15  x.smoothness_se      569 non-null    float64\n",
      " 16  x.compactness_se     569 non-null    float64\n",
      " 17  x.concavity_se       569 non-null    float64\n",
      " 18  x.concave_pts_se     569 non-null    float64\n",
      " 19  x.symmetry_se        569 non-null    float64\n",
      " 20  x.fractal_dim_se     569 non-null    float64\n",
      " 21  x.radius_worst       569 non-null    float64\n",
      " 22  x.texture_worst      569 non-null    float64\n",
      " 23  x.perimeter_worst    569 non-null    float64\n",
      " 24  x.area_worst         569 non-null    float64\n",
      " 25  x.smoothness_worst   569 non-null    float64\n",
      " 26  x.compactness_worst  569 non-null    float64\n",
      " 27  x.concavity_worst    569 non-null    float64\n",
      " 28  x.concave_pts_worst  569 non-null    float64\n",
      " 29  x.symmetry_worst     569 non-null    float64\n",
      " 30  x.fractal_dim_worst  569 non-null    float64\n",
      " 31  y                    569 non-null    object \n",
      "dtypes: float64(30), int64(1), object(1)\n",
      "memory usage: 142.4+ KB\n"
     ]
    }
   ],
   "source": [
    "df.info()"
   ],
   "metadata": {
    "collapsed": false,
    "is_executing": true,
    "ExecuteTime": {
     "start_time": "2023-07-07T00:30:19.415478Z"
    }
   }
  },
  {
   "cell_type": "code",
   "execution_count": null,
   "outputs": [
    {
     "data": {
      "text/plain": "       Unnamed: 0  x.radius_mean  x.texture_mean  x.perimeter_mean  \\\ncount  569.000000     569.000000      569.000000        569.000000   \nmean   285.000000      14.127292       19.289649         91.969033   \nstd    164.400426       3.524049        4.301036         24.298981   \nmin      1.000000       6.981000        9.710000         43.790000   \n25%    143.000000      11.700000       16.170000         75.170000   \n50%    285.000000      13.370000       18.840000         86.240000   \n75%    427.000000      15.780000       21.800000        104.100000   \nmax    569.000000      28.110000       39.280000        188.500000   \n\n       x.area_mean  x.smoothness_mean  x.compactness_mean  x.concavity_mean  \\\ncount   569.000000         569.000000          569.000000        569.000000   \nmean    654.889104           0.096360            0.104341          0.088799   \nstd     351.914129           0.014064            0.052813          0.079720   \nmin     143.500000           0.052630            0.019380          0.000000   \n25%     420.300000           0.086370            0.064920          0.029560   \n50%     551.100000           0.095870            0.092630          0.061540   \n75%     782.700000           0.105300            0.130400          0.130700   \nmax    2501.000000           0.163400            0.345400          0.426800   \n\n       x.concave_pts_mean  x.symmetry_mean  ...  x.radius_worst  \\\ncount          569.000000       569.000000  ...      569.000000   \nmean             0.048919         0.181162  ...       16.269190   \nstd              0.038803         0.027414  ...        4.833242   \nmin              0.000000         0.106000  ...        7.930000   \n25%              0.020310         0.161900  ...       13.010000   \n50%              0.033500         0.179200  ...       14.970000   \n75%              0.074000         0.195700  ...       18.790000   \nmax              0.201200         0.304000  ...       36.040000   \n\n       x.texture_worst  x.perimeter_worst  x.area_worst  x.smoothness_worst  \\\ncount       569.000000         569.000000    569.000000          569.000000   \nmean         25.677223         107.261213    880.583128            0.132369   \nstd           6.146258          33.602542    569.356993            0.022832   \nmin          12.020000          50.410000    185.200000            0.071170   \n25%          21.080000          84.110000    515.300000            0.116600   \n50%          25.410000          97.660000    686.500000            0.131300   \n75%          29.720000         125.400000   1084.000000            0.146000   \nmax          49.540000         251.200000   4254.000000            0.222600   \n\n       x.compactness_worst  x.concavity_worst  x.concave_pts_worst  \\\ncount           569.000000         569.000000           569.000000   \nmean              0.254265           0.272188             0.114606   \nstd               0.157336           0.208624             0.065732   \nmin               0.027290           0.000000             0.000000   \n25%               0.147200           0.114500             0.064930   \n50%               0.211900           0.226700             0.099930   \n75%               0.339100           0.382900             0.161400   \nmax               1.058000           1.252000             0.291000   \n\n       x.symmetry_worst  x.fractal_dim_worst  \ncount        569.000000           569.000000  \nmean           0.290076             0.083946  \nstd            0.061867             0.018061  \nmin            0.156500             0.055040  \n25%            0.250400             0.071460  \n50%            0.282200             0.080040  \n75%            0.317900             0.092080  \nmax            0.663800             0.207500  \n\n[8 rows x 31 columns]",
      "text/html": "<div>\n<style scoped>\n    .dataframe tbody tr th:only-of-type {\n        vertical-align: middle;\n    }\n\n    .dataframe tbody tr th {\n        vertical-align: top;\n    }\n\n    .dataframe thead th {\n        text-align: right;\n    }\n</style>\n<table border=\"1\" class=\"dataframe\">\n  <thead>\n    <tr style=\"text-align: right;\">\n      <th></th>\n      <th>Unnamed: 0</th>\n      <th>x.radius_mean</th>\n      <th>x.texture_mean</th>\n      <th>x.perimeter_mean</th>\n      <th>x.area_mean</th>\n      <th>x.smoothness_mean</th>\n      <th>x.compactness_mean</th>\n      <th>x.concavity_mean</th>\n      <th>x.concave_pts_mean</th>\n      <th>x.symmetry_mean</th>\n      <th>...</th>\n      <th>x.radius_worst</th>\n      <th>x.texture_worst</th>\n      <th>x.perimeter_worst</th>\n      <th>x.area_worst</th>\n      <th>x.smoothness_worst</th>\n      <th>x.compactness_worst</th>\n      <th>x.concavity_worst</th>\n      <th>x.concave_pts_worst</th>\n      <th>x.symmetry_worst</th>\n      <th>x.fractal_dim_worst</th>\n    </tr>\n  </thead>\n  <tbody>\n    <tr>\n      <th>count</th>\n      <td>569.000000</td>\n      <td>569.000000</td>\n      <td>569.000000</td>\n      <td>569.000000</td>\n      <td>569.000000</td>\n      <td>569.000000</td>\n      <td>569.000000</td>\n      <td>569.000000</td>\n      <td>569.000000</td>\n      <td>569.000000</td>\n      <td>...</td>\n      <td>569.000000</td>\n      <td>569.000000</td>\n      <td>569.000000</td>\n      <td>569.000000</td>\n      <td>569.000000</td>\n      <td>569.000000</td>\n      <td>569.000000</td>\n      <td>569.000000</td>\n      <td>569.000000</td>\n      <td>569.000000</td>\n    </tr>\n    <tr>\n      <th>mean</th>\n      <td>285.000000</td>\n      <td>14.127292</td>\n      <td>19.289649</td>\n      <td>91.969033</td>\n      <td>654.889104</td>\n      <td>0.096360</td>\n      <td>0.104341</td>\n      <td>0.088799</td>\n      <td>0.048919</td>\n      <td>0.181162</td>\n      <td>...</td>\n      <td>16.269190</td>\n      <td>25.677223</td>\n      <td>107.261213</td>\n      <td>880.583128</td>\n      <td>0.132369</td>\n      <td>0.254265</td>\n      <td>0.272188</td>\n      <td>0.114606</td>\n      <td>0.290076</td>\n      <td>0.083946</td>\n    </tr>\n    <tr>\n      <th>std</th>\n      <td>164.400426</td>\n      <td>3.524049</td>\n      <td>4.301036</td>\n      <td>24.298981</td>\n      <td>351.914129</td>\n      <td>0.014064</td>\n      <td>0.052813</td>\n      <td>0.079720</td>\n      <td>0.038803</td>\n      <td>0.027414</td>\n      <td>...</td>\n      <td>4.833242</td>\n      <td>6.146258</td>\n      <td>33.602542</td>\n      <td>569.356993</td>\n      <td>0.022832</td>\n      <td>0.157336</td>\n      <td>0.208624</td>\n      <td>0.065732</td>\n      <td>0.061867</td>\n      <td>0.018061</td>\n    </tr>\n    <tr>\n      <th>min</th>\n      <td>1.000000</td>\n      <td>6.981000</td>\n      <td>9.710000</td>\n      <td>43.790000</td>\n      <td>143.500000</td>\n      <td>0.052630</td>\n      <td>0.019380</td>\n      <td>0.000000</td>\n      <td>0.000000</td>\n      <td>0.106000</td>\n      <td>...</td>\n      <td>7.930000</td>\n      <td>12.020000</td>\n      <td>50.410000</td>\n      <td>185.200000</td>\n      <td>0.071170</td>\n      <td>0.027290</td>\n      <td>0.000000</td>\n      <td>0.000000</td>\n      <td>0.156500</td>\n      <td>0.055040</td>\n    </tr>\n    <tr>\n      <th>25%</th>\n      <td>143.000000</td>\n      <td>11.700000</td>\n      <td>16.170000</td>\n      <td>75.170000</td>\n      <td>420.300000</td>\n      <td>0.086370</td>\n      <td>0.064920</td>\n      <td>0.029560</td>\n      <td>0.020310</td>\n      <td>0.161900</td>\n      <td>...</td>\n      <td>13.010000</td>\n      <td>21.080000</td>\n      <td>84.110000</td>\n      <td>515.300000</td>\n      <td>0.116600</td>\n      <td>0.147200</td>\n      <td>0.114500</td>\n      <td>0.064930</td>\n      <td>0.250400</td>\n      <td>0.071460</td>\n    </tr>\n    <tr>\n      <th>50%</th>\n      <td>285.000000</td>\n      <td>13.370000</td>\n      <td>18.840000</td>\n      <td>86.240000</td>\n      <td>551.100000</td>\n      <td>0.095870</td>\n      <td>0.092630</td>\n      <td>0.061540</td>\n      <td>0.033500</td>\n      <td>0.179200</td>\n      <td>...</td>\n      <td>14.970000</td>\n      <td>25.410000</td>\n      <td>97.660000</td>\n      <td>686.500000</td>\n      <td>0.131300</td>\n      <td>0.211900</td>\n      <td>0.226700</td>\n      <td>0.099930</td>\n      <td>0.282200</td>\n      <td>0.080040</td>\n    </tr>\n    <tr>\n      <th>75%</th>\n      <td>427.000000</td>\n      <td>15.780000</td>\n      <td>21.800000</td>\n      <td>104.100000</td>\n      <td>782.700000</td>\n      <td>0.105300</td>\n      <td>0.130400</td>\n      <td>0.130700</td>\n      <td>0.074000</td>\n      <td>0.195700</td>\n      <td>...</td>\n      <td>18.790000</td>\n      <td>29.720000</td>\n      <td>125.400000</td>\n      <td>1084.000000</td>\n      <td>0.146000</td>\n      <td>0.339100</td>\n      <td>0.382900</td>\n      <td>0.161400</td>\n      <td>0.317900</td>\n      <td>0.092080</td>\n    </tr>\n    <tr>\n      <th>max</th>\n      <td>569.000000</td>\n      <td>28.110000</td>\n      <td>39.280000</td>\n      <td>188.500000</td>\n      <td>2501.000000</td>\n      <td>0.163400</td>\n      <td>0.345400</td>\n      <td>0.426800</td>\n      <td>0.201200</td>\n      <td>0.304000</td>\n      <td>...</td>\n      <td>36.040000</td>\n      <td>49.540000</td>\n      <td>251.200000</td>\n      <td>4254.000000</td>\n      <td>0.222600</td>\n      <td>1.058000</td>\n      <td>1.252000</td>\n      <td>0.291000</td>\n      <td>0.663800</td>\n      <td>0.207500</td>\n    </tr>\n  </tbody>\n</table>\n<p>8 rows × 31 columns</p>\n</div>"
     },
     "execution_count": 186,
     "metadata": {},
     "output_type": "execute_result"
    }
   ],
   "source": [
    "df.describe()"
   ],
   "metadata": {
    "collapsed": false,
    "is_executing": true,
    "ExecuteTime": {
     "start_time": "2023-07-07T00:30:20.425042Z"
    }
   }
  },
  {
   "cell_type": "code",
   "execution_count": null,
   "outputs": [
    {
     "data": {
      "text/plain": "Unnamed: 0             0\nx.radius_mean          0\nx.texture_mean         0\nx.perimeter_mean       0\nx.area_mean            0\nx.smoothness_mean      0\nx.compactness_mean     0\nx.concavity_mean       0\nx.concave_pts_mean     0\nx.symmetry_mean        0\nx.fractal_dim_mean     0\nx.radius_se            0\nx.texture_se           0\nx.perimeter_se         0\nx.area_se              0\nx.smoothness_se        0\nx.compactness_se       0\nx.concavity_se         0\nx.concave_pts_se       0\nx.symmetry_se          0\nx.fractal_dim_se       0\nx.radius_worst         0\nx.texture_worst        0\nx.perimeter_worst      0\nx.area_worst           0\nx.smoothness_worst     0\nx.compactness_worst    0\nx.concavity_worst      0\nx.concave_pts_worst    0\nx.symmetry_worst       0\nx.fractal_dim_worst    0\ny                      0\ndtype: int64"
     },
     "execution_count": 188,
     "metadata": {},
     "output_type": "execute_result"
    }
   ],
   "source": [
    "df.isna().sum()"
   ],
   "metadata": {
    "collapsed": false,
    "is_executing": true,
    "ExecuteTime": {
     "start_time": "2023-07-07T00:30:20.468103Z"
    }
   }
  },
  {
   "cell_type": "code",
   "execution_count": null,
   "outputs": [
    {
     "data": {
      "text/plain": "B    357\nM    212\nName: y, dtype: int64"
     },
     "execution_count": 190,
     "metadata": {},
     "output_type": "execute_result"
    }
   ],
   "source": [
    "df[\"y\"].value_counts()"
   ],
   "metadata": {
    "collapsed": false,
    "is_executing": true,
    "ExecuteTime": {
     "start_time": "2023-07-07T00:30:20.480512Z"
    }
   }
  },
  {
   "cell_type": "code",
   "execution_count": null,
   "outputs": [
    {
     "data": {
      "application/vnd.plotly.v1+json": {
       "data": [
        {
         "marker": {
          "color": [
           "#C1E1C1",
           "#FAA0A0"
          ]
         },
         "x": [
          "B",
          "M"
         ],
         "y": [
          357,
          212
         ],
         "type": "bar"
        }
       ],
       "layout": {
        "template": {
         "data": {
          "histogram2dcontour": [
           {
            "type": "histogram2dcontour",
            "colorbar": {
             "outlinewidth": 0,
             "ticks": ""
            },
            "colorscale": [
             [
              0.0,
              "#0d0887"
             ],
             [
              0.1111111111111111,
              "#46039f"
             ],
             [
              0.2222222222222222,
              "#7201a8"
             ],
             [
              0.3333333333333333,
              "#9c179e"
             ],
             [
              0.4444444444444444,
              "#bd3786"
             ],
             [
              0.5555555555555556,
              "#d8576b"
             ],
             [
              0.6666666666666666,
              "#ed7953"
             ],
             [
              0.7777777777777778,
              "#fb9f3a"
             ],
             [
              0.8888888888888888,
              "#fdca26"
             ],
             [
              1.0,
              "#f0f921"
             ]
            ]
           }
          ],
          "choropleth": [
           {
            "type": "choropleth",
            "colorbar": {
             "outlinewidth": 0,
             "ticks": ""
            }
           }
          ],
          "histogram2d": [
           {
            "type": "histogram2d",
            "colorbar": {
             "outlinewidth": 0,
             "ticks": ""
            },
            "colorscale": [
             [
              0.0,
              "#0d0887"
             ],
             [
              0.1111111111111111,
              "#46039f"
             ],
             [
              0.2222222222222222,
              "#7201a8"
             ],
             [
              0.3333333333333333,
              "#9c179e"
             ],
             [
              0.4444444444444444,
              "#bd3786"
             ],
             [
              0.5555555555555556,
              "#d8576b"
             ],
             [
              0.6666666666666666,
              "#ed7953"
             ],
             [
              0.7777777777777778,
              "#fb9f3a"
             ],
             [
              0.8888888888888888,
              "#fdca26"
             ],
             [
              1.0,
              "#f0f921"
             ]
            ]
           }
          ],
          "heatmap": [
           {
            "type": "heatmap",
            "colorbar": {
             "outlinewidth": 0,
             "ticks": ""
            },
            "colorscale": [
             [
              0.0,
              "#0d0887"
             ],
             [
              0.1111111111111111,
              "#46039f"
             ],
             [
              0.2222222222222222,
              "#7201a8"
             ],
             [
              0.3333333333333333,
              "#9c179e"
             ],
             [
              0.4444444444444444,
              "#bd3786"
             ],
             [
              0.5555555555555556,
              "#d8576b"
             ],
             [
              0.6666666666666666,
              "#ed7953"
             ],
             [
              0.7777777777777778,
              "#fb9f3a"
             ],
             [
              0.8888888888888888,
              "#fdca26"
             ],
             [
              1.0,
              "#f0f921"
             ]
            ]
           }
          ],
          "heatmapgl": [
           {
            "type": "heatmapgl",
            "colorbar": {
             "outlinewidth": 0,
             "ticks": ""
            },
            "colorscale": [
             [
              0.0,
              "#0d0887"
             ],
             [
              0.1111111111111111,
              "#46039f"
             ],
             [
              0.2222222222222222,
              "#7201a8"
             ],
             [
              0.3333333333333333,
              "#9c179e"
             ],
             [
              0.4444444444444444,
              "#bd3786"
             ],
             [
              0.5555555555555556,
              "#d8576b"
             ],
             [
              0.6666666666666666,
              "#ed7953"
             ],
             [
              0.7777777777777778,
              "#fb9f3a"
             ],
             [
              0.8888888888888888,
              "#fdca26"
             ],
             [
              1.0,
              "#f0f921"
             ]
            ]
           }
          ],
          "contourcarpet": [
           {
            "type": "contourcarpet",
            "colorbar": {
             "outlinewidth": 0,
             "ticks": ""
            }
           }
          ],
          "contour": [
           {
            "type": "contour",
            "colorbar": {
             "outlinewidth": 0,
             "ticks": ""
            },
            "colorscale": [
             [
              0.0,
              "#0d0887"
             ],
             [
              0.1111111111111111,
              "#46039f"
             ],
             [
              0.2222222222222222,
              "#7201a8"
             ],
             [
              0.3333333333333333,
              "#9c179e"
             ],
             [
              0.4444444444444444,
              "#bd3786"
             ],
             [
              0.5555555555555556,
              "#d8576b"
             ],
             [
              0.6666666666666666,
              "#ed7953"
             ],
             [
              0.7777777777777778,
              "#fb9f3a"
             ],
             [
              0.8888888888888888,
              "#fdca26"
             ],
             [
              1.0,
              "#f0f921"
             ]
            ]
           }
          ],
          "surface": [
           {
            "type": "surface",
            "colorbar": {
             "outlinewidth": 0,
             "ticks": ""
            },
            "colorscale": [
             [
              0.0,
              "#0d0887"
             ],
             [
              0.1111111111111111,
              "#46039f"
             ],
             [
              0.2222222222222222,
              "#7201a8"
             ],
             [
              0.3333333333333333,
              "#9c179e"
             ],
             [
              0.4444444444444444,
              "#bd3786"
             ],
             [
              0.5555555555555556,
              "#d8576b"
             ],
             [
              0.6666666666666666,
              "#ed7953"
             ],
             [
              0.7777777777777778,
              "#fb9f3a"
             ],
             [
              0.8888888888888888,
              "#fdca26"
             ],
             [
              1.0,
              "#f0f921"
             ]
            ]
           }
          ],
          "mesh3d": [
           {
            "type": "mesh3d",
            "colorbar": {
             "outlinewidth": 0,
             "ticks": ""
            }
           }
          ],
          "scatter": [
           {
            "fillpattern": {
             "fillmode": "overlay",
             "size": 10,
             "solidity": 0.2
            },
            "type": "scatter"
           }
          ],
          "parcoords": [
           {
            "type": "parcoords",
            "line": {
             "colorbar": {
              "outlinewidth": 0,
              "ticks": ""
             }
            }
           }
          ],
          "scatterpolargl": [
           {
            "type": "scatterpolargl",
            "marker": {
             "colorbar": {
              "outlinewidth": 0,
              "ticks": ""
             }
            }
           }
          ],
          "bar": [
           {
            "error_x": {
             "color": "#2a3f5f"
            },
            "error_y": {
             "color": "#2a3f5f"
            },
            "marker": {
             "line": {
              "color": "#E5ECF6",
              "width": 0.5
             },
             "pattern": {
              "fillmode": "overlay",
              "size": 10,
              "solidity": 0.2
             }
            },
            "type": "bar"
           }
          ],
          "scattergeo": [
           {
            "type": "scattergeo",
            "marker": {
             "colorbar": {
              "outlinewidth": 0,
              "ticks": ""
             }
            }
           }
          ],
          "scatterpolar": [
           {
            "type": "scatterpolar",
            "marker": {
             "colorbar": {
              "outlinewidth": 0,
              "ticks": ""
             }
            }
           }
          ],
          "histogram": [
           {
            "marker": {
             "pattern": {
              "fillmode": "overlay",
              "size": 10,
              "solidity": 0.2
             }
            },
            "type": "histogram"
           }
          ],
          "scattergl": [
           {
            "type": "scattergl",
            "marker": {
             "colorbar": {
              "outlinewidth": 0,
              "ticks": ""
             }
            }
           }
          ],
          "scatter3d": [
           {
            "type": "scatter3d",
            "line": {
             "colorbar": {
              "outlinewidth": 0,
              "ticks": ""
             }
            },
            "marker": {
             "colorbar": {
              "outlinewidth": 0,
              "ticks": ""
             }
            }
           }
          ],
          "scattermapbox": [
           {
            "type": "scattermapbox",
            "marker": {
             "colorbar": {
              "outlinewidth": 0,
              "ticks": ""
             }
            }
           }
          ],
          "scatterternary": [
           {
            "type": "scatterternary",
            "marker": {
             "colorbar": {
              "outlinewidth": 0,
              "ticks": ""
             }
            }
           }
          ],
          "scattercarpet": [
           {
            "type": "scattercarpet",
            "marker": {
             "colorbar": {
              "outlinewidth": 0,
              "ticks": ""
             }
            }
           }
          ],
          "carpet": [
           {
            "aaxis": {
             "endlinecolor": "#2a3f5f",
             "gridcolor": "white",
             "linecolor": "white",
             "minorgridcolor": "white",
             "startlinecolor": "#2a3f5f"
            },
            "baxis": {
             "endlinecolor": "#2a3f5f",
             "gridcolor": "white",
             "linecolor": "white",
             "minorgridcolor": "white",
             "startlinecolor": "#2a3f5f"
            },
            "type": "carpet"
           }
          ],
          "table": [
           {
            "cells": {
             "fill": {
              "color": "#EBF0F8"
             },
             "line": {
              "color": "white"
             }
            },
            "header": {
             "fill": {
              "color": "#C8D4E3"
             },
             "line": {
              "color": "white"
             }
            },
            "type": "table"
           }
          ],
          "barpolar": [
           {
            "marker": {
             "line": {
              "color": "#E5ECF6",
              "width": 0.5
             },
             "pattern": {
              "fillmode": "overlay",
              "size": 10,
              "solidity": 0.2
             }
            },
            "type": "barpolar"
           }
          ],
          "pie": [
           {
            "automargin": true,
            "type": "pie"
           }
          ]
         },
         "layout": {
          "autotypenumbers": "strict",
          "colorway": [
           "#636efa",
           "#EF553B",
           "#00cc96",
           "#ab63fa",
           "#FFA15A",
           "#19d3f3",
           "#FF6692",
           "#B6E880",
           "#FF97FF",
           "#FECB52"
          ],
          "font": {
           "color": "#2a3f5f"
          },
          "hovermode": "closest",
          "hoverlabel": {
           "align": "left"
          },
          "paper_bgcolor": "white",
          "plot_bgcolor": "#E5ECF6",
          "polar": {
           "bgcolor": "#E5ECF6",
           "angularaxis": {
            "gridcolor": "white",
            "linecolor": "white",
            "ticks": ""
           },
           "radialaxis": {
            "gridcolor": "white",
            "linecolor": "white",
            "ticks": ""
           }
          },
          "ternary": {
           "bgcolor": "#E5ECF6",
           "aaxis": {
            "gridcolor": "white",
            "linecolor": "white",
            "ticks": ""
           },
           "baxis": {
            "gridcolor": "white",
            "linecolor": "white",
            "ticks": ""
           },
           "caxis": {
            "gridcolor": "white",
            "linecolor": "white",
            "ticks": ""
           }
          },
          "coloraxis": {
           "colorbar": {
            "outlinewidth": 0,
            "ticks": ""
           }
          },
          "colorscale": {
           "sequential": [
            [
             0.0,
             "#0d0887"
            ],
            [
             0.1111111111111111,
             "#46039f"
            ],
            [
             0.2222222222222222,
             "#7201a8"
            ],
            [
             0.3333333333333333,
             "#9c179e"
            ],
            [
             0.4444444444444444,
             "#bd3786"
            ],
            [
             0.5555555555555556,
             "#d8576b"
            ],
            [
             0.6666666666666666,
             "#ed7953"
            ],
            [
             0.7777777777777778,
             "#fb9f3a"
            ],
            [
             0.8888888888888888,
             "#fdca26"
            ],
            [
             1.0,
             "#f0f921"
            ]
           ],
           "sequentialminus": [
            [
             0.0,
             "#0d0887"
            ],
            [
             0.1111111111111111,
             "#46039f"
            ],
            [
             0.2222222222222222,
             "#7201a8"
            ],
            [
             0.3333333333333333,
             "#9c179e"
            ],
            [
             0.4444444444444444,
             "#bd3786"
            ],
            [
             0.5555555555555556,
             "#d8576b"
            ],
            [
             0.6666666666666666,
             "#ed7953"
            ],
            [
             0.7777777777777778,
             "#fb9f3a"
            ],
            [
             0.8888888888888888,
             "#fdca26"
            ],
            [
             1.0,
             "#f0f921"
            ]
           ],
           "diverging": [
            [
             0,
             "#8e0152"
            ],
            [
             0.1,
             "#c51b7d"
            ],
            [
             0.2,
             "#de77ae"
            ],
            [
             0.3,
             "#f1b6da"
            ],
            [
             0.4,
             "#fde0ef"
            ],
            [
             0.5,
             "#f7f7f7"
            ],
            [
             0.6,
             "#e6f5d0"
            ],
            [
             0.7,
             "#b8e186"
            ],
            [
             0.8,
             "#7fbc41"
            ],
            [
             0.9,
             "#4d9221"
            ],
            [
             1,
             "#276419"
            ]
           ]
          },
          "xaxis": {
           "gridcolor": "white",
           "linecolor": "white",
           "ticks": "",
           "title": {
            "standoff": 15
           },
           "zerolinecolor": "white",
           "automargin": true,
           "zerolinewidth": 2
          },
          "yaxis": {
           "gridcolor": "white",
           "linecolor": "white",
           "ticks": "",
           "title": {
            "standoff": 15
           },
           "zerolinecolor": "white",
           "automargin": true,
           "zerolinewidth": 2
          },
          "scene": {
           "xaxis": {
            "backgroundcolor": "#E5ECF6",
            "gridcolor": "white",
            "linecolor": "white",
            "showbackground": true,
            "ticks": "",
            "zerolinecolor": "white",
            "gridwidth": 2
           },
           "yaxis": {
            "backgroundcolor": "#E5ECF6",
            "gridcolor": "white",
            "linecolor": "white",
            "showbackground": true,
            "ticks": "",
            "zerolinecolor": "white",
            "gridwidth": 2
           },
           "zaxis": {
            "backgroundcolor": "#E5ECF6",
            "gridcolor": "white",
            "linecolor": "white",
            "showbackground": true,
            "ticks": "",
            "zerolinecolor": "white",
            "gridwidth": 2
           }
          },
          "shapedefaults": {
           "line": {
            "color": "#2a3f5f"
           }
          },
          "annotationdefaults": {
           "arrowcolor": "#2a3f5f",
           "arrowhead": 0,
           "arrowwidth": 1
          },
          "geo": {
           "bgcolor": "white",
           "landcolor": "#E5ECF6",
           "subunitcolor": "white",
           "showland": true,
           "showlakes": true,
           "lakecolor": "white"
          },
          "title": {
           "x": 0.05
          },
          "mapbox": {
           "style": "light"
          }
         }
        },
        "showlegend": false,
        "title": {
         "text": "Frequency of postive and negative breast cancer patients"
        },
        "xaxis": {
         "title": {
          "text": "Malignant or Benign"
         }
        },
        "yaxis": {
         "title": {
          "text": "Frequency"
         }
        },
        "width": 700,
        "height": 600
       },
       "config": {
        "plotlyServerURL": "https://plot.ly"
       }
      },
      "text/html": "<div>                            <div id=\"2d25f71f-f478-4687-8fcf-9af9ec8176de\" class=\"plotly-graph-div\" style=\"height:600px; width:700px;\"></div>            <script type=\"text/javascript\">                require([\"plotly\"], function(Plotly) {                    window.PLOTLYENV=window.PLOTLYENV || {};                                    if (document.getElementById(\"2d25f71f-f478-4687-8fcf-9af9ec8176de\")) {                    Plotly.newPlot(                        \"2d25f71f-f478-4687-8fcf-9af9ec8176de\",                        [{\"marker\":{\"color\":[\"#C1E1C1\",\"#FAA0A0\"]},\"x\":[\"B\",\"M\"],\"y\":[357,212],\"type\":\"bar\"}],                        {\"template\":{\"data\":{\"histogram2dcontour\":[{\"type\":\"histogram2dcontour\",\"colorbar\":{\"outlinewidth\":0,\"ticks\":\"\"},\"colorscale\":[[0.0,\"#0d0887\"],[0.1111111111111111,\"#46039f\"],[0.2222222222222222,\"#7201a8\"],[0.3333333333333333,\"#9c179e\"],[0.4444444444444444,\"#bd3786\"],[0.5555555555555556,\"#d8576b\"],[0.6666666666666666,\"#ed7953\"],[0.7777777777777778,\"#fb9f3a\"],[0.8888888888888888,\"#fdca26\"],[1.0,\"#f0f921\"]]}],\"choropleth\":[{\"type\":\"choropleth\",\"colorbar\":{\"outlinewidth\":0,\"ticks\":\"\"}}],\"histogram2d\":[{\"type\":\"histogram2d\",\"colorbar\":{\"outlinewidth\":0,\"ticks\":\"\"},\"colorscale\":[[0.0,\"#0d0887\"],[0.1111111111111111,\"#46039f\"],[0.2222222222222222,\"#7201a8\"],[0.3333333333333333,\"#9c179e\"],[0.4444444444444444,\"#bd3786\"],[0.5555555555555556,\"#d8576b\"],[0.6666666666666666,\"#ed7953\"],[0.7777777777777778,\"#fb9f3a\"],[0.8888888888888888,\"#fdca26\"],[1.0,\"#f0f921\"]]}],\"heatmap\":[{\"type\":\"heatmap\",\"colorbar\":{\"outlinewidth\":0,\"ticks\":\"\"},\"colorscale\":[[0.0,\"#0d0887\"],[0.1111111111111111,\"#46039f\"],[0.2222222222222222,\"#7201a8\"],[0.3333333333333333,\"#9c179e\"],[0.4444444444444444,\"#bd3786\"],[0.5555555555555556,\"#d8576b\"],[0.6666666666666666,\"#ed7953\"],[0.7777777777777778,\"#fb9f3a\"],[0.8888888888888888,\"#fdca26\"],[1.0,\"#f0f921\"]]}],\"heatmapgl\":[{\"type\":\"heatmapgl\",\"colorbar\":{\"outlinewidth\":0,\"ticks\":\"\"},\"colorscale\":[[0.0,\"#0d0887\"],[0.1111111111111111,\"#46039f\"],[0.2222222222222222,\"#7201a8\"],[0.3333333333333333,\"#9c179e\"],[0.4444444444444444,\"#bd3786\"],[0.5555555555555556,\"#d8576b\"],[0.6666666666666666,\"#ed7953\"],[0.7777777777777778,\"#fb9f3a\"],[0.8888888888888888,\"#fdca26\"],[1.0,\"#f0f921\"]]}],\"contourcarpet\":[{\"type\":\"contourcarpet\",\"colorbar\":{\"outlinewidth\":0,\"ticks\":\"\"}}],\"contour\":[{\"type\":\"contour\",\"colorbar\":{\"outlinewidth\":0,\"ticks\":\"\"},\"colorscale\":[[0.0,\"#0d0887\"],[0.1111111111111111,\"#46039f\"],[0.2222222222222222,\"#7201a8\"],[0.3333333333333333,\"#9c179e\"],[0.4444444444444444,\"#bd3786\"],[0.5555555555555556,\"#d8576b\"],[0.6666666666666666,\"#ed7953\"],[0.7777777777777778,\"#fb9f3a\"],[0.8888888888888888,\"#fdca26\"],[1.0,\"#f0f921\"]]}],\"surface\":[{\"type\":\"surface\",\"colorbar\":{\"outlinewidth\":0,\"ticks\":\"\"},\"colorscale\":[[0.0,\"#0d0887\"],[0.1111111111111111,\"#46039f\"],[0.2222222222222222,\"#7201a8\"],[0.3333333333333333,\"#9c179e\"],[0.4444444444444444,\"#bd3786\"],[0.5555555555555556,\"#d8576b\"],[0.6666666666666666,\"#ed7953\"],[0.7777777777777778,\"#fb9f3a\"],[0.8888888888888888,\"#fdca26\"],[1.0,\"#f0f921\"]]}],\"mesh3d\":[{\"type\":\"mesh3d\",\"colorbar\":{\"outlinewidth\":0,\"ticks\":\"\"}}],\"scatter\":[{\"fillpattern\":{\"fillmode\":\"overlay\",\"size\":10,\"solidity\":0.2},\"type\":\"scatter\"}],\"parcoords\":[{\"type\":\"parcoords\",\"line\":{\"colorbar\":{\"outlinewidth\":0,\"ticks\":\"\"}}}],\"scatterpolargl\":[{\"type\":\"scatterpolargl\",\"marker\":{\"colorbar\":{\"outlinewidth\":0,\"ticks\":\"\"}}}],\"bar\":[{\"error_x\":{\"color\":\"#2a3f5f\"},\"error_y\":{\"color\":\"#2a3f5f\"},\"marker\":{\"line\":{\"color\":\"#E5ECF6\",\"width\":0.5},\"pattern\":{\"fillmode\":\"overlay\",\"size\":10,\"solidity\":0.2}},\"type\":\"bar\"}],\"scattergeo\":[{\"type\":\"scattergeo\",\"marker\":{\"colorbar\":{\"outlinewidth\":0,\"ticks\":\"\"}}}],\"scatterpolar\":[{\"type\":\"scatterpolar\",\"marker\":{\"colorbar\":{\"outlinewidth\":0,\"ticks\":\"\"}}}],\"histogram\":[{\"marker\":{\"pattern\":{\"fillmode\":\"overlay\",\"size\":10,\"solidity\":0.2}},\"type\":\"histogram\"}],\"scattergl\":[{\"type\":\"scattergl\",\"marker\":{\"colorbar\":{\"outlinewidth\":0,\"ticks\":\"\"}}}],\"scatter3d\":[{\"type\":\"scatter3d\",\"line\":{\"colorbar\":{\"outlinewidth\":0,\"ticks\":\"\"}},\"marker\":{\"colorbar\":{\"outlinewidth\":0,\"ticks\":\"\"}}}],\"scattermapbox\":[{\"type\":\"scattermapbox\",\"marker\":{\"colorbar\":{\"outlinewidth\":0,\"ticks\":\"\"}}}],\"scatterternary\":[{\"type\":\"scatterternary\",\"marker\":{\"colorbar\":{\"outlinewidth\":0,\"ticks\":\"\"}}}],\"scattercarpet\":[{\"type\":\"scattercarpet\",\"marker\":{\"colorbar\":{\"outlinewidth\":0,\"ticks\":\"\"}}}],\"carpet\":[{\"aaxis\":{\"endlinecolor\":\"#2a3f5f\",\"gridcolor\":\"white\",\"linecolor\":\"white\",\"minorgridcolor\":\"white\",\"startlinecolor\":\"#2a3f5f\"},\"baxis\":{\"endlinecolor\":\"#2a3f5f\",\"gridcolor\":\"white\",\"linecolor\":\"white\",\"minorgridcolor\":\"white\",\"startlinecolor\":\"#2a3f5f\"},\"type\":\"carpet\"}],\"table\":[{\"cells\":{\"fill\":{\"color\":\"#EBF0F8\"},\"line\":{\"color\":\"white\"}},\"header\":{\"fill\":{\"color\":\"#C8D4E3\"},\"line\":{\"color\":\"white\"}},\"type\":\"table\"}],\"barpolar\":[{\"marker\":{\"line\":{\"color\":\"#E5ECF6\",\"width\":0.5},\"pattern\":{\"fillmode\":\"overlay\",\"size\":10,\"solidity\":0.2}},\"type\":\"barpolar\"}],\"pie\":[{\"automargin\":true,\"type\":\"pie\"}]},\"layout\":{\"autotypenumbers\":\"strict\",\"colorway\":[\"#636efa\",\"#EF553B\",\"#00cc96\",\"#ab63fa\",\"#FFA15A\",\"#19d3f3\",\"#FF6692\",\"#B6E880\",\"#FF97FF\",\"#FECB52\"],\"font\":{\"color\":\"#2a3f5f\"},\"hovermode\":\"closest\",\"hoverlabel\":{\"align\":\"left\"},\"paper_bgcolor\":\"white\",\"plot_bgcolor\":\"#E5ECF6\",\"polar\":{\"bgcolor\":\"#E5ECF6\",\"angularaxis\":{\"gridcolor\":\"white\",\"linecolor\":\"white\",\"ticks\":\"\"},\"radialaxis\":{\"gridcolor\":\"white\",\"linecolor\":\"white\",\"ticks\":\"\"}},\"ternary\":{\"bgcolor\":\"#E5ECF6\",\"aaxis\":{\"gridcolor\":\"white\",\"linecolor\":\"white\",\"ticks\":\"\"},\"baxis\":{\"gridcolor\":\"white\",\"linecolor\":\"white\",\"ticks\":\"\"},\"caxis\":{\"gridcolor\":\"white\",\"linecolor\":\"white\",\"ticks\":\"\"}},\"coloraxis\":{\"colorbar\":{\"outlinewidth\":0,\"ticks\":\"\"}},\"colorscale\":{\"sequential\":[[0.0,\"#0d0887\"],[0.1111111111111111,\"#46039f\"],[0.2222222222222222,\"#7201a8\"],[0.3333333333333333,\"#9c179e\"],[0.4444444444444444,\"#bd3786\"],[0.5555555555555556,\"#d8576b\"],[0.6666666666666666,\"#ed7953\"],[0.7777777777777778,\"#fb9f3a\"],[0.8888888888888888,\"#fdca26\"],[1.0,\"#f0f921\"]],\"sequentialminus\":[[0.0,\"#0d0887\"],[0.1111111111111111,\"#46039f\"],[0.2222222222222222,\"#7201a8\"],[0.3333333333333333,\"#9c179e\"],[0.4444444444444444,\"#bd3786\"],[0.5555555555555556,\"#d8576b\"],[0.6666666666666666,\"#ed7953\"],[0.7777777777777778,\"#fb9f3a\"],[0.8888888888888888,\"#fdca26\"],[1.0,\"#f0f921\"]],\"diverging\":[[0,\"#8e0152\"],[0.1,\"#c51b7d\"],[0.2,\"#de77ae\"],[0.3,\"#f1b6da\"],[0.4,\"#fde0ef\"],[0.5,\"#f7f7f7\"],[0.6,\"#e6f5d0\"],[0.7,\"#b8e186\"],[0.8,\"#7fbc41\"],[0.9,\"#4d9221\"],[1,\"#276419\"]]},\"xaxis\":{\"gridcolor\":\"white\",\"linecolor\":\"white\",\"ticks\":\"\",\"title\":{\"standoff\":15},\"zerolinecolor\":\"white\",\"automargin\":true,\"zerolinewidth\":2},\"yaxis\":{\"gridcolor\":\"white\",\"linecolor\":\"white\",\"ticks\":\"\",\"title\":{\"standoff\":15},\"zerolinecolor\":\"white\",\"automargin\":true,\"zerolinewidth\":2},\"scene\":{\"xaxis\":{\"backgroundcolor\":\"#E5ECF6\",\"gridcolor\":\"white\",\"linecolor\":\"white\",\"showbackground\":true,\"ticks\":\"\",\"zerolinecolor\":\"white\",\"gridwidth\":2},\"yaxis\":{\"backgroundcolor\":\"#E5ECF6\",\"gridcolor\":\"white\",\"linecolor\":\"white\",\"showbackground\":true,\"ticks\":\"\",\"zerolinecolor\":\"white\",\"gridwidth\":2},\"zaxis\":{\"backgroundcolor\":\"#E5ECF6\",\"gridcolor\":\"white\",\"linecolor\":\"white\",\"showbackground\":true,\"ticks\":\"\",\"zerolinecolor\":\"white\",\"gridwidth\":2}},\"shapedefaults\":{\"line\":{\"color\":\"#2a3f5f\"}},\"annotationdefaults\":{\"arrowcolor\":\"#2a3f5f\",\"arrowhead\":0,\"arrowwidth\":1},\"geo\":{\"bgcolor\":\"white\",\"landcolor\":\"#E5ECF6\",\"subunitcolor\":\"white\",\"showland\":true,\"showlakes\":true,\"lakecolor\":\"white\"},\"title\":{\"x\":0.05},\"mapbox\":{\"style\":\"light\"}}},\"showlegend\":false,\"title\":{\"text\":\"Frequency of postive and negative breast cancer patients\"},\"xaxis\":{\"title\":{\"text\":\"Malignant or Benign\"}},\"yaxis\":{\"title\":{\"text\":\"Frequency\"}},\"width\":700,\"height\":600},                        {\"responsive\": true}                    ).then(function(){\n                            \nvar gd = document.getElementById('2d25f71f-f478-4687-8fcf-9af9ec8176de');\nvar x = new MutationObserver(function (mutations, observer) {{\n        var display = window.getComputedStyle(gd).display;\n        if (!display || display === 'none') {{\n            console.log([gd, 'removed!']);\n            Plotly.purge(gd);\n            observer.disconnect();\n        }}\n}});\n\n// Listen for the removal of the full notebook cells\nvar notebookContainer = gd.closest('#notebook-container');\nif (notebookContainer) {{\n    x.observe(notebookContainer, {childList: true});\n}}\n\n// Listen for the clearing of the current output cell\nvar outputEl = gd.closest('.output');\nif (outputEl) {{\n    x.observe(outputEl, {childList: true});\n}}\n\n                        })                };                });            </script>        </div>"
     },
     "metadata": {},
     "output_type": "display_data"
    }
   ],
   "source": [
    "colors = [\"#C1E1C1\", \"#FAA0A0\"]\n",
    "\n",
    "fig = go.Figure(data=[go.Bar(\n",
    "    x=df[\"y\"].value_counts().index,\n",
    "    y=df[\"y\"].value_counts(),\n",
    "    marker_color=colors,\n",
    ")])\n",
    "\n",
    "fig.update_layout(showlegend=False, title=\"Frequency of postive and negative breast cancer patients\",\n",
    "                  xaxis_title=\"Malignant or Benign\", yaxis_title=\"Frequency\",\n",
    "                  width=700, height=600)\n",
    "fig.show()"
   ],
   "metadata": {
    "collapsed": false,
    "is_executing": true,
    "ExecuteTime": {
     "start_time": "2023-07-07T00:30:20.488780Z"
    }
   }
  },
  {
   "cell_type": "code",
   "execution_count": null,
   "outputs": [
    {
     "data": {
      "application/vnd.plotly.v1+json": {
       "data": [
        {
         "hovertemplate": "Malignant or Benign=B<br>Average Tumor Radius=%{x}<br>Average Tumor Area=%{y}<extra></extra>",
         "legendgroup": "B",
         "marker": {
          "color": "#636efa",
          "symbol": "circle"
         },
         "mode": "markers",
         "name": "B",
         "orientation": "v",
         "showlegend": true,
         "x": [
          13.54,
          13.08,
          9.504,
          13.03,
          8.196,
          12.05,
          13.49,
          11.76,
          13.64,
          11.94,
          11.52,
          13.05,
          8.618,
          10.17,
          8.598,
          9.173,
          9.465,
          11.31,
          9.029,
          12.78,
          8.888,
          12.31,
          13.53,
          12.86,
          11.45,
          13.34,
          12.0,
          12.36,
          14.64,
          14.62,
          13.27,
          13.45,
          12.18,
          9.787,
          11.6,
          6.981,
          12.18,
          9.876,
          10.49,
          11.64,
          12.36,
          11.34,
          9.777,
          12.63,
          14.26,
          10.51,
          8.726,
          11.93,
          8.95,
          11.41,
          14.5,
          13.37,
          13.85,
          15.1,
          12.19,
          15.71,
          11.71,
          11.43,
          11.28,
          9.738,
          11.43,
          12.9,
          10.75,
          11.9,
          14.95,
          14.44,
          13.74,
          13.0,
          8.219,
          9.731,
          11.15,
          13.15,
          12.25,
          16.84,
          12.06,
          10.9,
          11.75,
          12.34,
          14.97,
          10.8,
          14.97,
          12.32,
          11.08,
          10.66,
          8.671,
          9.904,
          13.01,
          12.81,
          11.41,
          10.08,
          11.71,
          11.81,
          12.3,
          12.77,
          9.72,
          12.91,
          12.23,
          12.47,
          9.876,
          13.11,
          15.27,
          11.84,
          11.89,
          10.2,
          13.65,
          13.56,
          10.18,
          13.27,
          14.34,
          10.44,
          15.0,
          12.62,
          11.32,
          11.22,
          9.567,
          14.03,
          14.22,
          13.64,
          12.42,
          11.3,
          13.75,
          10.48,
          13.2,
          12.89,
          10.65,
          11.52,
          11.5,
          10.6,
          13.59,
          12.87,
          10.71,
          14.29,
          11.29,
          9.742,
          11.89,
          11.33,
          13.59,
          13.85,
          11.74,
          12.89,
          12.58,
          11.94,
          12.89,
          11.26,
          11.37,
          14.41,
          14.96,
          12.95,
          11.85,
          12.72,
          13.77,
          10.91,
          14.26,
          10.51,
          12.46,
          10.49,
          11.46,
          11.6,
          13.2,
          9.0,
          13.5,
          13.05,
          11.7,
          14.61,
          12.76,
          11.54,
          8.597,
          12.49,
          12.18,
          9.042,
          12.43,
          10.25,
          12.86,
          12.2,
          12.67,
          14.11,
          12.03,
          12.98,
          11.22,
          11.25,
          12.3,
          12.99,
          10.05,
          14.42,
          9.606,
          11.06,
          11.71,
          10.26,
          12.06,
          14.76,
          11.47,
          11.95,
          11.66,
          11.14,
          12.56,
          13.05,
          13.87,
          8.878,
          9.436,
          12.54,
          13.3,
          12.76,
          16.5,
          13.4,
          12.21,
          15.19,
          13.69,
          16.17,
          10.57,
          13.46,
          13.66,
          11.27,
          11.04,
          12.05,
          12.39,
          13.28,
          12.21,
          13.88,
          11.27,
          10.26,
          8.734,
          12.1,
          14.06,
          13.51,
          12.8,
          11.06,
          11.8,
          11.93,
          12.96,
          12.94,
          12.34,
          10.94,
          16.14,
          12.85,
          12.27,
          11.36,
          11.04,
          9.397,
          14.99,
          11.89,
          9.405,
          12.7,
          11.16,
          11.57,
          14.69,
          11.61,
          13.66,
          9.742,
          10.03,
          10.48,
          10.8,
          11.13,
          12.72,
          12.4,
          14.86,
          12.87,
          14.04,
          13.85,
          14.02,
          10.97,
          13.78,
          10.57,
          11.99,
          14.8,
          14.53,
          11.87,
          12.0,
          14.53,
          12.62,
          13.38,
          11.63,
          13.21,
          13.0,
          9.755,
          14.4,
          11.6,
          13.17,
          13.24,
          13.14,
          9.668,
          11.62,
          9.667,
          12.04,
          14.92,
          12.27,
          10.88,
          12.83,
          14.2,
          13.9,
          11.49,
          12.16,
          13.9,
          13.47,
          13.7,
          15.73,
          12.45,
          14.64,
          11.68,
          12.25,
          17.85,
          12.46,
          13.16,
          14.87,
          12.65,
          12.47,
          15.04,
          12.54,
          9.268,
          9.676,
          12.22,
          11.06,
          16.3,
          11.74,
          14.81,
          14.58,
          11.34,
          12.88,
          12.75,
          9.295,
          11.26,
          13.71,
          9.847,
          8.571,
          13.46,
          12.34,
          13.94,
          12.07,
          11.75,
          11.67,
          13.68,
          10.96,
          11.69,
          7.729,
          7.691,
          11.54,
          14.47,
          14.74,
          13.21,
          13.87,
          13.62,
          10.32,
          10.26,
          9.683,
          10.82,
          10.86,
          11.13,
          12.77,
          9.333,
          12.88,
          10.29,
          10.16,
          9.423,
          14.59,
          11.51,
          14.05,
          11.2,
          7.76
         ],
         "xaxis": "x",
         "y": [
          566.3,
          520.0,
          273.9,
          523.8,
          201.9,
          449.3,
          561.0,
          427.9,
          571.8,
          437.6,
          409.0,
          527.2,
          224.5,
          311.9,
          221.8,
          260.9,
          269.4,
          394.1,
          250.5,
          502.5,
          244.0,
          470.9,
          559.2,
          506.3,
          401.5,
          520.0,
          443.3,
          466.1,
          651.9,
          662.7,
          551.7,
          555.1,
          451.1,
          294.5,
          412.6,
          143.5,
          458.7,
          298.3,
          336.1,
          412.5,
          466.7,
          396.5,
          290.2,
          480.4,
          629.9,
          334.2,
          230.9,
          438.6,
          245.2,
          403.3,
          640.7,
          553.5,
          588.7,
          674.5,
          455.8,
          761.7,
          423.6,
          399.8,
          384.8,
          288.5,
          398.0,
          512.2,
          355.3,
          432.8,
          689.5,
          640.1,
          585.0,
          519.4,
          203.9,
          300.2,
          381.9,
          538.9,
          460.3,
          880.2,
          448.6,
          366.8,
          419.8,
          464.5,
          690.2,
          357.6,
          685.9,
          464.1,
          372.7,
          349.6,
          227.2,
          302.4,
          526.4,
          508.8,
          402.0,
          317.5,
          420.3,
          428.9,
          463.7,
          507.4,
          288.1,
          516.4,
          461.0,
          481.9,
          295.4,
          529.4,
          725.5,
          428.0,
          432.2,
          321.2,
          568.9,
          561.3,
          313.1,
          546.4,
          641.2,
          329.6,
          684.5,
          496.4,
          395.7,
          386.8,
          279.6,
          603.4,
          623.9,
          575.3,
          476.5,
          389.4,
          590.0,
          337.7,
          541.6,
          512.2,
          347.0,
          406.3,
          407.4,
          346.4,
          561.0,
          512.2,
          344.9,
          632.6,
          388.0,
          289.9,
          435.6,
          396.6,
          572.3,
          587.4,
          427.3,
          516.6,
          489.0,
          441.0,
          515.9,
          394.1,
          396.0,
          651.0,
          687.3,
          513.7,
          432.7,
          492.1,
          582.7,
          363.7,
          633.1,
          334.2,
          471.3,
          334.3,
          403.1,
          417.2,
          537.3,
          246.3,
          566.2,
          530.6,
          418.7,
          664.9,
          504.1,
          409.1,
          221.2,
          481.6,
          461.4,
          244.5,
          477.3,
          324.2,
          504.8,
          457.9,
          489.9,
          616.5,
          446.0,
          514.0,
          387.3,
          390.0,
          464.4,
          514.3,
          310.8,
          641.2,
          280.5,
          373.9,
          420.3,
          321.6,
          445.3,
          668.7,
          402.7,
          426.7,
          421.0,
          384.6,
          485.8,
          512.0,
          593.7,
          241.0,
          278.6,
          491.9,
          546.1,
          496.6,
          838.1,
          552.4,
          458.4,
          711.8,
          579.1,
          788.5,
          338.3,
          562.1,
          580.6,
          386.3,
          372.7,
          447.8,
          462.9,
          541.8,
          462.0,
          596.6,
          392.0,
          321.6,
          234.3,
          446.2,
          609.1,
          558.1,
          508.3,
          378.2,
          431.9,
          442.7,
          525.2,
          507.6,
          469.1,
          370.0,
          800.0,
          514.5,
          466.1,
          399.8,
          373.2,
          268.8,
          693.7,
          433.8,
          271.2,
          495.0,
          380.3,
          409.7,
          656.1,
          408.2,
          575.3,
          289.7,
          307.3,
          333.6,
          359.9,
          381.1,
          501.3,
          467.8,
          673.7,
          509.2,
          611.2,
          592.6,
          606.5,
          371.5,
          585.9,
          340.9,
          441.3,
          674.8,
          659.7,
          432.0,
          442.5,
          644.2,
          492.9,
          557.2,
          415.1,
          537.9,
          520.2,
          290.9,
          646.1,
          412.7,
          537.3,
          542.9,
          536.9,
          286.3,
          408.8,
          289.1,
          449.9,
          686.9,
          465.4,
          358.9,
          506.9,
          618.4,
          599.4,
          404.9,
          455.3,
          602.9,
          546.3,
          571.1,
          747.2,
          476.7,
          666.0,
          420.5,
          466.5,
          992.1,
          477.3,
          538.7,
          680.9,
          485.6,
          480.1,
          689.4,
          476.3,
          248.7,
          272.5,
          453.1,
          366.5,
          819.8,
          426.0,
          680.7,
          658.8,
          391.2,
          493.1,
          493.8,
          257.8,
          388.1,
          571.0,
          293.2,
          221.3,
          551.1,
          468.5,
          594.2,
          445.2,
          422.9,
          416.2,
          575.5,
          365.6,
          406.4,
          178.8,
          170.4,
          402.9,
          656.4,
          668.6,
          538.4,
          584.8,
          573.2,
          324.9,
          320.8,
          285.7,
          361.6,
          360.5,
          378.4,
          507.9,
          264.0,
          514.3,
          321.4,
          311.7,
          271.3,
          657.1,
          403.5,
          600.4,
          386.0,
          181.0
         ],
         "yaxis": "y",
         "type": "scatter"
        },
        {
         "hovertemplate": "Malignant or Benign=M<br>Average Tumor Radius=%{x}<br>Average Tumor Area=%{y}<extra></extra>",
         "legendgroup": "M",
         "marker": {
          "color": "#EF553B",
          "symbol": "circle"
         },
         "mode": "markers",
         "name": "M",
         "orientation": "v",
         "showlegend": true,
         "x": [
          17.99,
          20.57,
          19.69,
          11.42,
          20.29,
          12.45,
          18.25,
          13.71,
          13.0,
          12.46,
          16.02,
          15.78,
          19.17,
          15.85,
          13.73,
          14.54,
          14.68,
          16.13,
          19.81,
          15.34,
          21.16,
          16.65,
          17.14,
          14.58,
          18.61,
          15.3,
          17.57,
          18.63,
          11.84,
          17.02,
          19.27,
          16.13,
          16.74,
          14.25,
          14.99,
          13.48,
          13.44,
          10.95,
          19.07,
          13.28,
          13.17,
          18.65,
          13.17,
          18.22,
          15.1,
          19.21,
          14.71,
          14.25,
          12.68,
          14.78,
          18.94,
          17.2,
          13.8,
          16.07,
          18.05,
          20.18,
          25.22,
          19.1,
          18.46,
          14.48,
          19.02,
          15.37,
          15.06,
          20.26,
          14.42,
          13.61,
          13.11,
          22.27,
          14.87,
          15.78,
          17.95,
          18.66,
          24.25,
          13.61,
          19.0,
          19.79,
          15.46,
          16.16,
          18.45,
          12.77,
          14.95,
          16.11,
          11.8,
          17.68,
          19.19,
          19.59,
          23.27,
          16.78,
          17.47,
          13.43,
          15.46,
          16.46,
          27.22,
          21.09,
          15.7,
          15.28,
          18.31,
          14.22,
          12.34,
          14.86,
          13.77,
          18.08,
          19.18,
          14.45,
          17.54,
          23.29,
          13.81,
          15.12,
          17.01,
          20.58,
          28.11,
          17.42,
          14.19,
          13.86,
          19.8,
          19.53,
          15.75,
          12.83,
          17.05,
          20.51,
          23.21,
          20.48,
          17.46,
          19.4,
          20.94,
          19.73,
          17.3,
          19.45,
          13.96,
          19.55,
          15.32,
          15.66,
          15.53,
          20.31,
          17.35,
          17.29,
          15.61,
          17.19,
          20.73,
          21.75,
          17.93,
          18.81,
          19.16,
          19.4,
          16.24,
          11.76,
          19.53,
          20.09,
          18.22,
          20.16,
          20.34,
          16.27,
          16.26,
          16.03,
          17.06,
          18.77,
          23.51,
          19.68,
          15.75,
          25.73,
          15.08,
          20.44,
          20.2,
          21.71,
          22.01,
          16.35,
          21.37,
          20.64,
          11.08,
          14.6,
          19.55,
          15.49,
          21.61,
          17.91,
          17.99,
          15.13,
          15.5,
          14.9,
          20.18,
          18.82,
          13.98,
          17.27,
          18.03,
          17.75,
          21.1,
          19.59,
          17.08,
          27.42,
          17.6,
          16.25,
          19.44,
          16.69,
          18.01,
          18.49,
          20.59,
          13.82,
          23.09,
          15.46,
          13.4,
          15.05,
          18.31,
          19.89,
          24.63,
          20.47,
          20.55,
          14.27,
          15.22,
          20.92,
          21.56,
          20.13,
          16.6,
          20.6
         ],
         "xaxis": "x",
         "y": [
          1001.0,
          1326.0,
          1203.0,
          386.1,
          1297.0,
          477.1,
          1040.0,
          577.9,
          519.8,
          475.9,
          797.8,
          781.0,
          1123.0,
          782.7,
          578.3,
          658.8,
          684.5,
          798.8,
          1260.0,
          704.4,
          1404.0,
          904.6,
          912.7,
          644.8,
          1094.0,
          732.4,
          955.1,
          1088.0,
          440.6,
          899.3,
          1162.0,
          807.2,
          869.5,
          633.0,
          698.8,
          559.2,
          563.0,
          371.1,
          1104.0,
          545.2,
          531.5,
          1076.0,
          534.6,
          1033.0,
          712.8,
          1152.0,
          656.9,
          645.7,
          499.0,
          668.3,
          1130.0,
          929.4,
          584.1,
          817.7,
          1006.0,
          1245.0,
          1878.0,
          1132.0,
          1075.0,
          648.2,
          1076.0,
          728.2,
          705.6,
          1264.0,
          642.5,
          582.7,
          530.2,
          1509.0,
          682.5,
          782.6,
          982.0,
          1077.0,
          1761.0,
          572.6,
          1138.0,
          1192.0,
          748.9,
          809.8,
          1075.0,
          506.3,
          678.1,
          813.0,
          432.0,
          963.7,
          1157.0,
          1214.0,
          1686.0,
          886.3,
          984.6,
          565.4,
          736.9,
          832.9,
          2250.0,
          1311.0,
          766.6,
          710.6,
          1041.0,
          609.9,
          477.4,
          671.4,
          588.9,
          1024.0,
          1148.0,
          642.7,
          951.6,
          1685.0,
          597.8,
          716.6,
          904.3,
          1290.0,
          2499.0,
          948.0,
          610.7,
          578.9,
          1230.0,
          1223.0,
          761.3,
          503.2,
          895.0,
          1319.0,
          1670.0,
          1306.0,
          920.6,
          1155.0,
          1364.0,
          1206.0,
          928.2,
          1169.0,
          602.4,
          1207.0,
          713.3,
          773.5,
          744.9,
          1288.0,
          933.1,
          947.8,
          758.6,
          928.3,
          1419.0,
          1491.0,
          998.9,
          1102.0,
          1138.0,
          1145.0,
          805.1,
          431.1,
          1217.0,
          1247.0,
          1027.0,
          1274.0,
          1264.0,
          813.7,
          826.8,
          793.2,
          918.6,
          1092.0,
          1747.0,
          1194.0,
          758.6,
          2010.0,
          716.6,
          1293.0,
          1234.0,
          1546.0,
          1482.0,
          840.4,
          1386.0,
          1335.0,
          361.6,
          664.7,
          1174.0,
          744.7,
          1407.0,
          994.0,
          991.7,
          719.5,
          803.1,
          685.0,
          1250.0,
          1110.0,
          599.5,
          928.8,
          990.0,
          981.6,
          1384.0,
          1191.0,
          930.9,
          2501.0,
          980.5,
          815.8,
          1167.0,
          857.6,
          1007.0,
          1068.0,
          1320.0,
          595.9,
          1682.0,
          731.3,
          556.7,
          701.9,
          1052.0,
          1214.0,
          1841.0,
          1299.0,
          1308.0,
          629.8,
          716.9,
          1347.0,
          1479.0,
          1261.0,
          858.1,
          1265.0
         ],
         "yaxis": "y",
         "type": "scatter"
        }
       ],
       "layout": {
        "template": {
         "data": {
          "histogram2dcontour": [
           {
            "type": "histogram2dcontour",
            "colorbar": {
             "outlinewidth": 0,
             "ticks": ""
            },
            "colorscale": [
             [
              0.0,
              "#0d0887"
             ],
             [
              0.1111111111111111,
              "#46039f"
             ],
             [
              0.2222222222222222,
              "#7201a8"
             ],
             [
              0.3333333333333333,
              "#9c179e"
             ],
             [
              0.4444444444444444,
              "#bd3786"
             ],
             [
              0.5555555555555556,
              "#d8576b"
             ],
             [
              0.6666666666666666,
              "#ed7953"
             ],
             [
              0.7777777777777778,
              "#fb9f3a"
             ],
             [
              0.8888888888888888,
              "#fdca26"
             ],
             [
              1.0,
              "#f0f921"
             ]
            ]
           }
          ],
          "choropleth": [
           {
            "type": "choropleth",
            "colorbar": {
             "outlinewidth": 0,
             "ticks": ""
            }
           }
          ],
          "histogram2d": [
           {
            "type": "histogram2d",
            "colorbar": {
             "outlinewidth": 0,
             "ticks": ""
            },
            "colorscale": [
             [
              0.0,
              "#0d0887"
             ],
             [
              0.1111111111111111,
              "#46039f"
             ],
             [
              0.2222222222222222,
              "#7201a8"
             ],
             [
              0.3333333333333333,
              "#9c179e"
             ],
             [
              0.4444444444444444,
              "#bd3786"
             ],
             [
              0.5555555555555556,
              "#d8576b"
             ],
             [
              0.6666666666666666,
              "#ed7953"
             ],
             [
              0.7777777777777778,
              "#fb9f3a"
             ],
             [
              0.8888888888888888,
              "#fdca26"
             ],
             [
              1.0,
              "#f0f921"
             ]
            ]
           }
          ],
          "heatmap": [
           {
            "type": "heatmap",
            "colorbar": {
             "outlinewidth": 0,
             "ticks": ""
            },
            "colorscale": [
             [
              0.0,
              "#0d0887"
             ],
             [
              0.1111111111111111,
              "#46039f"
             ],
             [
              0.2222222222222222,
              "#7201a8"
             ],
             [
              0.3333333333333333,
              "#9c179e"
             ],
             [
              0.4444444444444444,
              "#bd3786"
             ],
             [
              0.5555555555555556,
              "#d8576b"
             ],
             [
              0.6666666666666666,
              "#ed7953"
             ],
             [
              0.7777777777777778,
              "#fb9f3a"
             ],
             [
              0.8888888888888888,
              "#fdca26"
             ],
             [
              1.0,
              "#f0f921"
             ]
            ]
           }
          ],
          "heatmapgl": [
           {
            "type": "heatmapgl",
            "colorbar": {
             "outlinewidth": 0,
             "ticks": ""
            },
            "colorscale": [
             [
              0.0,
              "#0d0887"
             ],
             [
              0.1111111111111111,
              "#46039f"
             ],
             [
              0.2222222222222222,
              "#7201a8"
             ],
             [
              0.3333333333333333,
              "#9c179e"
             ],
             [
              0.4444444444444444,
              "#bd3786"
             ],
             [
              0.5555555555555556,
              "#d8576b"
             ],
             [
              0.6666666666666666,
              "#ed7953"
             ],
             [
              0.7777777777777778,
              "#fb9f3a"
             ],
             [
              0.8888888888888888,
              "#fdca26"
             ],
             [
              1.0,
              "#f0f921"
             ]
            ]
           }
          ],
          "contourcarpet": [
           {
            "type": "contourcarpet",
            "colorbar": {
             "outlinewidth": 0,
             "ticks": ""
            }
           }
          ],
          "contour": [
           {
            "type": "contour",
            "colorbar": {
             "outlinewidth": 0,
             "ticks": ""
            },
            "colorscale": [
             [
              0.0,
              "#0d0887"
             ],
             [
              0.1111111111111111,
              "#46039f"
             ],
             [
              0.2222222222222222,
              "#7201a8"
             ],
             [
              0.3333333333333333,
              "#9c179e"
             ],
             [
              0.4444444444444444,
              "#bd3786"
             ],
             [
              0.5555555555555556,
              "#d8576b"
             ],
             [
              0.6666666666666666,
              "#ed7953"
             ],
             [
              0.7777777777777778,
              "#fb9f3a"
             ],
             [
              0.8888888888888888,
              "#fdca26"
             ],
             [
              1.0,
              "#f0f921"
             ]
            ]
           }
          ],
          "surface": [
           {
            "type": "surface",
            "colorbar": {
             "outlinewidth": 0,
             "ticks": ""
            },
            "colorscale": [
             [
              0.0,
              "#0d0887"
             ],
             [
              0.1111111111111111,
              "#46039f"
             ],
             [
              0.2222222222222222,
              "#7201a8"
             ],
             [
              0.3333333333333333,
              "#9c179e"
             ],
             [
              0.4444444444444444,
              "#bd3786"
             ],
             [
              0.5555555555555556,
              "#d8576b"
             ],
             [
              0.6666666666666666,
              "#ed7953"
             ],
             [
              0.7777777777777778,
              "#fb9f3a"
             ],
             [
              0.8888888888888888,
              "#fdca26"
             ],
             [
              1.0,
              "#f0f921"
             ]
            ]
           }
          ],
          "mesh3d": [
           {
            "type": "mesh3d",
            "colorbar": {
             "outlinewidth": 0,
             "ticks": ""
            }
           }
          ],
          "scatter": [
           {
            "fillpattern": {
             "fillmode": "overlay",
             "size": 10,
             "solidity": 0.2
            },
            "type": "scatter"
           }
          ],
          "parcoords": [
           {
            "type": "parcoords",
            "line": {
             "colorbar": {
              "outlinewidth": 0,
              "ticks": ""
             }
            }
           }
          ],
          "scatterpolargl": [
           {
            "type": "scatterpolargl",
            "marker": {
             "colorbar": {
              "outlinewidth": 0,
              "ticks": ""
             }
            }
           }
          ],
          "bar": [
           {
            "error_x": {
             "color": "#2a3f5f"
            },
            "error_y": {
             "color": "#2a3f5f"
            },
            "marker": {
             "line": {
              "color": "#E5ECF6",
              "width": 0.5
             },
             "pattern": {
              "fillmode": "overlay",
              "size": 10,
              "solidity": 0.2
             }
            },
            "type": "bar"
           }
          ],
          "scattergeo": [
           {
            "type": "scattergeo",
            "marker": {
             "colorbar": {
              "outlinewidth": 0,
              "ticks": ""
             }
            }
           }
          ],
          "scatterpolar": [
           {
            "type": "scatterpolar",
            "marker": {
             "colorbar": {
              "outlinewidth": 0,
              "ticks": ""
             }
            }
           }
          ],
          "histogram": [
           {
            "marker": {
             "pattern": {
              "fillmode": "overlay",
              "size": 10,
              "solidity": 0.2
             }
            },
            "type": "histogram"
           }
          ],
          "scattergl": [
           {
            "type": "scattergl",
            "marker": {
             "colorbar": {
              "outlinewidth": 0,
              "ticks": ""
             }
            }
           }
          ],
          "scatter3d": [
           {
            "type": "scatter3d",
            "line": {
             "colorbar": {
              "outlinewidth": 0,
              "ticks": ""
             }
            },
            "marker": {
             "colorbar": {
              "outlinewidth": 0,
              "ticks": ""
             }
            }
           }
          ],
          "scattermapbox": [
           {
            "type": "scattermapbox",
            "marker": {
             "colorbar": {
              "outlinewidth": 0,
              "ticks": ""
             }
            }
           }
          ],
          "scatterternary": [
           {
            "type": "scatterternary",
            "marker": {
             "colorbar": {
              "outlinewidth": 0,
              "ticks": ""
             }
            }
           }
          ],
          "scattercarpet": [
           {
            "type": "scattercarpet",
            "marker": {
             "colorbar": {
              "outlinewidth": 0,
              "ticks": ""
             }
            }
           }
          ],
          "carpet": [
           {
            "aaxis": {
             "endlinecolor": "#2a3f5f",
             "gridcolor": "white",
             "linecolor": "white",
             "minorgridcolor": "white",
             "startlinecolor": "#2a3f5f"
            },
            "baxis": {
             "endlinecolor": "#2a3f5f",
             "gridcolor": "white",
             "linecolor": "white",
             "minorgridcolor": "white",
             "startlinecolor": "#2a3f5f"
            },
            "type": "carpet"
           }
          ],
          "table": [
           {
            "cells": {
             "fill": {
              "color": "#EBF0F8"
             },
             "line": {
              "color": "white"
             }
            },
            "header": {
             "fill": {
              "color": "#C8D4E3"
             },
             "line": {
              "color": "white"
             }
            },
            "type": "table"
           }
          ],
          "barpolar": [
           {
            "marker": {
             "line": {
              "color": "#E5ECF6",
              "width": 0.5
             },
             "pattern": {
              "fillmode": "overlay",
              "size": 10,
              "solidity": 0.2
             }
            },
            "type": "barpolar"
           }
          ],
          "pie": [
           {
            "automargin": true,
            "type": "pie"
           }
          ]
         },
         "layout": {
          "autotypenumbers": "strict",
          "colorway": [
           "#636efa",
           "#EF553B",
           "#00cc96",
           "#ab63fa",
           "#FFA15A",
           "#19d3f3",
           "#FF6692",
           "#B6E880",
           "#FF97FF",
           "#FECB52"
          ],
          "font": {
           "color": "#2a3f5f"
          },
          "hovermode": "closest",
          "hoverlabel": {
           "align": "left"
          },
          "paper_bgcolor": "white",
          "plot_bgcolor": "#E5ECF6",
          "polar": {
           "bgcolor": "#E5ECF6",
           "angularaxis": {
            "gridcolor": "white",
            "linecolor": "white",
            "ticks": ""
           },
           "radialaxis": {
            "gridcolor": "white",
            "linecolor": "white",
            "ticks": ""
           }
          },
          "ternary": {
           "bgcolor": "#E5ECF6",
           "aaxis": {
            "gridcolor": "white",
            "linecolor": "white",
            "ticks": ""
           },
           "baxis": {
            "gridcolor": "white",
            "linecolor": "white",
            "ticks": ""
           },
           "caxis": {
            "gridcolor": "white",
            "linecolor": "white",
            "ticks": ""
           }
          },
          "coloraxis": {
           "colorbar": {
            "outlinewidth": 0,
            "ticks": ""
           }
          },
          "colorscale": {
           "sequential": [
            [
             0.0,
             "#0d0887"
            ],
            [
             0.1111111111111111,
             "#46039f"
            ],
            [
             0.2222222222222222,
             "#7201a8"
            ],
            [
             0.3333333333333333,
             "#9c179e"
            ],
            [
             0.4444444444444444,
             "#bd3786"
            ],
            [
             0.5555555555555556,
             "#d8576b"
            ],
            [
             0.6666666666666666,
             "#ed7953"
            ],
            [
             0.7777777777777778,
             "#fb9f3a"
            ],
            [
             0.8888888888888888,
             "#fdca26"
            ],
            [
             1.0,
             "#f0f921"
            ]
           ],
           "sequentialminus": [
            [
             0.0,
             "#0d0887"
            ],
            [
             0.1111111111111111,
             "#46039f"
            ],
            [
             0.2222222222222222,
             "#7201a8"
            ],
            [
             0.3333333333333333,
             "#9c179e"
            ],
            [
             0.4444444444444444,
             "#bd3786"
            ],
            [
             0.5555555555555556,
             "#d8576b"
            ],
            [
             0.6666666666666666,
             "#ed7953"
            ],
            [
             0.7777777777777778,
             "#fb9f3a"
            ],
            [
             0.8888888888888888,
             "#fdca26"
            ],
            [
             1.0,
             "#f0f921"
            ]
           ],
           "diverging": [
            [
             0,
             "#8e0152"
            ],
            [
             0.1,
             "#c51b7d"
            ],
            [
             0.2,
             "#de77ae"
            ],
            [
             0.3,
             "#f1b6da"
            ],
            [
             0.4,
             "#fde0ef"
            ],
            [
             0.5,
             "#f7f7f7"
            ],
            [
             0.6,
             "#e6f5d0"
            ],
            [
             0.7,
             "#b8e186"
            ],
            [
             0.8,
             "#7fbc41"
            ],
            [
             0.9,
             "#4d9221"
            ],
            [
             1,
             "#276419"
            ]
           ]
          },
          "xaxis": {
           "gridcolor": "white",
           "linecolor": "white",
           "ticks": "",
           "title": {
            "standoff": 15
           },
           "zerolinecolor": "white",
           "automargin": true,
           "zerolinewidth": 2
          },
          "yaxis": {
           "gridcolor": "white",
           "linecolor": "white",
           "ticks": "",
           "title": {
            "standoff": 15
           },
           "zerolinecolor": "white",
           "automargin": true,
           "zerolinewidth": 2
          },
          "scene": {
           "xaxis": {
            "backgroundcolor": "#E5ECF6",
            "gridcolor": "white",
            "linecolor": "white",
            "showbackground": true,
            "ticks": "",
            "zerolinecolor": "white",
            "gridwidth": 2
           },
           "yaxis": {
            "backgroundcolor": "#E5ECF6",
            "gridcolor": "white",
            "linecolor": "white",
            "showbackground": true,
            "ticks": "",
            "zerolinecolor": "white",
            "gridwidth": 2
           },
           "zaxis": {
            "backgroundcolor": "#E5ECF6",
            "gridcolor": "white",
            "linecolor": "white",
            "showbackground": true,
            "ticks": "",
            "zerolinecolor": "white",
            "gridwidth": 2
           }
          },
          "shapedefaults": {
           "line": {
            "color": "#2a3f5f"
           }
          },
          "annotationdefaults": {
           "arrowcolor": "#2a3f5f",
           "arrowhead": 0,
           "arrowwidth": 1
          },
          "geo": {
           "bgcolor": "white",
           "landcolor": "#E5ECF6",
           "subunitcolor": "white",
           "showland": true,
           "showlakes": true,
           "lakecolor": "white"
          },
          "title": {
           "x": 0.05
          },
          "mapbox": {
           "style": "light"
          }
         }
        },
        "xaxis": {
         "anchor": "y",
         "domain": [
          0.0,
          1.0
         ],
         "title": {
          "text": "Average Tumor Radius"
         }
        },
        "yaxis": {
         "anchor": "x",
         "domain": [
          0.0,
          1.0
         ],
         "title": {
          "text": "Average Tumor Area"
         }
        },
        "legend": {
         "title": {
          "text": "Malignant or Benign"
         },
         "tracegroupgap": 0
        },
        "title": {
         "text": "Tumor Radius and Area with Breast Cancer"
        },
        "height": 800,
        "width": 1000,
        "shapes": [
         {
          "line": {
           "color": "purple",
           "dash": "dash",
           "width": 3
          },
          "type": "line",
          "x0": 13,
          "x1": 13,
          "xref": "x",
          "y0": 0,
          "y1": 1,
          "yref": "y domain"
         }
        ]
       },
       "config": {
        "plotlyServerURL": "https://plot.ly"
       }
      },
      "text/html": "<div>                            <div id=\"782cfabe-ab52-4f47-8124-b3a86b106d65\" class=\"plotly-graph-div\" style=\"height:800px; width:1000px;\"></div>            <script type=\"text/javascript\">                require([\"plotly\"], function(Plotly) {                    window.PLOTLYENV=window.PLOTLYENV || {};                                    if (document.getElementById(\"782cfabe-ab52-4f47-8124-b3a86b106d65\")) {                    Plotly.newPlot(                        \"782cfabe-ab52-4f47-8124-b3a86b106d65\",                        [{\"hovertemplate\":\"Malignant or Benign=B\\u003cbr\\u003eAverage Tumor Radius=%{x}\\u003cbr\\u003eAverage Tumor Area=%{y}\\u003cextra\\u003e\\u003c\\u002fextra\\u003e\",\"legendgroup\":\"B\",\"marker\":{\"color\":\"#636efa\",\"symbol\":\"circle\"},\"mode\":\"markers\",\"name\":\"B\",\"orientation\":\"v\",\"showlegend\":true,\"x\":[13.54,13.08,9.504,13.03,8.196,12.05,13.49,11.76,13.64,11.94,11.52,13.05,8.618,10.17,8.598,9.173,9.465,11.31,9.029,12.78,8.888,12.31,13.53,12.86,11.45,13.34,12.0,12.36,14.64,14.62,13.27,13.45,12.18,9.787,11.6,6.981,12.18,9.876,10.49,11.64,12.36,11.34,9.777,12.63,14.26,10.51,8.726,11.93,8.95,11.41,14.5,13.37,13.85,15.1,12.19,15.71,11.71,11.43,11.28,9.738,11.43,12.9,10.75,11.9,14.95,14.44,13.74,13.0,8.219,9.731,11.15,13.15,12.25,16.84,12.06,10.9,11.75,12.34,14.97,10.8,14.97,12.32,11.08,10.66,8.671,9.904,13.01,12.81,11.41,10.08,11.71,11.81,12.3,12.77,9.72,12.91,12.23,12.47,9.876,13.11,15.27,11.84,11.89,10.2,13.65,13.56,10.18,13.27,14.34,10.44,15.0,12.62,11.32,11.22,9.567,14.03,14.22,13.64,12.42,11.3,13.75,10.48,13.2,12.89,10.65,11.52,11.5,10.6,13.59,12.87,10.71,14.29,11.29,9.742,11.89,11.33,13.59,13.85,11.74,12.89,12.58,11.94,12.89,11.26,11.37,14.41,14.96,12.95,11.85,12.72,13.77,10.91,14.26,10.51,12.46,10.49,11.46,11.6,13.2,9.0,13.5,13.05,11.7,14.61,12.76,11.54,8.597,12.49,12.18,9.042,12.43,10.25,12.86,12.2,12.67,14.11,12.03,12.98,11.22,11.25,12.3,12.99,10.05,14.42,9.606,11.06,11.71,10.26,12.06,14.76,11.47,11.95,11.66,11.14,12.56,13.05,13.87,8.878,9.436,12.54,13.3,12.76,16.5,13.4,12.21,15.19,13.69,16.17,10.57,13.46,13.66,11.27,11.04,12.05,12.39,13.28,12.21,13.88,11.27,10.26,8.734,12.1,14.06,13.51,12.8,11.06,11.8,11.93,12.96,12.94,12.34,10.94,16.14,12.85,12.27,11.36,11.04,9.397,14.99,11.89,9.405,12.7,11.16,11.57,14.69,11.61,13.66,9.742,10.03,10.48,10.8,11.13,12.72,12.4,14.86,12.87,14.04,13.85,14.02,10.97,13.78,10.57,11.99,14.8,14.53,11.87,12.0,14.53,12.62,13.38,11.63,13.21,13.0,9.755,14.4,11.6,13.17,13.24,13.14,9.668,11.62,9.667,12.04,14.92,12.27,10.88,12.83,14.2,13.9,11.49,12.16,13.9,13.47,13.7,15.73,12.45,14.64,11.68,12.25,17.85,12.46,13.16,14.87,12.65,12.47,15.04,12.54,9.268,9.676,12.22,11.06,16.3,11.74,14.81,14.58,11.34,12.88,12.75,9.295,11.26,13.71,9.847,8.571,13.46,12.34,13.94,12.07,11.75,11.67,13.68,10.96,11.69,7.729,7.691,11.54,14.47,14.74,13.21,13.87,13.62,10.32,10.26,9.683,10.82,10.86,11.13,12.77,9.333,12.88,10.29,10.16,9.423,14.59,11.51,14.05,11.2,7.76],\"xaxis\":\"x\",\"y\":[566.3,520.0,273.9,523.8,201.9,449.3,561.0,427.9,571.8,437.6,409.0,527.2,224.5,311.9,221.8,260.9,269.4,394.1,250.5,502.5,244.0,470.9,559.2,506.3,401.5,520.0,443.3,466.1,651.9,662.7,551.7,555.1,451.1,294.5,412.6,143.5,458.7,298.3,336.1,412.5,466.7,396.5,290.2,480.4,629.9,334.2,230.9,438.6,245.2,403.3,640.7,553.5,588.7,674.5,455.8,761.7,423.6,399.8,384.8,288.5,398.0,512.2,355.3,432.8,689.5,640.1,585.0,519.4,203.9,300.2,381.9,538.9,460.3,880.2,448.6,366.8,419.8,464.5,690.2,357.6,685.9,464.1,372.7,349.6,227.2,302.4,526.4,508.8,402.0,317.5,420.3,428.9,463.7,507.4,288.1,516.4,461.0,481.9,295.4,529.4,725.5,428.0,432.2,321.2,568.9,561.3,313.1,546.4,641.2,329.6,684.5,496.4,395.7,386.8,279.6,603.4,623.9,575.3,476.5,389.4,590.0,337.7,541.6,512.2,347.0,406.3,407.4,346.4,561.0,512.2,344.9,632.6,388.0,289.9,435.6,396.6,572.3,587.4,427.3,516.6,489.0,441.0,515.9,394.1,396.0,651.0,687.3,513.7,432.7,492.1,582.7,363.7,633.1,334.2,471.3,334.3,403.1,417.2,537.3,246.3,566.2,530.6,418.7,664.9,504.1,409.1,221.2,481.6,461.4,244.5,477.3,324.2,504.8,457.9,489.9,616.5,446.0,514.0,387.3,390.0,464.4,514.3,310.8,641.2,280.5,373.9,420.3,321.6,445.3,668.7,402.7,426.7,421.0,384.6,485.8,512.0,593.7,241.0,278.6,491.9,546.1,496.6,838.1,552.4,458.4,711.8,579.1,788.5,338.3,562.1,580.6,386.3,372.7,447.8,462.9,541.8,462.0,596.6,392.0,321.6,234.3,446.2,609.1,558.1,508.3,378.2,431.9,442.7,525.2,507.6,469.1,370.0,800.0,514.5,466.1,399.8,373.2,268.8,693.7,433.8,271.2,495.0,380.3,409.7,656.1,408.2,575.3,289.7,307.3,333.6,359.9,381.1,501.3,467.8,673.7,509.2,611.2,592.6,606.5,371.5,585.9,340.9,441.3,674.8,659.7,432.0,442.5,644.2,492.9,557.2,415.1,537.9,520.2,290.9,646.1,412.7,537.3,542.9,536.9,286.3,408.8,289.1,449.9,686.9,465.4,358.9,506.9,618.4,599.4,404.9,455.3,602.9,546.3,571.1,747.2,476.7,666.0,420.5,466.5,992.1,477.3,538.7,680.9,485.6,480.1,689.4,476.3,248.7,272.5,453.1,366.5,819.8,426.0,680.7,658.8,391.2,493.1,493.8,257.8,388.1,571.0,293.2,221.3,551.1,468.5,594.2,445.2,422.9,416.2,575.5,365.6,406.4,178.8,170.4,402.9,656.4,668.6,538.4,584.8,573.2,324.9,320.8,285.7,361.6,360.5,378.4,507.9,264.0,514.3,321.4,311.7,271.3,657.1,403.5,600.4,386.0,181.0],\"yaxis\":\"y\",\"type\":\"scatter\"},{\"hovertemplate\":\"Malignant or Benign=M\\u003cbr\\u003eAverage Tumor Radius=%{x}\\u003cbr\\u003eAverage Tumor Area=%{y}\\u003cextra\\u003e\\u003c\\u002fextra\\u003e\",\"legendgroup\":\"M\",\"marker\":{\"color\":\"#EF553B\",\"symbol\":\"circle\"},\"mode\":\"markers\",\"name\":\"M\",\"orientation\":\"v\",\"showlegend\":true,\"x\":[17.99,20.57,19.69,11.42,20.29,12.45,18.25,13.71,13.0,12.46,16.02,15.78,19.17,15.85,13.73,14.54,14.68,16.13,19.81,15.34,21.16,16.65,17.14,14.58,18.61,15.3,17.57,18.63,11.84,17.02,19.27,16.13,16.74,14.25,14.99,13.48,13.44,10.95,19.07,13.28,13.17,18.65,13.17,18.22,15.1,19.21,14.71,14.25,12.68,14.78,18.94,17.2,13.8,16.07,18.05,20.18,25.22,19.1,18.46,14.48,19.02,15.37,15.06,20.26,14.42,13.61,13.11,22.27,14.87,15.78,17.95,18.66,24.25,13.61,19.0,19.79,15.46,16.16,18.45,12.77,14.95,16.11,11.8,17.68,19.19,19.59,23.27,16.78,17.47,13.43,15.46,16.46,27.22,21.09,15.7,15.28,18.31,14.22,12.34,14.86,13.77,18.08,19.18,14.45,17.54,23.29,13.81,15.12,17.01,20.58,28.11,17.42,14.19,13.86,19.8,19.53,15.75,12.83,17.05,20.51,23.21,20.48,17.46,19.4,20.94,19.73,17.3,19.45,13.96,19.55,15.32,15.66,15.53,20.31,17.35,17.29,15.61,17.19,20.73,21.75,17.93,18.81,19.16,19.4,16.24,11.76,19.53,20.09,18.22,20.16,20.34,16.27,16.26,16.03,17.06,18.77,23.51,19.68,15.75,25.73,15.08,20.44,20.2,21.71,22.01,16.35,21.37,20.64,11.08,14.6,19.55,15.49,21.61,17.91,17.99,15.13,15.5,14.9,20.18,18.82,13.98,17.27,18.03,17.75,21.1,19.59,17.08,27.42,17.6,16.25,19.44,16.69,18.01,18.49,20.59,13.82,23.09,15.46,13.4,15.05,18.31,19.89,24.63,20.47,20.55,14.27,15.22,20.92,21.56,20.13,16.6,20.6],\"xaxis\":\"x\",\"y\":[1001.0,1326.0,1203.0,386.1,1297.0,477.1,1040.0,577.9,519.8,475.9,797.8,781.0,1123.0,782.7,578.3,658.8,684.5,798.8,1260.0,704.4,1404.0,904.6,912.7,644.8,1094.0,732.4,955.1,1088.0,440.6,899.3,1162.0,807.2,869.5,633.0,698.8,559.2,563.0,371.1,1104.0,545.2,531.5,1076.0,534.6,1033.0,712.8,1152.0,656.9,645.7,499.0,668.3,1130.0,929.4,584.1,817.7,1006.0,1245.0,1878.0,1132.0,1075.0,648.2,1076.0,728.2,705.6,1264.0,642.5,582.7,530.2,1509.0,682.5,782.6,982.0,1077.0,1761.0,572.6,1138.0,1192.0,748.9,809.8,1075.0,506.3,678.1,813.0,432.0,963.7,1157.0,1214.0,1686.0,886.3,984.6,565.4,736.9,832.9,2250.0,1311.0,766.6,710.6,1041.0,609.9,477.4,671.4,588.9,1024.0,1148.0,642.7,951.6,1685.0,597.8,716.6,904.3,1290.0,2499.0,948.0,610.7,578.9,1230.0,1223.0,761.3,503.2,895.0,1319.0,1670.0,1306.0,920.6,1155.0,1364.0,1206.0,928.2,1169.0,602.4,1207.0,713.3,773.5,744.9,1288.0,933.1,947.8,758.6,928.3,1419.0,1491.0,998.9,1102.0,1138.0,1145.0,805.1,431.1,1217.0,1247.0,1027.0,1274.0,1264.0,813.7,826.8,793.2,918.6,1092.0,1747.0,1194.0,758.6,2010.0,716.6,1293.0,1234.0,1546.0,1482.0,840.4,1386.0,1335.0,361.6,664.7,1174.0,744.7,1407.0,994.0,991.7,719.5,803.1,685.0,1250.0,1110.0,599.5,928.8,990.0,981.6,1384.0,1191.0,930.9,2501.0,980.5,815.8,1167.0,857.6,1007.0,1068.0,1320.0,595.9,1682.0,731.3,556.7,701.9,1052.0,1214.0,1841.0,1299.0,1308.0,629.8,716.9,1347.0,1479.0,1261.0,858.1,1265.0],\"yaxis\":\"y\",\"type\":\"scatter\"}],                        {\"template\":{\"data\":{\"histogram2dcontour\":[{\"type\":\"histogram2dcontour\",\"colorbar\":{\"outlinewidth\":0,\"ticks\":\"\"},\"colorscale\":[[0.0,\"#0d0887\"],[0.1111111111111111,\"#46039f\"],[0.2222222222222222,\"#7201a8\"],[0.3333333333333333,\"#9c179e\"],[0.4444444444444444,\"#bd3786\"],[0.5555555555555556,\"#d8576b\"],[0.6666666666666666,\"#ed7953\"],[0.7777777777777778,\"#fb9f3a\"],[0.8888888888888888,\"#fdca26\"],[1.0,\"#f0f921\"]]}],\"choropleth\":[{\"type\":\"choropleth\",\"colorbar\":{\"outlinewidth\":0,\"ticks\":\"\"}}],\"histogram2d\":[{\"type\":\"histogram2d\",\"colorbar\":{\"outlinewidth\":0,\"ticks\":\"\"},\"colorscale\":[[0.0,\"#0d0887\"],[0.1111111111111111,\"#46039f\"],[0.2222222222222222,\"#7201a8\"],[0.3333333333333333,\"#9c179e\"],[0.4444444444444444,\"#bd3786\"],[0.5555555555555556,\"#d8576b\"],[0.6666666666666666,\"#ed7953\"],[0.7777777777777778,\"#fb9f3a\"],[0.8888888888888888,\"#fdca26\"],[1.0,\"#f0f921\"]]}],\"heatmap\":[{\"type\":\"heatmap\",\"colorbar\":{\"outlinewidth\":0,\"ticks\":\"\"},\"colorscale\":[[0.0,\"#0d0887\"],[0.1111111111111111,\"#46039f\"],[0.2222222222222222,\"#7201a8\"],[0.3333333333333333,\"#9c179e\"],[0.4444444444444444,\"#bd3786\"],[0.5555555555555556,\"#d8576b\"],[0.6666666666666666,\"#ed7953\"],[0.7777777777777778,\"#fb9f3a\"],[0.8888888888888888,\"#fdca26\"],[1.0,\"#f0f921\"]]}],\"heatmapgl\":[{\"type\":\"heatmapgl\",\"colorbar\":{\"outlinewidth\":0,\"ticks\":\"\"},\"colorscale\":[[0.0,\"#0d0887\"],[0.1111111111111111,\"#46039f\"],[0.2222222222222222,\"#7201a8\"],[0.3333333333333333,\"#9c179e\"],[0.4444444444444444,\"#bd3786\"],[0.5555555555555556,\"#d8576b\"],[0.6666666666666666,\"#ed7953\"],[0.7777777777777778,\"#fb9f3a\"],[0.8888888888888888,\"#fdca26\"],[1.0,\"#f0f921\"]]}],\"contourcarpet\":[{\"type\":\"contourcarpet\",\"colorbar\":{\"outlinewidth\":0,\"ticks\":\"\"}}],\"contour\":[{\"type\":\"contour\",\"colorbar\":{\"outlinewidth\":0,\"ticks\":\"\"},\"colorscale\":[[0.0,\"#0d0887\"],[0.1111111111111111,\"#46039f\"],[0.2222222222222222,\"#7201a8\"],[0.3333333333333333,\"#9c179e\"],[0.4444444444444444,\"#bd3786\"],[0.5555555555555556,\"#d8576b\"],[0.6666666666666666,\"#ed7953\"],[0.7777777777777778,\"#fb9f3a\"],[0.8888888888888888,\"#fdca26\"],[1.0,\"#f0f921\"]]}],\"surface\":[{\"type\":\"surface\",\"colorbar\":{\"outlinewidth\":0,\"ticks\":\"\"},\"colorscale\":[[0.0,\"#0d0887\"],[0.1111111111111111,\"#46039f\"],[0.2222222222222222,\"#7201a8\"],[0.3333333333333333,\"#9c179e\"],[0.4444444444444444,\"#bd3786\"],[0.5555555555555556,\"#d8576b\"],[0.6666666666666666,\"#ed7953\"],[0.7777777777777778,\"#fb9f3a\"],[0.8888888888888888,\"#fdca26\"],[1.0,\"#f0f921\"]]}],\"mesh3d\":[{\"type\":\"mesh3d\",\"colorbar\":{\"outlinewidth\":0,\"ticks\":\"\"}}],\"scatter\":[{\"fillpattern\":{\"fillmode\":\"overlay\",\"size\":10,\"solidity\":0.2},\"type\":\"scatter\"}],\"parcoords\":[{\"type\":\"parcoords\",\"line\":{\"colorbar\":{\"outlinewidth\":0,\"ticks\":\"\"}}}],\"scatterpolargl\":[{\"type\":\"scatterpolargl\",\"marker\":{\"colorbar\":{\"outlinewidth\":0,\"ticks\":\"\"}}}],\"bar\":[{\"error_x\":{\"color\":\"#2a3f5f\"},\"error_y\":{\"color\":\"#2a3f5f\"},\"marker\":{\"line\":{\"color\":\"#E5ECF6\",\"width\":0.5},\"pattern\":{\"fillmode\":\"overlay\",\"size\":10,\"solidity\":0.2}},\"type\":\"bar\"}],\"scattergeo\":[{\"type\":\"scattergeo\",\"marker\":{\"colorbar\":{\"outlinewidth\":0,\"ticks\":\"\"}}}],\"scatterpolar\":[{\"type\":\"scatterpolar\",\"marker\":{\"colorbar\":{\"outlinewidth\":0,\"ticks\":\"\"}}}],\"histogram\":[{\"marker\":{\"pattern\":{\"fillmode\":\"overlay\",\"size\":10,\"solidity\":0.2}},\"type\":\"histogram\"}],\"scattergl\":[{\"type\":\"scattergl\",\"marker\":{\"colorbar\":{\"outlinewidth\":0,\"ticks\":\"\"}}}],\"scatter3d\":[{\"type\":\"scatter3d\",\"line\":{\"colorbar\":{\"outlinewidth\":0,\"ticks\":\"\"}},\"marker\":{\"colorbar\":{\"outlinewidth\":0,\"ticks\":\"\"}}}],\"scattermapbox\":[{\"type\":\"scattermapbox\",\"marker\":{\"colorbar\":{\"outlinewidth\":0,\"ticks\":\"\"}}}],\"scatterternary\":[{\"type\":\"scatterternary\",\"marker\":{\"colorbar\":{\"outlinewidth\":0,\"ticks\":\"\"}}}],\"scattercarpet\":[{\"type\":\"scattercarpet\",\"marker\":{\"colorbar\":{\"outlinewidth\":0,\"ticks\":\"\"}}}],\"carpet\":[{\"aaxis\":{\"endlinecolor\":\"#2a3f5f\",\"gridcolor\":\"white\",\"linecolor\":\"white\",\"minorgridcolor\":\"white\",\"startlinecolor\":\"#2a3f5f\"},\"baxis\":{\"endlinecolor\":\"#2a3f5f\",\"gridcolor\":\"white\",\"linecolor\":\"white\",\"minorgridcolor\":\"white\",\"startlinecolor\":\"#2a3f5f\"},\"type\":\"carpet\"}],\"table\":[{\"cells\":{\"fill\":{\"color\":\"#EBF0F8\"},\"line\":{\"color\":\"white\"}},\"header\":{\"fill\":{\"color\":\"#C8D4E3\"},\"line\":{\"color\":\"white\"}},\"type\":\"table\"}],\"barpolar\":[{\"marker\":{\"line\":{\"color\":\"#E5ECF6\",\"width\":0.5},\"pattern\":{\"fillmode\":\"overlay\",\"size\":10,\"solidity\":0.2}},\"type\":\"barpolar\"}],\"pie\":[{\"automargin\":true,\"type\":\"pie\"}]},\"layout\":{\"autotypenumbers\":\"strict\",\"colorway\":[\"#636efa\",\"#EF553B\",\"#00cc96\",\"#ab63fa\",\"#FFA15A\",\"#19d3f3\",\"#FF6692\",\"#B6E880\",\"#FF97FF\",\"#FECB52\"],\"font\":{\"color\":\"#2a3f5f\"},\"hovermode\":\"closest\",\"hoverlabel\":{\"align\":\"left\"},\"paper_bgcolor\":\"white\",\"plot_bgcolor\":\"#E5ECF6\",\"polar\":{\"bgcolor\":\"#E5ECF6\",\"angularaxis\":{\"gridcolor\":\"white\",\"linecolor\":\"white\",\"ticks\":\"\"},\"radialaxis\":{\"gridcolor\":\"white\",\"linecolor\":\"white\",\"ticks\":\"\"}},\"ternary\":{\"bgcolor\":\"#E5ECF6\",\"aaxis\":{\"gridcolor\":\"white\",\"linecolor\":\"white\",\"ticks\":\"\"},\"baxis\":{\"gridcolor\":\"white\",\"linecolor\":\"white\",\"ticks\":\"\"},\"caxis\":{\"gridcolor\":\"white\",\"linecolor\":\"white\",\"ticks\":\"\"}},\"coloraxis\":{\"colorbar\":{\"outlinewidth\":0,\"ticks\":\"\"}},\"colorscale\":{\"sequential\":[[0.0,\"#0d0887\"],[0.1111111111111111,\"#46039f\"],[0.2222222222222222,\"#7201a8\"],[0.3333333333333333,\"#9c179e\"],[0.4444444444444444,\"#bd3786\"],[0.5555555555555556,\"#d8576b\"],[0.6666666666666666,\"#ed7953\"],[0.7777777777777778,\"#fb9f3a\"],[0.8888888888888888,\"#fdca26\"],[1.0,\"#f0f921\"]],\"sequentialminus\":[[0.0,\"#0d0887\"],[0.1111111111111111,\"#46039f\"],[0.2222222222222222,\"#7201a8\"],[0.3333333333333333,\"#9c179e\"],[0.4444444444444444,\"#bd3786\"],[0.5555555555555556,\"#d8576b\"],[0.6666666666666666,\"#ed7953\"],[0.7777777777777778,\"#fb9f3a\"],[0.8888888888888888,\"#fdca26\"],[1.0,\"#f0f921\"]],\"diverging\":[[0,\"#8e0152\"],[0.1,\"#c51b7d\"],[0.2,\"#de77ae\"],[0.3,\"#f1b6da\"],[0.4,\"#fde0ef\"],[0.5,\"#f7f7f7\"],[0.6,\"#e6f5d0\"],[0.7,\"#b8e186\"],[0.8,\"#7fbc41\"],[0.9,\"#4d9221\"],[1,\"#276419\"]]},\"xaxis\":{\"gridcolor\":\"white\",\"linecolor\":\"white\",\"ticks\":\"\",\"title\":{\"standoff\":15},\"zerolinecolor\":\"white\",\"automargin\":true,\"zerolinewidth\":2},\"yaxis\":{\"gridcolor\":\"white\",\"linecolor\":\"white\",\"ticks\":\"\",\"title\":{\"standoff\":15},\"zerolinecolor\":\"white\",\"automargin\":true,\"zerolinewidth\":2},\"scene\":{\"xaxis\":{\"backgroundcolor\":\"#E5ECF6\",\"gridcolor\":\"white\",\"linecolor\":\"white\",\"showbackground\":true,\"ticks\":\"\",\"zerolinecolor\":\"white\",\"gridwidth\":2},\"yaxis\":{\"backgroundcolor\":\"#E5ECF6\",\"gridcolor\":\"white\",\"linecolor\":\"white\",\"showbackground\":true,\"ticks\":\"\",\"zerolinecolor\":\"white\",\"gridwidth\":2},\"zaxis\":{\"backgroundcolor\":\"#E5ECF6\",\"gridcolor\":\"white\",\"linecolor\":\"white\",\"showbackground\":true,\"ticks\":\"\",\"zerolinecolor\":\"white\",\"gridwidth\":2}},\"shapedefaults\":{\"line\":{\"color\":\"#2a3f5f\"}},\"annotationdefaults\":{\"arrowcolor\":\"#2a3f5f\",\"arrowhead\":0,\"arrowwidth\":1},\"geo\":{\"bgcolor\":\"white\",\"landcolor\":\"#E5ECF6\",\"subunitcolor\":\"white\",\"showland\":true,\"showlakes\":true,\"lakecolor\":\"white\"},\"title\":{\"x\":0.05},\"mapbox\":{\"style\":\"light\"}}},\"xaxis\":{\"anchor\":\"y\",\"domain\":[0.0,1.0],\"title\":{\"text\":\"Average Tumor Radius\"}},\"yaxis\":{\"anchor\":\"x\",\"domain\":[0.0,1.0],\"title\":{\"text\":\"Average Tumor Area\"}},\"legend\":{\"title\":{\"text\":\"Malignant or Benign\"},\"tracegroupgap\":0},\"title\":{\"text\":\"Tumor Radius and Area with Breast Cancer\"},\"height\":800,\"width\":1000,\"shapes\":[{\"line\":{\"color\":\"purple\",\"dash\":\"dash\",\"width\":3},\"type\":\"line\",\"x0\":13,\"x1\":13,\"xref\":\"x\",\"y0\":0,\"y1\":1,\"yref\":\"y domain\"}]},                        {\"responsive\": true}                    ).then(function(){\n                            \nvar gd = document.getElementById('782cfabe-ab52-4f47-8124-b3a86b106d65');\nvar x = new MutationObserver(function (mutations, observer) {{\n        var display = window.getComputedStyle(gd).display;\n        if (!display || display === 'none') {{\n            console.log([gd, 'removed!']);\n            Plotly.purge(gd);\n            observer.disconnect();\n        }}\n}});\n\n// Listen for the removal of the full notebook cells\nvar notebookContainer = gd.closest('#notebook-container');\nif (notebookContainer) {{\n    x.observe(notebookContainer, {childList: true});\n}}\n\n// Listen for the clearing of the current output cell\nvar outputEl = gd.closest('.output');\nif (outputEl) {{\n    x.observe(outputEl, {childList: true});\n}}\n\n                        })                };                });            </script>        </div>"
     },
     "metadata": {},
     "output_type": "display_data"
    }
   ],
   "source": [
    "fig = px.scatter(df, x=\"x.radius_mean\", y=\"x.area_mean\",\n",
    "                 color=\"y\",\n",
    "                 width=1000, height=800,\n",
    "                 labels={\"y\": \"Malignant or Benign\",\n",
    "                         \"x.radius_mean\": \"Average Tumor Radius\",\n",
    "                         \"x.area_mean\": \"Average Tumor Area\"},\n",
    "                 title=\"Tumor Radius and Area with Breast Cancer\"\n",
    "                 )\n",
    "fig.add_vline(x=13, line_width=3, line_dash=\"dash\", line_color=\"purple\")\n",
    "fig.show()"
   ],
   "metadata": {
    "collapsed": false,
    "is_executing": true,
    "ExecuteTime": {
     "start_time": "2023-07-07T00:30:20.500417Z"
    }
   }
  },
  {
   "cell_type": "code",
   "execution_count": null,
   "outputs": [
    {
     "data": {
      "application/vnd.plotly.v1+json": {
       "data": [
        {
         "hovertemplate": "Malignant or Benign=B<br>Average Compactness of Tumor Cells=%{x}<br>Average Smoothness of Tumor Cells=%{y}<extra></extra>",
         "legendgroup": "B",
         "marker": {
          "color": "#636efa",
          "symbol": "circle"
         },
         "mode": "markers",
         "name": "B",
         "orientation": "v",
         "showlegend": true,
         "x": [
          0.08129,
          0.127,
          0.06492,
          0.03766,
          0.05943,
          0.09092,
          0.07698,
          0.04966,
          0.06059,
          0.04751,
          0.05473,
          0.03789,
          0.05272,
          0.08061,
          0.08963,
          0.08751,
          0.07773,
          0.04701,
          0.1413,
          0.05234,
          0.1531,
          0.06829,
          0.1047,
          0.09546,
          0.09362,
          0.1535,
          0.07165,
          0.09445,
          0.1339,
          0.08606,
          0.05055,
          0.08165,
          0.07057,
          0.05301,
          0.07525,
          0.07568,
          0.04038,
          0.09697,
          0.08578,
          0.1017,
          0.06815,
          0.06575,
          0.08404,
          0.1209,
          0.2233,
          0.1303,
          0.08201,
          0.07849,
          0.1243,
          0.06685,
          0.1099,
          0.07325,
          0.06136,
          0.1807,
          0.09509,
          0.09462,
          0.06095,
          0.06889,
          0.1136,
          0.04102,
          0.09486,
          0.09509,
          0.05139,
          0.1296,
          0.1167,
          0.1021,
          0.06376,
          0.07589,
          0.1305,
          0.1599,
          0.05113,
          0.08498,
          0.06679,
          0.07223,
          0.05241,
          0.03718,
          0.1141,
          0.1015,
          0.05352,
          0.05736,
          0.07885,
          0.06981,
          0.05743,
          0.04302,
          0.04276,
          0.1294,
          0.01938,
          0.03774,
          0.08155,
          0.04695,
          0.06141,
          0.05562,
          0.07253,
          0.06601,
          0.02344,
          0.05366,
          0.08087,
          0.1058,
          0.07232,
          0.1483,
          0.0623,
          0.069,
          0.1154,
          0.05907,
          0.08711,
          0.1192,
          0.08502,
          0.04994,
          0.07624,
          0.07722,
          0.1096,
          0.07529,
          0.03813,
          0.03574,
          0.04087,
          0.06945,
          0.1039,
          0.0663,
          0.03393,
          0.1325,
          0.06807,
          0.05971,
          0.04524,
          0.1346,
          0.07234,
          0.07808,
          0.05991,
          0.1147,
          0.08259,
          0.06219,
          0.1289,
          0.02675,
          0.07608,
          0.04689,
          0.0721,
          0.03872,
          0.04052,
          0.07688,
          0.0434,
          0.0958,
          0.04216,
          0.1011,
          0.03729,
          0.1181,
          0.05008,
          0.1676,
          0.09823,
          0.07943,
          0.05642,
          0.08393,
          0.06221,
          0.04721,
          0.0522,
          0.06797,
          0.1014,
          0.06678,
          0.07694,
          0.05688,
          0.05251,
          0.03116,
          0.03614,
          0.03735,
          0.05253,
          0.03515,
          0.07948,
          0.05969,
          0.05847,
          0.03834,
          0.03212,
          0.1972,
          0.03454,
          0.1111,
          0.08834,
          0.06545,
          0.07664,
          0.05306,
          0.03892,
          0.1125,
          0.06779,
          0.04458,
          0.04202,
          0.09965,
          0.07326,
          0.1139,
          0.09228,
          0.09097,
          0.07281,
          0.09159,
          0.05794,
          0.0778,
          0.05886,
          0.1206,
          0.0363,
          0.06064,
          0.1038,
          0.1304,
          0.05492,
          0.07698,
          0.05956,
          0.0265,
          0.06373,
          0.07952,
          0.08468,
          0.05696,
          0.07175,
          0.06934,
          0.06374,
          0.1438,
          0.166,
          0.04726,
          0.07548,
          0.1111,
          0.07079,
          0.1073,
          0.1297,
          0.08575,
          0.07823,
          0.04831,
          0.1114,
          0.07542,
          0.07428,
          0.09758,
          0.05361,
          0.1147,
          0.08895,
          0.04768,
          0.06232,
          0.05242,
          0.07899,
          0.08836,
          0.04571,
          0.0746,
          0.08501,
          0.08316,
          0.06526,
          0.05313,
          0.07804,
          0.06053,
          0.1025,
          0.0812,
          0.06159,
          0.05794,
          0.05978,
          0.07722,
          0.1836,
          0.1168,
          0.1147,
          0.08333,
          0.03912,
          0.1013,
          0.05743,
          0.03834,
          0.04522,
          0.1316,
          0.07074,
          0.07883,
          0.05895,
          0.0633,
          0.05581,
          0.1113,
          0.06718,
          0.04462,
          0.09218,
          0.0889,
          0.078,
          0.1064,
          0.0645,
          0.09242,
          0.0543,
          0.07426,
          0.08574,
          0.05205,
          0.05073,
          0.04626,
          0.05223,
          0.05855,
          0.05994,
          0.1223,
          0.1089,
          0.05428,
          0.1483,
          0.06258,
          0.06,
          0.08549,
          0.03398,
          0.1069,
          0.08269,
          0.1108,
          0.05319,
          0.08228,
          0.07838,
          0.05326,
          0.1155,
          0.07957,
          0.1299,
          0.1511,
          0.06698,
          0.09263,
          0.052,
          0.06217,
          0.04043,
          0.05275,
          0.08345,
          0.1334,
          0.0763,
          0.1364,
          0.1085,
          0.2239,
          0.2204,
          0.1152,
          0.1071,
          0.06712,
          0.09661,
          0.05016,
          0.08918,
          0.08499,
          0.1661,
          0.1117,
          0.1225,
          0.04413,
          0.107,
          0.08419,
          0.07632,
          0.1138,
          0.06307,
          0.09755,
          0.09009,
          0.09713,
          0.09453,
          0.07255,
          0.09752,
          0.1552,
          0.04878,
          0.1199,
          0.112,
          0.123,
          0.07214,
          0.06877,
          0.1018,
          0.06747,
          0.04994,
          0.08066,
          0.0503,
          0.06602,
          0.04227,
          0.08194,
          0.04234,
          0.05605,
          0.05824,
          0.07658,
          0.07504,
          0.04971,
          0.133,
          0.1021,
          0.1126,
          0.03558,
          0.04362
         ],
         "xaxis": "x",
         "y": [
          0.09779,
          0.1075,
          0.1024,
          0.08983,
          0.086,
          0.1031,
          0.08752,
          0.08637,
          0.07685,
          0.08261,
          0.09524,
          0.0806,
          0.09752,
          0.1134,
          0.1243,
          0.07721,
          0.1044,
          0.08139,
          0.1066,
          0.09831,
          0.09783,
          0.09172,
          0.1291,
          0.09934,
          0.1102,
          0.1078,
          0.09723,
          0.08772,
          0.1132,
          0.08974,
          0.07355,
          0.1022,
          0.1045,
          0.1024,
          0.08983,
          0.117,
          0.08013,
          0.1005,
          0.09989,
          0.1142,
          0.08477,
          0.08759,
          0.1037,
          0.09933,
          0.07837,
          0.1122,
          0.115,
          0.09768,
          0.09462,
          0.09373,
          0.1101,
          0.07115,
          0.08785,
          0.115,
          0.1066,
          0.09462,
          0.1051,
          0.09639,
          0.1164,
          0.0925,
          0.1092,
          0.08677,
          0.07793,
          0.1152,
          0.08138,
          0.0997,
          0.07944,
          0.1135,
          0.09405,
          0.1072,
          0.09754,
          0.09384,
          0.08654,
          0.07445,
          0.09311,
          0.07515,
          0.1089,
          0.1012,
          0.08421,
          0.09594,
          0.09855,
          0.1028,
          0.1006,
          0.08792,
          0.09138,
          0.09699,
          0.06251,
          0.08739,
          0.09059,
          0.09267,
          0.09774,
          0.1007,
          0.0808,
          0.08749,
          0.0695,
          0.07941,
          0.09586,
          0.09965,
          0.1089,
          0.1002,
          0.08182,
          0.08871,
          0.09363,
          0.08054,
          0.09646,
          0.1051,
          0.1061,
          0.08445,
          0.09906,
          0.1053,
          0.08371,
          0.07903,
          0.06883,
          0.0778,
          0.08464,
          0.0907,
          0.08223,
          0.09423,
          0.07926,
          0.09592,
          0.08043,
          0.107,
          0.07215,
          0.0876,
          0.09657,
          0.1013,
          0.09345,
          0.09688,
          0.07956,
          0.09425,
          0.1082,
          0.06429,
          0.09834,
          0.09037,
          0.1225,
          0.09379,
          0.07948,
          0.09516,
          0.07813,
          0.07818,
          0.08393,
          0.08605,
          0.06955,
          0.0802,
          0.08713,
          0.08757,
          0.08992,
          0.1005,
          0.08372,
          0.09667,
          0.09198,
          0.08518,
          0.06576,
          0.1015,
          0.08451,
          0.1068,
          0.08853,
          0.07474,
          0.08511,
          0.07005,
          0.07376,
          0.08352,
          0.08814,
          0.07618,
          0.08794,
          0.08597,
          0.1074,
          0.08511,
          0.07734,
          0.09968,
          0.07557,
          0.1061,
          0.1134,
          0.08673,
          0.1028,
          0.09309,
          0.07683,
          0.09579,
          0.1054,
          0.08306,
          0.08313,
          0.09462,
          0.1007,
          0.09751,
          0.08481,
          0.1033,
          0.115,
          0.09882,
          0.08386,
          0.08875,
          0.09076,
          0.1158,
          0.07561,
          0.07274,
          0.0876,
          0.1082,
          0.08743,
          0.08293,
          0.1009,
          0.07436,
          0.08582,
          0.09676,
          0.09686,
          0.07937,
          0.09231,
          0.07963,
          0.08302,
          0.0988,
          0.09073,
          0.07517,
          0.08268,
          0.1237,
          0.07987,
          0.06935,
          0.1042,
          0.08363,
          0.08108,
          0.07026,
          0.08365,
          0.09996,
          0.1039,
          0.1029,
          0.08045,
          0.1059,
          0.08044,
          0.07741,
          0.09087,
          0.08872,
          0.07351,
          0.09879,
          0.08682,
          0.1004,
          0.09495,
          0.07551,
          0.08685,
          0.08858,
          0.1077,
          0.07969,
          0.08515,
          0.09773,
          0.1044,
          0.08785,
          0.1018,
          0.08546,
          0.1031,
          0.1088,
          0.09057,
          0.1075,
          0.08117,
          0.09816,
          0.08801,
          0.08151,
          0.07896,
          0.1054,
          0.08924,
          0.09136,
          0.08458,
          0.08684,
          0.07966,
          0.08915,
          0.08817,
          0.08142,
          0.103,
          0.09179,
          0.08388,
          0.06613,
          0.08437,
          0.1099,
          0.08583,
          0.09245,
          0.09357,
          0.08791,
          0.08369,
          0.07984,
          0.06995,
          0.08508,
          0.07466,
          0.08284,
          0.08675,
          0.08311,
          0.1175,
          0.08946,
          0.08752,
          0.08098,
          0.07699,
          0.1007,
          0.0904,
          0.08931,
          0.06828,
          0.1046,
          0.09087,
          0.07991,
          0.1071,
          0.0995,
          0.1043,
          0.09514,
          0.08641,
          0.1128,
          0.08192,
          0.07838,
          0.07372,
          0.07335,
          0.09587,
          0.1076,
          0.08928,
          0.09883,
          0.1158,
          0.1634,
          0.1255,
          0.1096,
          0.1194,
          0.09427,
          0.08099,
          0.08472,
          0.09832,
          0.1049,
          0.1218,
          0.1125,
          0.1371,
          0.08511,
          0.09916,
          0.09492,
          0.1036,
          0.1075,
          0.09003,
          0.1248,
          0.11,
          0.1073,
          0.1016,
          0.09277,
          0.09687,
          0.1236,
          0.08098,
          0.08668,
          0.09984,
          0.08837,
          0.08275,
          0.08671,
          0.09578,
          0.09246,
          0.09434,
          0.08877,
          0.08491,
          0.08192,
          0.07431,
          0.09566,
          0.08276,
          0.0924,
          0.08123,
          0.0903,
          0.1003,
          0.08123,
          0.08473,
          0.09261,
          0.09929,
          0.07449,
          0.05263
         ],
         "yaxis": "y",
         "type": "scatter"
        },
        {
         "hovertemplate": "Malignant or Benign=M<br>Average Compactness of Tumor Cells=%{x}<br>Average Smoothness of Tumor Cells=%{y}<extra></extra>",
         "legendgroup": "M",
         "marker": {
          "color": "#EF553B",
          "symbol": "circle"
         },
         "mode": "markers",
         "name": "M",
         "orientation": "v",
         "showlegend": true,
         "x": [
          0.2776,
          0.07864,
          0.1599,
          0.2839,
          0.1328,
          0.17,
          0.109,
          0.1645,
          0.1932,
          0.2396,
          0.06669,
          0.1292,
          0.2458,
          0.1002,
          0.2293,
          0.1595,
          0.072,
          0.2022,
          0.1027,
          0.2135,
          0.1022,
          0.1457,
          0.2276,
          0.1868,
          0.1066,
          0.1697,
          0.1157,
          0.1887,
          0.1516,
          0.1496,
          0.1719,
          0.1559,
          0.1336,
          0.1098,
          0.05131,
          0.1255,
          0.06031,
          0.1218,
          0.219,
          0.1436,
          0.1047,
          0.1686,
          0.1231,
          0.1485,
          0.07081,
          0.1267,
          0.1365,
          0.2008,
          0.1262,
          0.1479,
          0.1029,
          0.183,
          0.128,
          0.08424,
          0.2146,
          0.3454,
          0.2665,
          0.1791,
          0.1053,
          0.09947,
          0.1206,
          0.1036,
          0.1553,
          0.1313,
          0.1141,
          0.08511,
          0.1765,
          0.2768,
          0.1649,
          0.1752,
          0.06722,
          0.11,
          0.2867,
          0.07862,
          0.08028,
          0.1589,
          0.1223,
          0.1284,
          0.09709,
          0.05761,
          0.1305,
          0.1137,
          0.17,
          0.1665,
          0.1185,
          0.1666,
          0.1145,
          0.09182,
          0.1603,
          0.06288,
          0.1555,
          0.1556,
          0.1914,
          0.2832,
          0.08799,
          0.1052,
          0.08468,
          0.2413,
          0.1353,
          0.198,
          0.1267,
          0.08642,
          0.1428,
          0.1206,
          0.1198,
          0.2084,
          0.1768,
          0.09588,
          0.07304,
          0.1348,
          0.1516,
          0.1146,
          0.1306,
          0.1517,
          0.1306,
          0.113,
          0.1204,
          0.1799,
          0.1572,
          0.1074,
          0.1682,
          0.08348,
          0.1298,
          0.1558,
          0.1606,
          0.1849,
          0.1041,
          0.1188,
          0.1279,
          0.2063,
          0.2284,
          0.3114,
          0.1639,
          0.1088,
          0.0629,
          0.1273,
          0.05616,
          0.08995,
          0.1143,
          0.1961,
          0.07027,
          0.05884,
          0.1453,
          0.1442,
          0.1802,
          0.05914,
          0.1642,
          0.1838,
          0.1117,
          0.08564,
          0.1875,
          0.1319,
          0.1283,
          0.1371,
          0.1056,
          0.1402,
          0.1283,
          0.1339,
          0.2364,
          0.2363,
          0.09769,
          0.1131,
          0.1669,
          0.08562,
          0.1954,
          0.1497,
          0.1515,
          0.1076,
          0.2154,
          0.06636,
          0.1318,
          0.1562,
          0.2087,
          0.2576,
          0.1304,
          0.04605,
          0.1571,
          0.2225,
          0.1489,
          0.1389,
          0.1133,
          0.1109,
          0.1232,
          0.1314,
          0.1175,
          0.09871,
          0.111,
          0.1988,
          0.2004,
          0.1893,
          0.1448,
          0.07112,
          0.1289,
          0.1317,
          0.1644,
          0.1681,
          0.1275,
          0.187,
          0.1469,
          0.08597,
          0.1248,
          0.131,
          0.2106,
          0.1313,
          0.1739,
          0.1154,
          0.2087,
          0.2236,
          0.1159,
          0.1034,
          0.1023,
          0.277
         ],
         "xaxis": "x",
         "y": [
          0.1184,
          0.08474,
          0.1096,
          0.1425,
          0.1003,
          0.1278,
          0.09463,
          0.1189,
          0.1273,
          0.1186,
          0.08206,
          0.0971,
          0.0974,
          0.08401,
          0.1131,
          0.1139,
          0.09867,
          0.117,
          0.09831,
          0.1073,
          0.09428,
          0.1121,
          0.1186,
          0.1054,
          0.0944,
          0.1082,
          0.09847,
          0.1064,
          0.1109,
          0.1197,
          0.09401,
          0.104,
          0.0961,
          0.09823,
          0.09387,
          0.1016,
          0.08162,
          0.1227,
          0.09081,
          0.1041,
          0.09714,
          0.1099,
          0.1158,
          0.1148,
          0.09056,
          0.1053,
          0.1137,
          0.1049,
          0.1122,
          0.1172,
          0.09009,
          0.1071,
          0.1007,
          0.09168,
          0.1065,
          0.1286,
          0.1063,
          0.1215,
          0.09874,
          0.09444,
          0.09029,
          0.092,
          0.1039,
          0.09078,
          0.09752,
          0.09488,
          0.1398,
          0.1326,
          0.1162,
          0.1155,
          0.08402,
          0.1054,
          0.1447,
          0.09258,
          0.08217,
          0.1015,
          0.1092,
          0.1008,
          0.0943,
          0.09055,
          0.1167,
          0.09721,
          0.1091,
          0.1115,
          0.08694,
          0.112,
          0.08439,
          0.08865,
          0.1049,
          0.09048,
          0.1257,
          0.09831,
          0.1094,
          0.1141,
          0.09597,
          0.09057,
          0.08588,
          0.1075,
          0.1034,
          0.1044,
          0.12,
          0.07371,
          0.08523,
          0.09872,
          0.08968,
          0.1141,
          0.1323,
          0.08876,
          0.08772,
          0.0909,
          0.1142,
          0.1006,
          0.09463,
          0.1026,
          0.09383,
          0.0842,
          0.1025,
          0.1088,
          0.1141,
          0.09159,
          0.09509,
          0.08355,
          0.09812,
          0.1027,
          0.1007,
          0.1062,
          0.1008,
          0.1035,
          0.1096,
          0.0926,
          0.1335,
          0.1109,
          0.1063,
          0.1,
          0.08662,
          0.08999,
          0.0784,
          0.09726,
          0.09469,
          0.09401,
          0.08855,
          0.08923,
          0.102,
          0.1037,
          0.1066,
          0.09968,
          0.115,
          0.108,
          0.09746,
          0.0802,
          0.117,
          0.1169,
          0.1165,
          0.09491,
          0.1119,
          0.09116,
          0.1069,
          0.09797,
          0.1243,
          0.1149,
          0.1024,
          0.0915,
          0.09905,
          0.09384,
          0.1063,
          0.09742,
          0.1001,
          0.09446,
          0.1216,
          0.08682,
          0.101,
          0.116,
          0.1167,
          0.123,
          0.1036,
          0.0832,
          0.112,
          0.09947,
          0.1133,
          0.1018,
          0.106,
          0.08331,
          0.08947,
          0.09997,
          0.09684,
          0.1032,
          0.09898,
          0.1084,
          0.09289,
          0.1026,
          0.1089,
          0.07497,
          0.1001,
          0.1012,
          0.1085,
          0.1162,
          0.09342,
          0.1183,
          0.1106,
          0.09215,
          0.1068,
          0.1037,
          0.103,
          0.09156,
          0.1046,
          0.1038,
          0.1048,
          0.1099,
          0.111,
          0.0978,
          0.08455,
          0.1178
         ],
         "yaxis": "y",
         "type": "scatter"
        }
       ],
       "layout": {
        "template": {
         "data": {
          "histogram2dcontour": [
           {
            "type": "histogram2dcontour",
            "colorbar": {
             "outlinewidth": 0,
             "ticks": ""
            },
            "colorscale": [
             [
              0.0,
              "#0d0887"
             ],
             [
              0.1111111111111111,
              "#46039f"
             ],
             [
              0.2222222222222222,
              "#7201a8"
             ],
             [
              0.3333333333333333,
              "#9c179e"
             ],
             [
              0.4444444444444444,
              "#bd3786"
             ],
             [
              0.5555555555555556,
              "#d8576b"
             ],
             [
              0.6666666666666666,
              "#ed7953"
             ],
             [
              0.7777777777777778,
              "#fb9f3a"
             ],
             [
              0.8888888888888888,
              "#fdca26"
             ],
             [
              1.0,
              "#f0f921"
             ]
            ]
           }
          ],
          "choropleth": [
           {
            "type": "choropleth",
            "colorbar": {
             "outlinewidth": 0,
             "ticks": ""
            }
           }
          ],
          "histogram2d": [
           {
            "type": "histogram2d",
            "colorbar": {
             "outlinewidth": 0,
             "ticks": ""
            },
            "colorscale": [
             [
              0.0,
              "#0d0887"
             ],
             [
              0.1111111111111111,
              "#46039f"
             ],
             [
              0.2222222222222222,
              "#7201a8"
             ],
             [
              0.3333333333333333,
              "#9c179e"
             ],
             [
              0.4444444444444444,
              "#bd3786"
             ],
             [
              0.5555555555555556,
              "#d8576b"
             ],
             [
              0.6666666666666666,
              "#ed7953"
             ],
             [
              0.7777777777777778,
              "#fb9f3a"
             ],
             [
              0.8888888888888888,
              "#fdca26"
             ],
             [
              1.0,
              "#f0f921"
             ]
            ]
           }
          ],
          "heatmap": [
           {
            "type": "heatmap",
            "colorbar": {
             "outlinewidth": 0,
             "ticks": ""
            },
            "colorscale": [
             [
              0.0,
              "#0d0887"
             ],
             [
              0.1111111111111111,
              "#46039f"
             ],
             [
              0.2222222222222222,
              "#7201a8"
             ],
             [
              0.3333333333333333,
              "#9c179e"
             ],
             [
              0.4444444444444444,
              "#bd3786"
             ],
             [
              0.5555555555555556,
              "#d8576b"
             ],
             [
              0.6666666666666666,
              "#ed7953"
             ],
             [
              0.7777777777777778,
              "#fb9f3a"
             ],
             [
              0.8888888888888888,
              "#fdca26"
             ],
             [
              1.0,
              "#f0f921"
             ]
            ]
           }
          ],
          "heatmapgl": [
           {
            "type": "heatmapgl",
            "colorbar": {
             "outlinewidth": 0,
             "ticks": ""
            },
            "colorscale": [
             [
              0.0,
              "#0d0887"
             ],
             [
              0.1111111111111111,
              "#46039f"
             ],
             [
              0.2222222222222222,
              "#7201a8"
             ],
             [
              0.3333333333333333,
              "#9c179e"
             ],
             [
              0.4444444444444444,
              "#bd3786"
             ],
             [
              0.5555555555555556,
              "#d8576b"
             ],
             [
              0.6666666666666666,
              "#ed7953"
             ],
             [
              0.7777777777777778,
              "#fb9f3a"
             ],
             [
              0.8888888888888888,
              "#fdca26"
             ],
             [
              1.0,
              "#f0f921"
             ]
            ]
           }
          ],
          "contourcarpet": [
           {
            "type": "contourcarpet",
            "colorbar": {
             "outlinewidth": 0,
             "ticks": ""
            }
           }
          ],
          "contour": [
           {
            "type": "contour",
            "colorbar": {
             "outlinewidth": 0,
             "ticks": ""
            },
            "colorscale": [
             [
              0.0,
              "#0d0887"
             ],
             [
              0.1111111111111111,
              "#46039f"
             ],
             [
              0.2222222222222222,
              "#7201a8"
             ],
             [
              0.3333333333333333,
              "#9c179e"
             ],
             [
              0.4444444444444444,
              "#bd3786"
             ],
             [
              0.5555555555555556,
              "#d8576b"
             ],
             [
              0.6666666666666666,
              "#ed7953"
             ],
             [
              0.7777777777777778,
              "#fb9f3a"
             ],
             [
              0.8888888888888888,
              "#fdca26"
             ],
             [
              1.0,
              "#f0f921"
             ]
            ]
           }
          ],
          "surface": [
           {
            "type": "surface",
            "colorbar": {
             "outlinewidth": 0,
             "ticks": ""
            },
            "colorscale": [
             [
              0.0,
              "#0d0887"
             ],
             [
              0.1111111111111111,
              "#46039f"
             ],
             [
              0.2222222222222222,
              "#7201a8"
             ],
             [
              0.3333333333333333,
              "#9c179e"
             ],
             [
              0.4444444444444444,
              "#bd3786"
             ],
             [
              0.5555555555555556,
              "#d8576b"
             ],
             [
              0.6666666666666666,
              "#ed7953"
             ],
             [
              0.7777777777777778,
              "#fb9f3a"
             ],
             [
              0.8888888888888888,
              "#fdca26"
             ],
             [
              1.0,
              "#f0f921"
             ]
            ]
           }
          ],
          "mesh3d": [
           {
            "type": "mesh3d",
            "colorbar": {
             "outlinewidth": 0,
             "ticks": ""
            }
           }
          ],
          "scatter": [
           {
            "fillpattern": {
             "fillmode": "overlay",
             "size": 10,
             "solidity": 0.2
            },
            "type": "scatter"
           }
          ],
          "parcoords": [
           {
            "type": "parcoords",
            "line": {
             "colorbar": {
              "outlinewidth": 0,
              "ticks": ""
             }
            }
           }
          ],
          "scatterpolargl": [
           {
            "type": "scatterpolargl",
            "marker": {
             "colorbar": {
              "outlinewidth": 0,
              "ticks": ""
             }
            }
           }
          ],
          "bar": [
           {
            "error_x": {
             "color": "#2a3f5f"
            },
            "error_y": {
             "color": "#2a3f5f"
            },
            "marker": {
             "line": {
              "color": "#E5ECF6",
              "width": 0.5
             },
             "pattern": {
              "fillmode": "overlay",
              "size": 10,
              "solidity": 0.2
             }
            },
            "type": "bar"
           }
          ],
          "scattergeo": [
           {
            "type": "scattergeo",
            "marker": {
             "colorbar": {
              "outlinewidth": 0,
              "ticks": ""
             }
            }
           }
          ],
          "scatterpolar": [
           {
            "type": "scatterpolar",
            "marker": {
             "colorbar": {
              "outlinewidth": 0,
              "ticks": ""
             }
            }
           }
          ],
          "histogram": [
           {
            "marker": {
             "pattern": {
              "fillmode": "overlay",
              "size": 10,
              "solidity": 0.2
             }
            },
            "type": "histogram"
           }
          ],
          "scattergl": [
           {
            "type": "scattergl",
            "marker": {
             "colorbar": {
              "outlinewidth": 0,
              "ticks": ""
             }
            }
           }
          ],
          "scatter3d": [
           {
            "type": "scatter3d",
            "line": {
             "colorbar": {
              "outlinewidth": 0,
              "ticks": ""
             }
            },
            "marker": {
             "colorbar": {
              "outlinewidth": 0,
              "ticks": ""
             }
            }
           }
          ],
          "scattermapbox": [
           {
            "type": "scattermapbox",
            "marker": {
             "colorbar": {
              "outlinewidth": 0,
              "ticks": ""
             }
            }
           }
          ],
          "scatterternary": [
           {
            "type": "scatterternary",
            "marker": {
             "colorbar": {
              "outlinewidth": 0,
              "ticks": ""
             }
            }
           }
          ],
          "scattercarpet": [
           {
            "type": "scattercarpet",
            "marker": {
             "colorbar": {
              "outlinewidth": 0,
              "ticks": ""
             }
            }
           }
          ],
          "carpet": [
           {
            "aaxis": {
             "endlinecolor": "#2a3f5f",
             "gridcolor": "white",
             "linecolor": "white",
             "minorgridcolor": "white",
             "startlinecolor": "#2a3f5f"
            },
            "baxis": {
             "endlinecolor": "#2a3f5f",
             "gridcolor": "white",
             "linecolor": "white",
             "minorgridcolor": "white",
             "startlinecolor": "#2a3f5f"
            },
            "type": "carpet"
           }
          ],
          "table": [
           {
            "cells": {
             "fill": {
              "color": "#EBF0F8"
             },
             "line": {
              "color": "white"
             }
            },
            "header": {
             "fill": {
              "color": "#C8D4E3"
             },
             "line": {
              "color": "white"
             }
            },
            "type": "table"
           }
          ],
          "barpolar": [
           {
            "marker": {
             "line": {
              "color": "#E5ECF6",
              "width": 0.5
             },
             "pattern": {
              "fillmode": "overlay",
              "size": 10,
              "solidity": 0.2
             }
            },
            "type": "barpolar"
           }
          ],
          "pie": [
           {
            "automargin": true,
            "type": "pie"
           }
          ]
         },
         "layout": {
          "autotypenumbers": "strict",
          "colorway": [
           "#636efa",
           "#EF553B",
           "#00cc96",
           "#ab63fa",
           "#FFA15A",
           "#19d3f3",
           "#FF6692",
           "#B6E880",
           "#FF97FF",
           "#FECB52"
          ],
          "font": {
           "color": "#2a3f5f"
          },
          "hovermode": "closest",
          "hoverlabel": {
           "align": "left"
          },
          "paper_bgcolor": "white",
          "plot_bgcolor": "#E5ECF6",
          "polar": {
           "bgcolor": "#E5ECF6",
           "angularaxis": {
            "gridcolor": "white",
            "linecolor": "white",
            "ticks": ""
           },
           "radialaxis": {
            "gridcolor": "white",
            "linecolor": "white",
            "ticks": ""
           }
          },
          "ternary": {
           "bgcolor": "#E5ECF6",
           "aaxis": {
            "gridcolor": "white",
            "linecolor": "white",
            "ticks": ""
           },
           "baxis": {
            "gridcolor": "white",
            "linecolor": "white",
            "ticks": ""
           },
           "caxis": {
            "gridcolor": "white",
            "linecolor": "white",
            "ticks": ""
           }
          },
          "coloraxis": {
           "colorbar": {
            "outlinewidth": 0,
            "ticks": ""
           }
          },
          "colorscale": {
           "sequential": [
            [
             0.0,
             "#0d0887"
            ],
            [
             0.1111111111111111,
             "#46039f"
            ],
            [
             0.2222222222222222,
             "#7201a8"
            ],
            [
             0.3333333333333333,
             "#9c179e"
            ],
            [
             0.4444444444444444,
             "#bd3786"
            ],
            [
             0.5555555555555556,
             "#d8576b"
            ],
            [
             0.6666666666666666,
             "#ed7953"
            ],
            [
             0.7777777777777778,
             "#fb9f3a"
            ],
            [
             0.8888888888888888,
             "#fdca26"
            ],
            [
             1.0,
             "#f0f921"
            ]
           ],
           "sequentialminus": [
            [
             0.0,
             "#0d0887"
            ],
            [
             0.1111111111111111,
             "#46039f"
            ],
            [
             0.2222222222222222,
             "#7201a8"
            ],
            [
             0.3333333333333333,
             "#9c179e"
            ],
            [
             0.4444444444444444,
             "#bd3786"
            ],
            [
             0.5555555555555556,
             "#d8576b"
            ],
            [
             0.6666666666666666,
             "#ed7953"
            ],
            [
             0.7777777777777778,
             "#fb9f3a"
            ],
            [
             0.8888888888888888,
             "#fdca26"
            ],
            [
             1.0,
             "#f0f921"
            ]
           ],
           "diverging": [
            [
             0,
             "#8e0152"
            ],
            [
             0.1,
             "#c51b7d"
            ],
            [
             0.2,
             "#de77ae"
            ],
            [
             0.3,
             "#f1b6da"
            ],
            [
             0.4,
             "#fde0ef"
            ],
            [
             0.5,
             "#f7f7f7"
            ],
            [
             0.6,
             "#e6f5d0"
            ],
            [
             0.7,
             "#b8e186"
            ],
            [
             0.8,
             "#7fbc41"
            ],
            [
             0.9,
             "#4d9221"
            ],
            [
             1,
             "#276419"
            ]
           ]
          },
          "xaxis": {
           "gridcolor": "white",
           "linecolor": "white",
           "ticks": "",
           "title": {
            "standoff": 15
           },
           "zerolinecolor": "white",
           "automargin": true,
           "zerolinewidth": 2
          },
          "yaxis": {
           "gridcolor": "white",
           "linecolor": "white",
           "ticks": "",
           "title": {
            "standoff": 15
           },
           "zerolinecolor": "white",
           "automargin": true,
           "zerolinewidth": 2
          },
          "scene": {
           "xaxis": {
            "backgroundcolor": "#E5ECF6",
            "gridcolor": "white",
            "linecolor": "white",
            "showbackground": true,
            "ticks": "",
            "zerolinecolor": "white",
            "gridwidth": 2
           },
           "yaxis": {
            "backgroundcolor": "#E5ECF6",
            "gridcolor": "white",
            "linecolor": "white",
            "showbackground": true,
            "ticks": "",
            "zerolinecolor": "white",
            "gridwidth": 2
           },
           "zaxis": {
            "backgroundcolor": "#E5ECF6",
            "gridcolor": "white",
            "linecolor": "white",
            "showbackground": true,
            "ticks": "",
            "zerolinecolor": "white",
            "gridwidth": 2
           }
          },
          "shapedefaults": {
           "line": {
            "color": "#2a3f5f"
           }
          },
          "annotationdefaults": {
           "arrowcolor": "#2a3f5f",
           "arrowhead": 0,
           "arrowwidth": 1
          },
          "geo": {
           "bgcolor": "white",
           "landcolor": "#E5ECF6",
           "subunitcolor": "white",
           "showland": true,
           "showlakes": true,
           "lakecolor": "white"
          },
          "title": {
           "x": 0.05
          },
          "mapbox": {
           "style": "light"
          }
         }
        },
        "xaxis": {
         "anchor": "y",
         "domain": [
          0.0,
          1.0
         ],
         "title": {
          "text": "Average Compactness of Tumor Cells"
         }
        },
        "yaxis": {
         "anchor": "x",
         "domain": [
          0.0,
          1.0
         ],
         "title": {
          "text": "Average Smoothness of Tumor Cells"
         }
        },
        "legend": {
         "title": {
          "text": "Malignant or Benign"
         },
         "tracegroupgap": 0
        },
        "title": {
         "text": "Compactness and Smoothness of Tumor cells with Breast Cancer"
        },
        "height": 800,
        "width": 1000
       },
       "config": {
        "plotlyServerURL": "https://plot.ly"
       }
      },
      "text/html": "<div>                            <div id=\"dfc57409-ca9a-400e-8b5a-e97b4894d0fe\" class=\"plotly-graph-div\" style=\"height:800px; width:1000px;\"></div>            <script type=\"text/javascript\">                require([\"plotly\"], function(Plotly) {                    window.PLOTLYENV=window.PLOTLYENV || {};                                    if (document.getElementById(\"dfc57409-ca9a-400e-8b5a-e97b4894d0fe\")) {                    Plotly.newPlot(                        \"dfc57409-ca9a-400e-8b5a-e97b4894d0fe\",                        [{\"hovertemplate\":\"Malignant or Benign=B\\u003cbr\\u003eAverage Compactness of Tumor Cells=%{x}\\u003cbr\\u003eAverage Smoothness of Tumor Cells=%{y}\\u003cextra\\u003e\\u003c\\u002fextra\\u003e\",\"legendgroup\":\"B\",\"marker\":{\"color\":\"#636efa\",\"symbol\":\"circle\"},\"mode\":\"markers\",\"name\":\"B\",\"orientation\":\"v\",\"showlegend\":true,\"x\":[0.08129,0.127,0.06492,0.03766,0.05943,0.09092,0.07698,0.04966,0.06059,0.04751,0.05473,0.03789,0.05272,0.08061,0.08963,0.08751,0.07773,0.04701,0.1413,0.05234,0.1531,0.06829,0.1047,0.09546,0.09362,0.1535,0.07165,0.09445,0.1339,0.08606,0.05055,0.08165,0.07057,0.05301,0.07525,0.07568,0.04038,0.09697,0.08578,0.1017,0.06815,0.06575,0.08404,0.1209,0.2233,0.1303,0.08201,0.07849,0.1243,0.06685,0.1099,0.07325,0.06136,0.1807,0.09509,0.09462,0.06095,0.06889,0.1136,0.04102,0.09486,0.09509,0.05139,0.1296,0.1167,0.1021,0.06376,0.07589,0.1305,0.1599,0.05113,0.08498,0.06679,0.07223,0.05241,0.03718,0.1141,0.1015,0.05352,0.05736,0.07885,0.06981,0.05743,0.04302,0.04276,0.1294,0.01938,0.03774,0.08155,0.04695,0.06141,0.05562,0.07253,0.06601,0.02344,0.05366,0.08087,0.1058,0.07232,0.1483,0.0623,0.069,0.1154,0.05907,0.08711,0.1192,0.08502,0.04994,0.07624,0.07722,0.1096,0.07529,0.03813,0.03574,0.04087,0.06945,0.1039,0.0663,0.03393,0.1325,0.06807,0.05971,0.04524,0.1346,0.07234,0.07808,0.05991,0.1147,0.08259,0.06219,0.1289,0.02675,0.07608,0.04689,0.0721,0.03872,0.04052,0.07688,0.0434,0.0958,0.04216,0.1011,0.03729,0.1181,0.05008,0.1676,0.09823,0.07943,0.05642,0.08393,0.06221,0.04721,0.0522,0.06797,0.1014,0.06678,0.07694,0.05688,0.05251,0.03116,0.03614,0.03735,0.05253,0.03515,0.07948,0.05969,0.05847,0.03834,0.03212,0.1972,0.03454,0.1111,0.08834,0.06545,0.07664,0.05306,0.03892,0.1125,0.06779,0.04458,0.04202,0.09965,0.07326,0.1139,0.09228,0.09097,0.07281,0.09159,0.05794,0.0778,0.05886,0.1206,0.0363,0.06064,0.1038,0.1304,0.05492,0.07698,0.05956,0.0265,0.06373,0.07952,0.08468,0.05696,0.07175,0.06934,0.06374,0.1438,0.166,0.04726,0.07548,0.1111,0.07079,0.1073,0.1297,0.08575,0.07823,0.04831,0.1114,0.07542,0.07428,0.09758,0.05361,0.1147,0.08895,0.04768,0.06232,0.05242,0.07899,0.08836,0.04571,0.0746,0.08501,0.08316,0.06526,0.05313,0.07804,0.06053,0.1025,0.0812,0.06159,0.05794,0.05978,0.07722,0.1836,0.1168,0.1147,0.08333,0.03912,0.1013,0.05743,0.03834,0.04522,0.1316,0.07074,0.07883,0.05895,0.0633,0.05581,0.1113,0.06718,0.04462,0.09218,0.0889,0.078,0.1064,0.0645,0.09242,0.0543,0.07426,0.08574,0.05205,0.05073,0.04626,0.05223,0.05855,0.05994,0.1223,0.1089,0.05428,0.1483,0.06258,0.06,0.08549,0.03398,0.1069,0.08269,0.1108,0.05319,0.08228,0.07838,0.05326,0.1155,0.07957,0.1299,0.1511,0.06698,0.09263,0.052,0.06217,0.04043,0.05275,0.08345,0.1334,0.0763,0.1364,0.1085,0.2239,0.2204,0.1152,0.1071,0.06712,0.09661,0.05016,0.08918,0.08499,0.1661,0.1117,0.1225,0.04413,0.107,0.08419,0.07632,0.1138,0.06307,0.09755,0.09009,0.09713,0.09453,0.07255,0.09752,0.1552,0.04878,0.1199,0.112,0.123,0.07214,0.06877,0.1018,0.06747,0.04994,0.08066,0.0503,0.06602,0.04227,0.08194,0.04234,0.05605,0.05824,0.07658,0.07504,0.04971,0.133,0.1021,0.1126,0.03558,0.04362],\"xaxis\":\"x\",\"y\":[0.09779,0.1075,0.1024,0.08983,0.086,0.1031,0.08752,0.08637,0.07685,0.08261,0.09524,0.0806,0.09752,0.1134,0.1243,0.07721,0.1044,0.08139,0.1066,0.09831,0.09783,0.09172,0.1291,0.09934,0.1102,0.1078,0.09723,0.08772,0.1132,0.08974,0.07355,0.1022,0.1045,0.1024,0.08983,0.117,0.08013,0.1005,0.09989,0.1142,0.08477,0.08759,0.1037,0.09933,0.07837,0.1122,0.115,0.09768,0.09462,0.09373,0.1101,0.07115,0.08785,0.115,0.1066,0.09462,0.1051,0.09639,0.1164,0.0925,0.1092,0.08677,0.07793,0.1152,0.08138,0.0997,0.07944,0.1135,0.09405,0.1072,0.09754,0.09384,0.08654,0.07445,0.09311,0.07515,0.1089,0.1012,0.08421,0.09594,0.09855,0.1028,0.1006,0.08792,0.09138,0.09699,0.06251,0.08739,0.09059,0.09267,0.09774,0.1007,0.0808,0.08749,0.0695,0.07941,0.09586,0.09965,0.1089,0.1002,0.08182,0.08871,0.09363,0.08054,0.09646,0.1051,0.1061,0.08445,0.09906,0.1053,0.08371,0.07903,0.06883,0.0778,0.08464,0.0907,0.08223,0.09423,0.07926,0.09592,0.08043,0.107,0.07215,0.0876,0.09657,0.1013,0.09345,0.09688,0.07956,0.09425,0.1082,0.06429,0.09834,0.09037,0.1225,0.09379,0.07948,0.09516,0.07813,0.07818,0.08393,0.08605,0.06955,0.0802,0.08713,0.08757,0.08992,0.1005,0.08372,0.09667,0.09198,0.08518,0.06576,0.1015,0.08451,0.1068,0.08853,0.07474,0.08511,0.07005,0.07376,0.08352,0.08814,0.07618,0.08794,0.08597,0.1074,0.08511,0.07734,0.09968,0.07557,0.1061,0.1134,0.08673,0.1028,0.09309,0.07683,0.09579,0.1054,0.08306,0.08313,0.09462,0.1007,0.09751,0.08481,0.1033,0.115,0.09882,0.08386,0.08875,0.09076,0.1158,0.07561,0.07274,0.0876,0.1082,0.08743,0.08293,0.1009,0.07436,0.08582,0.09676,0.09686,0.07937,0.09231,0.07963,0.08302,0.0988,0.09073,0.07517,0.08268,0.1237,0.07987,0.06935,0.1042,0.08363,0.08108,0.07026,0.08365,0.09996,0.1039,0.1029,0.08045,0.1059,0.08044,0.07741,0.09087,0.08872,0.07351,0.09879,0.08682,0.1004,0.09495,0.07551,0.08685,0.08858,0.1077,0.07969,0.08515,0.09773,0.1044,0.08785,0.1018,0.08546,0.1031,0.1088,0.09057,0.1075,0.08117,0.09816,0.08801,0.08151,0.07896,0.1054,0.08924,0.09136,0.08458,0.08684,0.07966,0.08915,0.08817,0.08142,0.103,0.09179,0.08388,0.06613,0.08437,0.1099,0.08583,0.09245,0.09357,0.08791,0.08369,0.07984,0.06995,0.08508,0.07466,0.08284,0.08675,0.08311,0.1175,0.08946,0.08752,0.08098,0.07699,0.1007,0.0904,0.08931,0.06828,0.1046,0.09087,0.07991,0.1071,0.0995,0.1043,0.09514,0.08641,0.1128,0.08192,0.07838,0.07372,0.07335,0.09587,0.1076,0.08928,0.09883,0.1158,0.1634,0.1255,0.1096,0.1194,0.09427,0.08099,0.08472,0.09832,0.1049,0.1218,0.1125,0.1371,0.08511,0.09916,0.09492,0.1036,0.1075,0.09003,0.1248,0.11,0.1073,0.1016,0.09277,0.09687,0.1236,0.08098,0.08668,0.09984,0.08837,0.08275,0.08671,0.09578,0.09246,0.09434,0.08877,0.08491,0.08192,0.07431,0.09566,0.08276,0.0924,0.08123,0.0903,0.1003,0.08123,0.08473,0.09261,0.09929,0.07449,0.05263],\"yaxis\":\"y\",\"type\":\"scatter\"},{\"hovertemplate\":\"Malignant or Benign=M\\u003cbr\\u003eAverage Compactness of Tumor Cells=%{x}\\u003cbr\\u003eAverage Smoothness of Tumor Cells=%{y}\\u003cextra\\u003e\\u003c\\u002fextra\\u003e\",\"legendgroup\":\"M\",\"marker\":{\"color\":\"#EF553B\",\"symbol\":\"circle\"},\"mode\":\"markers\",\"name\":\"M\",\"orientation\":\"v\",\"showlegend\":true,\"x\":[0.2776,0.07864,0.1599,0.2839,0.1328,0.17,0.109,0.1645,0.1932,0.2396,0.06669,0.1292,0.2458,0.1002,0.2293,0.1595,0.072,0.2022,0.1027,0.2135,0.1022,0.1457,0.2276,0.1868,0.1066,0.1697,0.1157,0.1887,0.1516,0.1496,0.1719,0.1559,0.1336,0.1098,0.05131,0.1255,0.06031,0.1218,0.219,0.1436,0.1047,0.1686,0.1231,0.1485,0.07081,0.1267,0.1365,0.2008,0.1262,0.1479,0.1029,0.183,0.128,0.08424,0.2146,0.3454,0.2665,0.1791,0.1053,0.09947,0.1206,0.1036,0.1553,0.1313,0.1141,0.08511,0.1765,0.2768,0.1649,0.1752,0.06722,0.11,0.2867,0.07862,0.08028,0.1589,0.1223,0.1284,0.09709,0.05761,0.1305,0.1137,0.17,0.1665,0.1185,0.1666,0.1145,0.09182,0.1603,0.06288,0.1555,0.1556,0.1914,0.2832,0.08799,0.1052,0.08468,0.2413,0.1353,0.198,0.1267,0.08642,0.1428,0.1206,0.1198,0.2084,0.1768,0.09588,0.07304,0.1348,0.1516,0.1146,0.1306,0.1517,0.1306,0.113,0.1204,0.1799,0.1572,0.1074,0.1682,0.08348,0.1298,0.1558,0.1606,0.1849,0.1041,0.1188,0.1279,0.2063,0.2284,0.3114,0.1639,0.1088,0.0629,0.1273,0.05616,0.08995,0.1143,0.1961,0.07027,0.05884,0.1453,0.1442,0.1802,0.05914,0.1642,0.1838,0.1117,0.08564,0.1875,0.1319,0.1283,0.1371,0.1056,0.1402,0.1283,0.1339,0.2364,0.2363,0.09769,0.1131,0.1669,0.08562,0.1954,0.1497,0.1515,0.1076,0.2154,0.06636,0.1318,0.1562,0.2087,0.2576,0.1304,0.04605,0.1571,0.2225,0.1489,0.1389,0.1133,0.1109,0.1232,0.1314,0.1175,0.09871,0.111,0.1988,0.2004,0.1893,0.1448,0.07112,0.1289,0.1317,0.1644,0.1681,0.1275,0.187,0.1469,0.08597,0.1248,0.131,0.2106,0.1313,0.1739,0.1154,0.2087,0.2236,0.1159,0.1034,0.1023,0.277],\"xaxis\":\"x\",\"y\":[0.1184,0.08474,0.1096,0.1425,0.1003,0.1278,0.09463,0.1189,0.1273,0.1186,0.08206,0.0971,0.0974,0.08401,0.1131,0.1139,0.09867,0.117,0.09831,0.1073,0.09428,0.1121,0.1186,0.1054,0.0944,0.1082,0.09847,0.1064,0.1109,0.1197,0.09401,0.104,0.0961,0.09823,0.09387,0.1016,0.08162,0.1227,0.09081,0.1041,0.09714,0.1099,0.1158,0.1148,0.09056,0.1053,0.1137,0.1049,0.1122,0.1172,0.09009,0.1071,0.1007,0.09168,0.1065,0.1286,0.1063,0.1215,0.09874,0.09444,0.09029,0.092,0.1039,0.09078,0.09752,0.09488,0.1398,0.1326,0.1162,0.1155,0.08402,0.1054,0.1447,0.09258,0.08217,0.1015,0.1092,0.1008,0.0943,0.09055,0.1167,0.09721,0.1091,0.1115,0.08694,0.112,0.08439,0.08865,0.1049,0.09048,0.1257,0.09831,0.1094,0.1141,0.09597,0.09057,0.08588,0.1075,0.1034,0.1044,0.12,0.07371,0.08523,0.09872,0.08968,0.1141,0.1323,0.08876,0.08772,0.0909,0.1142,0.1006,0.09463,0.1026,0.09383,0.0842,0.1025,0.1088,0.1141,0.09159,0.09509,0.08355,0.09812,0.1027,0.1007,0.1062,0.1008,0.1035,0.1096,0.0926,0.1335,0.1109,0.1063,0.1,0.08662,0.08999,0.0784,0.09726,0.09469,0.09401,0.08855,0.08923,0.102,0.1037,0.1066,0.09968,0.115,0.108,0.09746,0.0802,0.117,0.1169,0.1165,0.09491,0.1119,0.09116,0.1069,0.09797,0.1243,0.1149,0.1024,0.0915,0.09905,0.09384,0.1063,0.09742,0.1001,0.09446,0.1216,0.08682,0.101,0.116,0.1167,0.123,0.1036,0.0832,0.112,0.09947,0.1133,0.1018,0.106,0.08331,0.08947,0.09997,0.09684,0.1032,0.09898,0.1084,0.09289,0.1026,0.1089,0.07497,0.1001,0.1012,0.1085,0.1162,0.09342,0.1183,0.1106,0.09215,0.1068,0.1037,0.103,0.09156,0.1046,0.1038,0.1048,0.1099,0.111,0.0978,0.08455,0.1178],\"yaxis\":\"y\",\"type\":\"scatter\"}],                        {\"template\":{\"data\":{\"histogram2dcontour\":[{\"type\":\"histogram2dcontour\",\"colorbar\":{\"outlinewidth\":0,\"ticks\":\"\"},\"colorscale\":[[0.0,\"#0d0887\"],[0.1111111111111111,\"#46039f\"],[0.2222222222222222,\"#7201a8\"],[0.3333333333333333,\"#9c179e\"],[0.4444444444444444,\"#bd3786\"],[0.5555555555555556,\"#d8576b\"],[0.6666666666666666,\"#ed7953\"],[0.7777777777777778,\"#fb9f3a\"],[0.8888888888888888,\"#fdca26\"],[1.0,\"#f0f921\"]]}],\"choropleth\":[{\"type\":\"choropleth\",\"colorbar\":{\"outlinewidth\":0,\"ticks\":\"\"}}],\"histogram2d\":[{\"type\":\"histogram2d\",\"colorbar\":{\"outlinewidth\":0,\"ticks\":\"\"},\"colorscale\":[[0.0,\"#0d0887\"],[0.1111111111111111,\"#46039f\"],[0.2222222222222222,\"#7201a8\"],[0.3333333333333333,\"#9c179e\"],[0.4444444444444444,\"#bd3786\"],[0.5555555555555556,\"#d8576b\"],[0.6666666666666666,\"#ed7953\"],[0.7777777777777778,\"#fb9f3a\"],[0.8888888888888888,\"#fdca26\"],[1.0,\"#f0f921\"]]}],\"heatmap\":[{\"type\":\"heatmap\",\"colorbar\":{\"outlinewidth\":0,\"ticks\":\"\"},\"colorscale\":[[0.0,\"#0d0887\"],[0.1111111111111111,\"#46039f\"],[0.2222222222222222,\"#7201a8\"],[0.3333333333333333,\"#9c179e\"],[0.4444444444444444,\"#bd3786\"],[0.5555555555555556,\"#d8576b\"],[0.6666666666666666,\"#ed7953\"],[0.7777777777777778,\"#fb9f3a\"],[0.8888888888888888,\"#fdca26\"],[1.0,\"#f0f921\"]]}],\"heatmapgl\":[{\"type\":\"heatmapgl\",\"colorbar\":{\"outlinewidth\":0,\"ticks\":\"\"},\"colorscale\":[[0.0,\"#0d0887\"],[0.1111111111111111,\"#46039f\"],[0.2222222222222222,\"#7201a8\"],[0.3333333333333333,\"#9c179e\"],[0.4444444444444444,\"#bd3786\"],[0.5555555555555556,\"#d8576b\"],[0.6666666666666666,\"#ed7953\"],[0.7777777777777778,\"#fb9f3a\"],[0.8888888888888888,\"#fdca26\"],[1.0,\"#f0f921\"]]}],\"contourcarpet\":[{\"type\":\"contourcarpet\",\"colorbar\":{\"outlinewidth\":0,\"ticks\":\"\"}}],\"contour\":[{\"type\":\"contour\",\"colorbar\":{\"outlinewidth\":0,\"ticks\":\"\"},\"colorscale\":[[0.0,\"#0d0887\"],[0.1111111111111111,\"#46039f\"],[0.2222222222222222,\"#7201a8\"],[0.3333333333333333,\"#9c179e\"],[0.4444444444444444,\"#bd3786\"],[0.5555555555555556,\"#d8576b\"],[0.6666666666666666,\"#ed7953\"],[0.7777777777777778,\"#fb9f3a\"],[0.8888888888888888,\"#fdca26\"],[1.0,\"#f0f921\"]]}],\"surface\":[{\"type\":\"surface\",\"colorbar\":{\"outlinewidth\":0,\"ticks\":\"\"},\"colorscale\":[[0.0,\"#0d0887\"],[0.1111111111111111,\"#46039f\"],[0.2222222222222222,\"#7201a8\"],[0.3333333333333333,\"#9c179e\"],[0.4444444444444444,\"#bd3786\"],[0.5555555555555556,\"#d8576b\"],[0.6666666666666666,\"#ed7953\"],[0.7777777777777778,\"#fb9f3a\"],[0.8888888888888888,\"#fdca26\"],[1.0,\"#f0f921\"]]}],\"mesh3d\":[{\"type\":\"mesh3d\",\"colorbar\":{\"outlinewidth\":0,\"ticks\":\"\"}}],\"scatter\":[{\"fillpattern\":{\"fillmode\":\"overlay\",\"size\":10,\"solidity\":0.2},\"type\":\"scatter\"}],\"parcoords\":[{\"type\":\"parcoords\",\"line\":{\"colorbar\":{\"outlinewidth\":0,\"ticks\":\"\"}}}],\"scatterpolargl\":[{\"type\":\"scatterpolargl\",\"marker\":{\"colorbar\":{\"outlinewidth\":0,\"ticks\":\"\"}}}],\"bar\":[{\"error_x\":{\"color\":\"#2a3f5f\"},\"error_y\":{\"color\":\"#2a3f5f\"},\"marker\":{\"line\":{\"color\":\"#E5ECF6\",\"width\":0.5},\"pattern\":{\"fillmode\":\"overlay\",\"size\":10,\"solidity\":0.2}},\"type\":\"bar\"}],\"scattergeo\":[{\"type\":\"scattergeo\",\"marker\":{\"colorbar\":{\"outlinewidth\":0,\"ticks\":\"\"}}}],\"scatterpolar\":[{\"type\":\"scatterpolar\",\"marker\":{\"colorbar\":{\"outlinewidth\":0,\"ticks\":\"\"}}}],\"histogram\":[{\"marker\":{\"pattern\":{\"fillmode\":\"overlay\",\"size\":10,\"solidity\":0.2}},\"type\":\"histogram\"}],\"scattergl\":[{\"type\":\"scattergl\",\"marker\":{\"colorbar\":{\"outlinewidth\":0,\"ticks\":\"\"}}}],\"scatter3d\":[{\"type\":\"scatter3d\",\"line\":{\"colorbar\":{\"outlinewidth\":0,\"ticks\":\"\"}},\"marker\":{\"colorbar\":{\"outlinewidth\":0,\"ticks\":\"\"}}}],\"scattermapbox\":[{\"type\":\"scattermapbox\",\"marker\":{\"colorbar\":{\"outlinewidth\":0,\"ticks\":\"\"}}}],\"scatterternary\":[{\"type\":\"scatterternary\",\"marker\":{\"colorbar\":{\"outlinewidth\":0,\"ticks\":\"\"}}}],\"scattercarpet\":[{\"type\":\"scattercarpet\",\"marker\":{\"colorbar\":{\"outlinewidth\":0,\"ticks\":\"\"}}}],\"carpet\":[{\"aaxis\":{\"endlinecolor\":\"#2a3f5f\",\"gridcolor\":\"white\",\"linecolor\":\"white\",\"minorgridcolor\":\"white\",\"startlinecolor\":\"#2a3f5f\"},\"baxis\":{\"endlinecolor\":\"#2a3f5f\",\"gridcolor\":\"white\",\"linecolor\":\"white\",\"minorgridcolor\":\"white\",\"startlinecolor\":\"#2a3f5f\"},\"type\":\"carpet\"}],\"table\":[{\"cells\":{\"fill\":{\"color\":\"#EBF0F8\"},\"line\":{\"color\":\"white\"}},\"header\":{\"fill\":{\"color\":\"#C8D4E3\"},\"line\":{\"color\":\"white\"}},\"type\":\"table\"}],\"barpolar\":[{\"marker\":{\"line\":{\"color\":\"#E5ECF6\",\"width\":0.5},\"pattern\":{\"fillmode\":\"overlay\",\"size\":10,\"solidity\":0.2}},\"type\":\"barpolar\"}],\"pie\":[{\"automargin\":true,\"type\":\"pie\"}]},\"layout\":{\"autotypenumbers\":\"strict\",\"colorway\":[\"#636efa\",\"#EF553B\",\"#00cc96\",\"#ab63fa\",\"#FFA15A\",\"#19d3f3\",\"#FF6692\",\"#B6E880\",\"#FF97FF\",\"#FECB52\"],\"font\":{\"color\":\"#2a3f5f\"},\"hovermode\":\"closest\",\"hoverlabel\":{\"align\":\"left\"},\"paper_bgcolor\":\"white\",\"plot_bgcolor\":\"#E5ECF6\",\"polar\":{\"bgcolor\":\"#E5ECF6\",\"angularaxis\":{\"gridcolor\":\"white\",\"linecolor\":\"white\",\"ticks\":\"\"},\"radialaxis\":{\"gridcolor\":\"white\",\"linecolor\":\"white\",\"ticks\":\"\"}},\"ternary\":{\"bgcolor\":\"#E5ECF6\",\"aaxis\":{\"gridcolor\":\"white\",\"linecolor\":\"white\",\"ticks\":\"\"},\"baxis\":{\"gridcolor\":\"white\",\"linecolor\":\"white\",\"ticks\":\"\"},\"caxis\":{\"gridcolor\":\"white\",\"linecolor\":\"white\",\"ticks\":\"\"}},\"coloraxis\":{\"colorbar\":{\"outlinewidth\":0,\"ticks\":\"\"}},\"colorscale\":{\"sequential\":[[0.0,\"#0d0887\"],[0.1111111111111111,\"#46039f\"],[0.2222222222222222,\"#7201a8\"],[0.3333333333333333,\"#9c179e\"],[0.4444444444444444,\"#bd3786\"],[0.5555555555555556,\"#d8576b\"],[0.6666666666666666,\"#ed7953\"],[0.7777777777777778,\"#fb9f3a\"],[0.8888888888888888,\"#fdca26\"],[1.0,\"#f0f921\"]],\"sequentialminus\":[[0.0,\"#0d0887\"],[0.1111111111111111,\"#46039f\"],[0.2222222222222222,\"#7201a8\"],[0.3333333333333333,\"#9c179e\"],[0.4444444444444444,\"#bd3786\"],[0.5555555555555556,\"#d8576b\"],[0.6666666666666666,\"#ed7953\"],[0.7777777777777778,\"#fb9f3a\"],[0.8888888888888888,\"#fdca26\"],[1.0,\"#f0f921\"]],\"diverging\":[[0,\"#8e0152\"],[0.1,\"#c51b7d\"],[0.2,\"#de77ae\"],[0.3,\"#f1b6da\"],[0.4,\"#fde0ef\"],[0.5,\"#f7f7f7\"],[0.6,\"#e6f5d0\"],[0.7,\"#b8e186\"],[0.8,\"#7fbc41\"],[0.9,\"#4d9221\"],[1,\"#276419\"]]},\"xaxis\":{\"gridcolor\":\"white\",\"linecolor\":\"white\",\"ticks\":\"\",\"title\":{\"standoff\":15},\"zerolinecolor\":\"white\",\"automargin\":true,\"zerolinewidth\":2},\"yaxis\":{\"gridcolor\":\"white\",\"linecolor\":\"white\",\"ticks\":\"\",\"title\":{\"standoff\":15},\"zerolinecolor\":\"white\",\"automargin\":true,\"zerolinewidth\":2},\"scene\":{\"xaxis\":{\"backgroundcolor\":\"#E5ECF6\",\"gridcolor\":\"white\",\"linecolor\":\"white\",\"showbackground\":true,\"ticks\":\"\",\"zerolinecolor\":\"white\",\"gridwidth\":2},\"yaxis\":{\"backgroundcolor\":\"#E5ECF6\",\"gridcolor\":\"white\",\"linecolor\":\"white\",\"showbackground\":true,\"ticks\":\"\",\"zerolinecolor\":\"white\",\"gridwidth\":2},\"zaxis\":{\"backgroundcolor\":\"#E5ECF6\",\"gridcolor\":\"white\",\"linecolor\":\"white\",\"showbackground\":true,\"ticks\":\"\",\"zerolinecolor\":\"white\",\"gridwidth\":2}},\"shapedefaults\":{\"line\":{\"color\":\"#2a3f5f\"}},\"annotationdefaults\":{\"arrowcolor\":\"#2a3f5f\",\"arrowhead\":0,\"arrowwidth\":1},\"geo\":{\"bgcolor\":\"white\",\"landcolor\":\"#E5ECF6\",\"subunitcolor\":\"white\",\"showland\":true,\"showlakes\":true,\"lakecolor\":\"white\"},\"title\":{\"x\":0.05},\"mapbox\":{\"style\":\"light\"}}},\"xaxis\":{\"anchor\":\"y\",\"domain\":[0.0,1.0],\"title\":{\"text\":\"Average Compactness of Tumor Cells\"}},\"yaxis\":{\"anchor\":\"x\",\"domain\":[0.0,1.0],\"title\":{\"text\":\"Average Smoothness of Tumor Cells\"}},\"legend\":{\"title\":{\"text\":\"Malignant or Benign\"},\"tracegroupgap\":0},\"title\":{\"text\":\"Compactness and Smoothness of Tumor cells with Breast Cancer\"},\"height\":800,\"width\":1000},                        {\"responsive\": true}                    ).then(function(){\n                            \nvar gd = document.getElementById('dfc57409-ca9a-400e-8b5a-e97b4894d0fe');\nvar x = new MutationObserver(function (mutations, observer) {{\n        var display = window.getComputedStyle(gd).display;\n        if (!display || display === 'none') {{\n            console.log([gd, 'removed!']);\n            Plotly.purge(gd);\n            observer.disconnect();\n        }}\n}});\n\n// Listen for the removal of the full notebook cells\nvar notebookContainer = gd.closest('#notebook-container');\nif (notebookContainer) {{\n    x.observe(notebookContainer, {childList: true});\n}}\n\n// Listen for the clearing of the current output cell\nvar outputEl = gd.closest('.output');\nif (outputEl) {{\n    x.observe(outputEl, {childList: true});\n}}\n\n                        })                };                });            </script>        </div>"
     },
     "metadata": {},
     "output_type": "display_data"
    }
   ],
   "source": [
    "fig = px.scatter(x=df[\"x.compactness_mean\"], y=df[\"x.smoothness_mean\"],\n",
    "                 width=1000, height=800,\n",
    "                 color=df.y,\n",
    "                 labels={\"x\": \"Average Compactness of Tumor Cells\",\n",
    "                         \"y\": \"Average Smoothness of Tumor Cells\",\n",
    "                         \"color\": \"Malignant or Benign\"},\n",
    "                 title=\"Compactness and Smoothness of Tumor cells with Breast Cancer\")\n",
    "fig.show()"
   ],
   "metadata": {
    "collapsed": false,
    "is_executing": true,
    "ExecuteTime": {
     "start_time": "2023-07-07T00:30:20.528476Z"
    }
   }
  },
  {
   "cell_type": "code",
   "execution_count": null,
   "outputs": [
    {
     "data": {
      "application/vnd.plotly.v1+json": {
       "data": [
        {
         "hovertemplate": "Malignant or Benign=B<br>Average Compactness of Tumor Cells=%{x}<br>Average Smoothness of Tumor Cells=%{y}<br>size=%{marker.size}<extra></extra>",
         "legendgroup": "B",
         "marker": {
          "color": "#636efa",
          "size": [
           566.3,
           520.0,
           273.9,
           523.8,
           201.9,
           449.3,
           561.0,
           427.9,
           571.8,
           437.6,
           409.0,
           527.2,
           224.5,
           311.9,
           221.8,
           260.9,
           269.4,
           394.1,
           250.5,
           502.5,
           244.0,
           470.9,
           559.2,
           506.3,
           401.5,
           520.0,
           443.3,
           466.1,
           651.9,
           662.7,
           551.7,
           555.1,
           451.1,
           294.5,
           412.6,
           143.5,
           458.7,
           298.3,
           336.1,
           412.5,
           466.7,
           396.5,
           290.2,
           480.4,
           629.9,
           334.2,
           230.9,
           438.6,
           245.2,
           403.3,
           640.7,
           553.5,
           588.7,
           674.5,
           455.8,
           761.7,
           423.6,
           399.8,
           384.8,
           288.5,
           398.0,
           512.2,
           355.3,
           432.8,
           689.5,
           640.1,
           585.0,
           519.4,
           203.9,
           300.2,
           381.9,
           538.9,
           460.3,
           880.2,
           448.6,
           366.8,
           419.8,
           464.5,
           690.2,
           357.6,
           685.9,
           464.1,
           372.7,
           349.6,
           227.2,
           302.4,
           526.4,
           508.8,
           402.0,
           317.5,
           420.3,
           428.9,
           463.7,
           507.4,
           288.1,
           516.4,
           461.0,
           481.9,
           295.4,
           529.4,
           725.5,
           428.0,
           432.2,
           321.2,
           568.9,
           561.3,
           313.1,
           546.4,
           641.2,
           329.6,
           684.5,
           496.4,
           395.7,
           386.8,
           279.6,
           603.4,
           623.9,
           575.3,
           476.5,
           389.4,
           590.0,
           337.7,
           541.6,
           512.2,
           347.0,
           406.3,
           407.4,
           346.4,
           561.0,
           512.2,
           344.9,
           632.6,
           388.0,
           289.9,
           435.6,
           396.6,
           572.3,
           587.4,
           427.3,
           516.6,
           489.0,
           441.0,
           515.9,
           394.1,
           396.0,
           651.0,
           687.3,
           513.7,
           432.7,
           492.1,
           582.7,
           363.7,
           633.1,
           334.2,
           471.3,
           334.3,
           403.1,
           417.2,
           537.3,
           246.3,
           566.2,
           530.6,
           418.7,
           664.9,
           504.1,
           409.1,
           221.2,
           481.6,
           461.4,
           244.5,
           477.3,
           324.2,
           504.8,
           457.9,
           489.9,
           616.5,
           446.0,
           514.0,
           387.3,
           390.0,
           464.4,
           514.3,
           310.8,
           641.2,
           280.5,
           373.9,
           420.3,
           321.6,
           445.3,
           668.7,
           402.7,
           426.7,
           421.0,
           384.6,
           485.8,
           512.0,
           593.7,
           241.0,
           278.6,
           491.9,
           546.1,
           496.6,
           838.1,
           552.4,
           458.4,
           711.8,
           579.1,
           788.5,
           338.3,
           562.1,
           580.6,
           386.3,
           372.7,
           447.8,
           462.9,
           541.8,
           462.0,
           596.6,
           392.0,
           321.6,
           234.3,
           446.2,
           609.1,
           558.1,
           508.3,
           378.2,
           431.9,
           442.7,
           525.2,
           507.6,
           469.1,
           370.0,
           800.0,
           514.5,
           466.1,
           399.8,
           373.2,
           268.8,
           693.7,
           433.8,
           271.2,
           495.0,
           380.3,
           409.7,
           656.1,
           408.2,
           575.3,
           289.7,
           307.3,
           333.6,
           359.9,
           381.1,
           501.3,
           467.8,
           673.7,
           509.2,
           611.2,
           592.6,
           606.5,
           371.5,
           585.9,
           340.9,
           441.3,
           674.8,
           659.7,
           432.0,
           442.5,
           644.2,
           492.9,
           557.2,
           415.1,
           537.9,
           520.2,
           290.9,
           646.1,
           412.7,
           537.3,
           542.9,
           536.9,
           286.3,
           408.8,
           289.1,
           449.9,
           686.9,
           465.4,
           358.9,
           506.9,
           618.4,
           599.4,
           404.9,
           455.3,
           602.9,
           546.3,
           571.1,
           747.2,
           476.7,
           666.0,
           420.5,
           466.5,
           992.1,
           477.3,
           538.7,
           680.9,
           485.6,
           480.1,
           689.4,
           476.3,
           248.7,
           272.5,
           453.1,
           366.5,
           819.8,
           426.0,
           680.7,
           658.8,
           391.2,
           493.1,
           493.8,
           257.8,
           388.1,
           571.0,
           293.2,
           221.3,
           551.1,
           468.5,
           594.2,
           445.2,
           422.9,
           416.2,
           575.5,
           365.6,
           406.4,
           178.8,
           170.4,
           402.9,
           656.4,
           668.6,
           538.4,
           584.8,
           573.2,
           324.9,
           320.8,
           285.7,
           361.6,
           360.5,
           378.4,
           507.9,
           264.0,
           514.3,
           321.4,
           311.7,
           271.3,
           657.1,
           403.5,
           600.4,
           386.0,
           181.0
          ],
          "sizemode": "area",
          "sizeref": 6.2525,
          "symbol": "circle"
         },
         "mode": "markers",
         "name": "B",
         "orientation": "v",
         "showlegend": true,
         "x": [
          0.08129,
          0.127,
          0.06492,
          0.03766,
          0.05943,
          0.09092,
          0.07698,
          0.04966,
          0.06059,
          0.04751,
          0.05473,
          0.03789,
          0.05272,
          0.08061,
          0.08963,
          0.08751,
          0.07773,
          0.04701,
          0.1413,
          0.05234,
          0.1531,
          0.06829,
          0.1047,
          0.09546,
          0.09362,
          0.1535,
          0.07165,
          0.09445,
          0.1339,
          0.08606,
          0.05055,
          0.08165,
          0.07057,
          0.05301,
          0.07525,
          0.07568,
          0.04038,
          0.09697,
          0.08578,
          0.1017,
          0.06815,
          0.06575,
          0.08404,
          0.1209,
          0.2233,
          0.1303,
          0.08201,
          0.07849,
          0.1243,
          0.06685,
          0.1099,
          0.07325,
          0.06136,
          0.1807,
          0.09509,
          0.09462,
          0.06095,
          0.06889,
          0.1136,
          0.04102,
          0.09486,
          0.09509,
          0.05139,
          0.1296,
          0.1167,
          0.1021,
          0.06376,
          0.07589,
          0.1305,
          0.1599,
          0.05113,
          0.08498,
          0.06679,
          0.07223,
          0.05241,
          0.03718,
          0.1141,
          0.1015,
          0.05352,
          0.05736,
          0.07885,
          0.06981,
          0.05743,
          0.04302,
          0.04276,
          0.1294,
          0.01938,
          0.03774,
          0.08155,
          0.04695,
          0.06141,
          0.05562,
          0.07253,
          0.06601,
          0.02344,
          0.05366,
          0.08087,
          0.1058,
          0.07232,
          0.1483,
          0.0623,
          0.069,
          0.1154,
          0.05907,
          0.08711,
          0.1192,
          0.08502,
          0.04994,
          0.07624,
          0.07722,
          0.1096,
          0.07529,
          0.03813,
          0.03574,
          0.04087,
          0.06945,
          0.1039,
          0.0663,
          0.03393,
          0.1325,
          0.06807,
          0.05971,
          0.04524,
          0.1346,
          0.07234,
          0.07808,
          0.05991,
          0.1147,
          0.08259,
          0.06219,
          0.1289,
          0.02675,
          0.07608,
          0.04689,
          0.0721,
          0.03872,
          0.04052,
          0.07688,
          0.0434,
          0.0958,
          0.04216,
          0.1011,
          0.03729,
          0.1181,
          0.05008,
          0.1676,
          0.09823,
          0.07943,
          0.05642,
          0.08393,
          0.06221,
          0.04721,
          0.0522,
          0.06797,
          0.1014,
          0.06678,
          0.07694,
          0.05688,
          0.05251,
          0.03116,
          0.03614,
          0.03735,
          0.05253,
          0.03515,
          0.07948,
          0.05969,
          0.05847,
          0.03834,
          0.03212,
          0.1972,
          0.03454,
          0.1111,
          0.08834,
          0.06545,
          0.07664,
          0.05306,
          0.03892,
          0.1125,
          0.06779,
          0.04458,
          0.04202,
          0.09965,
          0.07326,
          0.1139,
          0.09228,
          0.09097,
          0.07281,
          0.09159,
          0.05794,
          0.0778,
          0.05886,
          0.1206,
          0.0363,
          0.06064,
          0.1038,
          0.1304,
          0.05492,
          0.07698,
          0.05956,
          0.0265,
          0.06373,
          0.07952,
          0.08468,
          0.05696,
          0.07175,
          0.06934,
          0.06374,
          0.1438,
          0.166,
          0.04726,
          0.07548,
          0.1111,
          0.07079,
          0.1073,
          0.1297,
          0.08575,
          0.07823,
          0.04831,
          0.1114,
          0.07542,
          0.07428,
          0.09758,
          0.05361,
          0.1147,
          0.08895,
          0.04768,
          0.06232,
          0.05242,
          0.07899,
          0.08836,
          0.04571,
          0.0746,
          0.08501,
          0.08316,
          0.06526,
          0.05313,
          0.07804,
          0.06053,
          0.1025,
          0.0812,
          0.06159,
          0.05794,
          0.05978,
          0.07722,
          0.1836,
          0.1168,
          0.1147,
          0.08333,
          0.03912,
          0.1013,
          0.05743,
          0.03834,
          0.04522,
          0.1316,
          0.07074,
          0.07883,
          0.05895,
          0.0633,
          0.05581,
          0.1113,
          0.06718,
          0.04462,
          0.09218,
          0.0889,
          0.078,
          0.1064,
          0.0645,
          0.09242,
          0.0543,
          0.07426,
          0.08574,
          0.05205,
          0.05073,
          0.04626,
          0.05223,
          0.05855,
          0.05994,
          0.1223,
          0.1089,
          0.05428,
          0.1483,
          0.06258,
          0.06,
          0.08549,
          0.03398,
          0.1069,
          0.08269,
          0.1108,
          0.05319,
          0.08228,
          0.07838,
          0.05326,
          0.1155,
          0.07957,
          0.1299,
          0.1511,
          0.06698,
          0.09263,
          0.052,
          0.06217,
          0.04043,
          0.05275,
          0.08345,
          0.1334,
          0.0763,
          0.1364,
          0.1085,
          0.2239,
          0.2204,
          0.1152,
          0.1071,
          0.06712,
          0.09661,
          0.05016,
          0.08918,
          0.08499,
          0.1661,
          0.1117,
          0.1225,
          0.04413,
          0.107,
          0.08419,
          0.07632,
          0.1138,
          0.06307,
          0.09755,
          0.09009,
          0.09713,
          0.09453,
          0.07255,
          0.09752,
          0.1552,
          0.04878,
          0.1199,
          0.112,
          0.123,
          0.07214,
          0.06877,
          0.1018,
          0.06747,
          0.04994,
          0.08066,
          0.0503,
          0.06602,
          0.04227,
          0.08194,
          0.04234,
          0.05605,
          0.05824,
          0.07658,
          0.07504,
          0.04971,
          0.133,
          0.1021,
          0.1126,
          0.03558,
          0.04362
         ],
         "xaxis": "x",
         "y": [
          0.09779,
          0.1075,
          0.1024,
          0.08983,
          0.086,
          0.1031,
          0.08752,
          0.08637,
          0.07685,
          0.08261,
          0.09524,
          0.0806,
          0.09752,
          0.1134,
          0.1243,
          0.07721,
          0.1044,
          0.08139,
          0.1066,
          0.09831,
          0.09783,
          0.09172,
          0.1291,
          0.09934,
          0.1102,
          0.1078,
          0.09723,
          0.08772,
          0.1132,
          0.08974,
          0.07355,
          0.1022,
          0.1045,
          0.1024,
          0.08983,
          0.117,
          0.08013,
          0.1005,
          0.09989,
          0.1142,
          0.08477,
          0.08759,
          0.1037,
          0.09933,
          0.07837,
          0.1122,
          0.115,
          0.09768,
          0.09462,
          0.09373,
          0.1101,
          0.07115,
          0.08785,
          0.115,
          0.1066,
          0.09462,
          0.1051,
          0.09639,
          0.1164,
          0.0925,
          0.1092,
          0.08677,
          0.07793,
          0.1152,
          0.08138,
          0.0997,
          0.07944,
          0.1135,
          0.09405,
          0.1072,
          0.09754,
          0.09384,
          0.08654,
          0.07445,
          0.09311,
          0.07515,
          0.1089,
          0.1012,
          0.08421,
          0.09594,
          0.09855,
          0.1028,
          0.1006,
          0.08792,
          0.09138,
          0.09699,
          0.06251,
          0.08739,
          0.09059,
          0.09267,
          0.09774,
          0.1007,
          0.0808,
          0.08749,
          0.0695,
          0.07941,
          0.09586,
          0.09965,
          0.1089,
          0.1002,
          0.08182,
          0.08871,
          0.09363,
          0.08054,
          0.09646,
          0.1051,
          0.1061,
          0.08445,
          0.09906,
          0.1053,
          0.08371,
          0.07903,
          0.06883,
          0.0778,
          0.08464,
          0.0907,
          0.08223,
          0.09423,
          0.07926,
          0.09592,
          0.08043,
          0.107,
          0.07215,
          0.0876,
          0.09657,
          0.1013,
          0.09345,
          0.09688,
          0.07956,
          0.09425,
          0.1082,
          0.06429,
          0.09834,
          0.09037,
          0.1225,
          0.09379,
          0.07948,
          0.09516,
          0.07813,
          0.07818,
          0.08393,
          0.08605,
          0.06955,
          0.0802,
          0.08713,
          0.08757,
          0.08992,
          0.1005,
          0.08372,
          0.09667,
          0.09198,
          0.08518,
          0.06576,
          0.1015,
          0.08451,
          0.1068,
          0.08853,
          0.07474,
          0.08511,
          0.07005,
          0.07376,
          0.08352,
          0.08814,
          0.07618,
          0.08794,
          0.08597,
          0.1074,
          0.08511,
          0.07734,
          0.09968,
          0.07557,
          0.1061,
          0.1134,
          0.08673,
          0.1028,
          0.09309,
          0.07683,
          0.09579,
          0.1054,
          0.08306,
          0.08313,
          0.09462,
          0.1007,
          0.09751,
          0.08481,
          0.1033,
          0.115,
          0.09882,
          0.08386,
          0.08875,
          0.09076,
          0.1158,
          0.07561,
          0.07274,
          0.0876,
          0.1082,
          0.08743,
          0.08293,
          0.1009,
          0.07436,
          0.08582,
          0.09676,
          0.09686,
          0.07937,
          0.09231,
          0.07963,
          0.08302,
          0.0988,
          0.09073,
          0.07517,
          0.08268,
          0.1237,
          0.07987,
          0.06935,
          0.1042,
          0.08363,
          0.08108,
          0.07026,
          0.08365,
          0.09996,
          0.1039,
          0.1029,
          0.08045,
          0.1059,
          0.08044,
          0.07741,
          0.09087,
          0.08872,
          0.07351,
          0.09879,
          0.08682,
          0.1004,
          0.09495,
          0.07551,
          0.08685,
          0.08858,
          0.1077,
          0.07969,
          0.08515,
          0.09773,
          0.1044,
          0.08785,
          0.1018,
          0.08546,
          0.1031,
          0.1088,
          0.09057,
          0.1075,
          0.08117,
          0.09816,
          0.08801,
          0.08151,
          0.07896,
          0.1054,
          0.08924,
          0.09136,
          0.08458,
          0.08684,
          0.07966,
          0.08915,
          0.08817,
          0.08142,
          0.103,
          0.09179,
          0.08388,
          0.06613,
          0.08437,
          0.1099,
          0.08583,
          0.09245,
          0.09357,
          0.08791,
          0.08369,
          0.07984,
          0.06995,
          0.08508,
          0.07466,
          0.08284,
          0.08675,
          0.08311,
          0.1175,
          0.08946,
          0.08752,
          0.08098,
          0.07699,
          0.1007,
          0.0904,
          0.08931,
          0.06828,
          0.1046,
          0.09087,
          0.07991,
          0.1071,
          0.0995,
          0.1043,
          0.09514,
          0.08641,
          0.1128,
          0.08192,
          0.07838,
          0.07372,
          0.07335,
          0.09587,
          0.1076,
          0.08928,
          0.09883,
          0.1158,
          0.1634,
          0.1255,
          0.1096,
          0.1194,
          0.09427,
          0.08099,
          0.08472,
          0.09832,
          0.1049,
          0.1218,
          0.1125,
          0.1371,
          0.08511,
          0.09916,
          0.09492,
          0.1036,
          0.1075,
          0.09003,
          0.1248,
          0.11,
          0.1073,
          0.1016,
          0.09277,
          0.09687,
          0.1236,
          0.08098,
          0.08668,
          0.09984,
          0.08837,
          0.08275,
          0.08671,
          0.09578,
          0.09246,
          0.09434,
          0.08877,
          0.08491,
          0.08192,
          0.07431,
          0.09566,
          0.08276,
          0.0924,
          0.08123,
          0.0903,
          0.1003,
          0.08123,
          0.08473,
          0.09261,
          0.09929,
          0.07449,
          0.05263
         ],
         "yaxis": "y",
         "type": "scatter"
        },
        {
         "hovertemplate": "Malignant or Benign=M<br>Average Compactness of Tumor Cells=%{x}<br>Average Smoothness of Tumor Cells=%{y}<br>size=%{marker.size}<extra></extra>",
         "legendgroup": "M",
         "marker": {
          "color": "#EF553B",
          "size": [
           1001.0,
           1326.0,
           1203.0,
           386.1,
           1297.0,
           477.1,
           1040.0,
           577.9,
           519.8,
           475.9,
           797.8,
           781.0,
           1123.0,
           782.7,
           578.3,
           658.8,
           684.5,
           798.8,
           1260.0,
           704.4,
           1404.0,
           904.6,
           912.7,
           644.8,
           1094.0,
           732.4,
           955.1,
           1088.0,
           440.6,
           899.3,
           1162.0,
           807.2,
           869.5,
           633.0,
           698.8,
           559.2,
           563.0,
           371.1,
           1104.0,
           545.2,
           531.5,
           1076.0,
           534.6,
           1033.0,
           712.8,
           1152.0,
           656.9,
           645.7,
           499.0,
           668.3,
           1130.0,
           929.4,
           584.1,
           817.7,
           1006.0,
           1245.0,
           1878.0,
           1132.0,
           1075.0,
           648.2,
           1076.0,
           728.2,
           705.6,
           1264.0,
           642.5,
           582.7,
           530.2,
           1509.0,
           682.5,
           782.6,
           982.0,
           1077.0,
           1761.0,
           572.6,
           1138.0,
           1192.0,
           748.9,
           809.8,
           1075.0,
           506.3,
           678.1,
           813.0,
           432.0,
           963.7,
           1157.0,
           1214.0,
           1686.0,
           886.3,
           984.6,
           565.4,
           736.9,
           832.9,
           2250.0,
           1311.0,
           766.6,
           710.6,
           1041.0,
           609.9,
           477.4,
           671.4,
           588.9,
           1024.0,
           1148.0,
           642.7,
           951.6,
           1685.0,
           597.8,
           716.6,
           904.3,
           1290.0,
           2499.0,
           948.0,
           610.7,
           578.9,
           1230.0,
           1223.0,
           761.3,
           503.2,
           895.0,
           1319.0,
           1670.0,
           1306.0,
           920.6,
           1155.0,
           1364.0,
           1206.0,
           928.2,
           1169.0,
           602.4,
           1207.0,
           713.3,
           773.5,
           744.9,
           1288.0,
           933.1,
           947.8,
           758.6,
           928.3,
           1419.0,
           1491.0,
           998.9,
           1102.0,
           1138.0,
           1145.0,
           805.1,
           431.1,
           1217.0,
           1247.0,
           1027.0,
           1274.0,
           1264.0,
           813.7,
           826.8,
           793.2,
           918.6,
           1092.0,
           1747.0,
           1194.0,
           758.6,
           2010.0,
           716.6,
           1293.0,
           1234.0,
           1546.0,
           1482.0,
           840.4,
           1386.0,
           1335.0,
           361.6,
           664.7,
           1174.0,
           744.7,
           1407.0,
           994.0,
           991.7,
           719.5,
           803.1,
           685.0,
           1250.0,
           1110.0,
           599.5,
           928.8,
           990.0,
           981.6,
           1384.0,
           1191.0,
           930.9,
           2501.0,
           980.5,
           815.8,
           1167.0,
           857.6,
           1007.0,
           1068.0,
           1320.0,
           595.9,
           1682.0,
           731.3,
           556.7,
           701.9,
           1052.0,
           1214.0,
           1841.0,
           1299.0,
           1308.0,
           629.8,
           716.9,
           1347.0,
           1479.0,
           1261.0,
           858.1,
           1265.0
          ],
          "sizemode": "area",
          "sizeref": 6.2525,
          "symbol": "circle"
         },
         "mode": "markers",
         "name": "M",
         "orientation": "v",
         "showlegend": true,
         "x": [
          0.2776,
          0.07864,
          0.1599,
          0.2839,
          0.1328,
          0.17,
          0.109,
          0.1645,
          0.1932,
          0.2396,
          0.06669,
          0.1292,
          0.2458,
          0.1002,
          0.2293,
          0.1595,
          0.072,
          0.2022,
          0.1027,
          0.2135,
          0.1022,
          0.1457,
          0.2276,
          0.1868,
          0.1066,
          0.1697,
          0.1157,
          0.1887,
          0.1516,
          0.1496,
          0.1719,
          0.1559,
          0.1336,
          0.1098,
          0.05131,
          0.1255,
          0.06031,
          0.1218,
          0.219,
          0.1436,
          0.1047,
          0.1686,
          0.1231,
          0.1485,
          0.07081,
          0.1267,
          0.1365,
          0.2008,
          0.1262,
          0.1479,
          0.1029,
          0.183,
          0.128,
          0.08424,
          0.2146,
          0.3454,
          0.2665,
          0.1791,
          0.1053,
          0.09947,
          0.1206,
          0.1036,
          0.1553,
          0.1313,
          0.1141,
          0.08511,
          0.1765,
          0.2768,
          0.1649,
          0.1752,
          0.06722,
          0.11,
          0.2867,
          0.07862,
          0.08028,
          0.1589,
          0.1223,
          0.1284,
          0.09709,
          0.05761,
          0.1305,
          0.1137,
          0.17,
          0.1665,
          0.1185,
          0.1666,
          0.1145,
          0.09182,
          0.1603,
          0.06288,
          0.1555,
          0.1556,
          0.1914,
          0.2832,
          0.08799,
          0.1052,
          0.08468,
          0.2413,
          0.1353,
          0.198,
          0.1267,
          0.08642,
          0.1428,
          0.1206,
          0.1198,
          0.2084,
          0.1768,
          0.09588,
          0.07304,
          0.1348,
          0.1516,
          0.1146,
          0.1306,
          0.1517,
          0.1306,
          0.113,
          0.1204,
          0.1799,
          0.1572,
          0.1074,
          0.1682,
          0.08348,
          0.1298,
          0.1558,
          0.1606,
          0.1849,
          0.1041,
          0.1188,
          0.1279,
          0.2063,
          0.2284,
          0.3114,
          0.1639,
          0.1088,
          0.0629,
          0.1273,
          0.05616,
          0.08995,
          0.1143,
          0.1961,
          0.07027,
          0.05884,
          0.1453,
          0.1442,
          0.1802,
          0.05914,
          0.1642,
          0.1838,
          0.1117,
          0.08564,
          0.1875,
          0.1319,
          0.1283,
          0.1371,
          0.1056,
          0.1402,
          0.1283,
          0.1339,
          0.2364,
          0.2363,
          0.09769,
          0.1131,
          0.1669,
          0.08562,
          0.1954,
          0.1497,
          0.1515,
          0.1076,
          0.2154,
          0.06636,
          0.1318,
          0.1562,
          0.2087,
          0.2576,
          0.1304,
          0.04605,
          0.1571,
          0.2225,
          0.1489,
          0.1389,
          0.1133,
          0.1109,
          0.1232,
          0.1314,
          0.1175,
          0.09871,
          0.111,
          0.1988,
          0.2004,
          0.1893,
          0.1448,
          0.07112,
          0.1289,
          0.1317,
          0.1644,
          0.1681,
          0.1275,
          0.187,
          0.1469,
          0.08597,
          0.1248,
          0.131,
          0.2106,
          0.1313,
          0.1739,
          0.1154,
          0.2087,
          0.2236,
          0.1159,
          0.1034,
          0.1023,
          0.277
         ],
         "xaxis": "x",
         "y": [
          0.1184,
          0.08474,
          0.1096,
          0.1425,
          0.1003,
          0.1278,
          0.09463,
          0.1189,
          0.1273,
          0.1186,
          0.08206,
          0.0971,
          0.0974,
          0.08401,
          0.1131,
          0.1139,
          0.09867,
          0.117,
          0.09831,
          0.1073,
          0.09428,
          0.1121,
          0.1186,
          0.1054,
          0.0944,
          0.1082,
          0.09847,
          0.1064,
          0.1109,
          0.1197,
          0.09401,
          0.104,
          0.0961,
          0.09823,
          0.09387,
          0.1016,
          0.08162,
          0.1227,
          0.09081,
          0.1041,
          0.09714,
          0.1099,
          0.1158,
          0.1148,
          0.09056,
          0.1053,
          0.1137,
          0.1049,
          0.1122,
          0.1172,
          0.09009,
          0.1071,
          0.1007,
          0.09168,
          0.1065,
          0.1286,
          0.1063,
          0.1215,
          0.09874,
          0.09444,
          0.09029,
          0.092,
          0.1039,
          0.09078,
          0.09752,
          0.09488,
          0.1398,
          0.1326,
          0.1162,
          0.1155,
          0.08402,
          0.1054,
          0.1447,
          0.09258,
          0.08217,
          0.1015,
          0.1092,
          0.1008,
          0.0943,
          0.09055,
          0.1167,
          0.09721,
          0.1091,
          0.1115,
          0.08694,
          0.112,
          0.08439,
          0.08865,
          0.1049,
          0.09048,
          0.1257,
          0.09831,
          0.1094,
          0.1141,
          0.09597,
          0.09057,
          0.08588,
          0.1075,
          0.1034,
          0.1044,
          0.12,
          0.07371,
          0.08523,
          0.09872,
          0.08968,
          0.1141,
          0.1323,
          0.08876,
          0.08772,
          0.0909,
          0.1142,
          0.1006,
          0.09463,
          0.1026,
          0.09383,
          0.0842,
          0.1025,
          0.1088,
          0.1141,
          0.09159,
          0.09509,
          0.08355,
          0.09812,
          0.1027,
          0.1007,
          0.1062,
          0.1008,
          0.1035,
          0.1096,
          0.0926,
          0.1335,
          0.1109,
          0.1063,
          0.1,
          0.08662,
          0.08999,
          0.0784,
          0.09726,
          0.09469,
          0.09401,
          0.08855,
          0.08923,
          0.102,
          0.1037,
          0.1066,
          0.09968,
          0.115,
          0.108,
          0.09746,
          0.0802,
          0.117,
          0.1169,
          0.1165,
          0.09491,
          0.1119,
          0.09116,
          0.1069,
          0.09797,
          0.1243,
          0.1149,
          0.1024,
          0.0915,
          0.09905,
          0.09384,
          0.1063,
          0.09742,
          0.1001,
          0.09446,
          0.1216,
          0.08682,
          0.101,
          0.116,
          0.1167,
          0.123,
          0.1036,
          0.0832,
          0.112,
          0.09947,
          0.1133,
          0.1018,
          0.106,
          0.08331,
          0.08947,
          0.09997,
          0.09684,
          0.1032,
          0.09898,
          0.1084,
          0.09289,
          0.1026,
          0.1089,
          0.07497,
          0.1001,
          0.1012,
          0.1085,
          0.1162,
          0.09342,
          0.1183,
          0.1106,
          0.09215,
          0.1068,
          0.1037,
          0.103,
          0.09156,
          0.1046,
          0.1038,
          0.1048,
          0.1099,
          0.111,
          0.0978,
          0.08455,
          0.1178
         ],
         "yaxis": "y",
         "type": "scatter"
        }
       ],
       "layout": {
        "template": {
         "data": {
          "histogram2dcontour": [
           {
            "type": "histogram2dcontour",
            "colorbar": {
             "outlinewidth": 0,
             "ticks": ""
            },
            "colorscale": [
             [
              0.0,
              "#0d0887"
             ],
             [
              0.1111111111111111,
              "#46039f"
             ],
             [
              0.2222222222222222,
              "#7201a8"
             ],
             [
              0.3333333333333333,
              "#9c179e"
             ],
             [
              0.4444444444444444,
              "#bd3786"
             ],
             [
              0.5555555555555556,
              "#d8576b"
             ],
             [
              0.6666666666666666,
              "#ed7953"
             ],
             [
              0.7777777777777778,
              "#fb9f3a"
             ],
             [
              0.8888888888888888,
              "#fdca26"
             ],
             [
              1.0,
              "#f0f921"
             ]
            ]
           }
          ],
          "choropleth": [
           {
            "type": "choropleth",
            "colorbar": {
             "outlinewidth": 0,
             "ticks": ""
            }
           }
          ],
          "histogram2d": [
           {
            "type": "histogram2d",
            "colorbar": {
             "outlinewidth": 0,
             "ticks": ""
            },
            "colorscale": [
             [
              0.0,
              "#0d0887"
             ],
             [
              0.1111111111111111,
              "#46039f"
             ],
             [
              0.2222222222222222,
              "#7201a8"
             ],
             [
              0.3333333333333333,
              "#9c179e"
             ],
             [
              0.4444444444444444,
              "#bd3786"
             ],
             [
              0.5555555555555556,
              "#d8576b"
             ],
             [
              0.6666666666666666,
              "#ed7953"
             ],
             [
              0.7777777777777778,
              "#fb9f3a"
             ],
             [
              0.8888888888888888,
              "#fdca26"
             ],
             [
              1.0,
              "#f0f921"
             ]
            ]
           }
          ],
          "heatmap": [
           {
            "type": "heatmap",
            "colorbar": {
             "outlinewidth": 0,
             "ticks": ""
            },
            "colorscale": [
             [
              0.0,
              "#0d0887"
             ],
             [
              0.1111111111111111,
              "#46039f"
             ],
             [
              0.2222222222222222,
              "#7201a8"
             ],
             [
              0.3333333333333333,
              "#9c179e"
             ],
             [
              0.4444444444444444,
              "#bd3786"
             ],
             [
              0.5555555555555556,
              "#d8576b"
             ],
             [
              0.6666666666666666,
              "#ed7953"
             ],
             [
              0.7777777777777778,
              "#fb9f3a"
             ],
             [
              0.8888888888888888,
              "#fdca26"
             ],
             [
              1.0,
              "#f0f921"
             ]
            ]
           }
          ],
          "heatmapgl": [
           {
            "type": "heatmapgl",
            "colorbar": {
             "outlinewidth": 0,
             "ticks": ""
            },
            "colorscale": [
             [
              0.0,
              "#0d0887"
             ],
             [
              0.1111111111111111,
              "#46039f"
             ],
             [
              0.2222222222222222,
              "#7201a8"
             ],
             [
              0.3333333333333333,
              "#9c179e"
             ],
             [
              0.4444444444444444,
              "#bd3786"
             ],
             [
              0.5555555555555556,
              "#d8576b"
             ],
             [
              0.6666666666666666,
              "#ed7953"
             ],
             [
              0.7777777777777778,
              "#fb9f3a"
             ],
             [
              0.8888888888888888,
              "#fdca26"
             ],
             [
              1.0,
              "#f0f921"
             ]
            ]
           }
          ],
          "contourcarpet": [
           {
            "type": "contourcarpet",
            "colorbar": {
             "outlinewidth": 0,
             "ticks": ""
            }
           }
          ],
          "contour": [
           {
            "type": "contour",
            "colorbar": {
             "outlinewidth": 0,
             "ticks": ""
            },
            "colorscale": [
             [
              0.0,
              "#0d0887"
             ],
             [
              0.1111111111111111,
              "#46039f"
             ],
             [
              0.2222222222222222,
              "#7201a8"
             ],
             [
              0.3333333333333333,
              "#9c179e"
             ],
             [
              0.4444444444444444,
              "#bd3786"
             ],
             [
              0.5555555555555556,
              "#d8576b"
             ],
             [
              0.6666666666666666,
              "#ed7953"
             ],
             [
              0.7777777777777778,
              "#fb9f3a"
             ],
             [
              0.8888888888888888,
              "#fdca26"
             ],
             [
              1.0,
              "#f0f921"
             ]
            ]
           }
          ],
          "surface": [
           {
            "type": "surface",
            "colorbar": {
             "outlinewidth": 0,
             "ticks": ""
            },
            "colorscale": [
             [
              0.0,
              "#0d0887"
             ],
             [
              0.1111111111111111,
              "#46039f"
             ],
             [
              0.2222222222222222,
              "#7201a8"
             ],
             [
              0.3333333333333333,
              "#9c179e"
             ],
             [
              0.4444444444444444,
              "#bd3786"
             ],
             [
              0.5555555555555556,
              "#d8576b"
             ],
             [
              0.6666666666666666,
              "#ed7953"
             ],
             [
              0.7777777777777778,
              "#fb9f3a"
             ],
             [
              0.8888888888888888,
              "#fdca26"
             ],
             [
              1.0,
              "#f0f921"
             ]
            ]
           }
          ],
          "mesh3d": [
           {
            "type": "mesh3d",
            "colorbar": {
             "outlinewidth": 0,
             "ticks": ""
            }
           }
          ],
          "scatter": [
           {
            "fillpattern": {
             "fillmode": "overlay",
             "size": 10,
             "solidity": 0.2
            },
            "type": "scatter"
           }
          ],
          "parcoords": [
           {
            "type": "parcoords",
            "line": {
             "colorbar": {
              "outlinewidth": 0,
              "ticks": ""
             }
            }
           }
          ],
          "scatterpolargl": [
           {
            "type": "scatterpolargl",
            "marker": {
             "colorbar": {
              "outlinewidth": 0,
              "ticks": ""
             }
            }
           }
          ],
          "bar": [
           {
            "error_x": {
             "color": "#2a3f5f"
            },
            "error_y": {
             "color": "#2a3f5f"
            },
            "marker": {
             "line": {
              "color": "#E5ECF6",
              "width": 0.5
             },
             "pattern": {
              "fillmode": "overlay",
              "size": 10,
              "solidity": 0.2
             }
            },
            "type": "bar"
           }
          ],
          "scattergeo": [
           {
            "type": "scattergeo",
            "marker": {
             "colorbar": {
              "outlinewidth": 0,
              "ticks": ""
             }
            }
           }
          ],
          "scatterpolar": [
           {
            "type": "scatterpolar",
            "marker": {
             "colorbar": {
              "outlinewidth": 0,
              "ticks": ""
             }
            }
           }
          ],
          "histogram": [
           {
            "marker": {
             "pattern": {
              "fillmode": "overlay",
              "size": 10,
              "solidity": 0.2
             }
            },
            "type": "histogram"
           }
          ],
          "scattergl": [
           {
            "type": "scattergl",
            "marker": {
             "colorbar": {
              "outlinewidth": 0,
              "ticks": ""
             }
            }
           }
          ],
          "scatter3d": [
           {
            "type": "scatter3d",
            "line": {
             "colorbar": {
              "outlinewidth": 0,
              "ticks": ""
             }
            },
            "marker": {
             "colorbar": {
              "outlinewidth": 0,
              "ticks": ""
             }
            }
           }
          ],
          "scattermapbox": [
           {
            "type": "scattermapbox",
            "marker": {
             "colorbar": {
              "outlinewidth": 0,
              "ticks": ""
             }
            }
           }
          ],
          "scatterternary": [
           {
            "type": "scatterternary",
            "marker": {
             "colorbar": {
              "outlinewidth": 0,
              "ticks": ""
             }
            }
           }
          ],
          "scattercarpet": [
           {
            "type": "scattercarpet",
            "marker": {
             "colorbar": {
              "outlinewidth": 0,
              "ticks": ""
             }
            }
           }
          ],
          "carpet": [
           {
            "aaxis": {
             "endlinecolor": "#2a3f5f",
             "gridcolor": "white",
             "linecolor": "white",
             "minorgridcolor": "white",
             "startlinecolor": "#2a3f5f"
            },
            "baxis": {
             "endlinecolor": "#2a3f5f",
             "gridcolor": "white",
             "linecolor": "white",
             "minorgridcolor": "white",
             "startlinecolor": "#2a3f5f"
            },
            "type": "carpet"
           }
          ],
          "table": [
           {
            "cells": {
             "fill": {
              "color": "#EBF0F8"
             },
             "line": {
              "color": "white"
             }
            },
            "header": {
             "fill": {
              "color": "#C8D4E3"
             },
             "line": {
              "color": "white"
             }
            },
            "type": "table"
           }
          ],
          "barpolar": [
           {
            "marker": {
             "line": {
              "color": "#E5ECF6",
              "width": 0.5
             },
             "pattern": {
              "fillmode": "overlay",
              "size": 10,
              "solidity": 0.2
             }
            },
            "type": "barpolar"
           }
          ],
          "pie": [
           {
            "automargin": true,
            "type": "pie"
           }
          ]
         },
         "layout": {
          "autotypenumbers": "strict",
          "colorway": [
           "#636efa",
           "#EF553B",
           "#00cc96",
           "#ab63fa",
           "#FFA15A",
           "#19d3f3",
           "#FF6692",
           "#B6E880",
           "#FF97FF",
           "#FECB52"
          ],
          "font": {
           "color": "#2a3f5f"
          },
          "hovermode": "closest",
          "hoverlabel": {
           "align": "left"
          },
          "paper_bgcolor": "white",
          "plot_bgcolor": "#E5ECF6",
          "polar": {
           "bgcolor": "#E5ECF6",
           "angularaxis": {
            "gridcolor": "white",
            "linecolor": "white",
            "ticks": ""
           },
           "radialaxis": {
            "gridcolor": "white",
            "linecolor": "white",
            "ticks": ""
           }
          },
          "ternary": {
           "bgcolor": "#E5ECF6",
           "aaxis": {
            "gridcolor": "white",
            "linecolor": "white",
            "ticks": ""
           },
           "baxis": {
            "gridcolor": "white",
            "linecolor": "white",
            "ticks": ""
           },
           "caxis": {
            "gridcolor": "white",
            "linecolor": "white",
            "ticks": ""
           }
          },
          "coloraxis": {
           "colorbar": {
            "outlinewidth": 0,
            "ticks": ""
           }
          },
          "colorscale": {
           "sequential": [
            [
             0.0,
             "#0d0887"
            ],
            [
             0.1111111111111111,
             "#46039f"
            ],
            [
             0.2222222222222222,
             "#7201a8"
            ],
            [
             0.3333333333333333,
             "#9c179e"
            ],
            [
             0.4444444444444444,
             "#bd3786"
            ],
            [
             0.5555555555555556,
             "#d8576b"
            ],
            [
             0.6666666666666666,
             "#ed7953"
            ],
            [
             0.7777777777777778,
             "#fb9f3a"
            ],
            [
             0.8888888888888888,
             "#fdca26"
            ],
            [
             1.0,
             "#f0f921"
            ]
           ],
           "sequentialminus": [
            [
             0.0,
             "#0d0887"
            ],
            [
             0.1111111111111111,
             "#46039f"
            ],
            [
             0.2222222222222222,
             "#7201a8"
            ],
            [
             0.3333333333333333,
             "#9c179e"
            ],
            [
             0.4444444444444444,
             "#bd3786"
            ],
            [
             0.5555555555555556,
             "#d8576b"
            ],
            [
             0.6666666666666666,
             "#ed7953"
            ],
            [
             0.7777777777777778,
             "#fb9f3a"
            ],
            [
             0.8888888888888888,
             "#fdca26"
            ],
            [
             1.0,
             "#f0f921"
            ]
           ],
           "diverging": [
            [
             0,
             "#8e0152"
            ],
            [
             0.1,
             "#c51b7d"
            ],
            [
             0.2,
             "#de77ae"
            ],
            [
             0.3,
             "#f1b6da"
            ],
            [
             0.4,
             "#fde0ef"
            ],
            [
             0.5,
             "#f7f7f7"
            ],
            [
             0.6,
             "#e6f5d0"
            ],
            [
             0.7,
             "#b8e186"
            ],
            [
             0.8,
             "#7fbc41"
            ],
            [
             0.9,
             "#4d9221"
            ],
            [
             1,
             "#276419"
            ]
           ]
          },
          "xaxis": {
           "gridcolor": "white",
           "linecolor": "white",
           "ticks": "",
           "title": {
            "standoff": 15
           },
           "zerolinecolor": "white",
           "automargin": true,
           "zerolinewidth": 2
          },
          "yaxis": {
           "gridcolor": "white",
           "linecolor": "white",
           "ticks": "",
           "title": {
            "standoff": 15
           },
           "zerolinecolor": "white",
           "automargin": true,
           "zerolinewidth": 2
          },
          "scene": {
           "xaxis": {
            "backgroundcolor": "#E5ECF6",
            "gridcolor": "white",
            "linecolor": "white",
            "showbackground": true,
            "ticks": "",
            "zerolinecolor": "white",
            "gridwidth": 2
           },
           "yaxis": {
            "backgroundcolor": "#E5ECF6",
            "gridcolor": "white",
            "linecolor": "white",
            "showbackground": true,
            "ticks": "",
            "zerolinecolor": "white",
            "gridwidth": 2
           },
           "zaxis": {
            "backgroundcolor": "#E5ECF6",
            "gridcolor": "white",
            "linecolor": "white",
            "showbackground": true,
            "ticks": "",
            "zerolinecolor": "white",
            "gridwidth": 2
           }
          },
          "shapedefaults": {
           "line": {
            "color": "#2a3f5f"
           }
          },
          "annotationdefaults": {
           "arrowcolor": "#2a3f5f",
           "arrowhead": 0,
           "arrowwidth": 1
          },
          "geo": {
           "bgcolor": "white",
           "landcolor": "#E5ECF6",
           "subunitcolor": "white",
           "showland": true,
           "showlakes": true,
           "lakecolor": "white"
          },
          "title": {
           "x": 0.05
          },
          "mapbox": {
           "style": "light"
          }
         }
        },
        "xaxis": {
         "anchor": "y",
         "domain": [
          0.0,
          1.0
         ],
         "title": {
          "text": "Average Compactness of Tumor Cells"
         }
        },
        "yaxis": {
         "anchor": "x",
         "domain": [
          0.0,
          1.0
         ],
         "title": {
          "text": "Average Smoothness of Tumor Cells"
         }
        },
        "legend": {
         "title": {
          "text": "Malignant or Benign"
         },
         "tracegroupgap": 0,
         "itemsizing": "constant"
        },
        "title": {
         "text": "Compactness and Smoothness of Tumor cells with Breast Cancer and Tumor Area"
        },
        "height": 800,
        "width": 1000
       },
       "config": {
        "plotlyServerURL": "https://plot.ly"
       }
      },
      "text/html": "<div>                            <div id=\"7769d294-0dd8-4936-844a-fa574a92f38f\" class=\"plotly-graph-div\" style=\"height:800px; width:1000px;\"></div>            <script type=\"text/javascript\">                require([\"plotly\"], function(Plotly) {                    window.PLOTLYENV=window.PLOTLYENV || {};                                    if (document.getElementById(\"7769d294-0dd8-4936-844a-fa574a92f38f\")) {                    Plotly.newPlot(                        \"7769d294-0dd8-4936-844a-fa574a92f38f\",                        [{\"hovertemplate\":\"Malignant or Benign=B\\u003cbr\\u003eAverage Compactness of Tumor Cells=%{x}\\u003cbr\\u003eAverage Smoothness of Tumor Cells=%{y}\\u003cbr\\u003esize=%{marker.size}\\u003cextra\\u003e\\u003c\\u002fextra\\u003e\",\"legendgroup\":\"B\",\"marker\":{\"color\":\"#636efa\",\"size\":[566.3,520.0,273.9,523.8,201.9,449.3,561.0,427.9,571.8,437.6,409.0,527.2,224.5,311.9,221.8,260.9,269.4,394.1,250.5,502.5,244.0,470.9,559.2,506.3,401.5,520.0,443.3,466.1,651.9,662.7,551.7,555.1,451.1,294.5,412.6,143.5,458.7,298.3,336.1,412.5,466.7,396.5,290.2,480.4,629.9,334.2,230.9,438.6,245.2,403.3,640.7,553.5,588.7,674.5,455.8,761.7,423.6,399.8,384.8,288.5,398.0,512.2,355.3,432.8,689.5,640.1,585.0,519.4,203.9,300.2,381.9,538.9,460.3,880.2,448.6,366.8,419.8,464.5,690.2,357.6,685.9,464.1,372.7,349.6,227.2,302.4,526.4,508.8,402.0,317.5,420.3,428.9,463.7,507.4,288.1,516.4,461.0,481.9,295.4,529.4,725.5,428.0,432.2,321.2,568.9,561.3,313.1,546.4,641.2,329.6,684.5,496.4,395.7,386.8,279.6,603.4,623.9,575.3,476.5,389.4,590.0,337.7,541.6,512.2,347.0,406.3,407.4,346.4,561.0,512.2,344.9,632.6,388.0,289.9,435.6,396.6,572.3,587.4,427.3,516.6,489.0,441.0,515.9,394.1,396.0,651.0,687.3,513.7,432.7,492.1,582.7,363.7,633.1,334.2,471.3,334.3,403.1,417.2,537.3,246.3,566.2,530.6,418.7,664.9,504.1,409.1,221.2,481.6,461.4,244.5,477.3,324.2,504.8,457.9,489.9,616.5,446.0,514.0,387.3,390.0,464.4,514.3,310.8,641.2,280.5,373.9,420.3,321.6,445.3,668.7,402.7,426.7,421.0,384.6,485.8,512.0,593.7,241.0,278.6,491.9,546.1,496.6,838.1,552.4,458.4,711.8,579.1,788.5,338.3,562.1,580.6,386.3,372.7,447.8,462.9,541.8,462.0,596.6,392.0,321.6,234.3,446.2,609.1,558.1,508.3,378.2,431.9,442.7,525.2,507.6,469.1,370.0,800.0,514.5,466.1,399.8,373.2,268.8,693.7,433.8,271.2,495.0,380.3,409.7,656.1,408.2,575.3,289.7,307.3,333.6,359.9,381.1,501.3,467.8,673.7,509.2,611.2,592.6,606.5,371.5,585.9,340.9,441.3,674.8,659.7,432.0,442.5,644.2,492.9,557.2,415.1,537.9,520.2,290.9,646.1,412.7,537.3,542.9,536.9,286.3,408.8,289.1,449.9,686.9,465.4,358.9,506.9,618.4,599.4,404.9,455.3,602.9,546.3,571.1,747.2,476.7,666.0,420.5,466.5,992.1,477.3,538.7,680.9,485.6,480.1,689.4,476.3,248.7,272.5,453.1,366.5,819.8,426.0,680.7,658.8,391.2,493.1,493.8,257.8,388.1,571.0,293.2,221.3,551.1,468.5,594.2,445.2,422.9,416.2,575.5,365.6,406.4,178.8,170.4,402.9,656.4,668.6,538.4,584.8,573.2,324.9,320.8,285.7,361.6,360.5,378.4,507.9,264.0,514.3,321.4,311.7,271.3,657.1,403.5,600.4,386.0,181.0],\"sizemode\":\"area\",\"sizeref\":6.2525,\"symbol\":\"circle\"},\"mode\":\"markers\",\"name\":\"B\",\"orientation\":\"v\",\"showlegend\":true,\"x\":[0.08129,0.127,0.06492,0.03766,0.05943,0.09092,0.07698,0.04966,0.06059,0.04751,0.05473,0.03789,0.05272,0.08061,0.08963,0.08751,0.07773,0.04701,0.1413,0.05234,0.1531,0.06829,0.1047,0.09546,0.09362,0.1535,0.07165,0.09445,0.1339,0.08606,0.05055,0.08165,0.07057,0.05301,0.07525,0.07568,0.04038,0.09697,0.08578,0.1017,0.06815,0.06575,0.08404,0.1209,0.2233,0.1303,0.08201,0.07849,0.1243,0.06685,0.1099,0.07325,0.06136,0.1807,0.09509,0.09462,0.06095,0.06889,0.1136,0.04102,0.09486,0.09509,0.05139,0.1296,0.1167,0.1021,0.06376,0.07589,0.1305,0.1599,0.05113,0.08498,0.06679,0.07223,0.05241,0.03718,0.1141,0.1015,0.05352,0.05736,0.07885,0.06981,0.05743,0.04302,0.04276,0.1294,0.01938,0.03774,0.08155,0.04695,0.06141,0.05562,0.07253,0.06601,0.02344,0.05366,0.08087,0.1058,0.07232,0.1483,0.0623,0.069,0.1154,0.05907,0.08711,0.1192,0.08502,0.04994,0.07624,0.07722,0.1096,0.07529,0.03813,0.03574,0.04087,0.06945,0.1039,0.0663,0.03393,0.1325,0.06807,0.05971,0.04524,0.1346,0.07234,0.07808,0.05991,0.1147,0.08259,0.06219,0.1289,0.02675,0.07608,0.04689,0.0721,0.03872,0.04052,0.07688,0.0434,0.0958,0.04216,0.1011,0.03729,0.1181,0.05008,0.1676,0.09823,0.07943,0.05642,0.08393,0.06221,0.04721,0.0522,0.06797,0.1014,0.06678,0.07694,0.05688,0.05251,0.03116,0.03614,0.03735,0.05253,0.03515,0.07948,0.05969,0.05847,0.03834,0.03212,0.1972,0.03454,0.1111,0.08834,0.06545,0.07664,0.05306,0.03892,0.1125,0.06779,0.04458,0.04202,0.09965,0.07326,0.1139,0.09228,0.09097,0.07281,0.09159,0.05794,0.0778,0.05886,0.1206,0.0363,0.06064,0.1038,0.1304,0.05492,0.07698,0.05956,0.0265,0.06373,0.07952,0.08468,0.05696,0.07175,0.06934,0.06374,0.1438,0.166,0.04726,0.07548,0.1111,0.07079,0.1073,0.1297,0.08575,0.07823,0.04831,0.1114,0.07542,0.07428,0.09758,0.05361,0.1147,0.08895,0.04768,0.06232,0.05242,0.07899,0.08836,0.04571,0.0746,0.08501,0.08316,0.06526,0.05313,0.07804,0.06053,0.1025,0.0812,0.06159,0.05794,0.05978,0.07722,0.1836,0.1168,0.1147,0.08333,0.03912,0.1013,0.05743,0.03834,0.04522,0.1316,0.07074,0.07883,0.05895,0.0633,0.05581,0.1113,0.06718,0.04462,0.09218,0.0889,0.078,0.1064,0.0645,0.09242,0.0543,0.07426,0.08574,0.05205,0.05073,0.04626,0.05223,0.05855,0.05994,0.1223,0.1089,0.05428,0.1483,0.06258,0.06,0.08549,0.03398,0.1069,0.08269,0.1108,0.05319,0.08228,0.07838,0.05326,0.1155,0.07957,0.1299,0.1511,0.06698,0.09263,0.052,0.06217,0.04043,0.05275,0.08345,0.1334,0.0763,0.1364,0.1085,0.2239,0.2204,0.1152,0.1071,0.06712,0.09661,0.05016,0.08918,0.08499,0.1661,0.1117,0.1225,0.04413,0.107,0.08419,0.07632,0.1138,0.06307,0.09755,0.09009,0.09713,0.09453,0.07255,0.09752,0.1552,0.04878,0.1199,0.112,0.123,0.07214,0.06877,0.1018,0.06747,0.04994,0.08066,0.0503,0.06602,0.04227,0.08194,0.04234,0.05605,0.05824,0.07658,0.07504,0.04971,0.133,0.1021,0.1126,0.03558,0.04362],\"xaxis\":\"x\",\"y\":[0.09779,0.1075,0.1024,0.08983,0.086,0.1031,0.08752,0.08637,0.07685,0.08261,0.09524,0.0806,0.09752,0.1134,0.1243,0.07721,0.1044,0.08139,0.1066,0.09831,0.09783,0.09172,0.1291,0.09934,0.1102,0.1078,0.09723,0.08772,0.1132,0.08974,0.07355,0.1022,0.1045,0.1024,0.08983,0.117,0.08013,0.1005,0.09989,0.1142,0.08477,0.08759,0.1037,0.09933,0.07837,0.1122,0.115,0.09768,0.09462,0.09373,0.1101,0.07115,0.08785,0.115,0.1066,0.09462,0.1051,0.09639,0.1164,0.0925,0.1092,0.08677,0.07793,0.1152,0.08138,0.0997,0.07944,0.1135,0.09405,0.1072,0.09754,0.09384,0.08654,0.07445,0.09311,0.07515,0.1089,0.1012,0.08421,0.09594,0.09855,0.1028,0.1006,0.08792,0.09138,0.09699,0.06251,0.08739,0.09059,0.09267,0.09774,0.1007,0.0808,0.08749,0.0695,0.07941,0.09586,0.09965,0.1089,0.1002,0.08182,0.08871,0.09363,0.08054,0.09646,0.1051,0.1061,0.08445,0.09906,0.1053,0.08371,0.07903,0.06883,0.0778,0.08464,0.0907,0.08223,0.09423,0.07926,0.09592,0.08043,0.107,0.07215,0.0876,0.09657,0.1013,0.09345,0.09688,0.07956,0.09425,0.1082,0.06429,0.09834,0.09037,0.1225,0.09379,0.07948,0.09516,0.07813,0.07818,0.08393,0.08605,0.06955,0.0802,0.08713,0.08757,0.08992,0.1005,0.08372,0.09667,0.09198,0.08518,0.06576,0.1015,0.08451,0.1068,0.08853,0.07474,0.08511,0.07005,0.07376,0.08352,0.08814,0.07618,0.08794,0.08597,0.1074,0.08511,0.07734,0.09968,0.07557,0.1061,0.1134,0.08673,0.1028,0.09309,0.07683,0.09579,0.1054,0.08306,0.08313,0.09462,0.1007,0.09751,0.08481,0.1033,0.115,0.09882,0.08386,0.08875,0.09076,0.1158,0.07561,0.07274,0.0876,0.1082,0.08743,0.08293,0.1009,0.07436,0.08582,0.09676,0.09686,0.07937,0.09231,0.07963,0.08302,0.0988,0.09073,0.07517,0.08268,0.1237,0.07987,0.06935,0.1042,0.08363,0.08108,0.07026,0.08365,0.09996,0.1039,0.1029,0.08045,0.1059,0.08044,0.07741,0.09087,0.08872,0.07351,0.09879,0.08682,0.1004,0.09495,0.07551,0.08685,0.08858,0.1077,0.07969,0.08515,0.09773,0.1044,0.08785,0.1018,0.08546,0.1031,0.1088,0.09057,0.1075,0.08117,0.09816,0.08801,0.08151,0.07896,0.1054,0.08924,0.09136,0.08458,0.08684,0.07966,0.08915,0.08817,0.08142,0.103,0.09179,0.08388,0.06613,0.08437,0.1099,0.08583,0.09245,0.09357,0.08791,0.08369,0.07984,0.06995,0.08508,0.07466,0.08284,0.08675,0.08311,0.1175,0.08946,0.08752,0.08098,0.07699,0.1007,0.0904,0.08931,0.06828,0.1046,0.09087,0.07991,0.1071,0.0995,0.1043,0.09514,0.08641,0.1128,0.08192,0.07838,0.07372,0.07335,0.09587,0.1076,0.08928,0.09883,0.1158,0.1634,0.1255,0.1096,0.1194,0.09427,0.08099,0.08472,0.09832,0.1049,0.1218,0.1125,0.1371,0.08511,0.09916,0.09492,0.1036,0.1075,0.09003,0.1248,0.11,0.1073,0.1016,0.09277,0.09687,0.1236,0.08098,0.08668,0.09984,0.08837,0.08275,0.08671,0.09578,0.09246,0.09434,0.08877,0.08491,0.08192,0.07431,0.09566,0.08276,0.0924,0.08123,0.0903,0.1003,0.08123,0.08473,0.09261,0.09929,0.07449,0.05263],\"yaxis\":\"y\",\"type\":\"scatter\"},{\"hovertemplate\":\"Malignant or Benign=M\\u003cbr\\u003eAverage Compactness of Tumor Cells=%{x}\\u003cbr\\u003eAverage Smoothness of Tumor Cells=%{y}\\u003cbr\\u003esize=%{marker.size}\\u003cextra\\u003e\\u003c\\u002fextra\\u003e\",\"legendgroup\":\"M\",\"marker\":{\"color\":\"#EF553B\",\"size\":[1001.0,1326.0,1203.0,386.1,1297.0,477.1,1040.0,577.9,519.8,475.9,797.8,781.0,1123.0,782.7,578.3,658.8,684.5,798.8,1260.0,704.4,1404.0,904.6,912.7,644.8,1094.0,732.4,955.1,1088.0,440.6,899.3,1162.0,807.2,869.5,633.0,698.8,559.2,563.0,371.1,1104.0,545.2,531.5,1076.0,534.6,1033.0,712.8,1152.0,656.9,645.7,499.0,668.3,1130.0,929.4,584.1,817.7,1006.0,1245.0,1878.0,1132.0,1075.0,648.2,1076.0,728.2,705.6,1264.0,642.5,582.7,530.2,1509.0,682.5,782.6,982.0,1077.0,1761.0,572.6,1138.0,1192.0,748.9,809.8,1075.0,506.3,678.1,813.0,432.0,963.7,1157.0,1214.0,1686.0,886.3,984.6,565.4,736.9,832.9,2250.0,1311.0,766.6,710.6,1041.0,609.9,477.4,671.4,588.9,1024.0,1148.0,642.7,951.6,1685.0,597.8,716.6,904.3,1290.0,2499.0,948.0,610.7,578.9,1230.0,1223.0,761.3,503.2,895.0,1319.0,1670.0,1306.0,920.6,1155.0,1364.0,1206.0,928.2,1169.0,602.4,1207.0,713.3,773.5,744.9,1288.0,933.1,947.8,758.6,928.3,1419.0,1491.0,998.9,1102.0,1138.0,1145.0,805.1,431.1,1217.0,1247.0,1027.0,1274.0,1264.0,813.7,826.8,793.2,918.6,1092.0,1747.0,1194.0,758.6,2010.0,716.6,1293.0,1234.0,1546.0,1482.0,840.4,1386.0,1335.0,361.6,664.7,1174.0,744.7,1407.0,994.0,991.7,719.5,803.1,685.0,1250.0,1110.0,599.5,928.8,990.0,981.6,1384.0,1191.0,930.9,2501.0,980.5,815.8,1167.0,857.6,1007.0,1068.0,1320.0,595.9,1682.0,731.3,556.7,701.9,1052.0,1214.0,1841.0,1299.0,1308.0,629.8,716.9,1347.0,1479.0,1261.0,858.1,1265.0],\"sizemode\":\"area\",\"sizeref\":6.2525,\"symbol\":\"circle\"},\"mode\":\"markers\",\"name\":\"M\",\"orientation\":\"v\",\"showlegend\":true,\"x\":[0.2776,0.07864,0.1599,0.2839,0.1328,0.17,0.109,0.1645,0.1932,0.2396,0.06669,0.1292,0.2458,0.1002,0.2293,0.1595,0.072,0.2022,0.1027,0.2135,0.1022,0.1457,0.2276,0.1868,0.1066,0.1697,0.1157,0.1887,0.1516,0.1496,0.1719,0.1559,0.1336,0.1098,0.05131,0.1255,0.06031,0.1218,0.219,0.1436,0.1047,0.1686,0.1231,0.1485,0.07081,0.1267,0.1365,0.2008,0.1262,0.1479,0.1029,0.183,0.128,0.08424,0.2146,0.3454,0.2665,0.1791,0.1053,0.09947,0.1206,0.1036,0.1553,0.1313,0.1141,0.08511,0.1765,0.2768,0.1649,0.1752,0.06722,0.11,0.2867,0.07862,0.08028,0.1589,0.1223,0.1284,0.09709,0.05761,0.1305,0.1137,0.17,0.1665,0.1185,0.1666,0.1145,0.09182,0.1603,0.06288,0.1555,0.1556,0.1914,0.2832,0.08799,0.1052,0.08468,0.2413,0.1353,0.198,0.1267,0.08642,0.1428,0.1206,0.1198,0.2084,0.1768,0.09588,0.07304,0.1348,0.1516,0.1146,0.1306,0.1517,0.1306,0.113,0.1204,0.1799,0.1572,0.1074,0.1682,0.08348,0.1298,0.1558,0.1606,0.1849,0.1041,0.1188,0.1279,0.2063,0.2284,0.3114,0.1639,0.1088,0.0629,0.1273,0.05616,0.08995,0.1143,0.1961,0.07027,0.05884,0.1453,0.1442,0.1802,0.05914,0.1642,0.1838,0.1117,0.08564,0.1875,0.1319,0.1283,0.1371,0.1056,0.1402,0.1283,0.1339,0.2364,0.2363,0.09769,0.1131,0.1669,0.08562,0.1954,0.1497,0.1515,0.1076,0.2154,0.06636,0.1318,0.1562,0.2087,0.2576,0.1304,0.04605,0.1571,0.2225,0.1489,0.1389,0.1133,0.1109,0.1232,0.1314,0.1175,0.09871,0.111,0.1988,0.2004,0.1893,0.1448,0.07112,0.1289,0.1317,0.1644,0.1681,0.1275,0.187,0.1469,0.08597,0.1248,0.131,0.2106,0.1313,0.1739,0.1154,0.2087,0.2236,0.1159,0.1034,0.1023,0.277],\"xaxis\":\"x\",\"y\":[0.1184,0.08474,0.1096,0.1425,0.1003,0.1278,0.09463,0.1189,0.1273,0.1186,0.08206,0.0971,0.0974,0.08401,0.1131,0.1139,0.09867,0.117,0.09831,0.1073,0.09428,0.1121,0.1186,0.1054,0.0944,0.1082,0.09847,0.1064,0.1109,0.1197,0.09401,0.104,0.0961,0.09823,0.09387,0.1016,0.08162,0.1227,0.09081,0.1041,0.09714,0.1099,0.1158,0.1148,0.09056,0.1053,0.1137,0.1049,0.1122,0.1172,0.09009,0.1071,0.1007,0.09168,0.1065,0.1286,0.1063,0.1215,0.09874,0.09444,0.09029,0.092,0.1039,0.09078,0.09752,0.09488,0.1398,0.1326,0.1162,0.1155,0.08402,0.1054,0.1447,0.09258,0.08217,0.1015,0.1092,0.1008,0.0943,0.09055,0.1167,0.09721,0.1091,0.1115,0.08694,0.112,0.08439,0.08865,0.1049,0.09048,0.1257,0.09831,0.1094,0.1141,0.09597,0.09057,0.08588,0.1075,0.1034,0.1044,0.12,0.07371,0.08523,0.09872,0.08968,0.1141,0.1323,0.08876,0.08772,0.0909,0.1142,0.1006,0.09463,0.1026,0.09383,0.0842,0.1025,0.1088,0.1141,0.09159,0.09509,0.08355,0.09812,0.1027,0.1007,0.1062,0.1008,0.1035,0.1096,0.0926,0.1335,0.1109,0.1063,0.1,0.08662,0.08999,0.0784,0.09726,0.09469,0.09401,0.08855,0.08923,0.102,0.1037,0.1066,0.09968,0.115,0.108,0.09746,0.0802,0.117,0.1169,0.1165,0.09491,0.1119,0.09116,0.1069,0.09797,0.1243,0.1149,0.1024,0.0915,0.09905,0.09384,0.1063,0.09742,0.1001,0.09446,0.1216,0.08682,0.101,0.116,0.1167,0.123,0.1036,0.0832,0.112,0.09947,0.1133,0.1018,0.106,0.08331,0.08947,0.09997,0.09684,0.1032,0.09898,0.1084,0.09289,0.1026,0.1089,0.07497,0.1001,0.1012,0.1085,0.1162,0.09342,0.1183,0.1106,0.09215,0.1068,0.1037,0.103,0.09156,0.1046,0.1038,0.1048,0.1099,0.111,0.0978,0.08455,0.1178],\"yaxis\":\"y\",\"type\":\"scatter\"}],                        {\"template\":{\"data\":{\"histogram2dcontour\":[{\"type\":\"histogram2dcontour\",\"colorbar\":{\"outlinewidth\":0,\"ticks\":\"\"},\"colorscale\":[[0.0,\"#0d0887\"],[0.1111111111111111,\"#46039f\"],[0.2222222222222222,\"#7201a8\"],[0.3333333333333333,\"#9c179e\"],[0.4444444444444444,\"#bd3786\"],[0.5555555555555556,\"#d8576b\"],[0.6666666666666666,\"#ed7953\"],[0.7777777777777778,\"#fb9f3a\"],[0.8888888888888888,\"#fdca26\"],[1.0,\"#f0f921\"]]}],\"choropleth\":[{\"type\":\"choropleth\",\"colorbar\":{\"outlinewidth\":0,\"ticks\":\"\"}}],\"histogram2d\":[{\"type\":\"histogram2d\",\"colorbar\":{\"outlinewidth\":0,\"ticks\":\"\"},\"colorscale\":[[0.0,\"#0d0887\"],[0.1111111111111111,\"#46039f\"],[0.2222222222222222,\"#7201a8\"],[0.3333333333333333,\"#9c179e\"],[0.4444444444444444,\"#bd3786\"],[0.5555555555555556,\"#d8576b\"],[0.6666666666666666,\"#ed7953\"],[0.7777777777777778,\"#fb9f3a\"],[0.8888888888888888,\"#fdca26\"],[1.0,\"#f0f921\"]]}],\"heatmap\":[{\"type\":\"heatmap\",\"colorbar\":{\"outlinewidth\":0,\"ticks\":\"\"},\"colorscale\":[[0.0,\"#0d0887\"],[0.1111111111111111,\"#46039f\"],[0.2222222222222222,\"#7201a8\"],[0.3333333333333333,\"#9c179e\"],[0.4444444444444444,\"#bd3786\"],[0.5555555555555556,\"#d8576b\"],[0.6666666666666666,\"#ed7953\"],[0.7777777777777778,\"#fb9f3a\"],[0.8888888888888888,\"#fdca26\"],[1.0,\"#f0f921\"]]}],\"heatmapgl\":[{\"type\":\"heatmapgl\",\"colorbar\":{\"outlinewidth\":0,\"ticks\":\"\"},\"colorscale\":[[0.0,\"#0d0887\"],[0.1111111111111111,\"#46039f\"],[0.2222222222222222,\"#7201a8\"],[0.3333333333333333,\"#9c179e\"],[0.4444444444444444,\"#bd3786\"],[0.5555555555555556,\"#d8576b\"],[0.6666666666666666,\"#ed7953\"],[0.7777777777777778,\"#fb9f3a\"],[0.8888888888888888,\"#fdca26\"],[1.0,\"#f0f921\"]]}],\"contourcarpet\":[{\"type\":\"contourcarpet\",\"colorbar\":{\"outlinewidth\":0,\"ticks\":\"\"}}],\"contour\":[{\"type\":\"contour\",\"colorbar\":{\"outlinewidth\":0,\"ticks\":\"\"},\"colorscale\":[[0.0,\"#0d0887\"],[0.1111111111111111,\"#46039f\"],[0.2222222222222222,\"#7201a8\"],[0.3333333333333333,\"#9c179e\"],[0.4444444444444444,\"#bd3786\"],[0.5555555555555556,\"#d8576b\"],[0.6666666666666666,\"#ed7953\"],[0.7777777777777778,\"#fb9f3a\"],[0.8888888888888888,\"#fdca26\"],[1.0,\"#f0f921\"]]}],\"surface\":[{\"type\":\"surface\",\"colorbar\":{\"outlinewidth\":0,\"ticks\":\"\"},\"colorscale\":[[0.0,\"#0d0887\"],[0.1111111111111111,\"#46039f\"],[0.2222222222222222,\"#7201a8\"],[0.3333333333333333,\"#9c179e\"],[0.4444444444444444,\"#bd3786\"],[0.5555555555555556,\"#d8576b\"],[0.6666666666666666,\"#ed7953\"],[0.7777777777777778,\"#fb9f3a\"],[0.8888888888888888,\"#fdca26\"],[1.0,\"#f0f921\"]]}],\"mesh3d\":[{\"type\":\"mesh3d\",\"colorbar\":{\"outlinewidth\":0,\"ticks\":\"\"}}],\"scatter\":[{\"fillpattern\":{\"fillmode\":\"overlay\",\"size\":10,\"solidity\":0.2},\"type\":\"scatter\"}],\"parcoords\":[{\"type\":\"parcoords\",\"line\":{\"colorbar\":{\"outlinewidth\":0,\"ticks\":\"\"}}}],\"scatterpolargl\":[{\"type\":\"scatterpolargl\",\"marker\":{\"colorbar\":{\"outlinewidth\":0,\"ticks\":\"\"}}}],\"bar\":[{\"error_x\":{\"color\":\"#2a3f5f\"},\"error_y\":{\"color\":\"#2a3f5f\"},\"marker\":{\"line\":{\"color\":\"#E5ECF6\",\"width\":0.5},\"pattern\":{\"fillmode\":\"overlay\",\"size\":10,\"solidity\":0.2}},\"type\":\"bar\"}],\"scattergeo\":[{\"type\":\"scattergeo\",\"marker\":{\"colorbar\":{\"outlinewidth\":0,\"ticks\":\"\"}}}],\"scatterpolar\":[{\"type\":\"scatterpolar\",\"marker\":{\"colorbar\":{\"outlinewidth\":0,\"ticks\":\"\"}}}],\"histogram\":[{\"marker\":{\"pattern\":{\"fillmode\":\"overlay\",\"size\":10,\"solidity\":0.2}},\"type\":\"histogram\"}],\"scattergl\":[{\"type\":\"scattergl\",\"marker\":{\"colorbar\":{\"outlinewidth\":0,\"ticks\":\"\"}}}],\"scatter3d\":[{\"type\":\"scatter3d\",\"line\":{\"colorbar\":{\"outlinewidth\":0,\"ticks\":\"\"}},\"marker\":{\"colorbar\":{\"outlinewidth\":0,\"ticks\":\"\"}}}],\"scattermapbox\":[{\"type\":\"scattermapbox\",\"marker\":{\"colorbar\":{\"outlinewidth\":0,\"ticks\":\"\"}}}],\"scatterternary\":[{\"type\":\"scatterternary\",\"marker\":{\"colorbar\":{\"outlinewidth\":0,\"ticks\":\"\"}}}],\"scattercarpet\":[{\"type\":\"scattercarpet\",\"marker\":{\"colorbar\":{\"outlinewidth\":0,\"ticks\":\"\"}}}],\"carpet\":[{\"aaxis\":{\"endlinecolor\":\"#2a3f5f\",\"gridcolor\":\"white\",\"linecolor\":\"white\",\"minorgridcolor\":\"white\",\"startlinecolor\":\"#2a3f5f\"},\"baxis\":{\"endlinecolor\":\"#2a3f5f\",\"gridcolor\":\"white\",\"linecolor\":\"white\",\"minorgridcolor\":\"white\",\"startlinecolor\":\"#2a3f5f\"},\"type\":\"carpet\"}],\"table\":[{\"cells\":{\"fill\":{\"color\":\"#EBF0F8\"},\"line\":{\"color\":\"white\"}},\"header\":{\"fill\":{\"color\":\"#C8D4E3\"},\"line\":{\"color\":\"white\"}},\"type\":\"table\"}],\"barpolar\":[{\"marker\":{\"line\":{\"color\":\"#E5ECF6\",\"width\":0.5},\"pattern\":{\"fillmode\":\"overlay\",\"size\":10,\"solidity\":0.2}},\"type\":\"barpolar\"}],\"pie\":[{\"automargin\":true,\"type\":\"pie\"}]},\"layout\":{\"autotypenumbers\":\"strict\",\"colorway\":[\"#636efa\",\"#EF553B\",\"#00cc96\",\"#ab63fa\",\"#FFA15A\",\"#19d3f3\",\"#FF6692\",\"#B6E880\",\"#FF97FF\",\"#FECB52\"],\"font\":{\"color\":\"#2a3f5f\"},\"hovermode\":\"closest\",\"hoverlabel\":{\"align\":\"left\"},\"paper_bgcolor\":\"white\",\"plot_bgcolor\":\"#E5ECF6\",\"polar\":{\"bgcolor\":\"#E5ECF6\",\"angularaxis\":{\"gridcolor\":\"white\",\"linecolor\":\"white\",\"ticks\":\"\"},\"radialaxis\":{\"gridcolor\":\"white\",\"linecolor\":\"white\",\"ticks\":\"\"}},\"ternary\":{\"bgcolor\":\"#E5ECF6\",\"aaxis\":{\"gridcolor\":\"white\",\"linecolor\":\"white\",\"ticks\":\"\"},\"baxis\":{\"gridcolor\":\"white\",\"linecolor\":\"white\",\"ticks\":\"\"},\"caxis\":{\"gridcolor\":\"white\",\"linecolor\":\"white\",\"ticks\":\"\"}},\"coloraxis\":{\"colorbar\":{\"outlinewidth\":0,\"ticks\":\"\"}},\"colorscale\":{\"sequential\":[[0.0,\"#0d0887\"],[0.1111111111111111,\"#46039f\"],[0.2222222222222222,\"#7201a8\"],[0.3333333333333333,\"#9c179e\"],[0.4444444444444444,\"#bd3786\"],[0.5555555555555556,\"#d8576b\"],[0.6666666666666666,\"#ed7953\"],[0.7777777777777778,\"#fb9f3a\"],[0.8888888888888888,\"#fdca26\"],[1.0,\"#f0f921\"]],\"sequentialminus\":[[0.0,\"#0d0887\"],[0.1111111111111111,\"#46039f\"],[0.2222222222222222,\"#7201a8\"],[0.3333333333333333,\"#9c179e\"],[0.4444444444444444,\"#bd3786\"],[0.5555555555555556,\"#d8576b\"],[0.6666666666666666,\"#ed7953\"],[0.7777777777777778,\"#fb9f3a\"],[0.8888888888888888,\"#fdca26\"],[1.0,\"#f0f921\"]],\"diverging\":[[0,\"#8e0152\"],[0.1,\"#c51b7d\"],[0.2,\"#de77ae\"],[0.3,\"#f1b6da\"],[0.4,\"#fde0ef\"],[0.5,\"#f7f7f7\"],[0.6,\"#e6f5d0\"],[0.7,\"#b8e186\"],[0.8,\"#7fbc41\"],[0.9,\"#4d9221\"],[1,\"#276419\"]]},\"xaxis\":{\"gridcolor\":\"white\",\"linecolor\":\"white\",\"ticks\":\"\",\"title\":{\"standoff\":15},\"zerolinecolor\":\"white\",\"automargin\":true,\"zerolinewidth\":2},\"yaxis\":{\"gridcolor\":\"white\",\"linecolor\":\"white\",\"ticks\":\"\",\"title\":{\"standoff\":15},\"zerolinecolor\":\"white\",\"automargin\":true,\"zerolinewidth\":2},\"scene\":{\"xaxis\":{\"backgroundcolor\":\"#E5ECF6\",\"gridcolor\":\"white\",\"linecolor\":\"white\",\"showbackground\":true,\"ticks\":\"\",\"zerolinecolor\":\"white\",\"gridwidth\":2},\"yaxis\":{\"backgroundcolor\":\"#E5ECF6\",\"gridcolor\":\"white\",\"linecolor\":\"white\",\"showbackground\":true,\"ticks\":\"\",\"zerolinecolor\":\"white\",\"gridwidth\":2},\"zaxis\":{\"backgroundcolor\":\"#E5ECF6\",\"gridcolor\":\"white\",\"linecolor\":\"white\",\"showbackground\":true,\"ticks\":\"\",\"zerolinecolor\":\"white\",\"gridwidth\":2}},\"shapedefaults\":{\"line\":{\"color\":\"#2a3f5f\"}},\"annotationdefaults\":{\"arrowcolor\":\"#2a3f5f\",\"arrowhead\":0,\"arrowwidth\":1},\"geo\":{\"bgcolor\":\"white\",\"landcolor\":\"#E5ECF6\",\"subunitcolor\":\"white\",\"showland\":true,\"showlakes\":true,\"lakecolor\":\"white\"},\"title\":{\"x\":0.05},\"mapbox\":{\"style\":\"light\"}}},\"xaxis\":{\"anchor\":\"y\",\"domain\":[0.0,1.0],\"title\":{\"text\":\"Average Compactness of Tumor Cells\"}},\"yaxis\":{\"anchor\":\"x\",\"domain\":[0.0,1.0],\"title\":{\"text\":\"Average Smoothness of Tumor Cells\"}},\"legend\":{\"title\":{\"text\":\"Malignant or Benign\"},\"tracegroupgap\":0,\"itemsizing\":\"constant\"},\"title\":{\"text\":\"Compactness and Smoothness of Tumor cells with Breast Cancer and Tumor Area\"},\"height\":800,\"width\":1000},                        {\"responsive\": true}                    ).then(function(){\n                            \nvar gd = document.getElementById('7769d294-0dd8-4936-844a-fa574a92f38f');\nvar x = new MutationObserver(function (mutations, observer) {{\n        var display = window.getComputedStyle(gd).display;\n        if (!display || display === 'none') {{\n            console.log([gd, 'removed!']);\n            Plotly.purge(gd);\n            observer.disconnect();\n        }}\n}});\n\n// Listen for the removal of the full notebook cells\nvar notebookContainer = gd.closest('#notebook-container');\nif (notebookContainer) {{\n    x.observe(notebookContainer, {childList: true});\n}}\n\n// Listen for the clearing of the current output cell\nvar outputEl = gd.closest('.output');\nif (outputEl) {{\n    x.observe(outputEl, {childList: true});\n}}\n\n                        })                };                });            </script>        </div>"
     },
     "metadata": {},
     "output_type": "display_data"
    }
   ],
   "source": [
    "fig = px.scatter(x=df[\"x.compactness_mean\"], y=df[\"x.smoothness_mean\"],\n",
    "                 width=1000, height=800,\n",
    "                 color=df.y, size=df[\"x.area_mean\"],\n",
    "                 labels={\"x\": \"Average Compactness of Tumor Cells\",\n",
    "                         \"y\": \"Average Smoothness of Tumor Cells\",\n",
    "                         \"color\": \"Malignant or Benign\"},\n",
    "                 title=\"Compactness and Smoothness of Tumor cells with Breast Cancer and Tumor Area\")\n",
    "fig.show()"
   ],
   "metadata": {
    "collapsed": false,
    "is_executing": true,
    "ExecuteTime": {
     "start_time": "2023-07-07T00:30:20.545666Z"
    }
   }
  },
  {
   "cell_type": "code",
   "execution_count": null,
   "outputs": [
    {
     "data": {
      "application/vnd.plotly.v1+json": {
       "data": [
        {
         "coloraxis": "coloraxis",
         "name": "0",
         "texttemplate": "%{z}",
         "x": [
          "Unnamed: 0",
          "x.radius_mean",
          "x.texture_mean",
          "x.perimeter_mean",
          "x.area_mean",
          "x.smoothness_mean",
          "x.compactness_mean",
          "x.concavity_mean",
          "x.concave_pts_mean",
          "x.symmetry_mean",
          "x.fractal_dim_mean",
          "x.radius_se",
          "x.texture_se",
          "x.perimeter_se",
          "x.area_se",
          "x.smoothness_se",
          "x.compactness_se",
          "x.concavity_se",
          "x.concave_pts_se",
          "x.symmetry_se",
          "x.fractal_dim_se",
          "x.radius_worst",
          "x.texture_worst",
          "x.perimeter_worst",
          "x.area_worst",
          "x.smoothness_worst",
          "x.compactness_worst",
          "x.concavity_worst",
          "x.concave_pts_worst",
          "x.symmetry_worst",
          "x.fractal_dim_worst"
         ],
         "y": [
          "Unnamed: 0",
          "x.radius_mean",
          "x.texture_mean",
          "x.perimeter_mean",
          "x.area_mean",
          "x.smoothness_mean",
          "x.compactness_mean",
          "x.concavity_mean",
          "x.concave_pts_mean",
          "x.symmetry_mean",
          "x.fractal_dim_mean",
          "x.radius_se",
          "x.texture_se",
          "x.perimeter_se",
          "x.area_se",
          "x.smoothness_se",
          "x.compactness_se",
          "x.concavity_se",
          "x.concave_pts_se",
          "x.symmetry_se",
          "x.fractal_dim_se",
          "x.radius_worst",
          "x.texture_worst",
          "x.perimeter_worst",
          "x.area_worst",
          "x.smoothness_worst",
          "x.compactness_worst",
          "x.concavity_worst",
          "x.concave_pts_worst",
          "x.symmetry_worst",
          "x.fractal_dim_worst"
         ],
         "z": [
          [
           1.0,
           0.660663701722513,
           0.45955999884225507,
           0.6696075970486693,
           0.6432129355036106,
           0.26559363002437403,
           0.5050294794445467,
           0.5892817456221102,
           0.6657088656432861,
           0.22355253276620882,
           -0.04482773484204622,
           0.4842953283894603,
           0.01957114818820955,
           0.4807889951984729,
           0.48271441721976166,
           -0.06253259007391161,
           0.230753427386303,
           0.19457611692125987,
           0.33592623811108824,
           -0.0693446713813502,
           0.0325031167966979,
           0.6887203318029438,
           0.4740985019254066,
           0.6951065827597437,
           0.6525976330532871,
           0.33371267130012844,
           0.4940182271039446,
           0.5559813461419298,
           0.6785257098028701,
           0.28903973746568173,
           0.24830932718775295
          ],
          [
           0.660663701722513,
           1.0,
           0.3237818909277332,
           0.997855281493811,
           0.9873571700566116,
           0.1705811874929946,
           0.5061235775263639,
           0.6767635503908106,
           0.8225285223871787,
           0.14774124199260188,
           -0.31163082630929173,
           0.6790903880020748,
           -0.09731744314481272,
           0.6741716157641052,
           0.7358636632128175,
           -0.22260012458211192,
           0.2059999804076984,
           0.194203622761509,
           0.37616895593992566,
           -0.10432088141786558,
           -0.04264126911445638,
           0.9695389726112056,
           0.2970076439863736,
           0.9651365139559882,
           0.9410824595860464,
           0.11961613992160601,
           0.4134628230608013,
           0.5269114618385445,
           0.7442141978674663,
           0.16395333493630593,
           0.007065885692182328
          ],
          [
           0.45955999884225507,
           0.3237818909277332,
           1.0,
           0.32953305868657107,
           0.32108569608020754,
           -0.023388515998423415,
           0.23670222207437291,
           0.3024178279438918,
           0.2934640513139433,
           0.0714009804833169,
           -0.07643718344813447,
           0.2758686761737624,
           0.38635762272449126,
           0.28167311478720325,
           0.25984498661009864,
           0.006613777353585312,
           0.19197461132396643,
           0.1432930765604986,
           0.16385102528521822,
           0.009127167755036546,
           0.054457519568933674,
           0.35257294715029636,
           0.912044588840421,
           0.3580395750532249,
           0.34354594718647014,
           0.0775033588221278,
           0.27782959247897954,
           0.301025223816491,
           0.2953158433377373,
           0.10500791031597134,
           0.11920535139708556
          ],
          [
           0.6696075970486693,
           0.997855281493811,
           0.32953305868657107,
           1.0,
           0.9865068039913905,
           0.2072781636910066,
           0.5569362108795627,
           0.7161356501174044,
           0.8509770412528214,
           0.18302721211685258,
           -0.26147690806633506,
           0.6917650135334814,
           -0.08676107831179393,
           0.6931348895408663,
           0.7449826941190676,
           -0.20269402629832217,
           0.25074368074058784,
           0.22808234539365782,
           0.4072169159986186,
           -0.08162932702839927,
           -0.005523391057004126,
           0.9694763634663154,
           0.30303837155715074,
           0.97038688704264,
           0.9415498080023075,
           0.1505494043170354,
           0.4557742280383269,
           0.5638792634736618,
           0.7712407893605496,
           0.18911504046245645,
           0.05101852972340683
          ],
          [
           0.6432129355036106,
           0.9873571700566116,
           0.32108569608020754,
           0.9865068039913905,
           1.0,
           0.17702837725400136,
           0.4985016821524126,
           0.6859828285519108,
           0.8232688686524331,
           0.15129307903511188,
           -0.28310981169142796,
           0.7325622269972965,
           -0.06628021360457675,
           0.726628327790685,
           0.8000859212343204,
           -0.1667766666011126,
           0.21258255077923224,
           0.20766006048256921,
           0.3723202823307099,
           -0.07249658821176244,
           -0.019886963235068087,
           0.9627460860470831,
           0.28748862712139694,
           0.9591195743552654,
           0.9592133256498996,
           0.12352293875556902,
           0.39041030924249887,
           0.5126059204433244,
           0.722016626260359,
           0.14356991388906995,
           0.003737597351571627
          ],
          [
           0.26559363002437403,
           0.1705811874929946,
           -0.023388515998423415,
           0.2072781636910066,
           0.17702837725400136,
           1.0,
           0.6591232152159233,
           0.5219837677142599,
           0.5536951727437603,
           0.5577747880728864,
           0.584792001949977,
           0.30146709825316953,
           0.06840644817118277,
           0.29609193289351454,
           0.24655243166573548,
           0.3323754426475912,
           0.31894329670537847,
           0.24839567988255531,
           0.3806756909832856,
           0.20077437592048378,
           0.283606698546885,
           0.21312014189594855,
           0.03607179878564622,
           0.2388526262091507,
           0.2067183634285766,
           0.8053241954943627,
           0.4724684437304434,
           0.4349257147250869,
           0.5030533532989508,
           0.394309481811755,
           0.4993163685937658
          ],
          [
           0.5050294794445467,
           0.5061235775263639,
           0.23670222207437291,
           0.5569362108795627,
           0.4985016821524126,
           0.6591232152159233,
           1.0,
           0.883120670177251,
           0.8311350431336993,
           0.6026410484055151,
           0.5653686634145212,
           0.49747344608506194,
           0.04620483071640746,
           0.5489052645888238,
           0.45565285198788913,
           0.13529926770047127,
           0.7387217896603919,
           0.5705168714898887,
           0.6422618509716471,
           0.22997659080143226,
           0.5073181269004214,
           0.5353153982176668,
           0.24813283327741872,
           0.5902104277312992,
           0.5096038055579208,
           0.5655411663750871,
           0.8658090398022633,
           0.8162752498000291,
           0.8155732235690656,
           0.5102234299218051,
           0.6873823227538962
          ],
          [
           0.5892817456221102,
           0.6767635503908106,
           0.3024178279438918,
           0.7161356501174044,
           0.6859828285519108,
           0.5219837677142599,
           0.883120670177251,
           1.0,
           0.9213910263788593,
           0.5006666171419606,
           0.3367833594211843,
           0.6319248221414905,
           0.07621834813534067,
           0.660390787241962,
           0.6174268058452412,
           0.09856374579911725,
           0.6702788246430195,
           0.691270207544851,
           0.6832599165123265,
           0.1780092079208783,
           0.44930074905033907,
           0.6882364076436729,
           0.29987888870969115,
           0.7295649165132031,
           0.6759872313060884,
           0.4488220384047591,
           0.7549680159063958,
           0.8841026390943814,
           0.8613230336379514,
           0.40946412653998543,
           0.514929890636387
          ],
          [
           0.6657088656432861,
           0.8225285223871787,
           0.2934640513139433,
           0.8509770412528214,
           0.8232688686524331,
           0.5536951727437603,
           0.8311350431336993,
           0.9213910263788593,
           1.0,
           0.46249738836735754,
           0.1669173832269908,
           0.6980498335607405,
           0.021479581923402474,
           0.7106498716138993,
           0.6902985397595534,
           0.027653308387136002,
           0.4904242495935708,
           0.4391670684742615,
           0.6156341308969191,
           0.09535078688667742,
           0.2575837462430326,
           0.8303176311186158,
           0.29275171300151753,
           0.8559231281343114,
           0.8096296199096182,
           0.4527530541790468,
           0.6674536768257122,
           0.7523994975749646,
           0.9101553142985936,
           0.3757441454236097,
           0.3686611337167709
          ],
          [
           0.22355253276620882,
           0.14774124199260188,
           0.0714009804833169,
           0.18302721211685258,
           0.15129307903511188,
           0.5577747880728864,
           0.6026410484055151,
           0.5006666171419606,
           0.46249738836735754,
           1.0,
           0.4799213300509678,
           0.30337926320726233,
           0.1280529263402562,
           0.31389276079651335,
           0.2239702194176299,
           0.1873211652613907,
           0.4216591470050104,
           0.3426270230777198,
           0.39329787208901684,
           0.4491365423934294,
           0.3317861462731241,
           0.18572775349568704,
           0.09065068811664262,
           0.21916855911105754,
           0.1771933773740967,
           0.42667502638494537,
           0.4732000132446179,
           0.43372100759017224,
           0.43029661145795395,
           0.69982579764373,
           0.43841349844460215
          ],
          [
           -0.04482773484204622,
           -0.31163082630929173,
           -0.07643718344813447,
           -0.26147690806633506,
           -0.28310981169142796,
           0.584792001949977,
           0.5653686634145212,
           0.3367833594211843,
           0.1669173832269908,
           0.4799213300509678,
           1.0,
           1.1099507262810202E-4,
           0.16417396587172908,
           0.03982993157204571,
           -0.09017024752042847,
           0.4019644254484135,
           0.5598366906211324,
           0.4466303216995712,
           0.3411980443971169,
           0.34500739714372797,
           0.6881315774585511,
           -0.25369149487661175,
           -0.051269202036765854,
           -0.20515121126277536,
           -0.2318544511675624,
           0.5049420753517618,
           0.458798156667859,
           0.3462338763480669,
           0.17532544924324317,
           0.33401868385108285,
           0.767296779238436
          ],
          [
           0.4842953283894603,
           0.6790903880020748,
           0.2758686761737624,
           0.6917650135334814,
           0.7325622269972965,
           0.30146709825316953,
           0.49747344608506194,
           0.6319248221414905,
           0.6980498335607405,
           0.30337926320726233,
           1.1099507262810202E-4,
           1.0,
           0.21324733725115816,
           0.9727936770160744,
           0.9518301121109903,
           0.16451421981281095,
           0.35606457553220233,
           0.3323575376076103,
           0.5133464414367646,
           0.24056736245007188,
           0.22775353267198045,
           0.7150651951351843,
           0.19479855683425107,
           0.7196838036650056,
           0.7515484761266201,
           0.1419185529186049,
           0.2871031656007399,
           0.38058463462872205,
           0.5310623278216036,
           0.09454283035438077,
           0.04955943246457297
          ],
          [
           0.01957114818820955,
           -0.09731744314481272,
           0.38635762272449126,
           -0.08676107831179393,
           -0.06628021360457675,
           0.06840644817118277,
           0.04620483071640746,
           0.07621834813534067,
           0.021479581923402474,
           0.1280529263402562,
           0.16417396587172908,
           0.21324733725115816,
           1.0,
           0.2231707286307144,
           0.1115672472180399,
           0.3972428526412094,
           0.2316996989762375,
           0.1949984644588191,
           0.23028339955703359,
           0.4116206801975398,
           0.27972274771919414,
           -0.1116903131249297,
           0.4090027663153062,
           -0.10224192188743218,
           -0.08319498858504598,
           -0.07365765910118517,
           -0.09243935361819303,
           -0.06895622054645531,
           -0.1196375231398453,
           -0.12821475779252925,
           -0.04565456859320664
          ],
          [
           0.4807889951984729,
           0.6741716157641052,
           0.28167311478720325,
           0.6931348895408663,
           0.726628327790685,
           0.29609193289351454,
           0.5489052645888238,
           0.660390787241962,
           0.7106498716138993,
           0.31389276079651335,
           0.03982993157204571,
           0.9727936770160744,
           0.2231707286307144,
           1.0,
           0.9376554069544158,
           0.15107533120841282,
           0.4163223679924621,
           0.36248158227044863,
           0.5562640836543961,
           0.26648709186402314,
           0.2441427734162862,
           0.6972005927206464,
           0.2003708539594519,
           0.7210313099890181,
           0.730712973130283,
           0.13005439199100846,
           0.3419194453712062,
           0.4188988157305722,
           0.5548972306282114,
           0.10993043423134957,
           0.08543257205665734
          ],
          [
           0.48271441721976166,
           0.7358636632128175,
           0.25984498661009864,
           0.7449826941190676,
           0.8000859212343204,
           0.24655243166573548,
           0.45565285198788913,
           0.6174268058452412,
           0.6902985397595534,
           0.2239702194176299,
           -0.09017024752042847,
           0.9518301121109903,
           0.1115672472180399,
           0.9376554069544158,
           1.0,
           0.07515033812199369,
           0.2848400565411604,
           0.2708947261906319,
           0.4157295683714,
           0.13410897969247523,
           0.12707090297801252,
           0.7573731889240157,
           0.1964966490728105,
           0.7612126360687588,
           0.8114079609317278,
           0.12538943051608978,
           0.2832565375374553,
           0.3851001355985288,
           0.5381663138957362,
           0.0741262915995272,
           0.017539295132385464
          ],
          [
           -0.06253259007391161,
           -0.22260012458211192,
           0.006613777353585312,
           -0.20269402629832217,
           -0.1667766666011126,
           0.3323754426475912,
           0.13529926770047127,
           0.09856374579911725,
           0.027653308387136002,
           0.1873211652613907,
           0.4019644254484135,
           0.16451421981281095,
           0.3972428526412094,
           0.15107533120841282,
           0.07515033812199369,
           1.0,
           0.33669608050544525,
           0.26868475987226226,
           0.328429499109679,
           0.41350612520789726,
           0.4273742067231576,
           -0.23069070984514814,
           -0.07474296487675633,
           -0.2173037545818623,
           -0.18219547805909925,
           0.314457455980829,
           -0.055558138715050845,
           -0.05829838674344542,
           -0.10200679633746536,
           -0.1073420977891447,
           0.10148031504252497
          ],
          [
           0.230753427386303,
           0.2059999804076984,
           0.19197461132396643,
           0.25074368074058784,
           0.21258255077923224,
           0.31894329670537847,
           0.7387217896603919,
           0.6702788246430195,
           0.4904242495935708,
           0.4216591470050104,
           0.5598366906211324,
           0.35606457553220233,
           0.2316996989762375,
           0.4163223679924621,
           0.2848400565411604,
           0.33669608050544525,
           1.0,
           0.8012683427383275,
           0.7440826676953246,
           0.3947128347620321,
           0.8032688176617668,
           0.20460716594748105,
           0.1430025832957164,
           0.2605158396472085,
           0.1993713290910136,
           0.2273942323054223,
           0.6787803543724947,
           0.6391466977559194,
           0.4832083268256135,
           0.2778784307146345,
           0.5909727625047898
          ],
          [
           0.19457611692125987,
           0.194203622761509,
           0.1432930765604986,
           0.22808234539365782,
           0.20766006048256921,
           0.24839567988255531,
           0.5705168714898887,
           0.691270207544851,
           0.4391670684742615,
           0.3426270230777198,
           0.4466303216995712,
           0.3323575376076103,
           0.1949984644588191,
           0.36248158227044863,
           0.2708947261906319,
           0.26868475987226226,
           0.8012683427383275,
           1.0,
           0.7718039949238457,
           0.3094285779844512,
           0.7273721838811924,
           0.18690351568589755,
           0.10024098374834625,
           0.22668042559090112,
           0.18835265208953048,
           0.16848132079136685,
           0.4848578006864689,
           0.6625641337427407,
           0.4404722630462225,
           0.1977878218614104,
           0.439329268575791
          ],
          [
           0.33592623811108824,
           0.37616895593992566,
           0.16385102528521822,
           0.4072169159986186,
           0.3723202823307099,
           0.3806756909832856,
           0.6422618509716471,
           0.6832599165123265,
           0.6156341308969191,
           0.39329787208901684,
           0.3411980443971169,
           0.5133464414367646,
           0.23028339955703359,
           0.5562640836543961,
           0.4157295683714,
           0.328429499109679,
           0.7440826676953246,
           0.7718039949238457,
           1.0,
           0.3127802232097338,
           0.6110441393807224,
           0.3581266692410421,
           0.0867412099428686,
           0.39499925177418477,
           0.3422711620926816,
           0.21535059681593244,
           0.45288837736988086,
           0.5495923752351933,
           0.6024496059209867,
           0.1431156686330493,
           0.31065455149383064
          ],
          [
           -0.0693446713813502,
           -0.10432088141786558,
           0.009127167755036546,
           -0.08162932702839927,
           -0.07249658821176244,
           0.20077437592048378,
           0.22997659080143226,
           0.1780092079208783,
           0.09535078688667742,
           0.4491365423934294,
           0.34500739714372797,
           0.24056736245007188,
           0.4116206801975398,
           0.26648709186402314,
           0.13410897969247523,
           0.41350612520789726,
           0.3947128347620321,
           0.3094285779844512,
           0.3127802232097338,
           1.0,
           0.36907808336572917,
           -0.12812076907274225,
           -0.07747342018407848,
           -0.1037530438433249,
           -0.1103427428954984,
           -0.01266179956590846,
           0.06025487946536716,
           0.03711904859992888,
           -0.030413396423600456,
           0.3894024848846465,
           0.07807947627266813
          ],
          [
           0.0325031167966979,
           -0.04264126911445638,
           0.054457519568933674,
           -0.005523391057004126,
           -0.019886963235068087,
           0.283606698546885,
           0.5073181269004214,
           0.44930074905033907,
           0.2575837462430326,
           0.3317861462731241,
           0.6881315774585511,
           0.22775353267198045,
           0.27972274771919414,
           0.2441427734162862,
           0.12707090297801252,
           0.4273742067231576,
           0.8032688176617668,
           0.7273721838811924,
           0.6110441393807224,
           0.36907808336572917,
           1.0,
           -0.03748761786267349,
           -0.0031950288680895923,
           -0.0010003976259669836,
           -0.022736147308900587,
           0.1705683159531421,
           0.3901588420866744,
           0.37997466145707903,
           0.21520401331002928,
           0.1110939557557242,
           0.5913280656608757
          ],
          [
           0.6887203318029438,
           0.9695389726112056,
           0.35257294715029636,
           0.9694763634663154,
           0.9627460860470831,
           0.21312014189594855,
           0.5353153982176668,
           0.6882364076436729,
           0.8303176311186158,
           0.18572775349568704,
           -0.25369149487661175,
           0.7150651951351843,
           -0.1116903131249297,
           0.6972005927206464,
           0.7573731889240157,
           -0.23069070984514814,
           0.20460716594748105,
           0.18690351568589755,
           0.3581266692410421,
           -0.12812076907274225,
           -0.03748761786267349,
           1.0,
           0.35992075422104813,
           0.9937079161029516,
           0.9840145644590744,
           0.2165744312596938,
           0.47582003746014634,
           0.5739747080993033,
           0.7874238517122413,
           0.24352920429131208,
           0.09349197867930151
          ],
          [
           0.4740985019254066,
           0.2970076439863736,
           0.912044588840421,
           0.30303837155715074,
           0.28748862712139694,
           0.03607179878564622,
           0.24813283327741872,
           0.29987888870969115,
           0.29275171300151753,
           0.09065068811664262,
           -0.051269202036765854,
           0.19479855683425107,
           0.4090027663153062,
           0.2003708539594519,
           0.1964966490728105,
           -0.07474296487675633,
           0.1430025832957164,
           0.10024098374834625,
           0.0867412099428686,
           -0.07747342018407848,
           -0.0031950288680895923,
           0.35992075422104813,
           1.0,
           0.3650982454086194,
           0.34584228252679733,
           0.22542941490948554,
           0.3608323385979732,
           0.3683656074599454,
           0.3597546095250368,
           0.23302746144531672,
           0.21912242546315847
          ],
          [
           0.6951065827597437,
           0.9651365139559882,
           0.3580395750532249,
           0.97038688704264,
           0.9591195743552654,
           0.2388526262091507,
           0.5902104277312992,
           0.7295649165132031,
           0.8559231281343114,
           0.21916855911105754,
           -0.20515121126277536,
           0.7196838036650056,
           -0.10224192188743218,
           0.7210313099890181,
           0.7612126360687588,
           -0.2173037545818623,
           0.2605158396472085,
           0.22668042559090112,
           0.39499925177418477,
           -0.1037530438433249,
           -0.0010003976259669836,
           0.9937079161029516,
           0.3650982454086194,
           1.0,
           0.9775780914063877,
           0.23677460388606755,
           0.529407690164103,
           0.6183440795335166,
           0.8163221016875447,
           0.2694927690838161,
           0.13895686184575776
          ],
          [
           0.6525976330532871,
           0.9410824595860464,
           0.34354594718647014,
           0.9415498080023075,
           0.9592133256498996,
           0.2067183634285766,
           0.5096038055579208,
           0.6759872313060884,
           0.8096296199096182,
           0.1771933773740967,
           -0.2318544511675624,
           0.7515484761266201,
           -0.08319498858504598,
           0.730712973130283,
           0.8114079609317278,
           -0.18219547805909925,
           0.1993713290910136,
           0.18835265208953048,
           0.3422711620926816,
           -0.1103427428954984,
           -0.022736147308900587,
           0.9840145644590744,
           0.34584228252679733,
           0.9775780914063877,
           1.0,
           0.2091453337602882,
           0.4382962837796735,
           0.54333052541108,
           0.7474188023228187,
           0.2091455083870776,
           0.07964703402467599
          ],
          [
           0.33371267130012844,
           0.11961613992160601,
           0.0775033588221278,
           0.1505494043170354,
           0.12352293875556902,
           0.8053241954943627,
           0.5655411663750871,
           0.4488220384047591,
           0.4527530541790468,
           0.42667502638494537,
           0.5049420753517618,
           0.1419185529186049,
           -0.07365765910118517,
           0.13005439199100846,
           0.12538943051608978,
           0.314457455980829,
           0.2273942323054223,
           0.16848132079136685,
           0.21535059681593244,
           -0.01266179956590846,
           0.1705683159531421,
           0.2165744312596938,
           0.22542941490948554,
           0.23677460388606755,
           0.2091453337602882,
           1.0,
           0.568186516685606,
           0.5185232928640006,
           0.5476909029497863,
           0.4938383302357584,
           0.6176241916554384
          ],
          [
           0.4940182271039446,
           0.4134628230608013,
           0.27782959247897954,
           0.4557742280383269,
           0.39041030924249887,
           0.4724684437304434,
           0.8658090398022633,
           0.7549680159063958,
           0.6674536768257122,
           0.4732000132446179,
           0.458798156667859,
           0.2871031656007399,
           -0.09243935361819303,
           0.3419194453712062,
           0.2832565375374553,
           -0.055558138715050845,
           0.6787803543724947,
           0.4848578006864689,
           0.45288837736988086,
           0.06025487946536716,
           0.3901588420866744,
           0.47582003746014634,
           0.3608323385979732,
           0.529407690164103,
           0.4382962837796735,
           0.568186516685606,
           1.0,
           0.8922608987764691,
           0.8010803646352535,
           0.6144405011493054,
           0.8104548563116106
          ],
          [
           0.5559813461419298,
           0.5269114618385445,
           0.301025223816491,
           0.5638792634736618,
           0.5126059204433244,
           0.4349257147250869,
           0.8162752498000291,
           0.8841026390943814,
           0.7523994975749646,
           0.43372100759017224,
           0.3462338763480669,
           0.38058463462872205,
           -0.06895622054645531,
           0.4188988157305722,
           0.3851001355985288,
           -0.05829838674344542,
           0.6391466977559194,
           0.6625641337427407,
           0.5495923752351933,
           0.03711904859992888,
           0.37997466145707903,
           0.5739747080993033,
           0.3683656074599454,
           0.6183440795335166,
           0.54333052541108,
           0.5185232928640006,
           0.8922608987764691,
           1.0,
           0.855433860343999,
           0.5325197291183609,
           0.6865109212448639
          ],
          [
           0.6785257098028701,
           0.7442141978674663,
           0.2953158433377373,
           0.7712407893605496,
           0.722016626260359,
           0.5030533532989508,
           0.8155732235690656,
           0.8613230336379514,
           0.9101553142985936,
           0.43029661145795395,
           0.17532544924324317,
           0.5310623278216036,
           -0.1196375231398453,
           0.5548972306282114,
           0.5381663138957362,
           -0.10200679633746536,
           0.4832083268256135,
           0.4404722630462225,
           0.6024496059209867,
           -0.030413396423600456,
           0.21520401331002928,
           0.7874238517122413,
           0.3597546095250368,
           0.8163221016875447,
           0.7474188023228187,
           0.5476909029497863,
           0.8010803646352535,
           0.855433860343999,
           1.0,
           0.502528493830697,
           0.5111141458863393
          ],
          [
           0.28903973746568173,
           0.16395333493630593,
           0.10500791031597134,
           0.18911504046245645,
           0.14356991388906995,
           0.394309481811755,
           0.5102234299218051,
           0.40946412653998543,
           0.3757441454236097,
           0.69982579764373,
           0.33401868385108285,
           0.09454283035438077,
           -0.12821475779252925,
           0.10993043423134957,
           0.0741262915995272,
           -0.1073420977891447,
           0.2778784307146345,
           0.1977878218614104,
           0.1431156686330493,
           0.3894024848846465,
           0.1110939557557242,
           0.24352920429131208,
           0.23302746144531672,
           0.2694927690838161,
           0.2091455083870776,
           0.4938383302357584,
           0.6144405011493054,
           0.5325197291183609,
           0.502528493830697,
           1.0,
           0.5378482062536085
          ],
          [
           0.24830932718775295,
           0.007065885692182328,
           0.11920535139708556,
           0.05101852972340683,
           0.003737597351571627,
           0.4993163685937658,
           0.6873823227538962,
           0.514929890636387,
           0.3686611337167709,
           0.43841349844460215,
           0.767296779238436,
           0.04955943246457297,
           -0.04565456859320664,
           0.08543257205665734,
           0.017539295132385464,
           0.10148031504252497,
           0.5909727625047898,
           0.439329268575791,
           0.31065455149383064,
           0.07807947627266813,
           0.5913280656608757,
           0.09349197867930151,
           0.21912242546315847,
           0.13895686184575776,
           0.07964703402467599,
           0.6176241916554384,
           0.8104548563116106,
           0.6865109212448639,
           0.5111141458863393,
           0.5378482062536085,
           1.0
          ]
         ],
         "type": "heatmap",
         "xaxis": "x",
         "yaxis": "y",
         "hovertemplate": "x: %{x}<br>y: %{y}<br>color: %{z}<extra></extra>"
        }
       ],
       "layout": {
        "template": {
         "data": {
          "histogram2dcontour": [
           {
            "type": "histogram2dcontour",
            "colorbar": {
             "outlinewidth": 0,
             "ticks": ""
            },
            "colorscale": [
             [
              0.0,
              "#0d0887"
             ],
             [
              0.1111111111111111,
              "#46039f"
             ],
             [
              0.2222222222222222,
              "#7201a8"
             ],
             [
              0.3333333333333333,
              "#9c179e"
             ],
             [
              0.4444444444444444,
              "#bd3786"
             ],
             [
              0.5555555555555556,
              "#d8576b"
             ],
             [
              0.6666666666666666,
              "#ed7953"
             ],
             [
              0.7777777777777778,
              "#fb9f3a"
             ],
             [
              0.8888888888888888,
              "#fdca26"
             ],
             [
              1.0,
              "#f0f921"
             ]
            ]
           }
          ],
          "choropleth": [
           {
            "type": "choropleth",
            "colorbar": {
             "outlinewidth": 0,
             "ticks": ""
            }
           }
          ],
          "histogram2d": [
           {
            "type": "histogram2d",
            "colorbar": {
             "outlinewidth": 0,
             "ticks": ""
            },
            "colorscale": [
             [
              0.0,
              "#0d0887"
             ],
             [
              0.1111111111111111,
              "#46039f"
             ],
             [
              0.2222222222222222,
              "#7201a8"
             ],
             [
              0.3333333333333333,
              "#9c179e"
             ],
             [
              0.4444444444444444,
              "#bd3786"
             ],
             [
              0.5555555555555556,
              "#d8576b"
             ],
             [
              0.6666666666666666,
              "#ed7953"
             ],
             [
              0.7777777777777778,
              "#fb9f3a"
             ],
             [
              0.8888888888888888,
              "#fdca26"
             ],
             [
              1.0,
              "#f0f921"
             ]
            ]
           }
          ],
          "heatmap": [
           {
            "type": "heatmap",
            "colorbar": {
             "outlinewidth": 0,
             "ticks": ""
            },
            "colorscale": [
             [
              0.0,
              "#0d0887"
             ],
             [
              0.1111111111111111,
              "#46039f"
             ],
             [
              0.2222222222222222,
              "#7201a8"
             ],
             [
              0.3333333333333333,
              "#9c179e"
             ],
             [
              0.4444444444444444,
              "#bd3786"
             ],
             [
              0.5555555555555556,
              "#d8576b"
             ],
             [
              0.6666666666666666,
              "#ed7953"
             ],
             [
              0.7777777777777778,
              "#fb9f3a"
             ],
             [
              0.8888888888888888,
              "#fdca26"
             ],
             [
              1.0,
              "#f0f921"
             ]
            ]
           }
          ],
          "heatmapgl": [
           {
            "type": "heatmapgl",
            "colorbar": {
             "outlinewidth": 0,
             "ticks": ""
            },
            "colorscale": [
             [
              0.0,
              "#0d0887"
             ],
             [
              0.1111111111111111,
              "#46039f"
             ],
             [
              0.2222222222222222,
              "#7201a8"
             ],
             [
              0.3333333333333333,
              "#9c179e"
             ],
             [
              0.4444444444444444,
              "#bd3786"
             ],
             [
              0.5555555555555556,
              "#d8576b"
             ],
             [
              0.6666666666666666,
              "#ed7953"
             ],
             [
              0.7777777777777778,
              "#fb9f3a"
             ],
             [
              0.8888888888888888,
              "#fdca26"
             ],
             [
              1.0,
              "#f0f921"
             ]
            ]
           }
          ],
          "contourcarpet": [
           {
            "type": "contourcarpet",
            "colorbar": {
             "outlinewidth": 0,
             "ticks": ""
            }
           }
          ],
          "contour": [
           {
            "type": "contour",
            "colorbar": {
             "outlinewidth": 0,
             "ticks": ""
            },
            "colorscale": [
             [
              0.0,
              "#0d0887"
             ],
             [
              0.1111111111111111,
              "#46039f"
             ],
             [
              0.2222222222222222,
              "#7201a8"
             ],
             [
              0.3333333333333333,
              "#9c179e"
             ],
             [
              0.4444444444444444,
              "#bd3786"
             ],
             [
              0.5555555555555556,
              "#d8576b"
             ],
             [
              0.6666666666666666,
              "#ed7953"
             ],
             [
              0.7777777777777778,
              "#fb9f3a"
             ],
             [
              0.8888888888888888,
              "#fdca26"
             ],
             [
              1.0,
              "#f0f921"
             ]
            ]
           }
          ],
          "surface": [
           {
            "type": "surface",
            "colorbar": {
             "outlinewidth": 0,
             "ticks": ""
            },
            "colorscale": [
             [
              0.0,
              "#0d0887"
             ],
             [
              0.1111111111111111,
              "#46039f"
             ],
             [
              0.2222222222222222,
              "#7201a8"
             ],
             [
              0.3333333333333333,
              "#9c179e"
             ],
             [
              0.4444444444444444,
              "#bd3786"
             ],
             [
              0.5555555555555556,
              "#d8576b"
             ],
             [
              0.6666666666666666,
              "#ed7953"
             ],
             [
              0.7777777777777778,
              "#fb9f3a"
             ],
             [
              0.8888888888888888,
              "#fdca26"
             ],
             [
              1.0,
              "#f0f921"
             ]
            ]
           }
          ],
          "mesh3d": [
           {
            "type": "mesh3d",
            "colorbar": {
             "outlinewidth": 0,
             "ticks": ""
            }
           }
          ],
          "scatter": [
           {
            "fillpattern": {
             "fillmode": "overlay",
             "size": 10,
             "solidity": 0.2
            },
            "type": "scatter"
           }
          ],
          "parcoords": [
           {
            "type": "parcoords",
            "line": {
             "colorbar": {
              "outlinewidth": 0,
              "ticks": ""
             }
            }
           }
          ],
          "scatterpolargl": [
           {
            "type": "scatterpolargl",
            "marker": {
             "colorbar": {
              "outlinewidth": 0,
              "ticks": ""
             }
            }
           }
          ],
          "bar": [
           {
            "error_x": {
             "color": "#2a3f5f"
            },
            "error_y": {
             "color": "#2a3f5f"
            },
            "marker": {
             "line": {
              "color": "#E5ECF6",
              "width": 0.5
             },
             "pattern": {
              "fillmode": "overlay",
              "size": 10,
              "solidity": 0.2
             }
            },
            "type": "bar"
           }
          ],
          "scattergeo": [
           {
            "type": "scattergeo",
            "marker": {
             "colorbar": {
              "outlinewidth": 0,
              "ticks": ""
             }
            }
           }
          ],
          "scatterpolar": [
           {
            "type": "scatterpolar",
            "marker": {
             "colorbar": {
              "outlinewidth": 0,
              "ticks": ""
             }
            }
           }
          ],
          "histogram": [
           {
            "marker": {
             "pattern": {
              "fillmode": "overlay",
              "size": 10,
              "solidity": 0.2
             }
            },
            "type": "histogram"
           }
          ],
          "scattergl": [
           {
            "type": "scattergl",
            "marker": {
             "colorbar": {
              "outlinewidth": 0,
              "ticks": ""
             }
            }
           }
          ],
          "scatter3d": [
           {
            "type": "scatter3d",
            "line": {
             "colorbar": {
              "outlinewidth": 0,
              "ticks": ""
             }
            },
            "marker": {
             "colorbar": {
              "outlinewidth": 0,
              "ticks": ""
             }
            }
           }
          ],
          "scattermapbox": [
           {
            "type": "scattermapbox",
            "marker": {
             "colorbar": {
              "outlinewidth": 0,
              "ticks": ""
             }
            }
           }
          ],
          "scatterternary": [
           {
            "type": "scatterternary",
            "marker": {
             "colorbar": {
              "outlinewidth": 0,
              "ticks": ""
             }
            }
           }
          ],
          "scattercarpet": [
           {
            "type": "scattercarpet",
            "marker": {
             "colorbar": {
              "outlinewidth": 0,
              "ticks": ""
             }
            }
           }
          ],
          "carpet": [
           {
            "aaxis": {
             "endlinecolor": "#2a3f5f",
             "gridcolor": "white",
             "linecolor": "white",
             "minorgridcolor": "white",
             "startlinecolor": "#2a3f5f"
            },
            "baxis": {
             "endlinecolor": "#2a3f5f",
             "gridcolor": "white",
             "linecolor": "white",
             "minorgridcolor": "white",
             "startlinecolor": "#2a3f5f"
            },
            "type": "carpet"
           }
          ],
          "table": [
           {
            "cells": {
             "fill": {
              "color": "#EBF0F8"
             },
             "line": {
              "color": "white"
             }
            },
            "header": {
             "fill": {
              "color": "#C8D4E3"
             },
             "line": {
              "color": "white"
             }
            },
            "type": "table"
           }
          ],
          "barpolar": [
           {
            "marker": {
             "line": {
              "color": "#E5ECF6",
              "width": 0.5
             },
             "pattern": {
              "fillmode": "overlay",
              "size": 10,
              "solidity": 0.2
             }
            },
            "type": "barpolar"
           }
          ],
          "pie": [
           {
            "automargin": true,
            "type": "pie"
           }
          ]
         },
         "layout": {
          "autotypenumbers": "strict",
          "colorway": [
           "#636efa",
           "#EF553B",
           "#00cc96",
           "#ab63fa",
           "#FFA15A",
           "#19d3f3",
           "#FF6692",
           "#B6E880",
           "#FF97FF",
           "#FECB52"
          ],
          "font": {
           "color": "#2a3f5f"
          },
          "hovermode": "closest",
          "hoverlabel": {
           "align": "left"
          },
          "paper_bgcolor": "white",
          "plot_bgcolor": "#E5ECF6",
          "polar": {
           "bgcolor": "#E5ECF6",
           "angularaxis": {
            "gridcolor": "white",
            "linecolor": "white",
            "ticks": ""
           },
           "radialaxis": {
            "gridcolor": "white",
            "linecolor": "white",
            "ticks": ""
           }
          },
          "ternary": {
           "bgcolor": "#E5ECF6",
           "aaxis": {
            "gridcolor": "white",
            "linecolor": "white",
            "ticks": ""
           },
           "baxis": {
            "gridcolor": "white",
            "linecolor": "white",
            "ticks": ""
           },
           "caxis": {
            "gridcolor": "white",
            "linecolor": "white",
            "ticks": ""
           }
          },
          "coloraxis": {
           "colorbar": {
            "outlinewidth": 0,
            "ticks": ""
           }
          },
          "colorscale": {
           "sequential": [
            [
             0.0,
             "#0d0887"
            ],
            [
             0.1111111111111111,
             "#46039f"
            ],
            [
             0.2222222222222222,
             "#7201a8"
            ],
            [
             0.3333333333333333,
             "#9c179e"
            ],
            [
             0.4444444444444444,
             "#bd3786"
            ],
            [
             0.5555555555555556,
             "#d8576b"
            ],
            [
             0.6666666666666666,
             "#ed7953"
            ],
            [
             0.7777777777777778,
             "#fb9f3a"
            ],
            [
             0.8888888888888888,
             "#fdca26"
            ],
            [
             1.0,
             "#f0f921"
            ]
           ],
           "sequentialminus": [
            [
             0.0,
             "#0d0887"
            ],
            [
             0.1111111111111111,
             "#46039f"
            ],
            [
             0.2222222222222222,
             "#7201a8"
            ],
            [
             0.3333333333333333,
             "#9c179e"
            ],
            [
             0.4444444444444444,
             "#bd3786"
            ],
            [
             0.5555555555555556,
             "#d8576b"
            ],
            [
             0.6666666666666666,
             "#ed7953"
            ],
            [
             0.7777777777777778,
             "#fb9f3a"
            ],
            [
             0.8888888888888888,
             "#fdca26"
            ],
            [
             1.0,
             "#f0f921"
            ]
           ],
           "diverging": [
            [
             0,
             "#8e0152"
            ],
            [
             0.1,
             "#c51b7d"
            ],
            [
             0.2,
             "#de77ae"
            ],
            [
             0.3,
             "#f1b6da"
            ],
            [
             0.4,
             "#fde0ef"
            ],
            [
             0.5,
             "#f7f7f7"
            ],
            [
             0.6,
             "#e6f5d0"
            ],
            [
             0.7,
             "#b8e186"
            ],
            [
             0.8,
             "#7fbc41"
            ],
            [
             0.9,
             "#4d9221"
            ],
            [
             1,
             "#276419"
            ]
           ]
          },
          "xaxis": {
           "gridcolor": "white",
           "linecolor": "white",
           "ticks": "",
           "title": {
            "standoff": 15
           },
           "zerolinecolor": "white",
           "automargin": true,
           "zerolinewidth": 2
          },
          "yaxis": {
           "gridcolor": "white",
           "linecolor": "white",
           "ticks": "",
           "title": {
            "standoff": 15
           },
           "zerolinecolor": "white",
           "automargin": true,
           "zerolinewidth": 2
          },
          "scene": {
           "xaxis": {
            "backgroundcolor": "#E5ECF6",
            "gridcolor": "white",
            "linecolor": "white",
            "showbackground": true,
            "ticks": "",
            "zerolinecolor": "white",
            "gridwidth": 2
           },
           "yaxis": {
            "backgroundcolor": "#E5ECF6",
            "gridcolor": "white",
            "linecolor": "white",
            "showbackground": true,
            "ticks": "",
            "zerolinecolor": "white",
            "gridwidth": 2
           },
           "zaxis": {
            "backgroundcolor": "#E5ECF6",
            "gridcolor": "white",
            "linecolor": "white",
            "showbackground": true,
            "ticks": "",
            "zerolinecolor": "white",
            "gridwidth": 2
           }
          },
          "shapedefaults": {
           "line": {
            "color": "#2a3f5f"
           }
          },
          "annotationdefaults": {
           "arrowcolor": "#2a3f5f",
           "arrowhead": 0,
           "arrowwidth": 1
          },
          "geo": {
           "bgcolor": "white",
           "landcolor": "#E5ECF6",
           "subunitcolor": "white",
           "showland": true,
           "showlakes": true,
           "lakecolor": "white"
          },
          "title": {
           "x": 0.05
          },
          "mapbox": {
           "style": "light"
          }
         }
        },
        "xaxis": {
         "anchor": "y",
         "domain": [
          0.0,
          1.0
         ],
         "scaleanchor": "y",
         "constrain": "domain"
        },
        "yaxis": {
         "anchor": "x",
         "domain": [
          0.0,
          1.0
         ],
         "autorange": "reversed",
         "constrain": "domain"
        },
        "coloraxis": {
         "colorscale": [
          [
           0.0,
           "#0d0887"
          ],
          [
           0.1111111111111111,
           "#46039f"
          ],
          [
           0.2222222222222222,
           "#7201a8"
          ],
          [
           0.3333333333333333,
           "#9c179e"
          ],
          [
           0.4444444444444444,
           "#bd3786"
          ],
          [
           0.5555555555555556,
           "#d8576b"
          ],
          [
           0.6666666666666666,
           "#ed7953"
          ],
          [
           0.7777777777777778,
           "#fb9f3a"
          ],
          [
           0.8888888888888888,
           "#fdca26"
          ],
          [
           1.0,
           "#f0f921"
          ]
         ]
        },
        "title": {
         "text": "Correlation Matrix For Breast Cancer Dataset"
        },
        "height": 1000,
        "width": 1000
       },
       "config": {
        "plotlyServerURL": "https://plot.ly"
       }
      },
      "text/html": "<div>                            <div id=\"11361c45-d912-4ca9-92e0-98b1c7c16340\" class=\"plotly-graph-div\" style=\"height:1000px; width:1000px;\"></div>            <script type=\"text/javascript\">                require([\"plotly\"], function(Plotly) {                    window.PLOTLYENV=window.PLOTLYENV || {};                                    if (document.getElementById(\"11361c45-d912-4ca9-92e0-98b1c7c16340\")) {                    Plotly.newPlot(                        \"11361c45-d912-4ca9-92e0-98b1c7c16340\",                        [{\"coloraxis\":\"coloraxis\",\"name\":\"0\",\"texttemplate\":\"%{z}\",\"x\":[\"Unnamed: 0\",\"x.radius_mean\",\"x.texture_mean\",\"x.perimeter_mean\",\"x.area_mean\",\"x.smoothness_mean\",\"x.compactness_mean\",\"x.concavity_mean\",\"x.concave_pts_mean\",\"x.symmetry_mean\",\"x.fractal_dim_mean\",\"x.radius_se\",\"x.texture_se\",\"x.perimeter_se\",\"x.area_se\",\"x.smoothness_se\",\"x.compactness_se\",\"x.concavity_se\",\"x.concave_pts_se\",\"x.symmetry_se\",\"x.fractal_dim_se\",\"x.radius_worst\",\"x.texture_worst\",\"x.perimeter_worst\",\"x.area_worst\",\"x.smoothness_worst\",\"x.compactness_worst\",\"x.concavity_worst\",\"x.concave_pts_worst\",\"x.symmetry_worst\",\"x.fractal_dim_worst\"],\"y\":[\"Unnamed: 0\",\"x.radius_mean\",\"x.texture_mean\",\"x.perimeter_mean\",\"x.area_mean\",\"x.smoothness_mean\",\"x.compactness_mean\",\"x.concavity_mean\",\"x.concave_pts_mean\",\"x.symmetry_mean\",\"x.fractal_dim_mean\",\"x.radius_se\",\"x.texture_se\",\"x.perimeter_se\",\"x.area_se\",\"x.smoothness_se\",\"x.compactness_se\",\"x.concavity_se\",\"x.concave_pts_se\",\"x.symmetry_se\",\"x.fractal_dim_se\",\"x.radius_worst\",\"x.texture_worst\",\"x.perimeter_worst\",\"x.area_worst\",\"x.smoothness_worst\",\"x.compactness_worst\",\"x.concavity_worst\",\"x.concave_pts_worst\",\"x.symmetry_worst\",\"x.fractal_dim_worst\"],\"z\":[[1.0,0.660663701722513,0.45955999884225507,0.6696075970486693,0.6432129355036106,0.26559363002437403,0.5050294794445467,0.5892817456221102,0.6657088656432861,0.22355253276620882,-0.04482773484204622,0.4842953283894603,0.01957114818820955,0.4807889951984729,0.48271441721976166,-0.06253259007391161,0.230753427386303,0.19457611692125987,0.33592623811108824,-0.0693446713813502,0.0325031167966979,0.6887203318029438,0.4740985019254066,0.6951065827597437,0.6525976330532871,0.33371267130012844,0.4940182271039446,0.5559813461419298,0.6785257098028701,0.28903973746568173,0.24830932718775295],[0.660663701722513,1.0,0.3237818909277332,0.997855281493811,0.9873571700566116,0.1705811874929946,0.5061235775263639,0.6767635503908106,0.8225285223871787,0.14774124199260188,-0.31163082630929173,0.6790903880020748,-0.09731744314481272,0.6741716157641052,0.7358636632128175,-0.22260012458211192,0.2059999804076984,0.194203622761509,0.37616895593992566,-0.10432088141786558,-0.04264126911445638,0.9695389726112056,0.2970076439863736,0.9651365139559882,0.9410824595860464,0.11961613992160601,0.4134628230608013,0.5269114618385445,0.7442141978674663,0.16395333493630593,0.007065885692182328],[0.45955999884225507,0.3237818909277332,1.0,0.32953305868657107,0.32108569608020754,-0.023388515998423415,0.23670222207437291,0.3024178279438918,0.2934640513139433,0.0714009804833169,-0.07643718344813447,0.2758686761737624,0.38635762272449126,0.28167311478720325,0.25984498661009864,0.006613777353585312,0.19197461132396643,0.1432930765604986,0.16385102528521822,0.009127167755036546,0.054457519568933674,0.35257294715029636,0.912044588840421,0.3580395750532249,0.34354594718647014,0.0775033588221278,0.27782959247897954,0.301025223816491,0.2953158433377373,0.10500791031597134,0.11920535139708556],[0.6696075970486693,0.997855281493811,0.32953305868657107,1.0,0.9865068039913905,0.2072781636910066,0.5569362108795627,0.7161356501174044,0.8509770412528214,0.18302721211685258,-0.26147690806633506,0.6917650135334814,-0.08676107831179393,0.6931348895408663,0.7449826941190676,-0.20269402629832217,0.25074368074058784,0.22808234539365782,0.4072169159986186,-0.08162932702839927,-0.005523391057004126,0.9694763634663154,0.30303837155715074,0.97038688704264,0.9415498080023075,0.1505494043170354,0.4557742280383269,0.5638792634736618,0.7712407893605496,0.18911504046245645,0.05101852972340683],[0.6432129355036106,0.9873571700566116,0.32108569608020754,0.9865068039913905,1.0,0.17702837725400136,0.4985016821524126,0.6859828285519108,0.8232688686524331,0.15129307903511188,-0.28310981169142796,0.7325622269972965,-0.06628021360457675,0.726628327790685,0.8000859212343204,-0.1667766666011126,0.21258255077923224,0.20766006048256921,0.3723202823307099,-0.07249658821176244,-0.019886963235068087,0.9627460860470831,0.28748862712139694,0.9591195743552654,0.9592133256498996,0.12352293875556902,0.39041030924249887,0.5126059204433244,0.722016626260359,0.14356991388906995,0.003737597351571627],[0.26559363002437403,0.1705811874929946,-0.023388515998423415,0.2072781636910066,0.17702837725400136,1.0,0.6591232152159233,0.5219837677142599,0.5536951727437603,0.5577747880728864,0.584792001949977,0.30146709825316953,0.06840644817118277,0.29609193289351454,0.24655243166573548,0.3323754426475912,0.31894329670537847,0.24839567988255531,0.3806756909832856,0.20077437592048378,0.283606698546885,0.21312014189594855,0.03607179878564622,0.2388526262091507,0.2067183634285766,0.8053241954943627,0.4724684437304434,0.4349257147250869,0.5030533532989508,0.394309481811755,0.4993163685937658],[0.5050294794445467,0.5061235775263639,0.23670222207437291,0.5569362108795627,0.4985016821524126,0.6591232152159233,1.0,0.883120670177251,0.8311350431336993,0.6026410484055151,0.5653686634145212,0.49747344608506194,0.04620483071640746,0.5489052645888238,0.45565285198788913,0.13529926770047127,0.7387217896603919,0.5705168714898887,0.6422618509716471,0.22997659080143226,0.5073181269004214,0.5353153982176668,0.24813283327741872,0.5902104277312992,0.5096038055579208,0.5655411663750871,0.8658090398022633,0.8162752498000291,0.8155732235690656,0.5102234299218051,0.6873823227538962],[0.5892817456221102,0.6767635503908106,0.3024178279438918,0.7161356501174044,0.6859828285519108,0.5219837677142599,0.883120670177251,1.0,0.9213910263788593,0.5006666171419606,0.3367833594211843,0.6319248221414905,0.07621834813534067,0.660390787241962,0.6174268058452412,0.09856374579911725,0.6702788246430195,0.691270207544851,0.6832599165123265,0.1780092079208783,0.44930074905033907,0.6882364076436729,0.29987888870969115,0.7295649165132031,0.6759872313060884,0.4488220384047591,0.7549680159063958,0.8841026390943814,0.8613230336379514,0.40946412653998543,0.514929890636387],[0.6657088656432861,0.8225285223871787,0.2934640513139433,0.8509770412528214,0.8232688686524331,0.5536951727437603,0.8311350431336993,0.9213910263788593,1.0,0.46249738836735754,0.1669173832269908,0.6980498335607405,0.021479581923402474,0.7106498716138993,0.6902985397595534,0.027653308387136002,0.4904242495935708,0.4391670684742615,0.6156341308969191,0.09535078688667742,0.2575837462430326,0.8303176311186158,0.29275171300151753,0.8559231281343114,0.8096296199096182,0.4527530541790468,0.6674536768257122,0.7523994975749646,0.9101553142985936,0.3757441454236097,0.3686611337167709],[0.22355253276620882,0.14774124199260188,0.0714009804833169,0.18302721211685258,0.15129307903511188,0.5577747880728864,0.6026410484055151,0.5006666171419606,0.46249738836735754,1.0,0.4799213300509678,0.30337926320726233,0.1280529263402562,0.31389276079651335,0.2239702194176299,0.1873211652613907,0.4216591470050104,0.3426270230777198,0.39329787208901684,0.4491365423934294,0.3317861462731241,0.18572775349568704,0.09065068811664262,0.21916855911105754,0.1771933773740967,0.42667502638494537,0.4732000132446179,0.43372100759017224,0.43029661145795395,0.69982579764373,0.43841349844460215],[-0.04482773484204622,-0.31163082630929173,-0.07643718344813447,-0.26147690806633506,-0.28310981169142796,0.584792001949977,0.5653686634145212,0.3367833594211843,0.1669173832269908,0.4799213300509678,1.0,0.00011099507262810202,0.16417396587172908,0.03982993157204571,-0.09017024752042847,0.4019644254484135,0.5598366906211324,0.4466303216995712,0.3411980443971169,0.34500739714372797,0.6881315774585511,-0.25369149487661175,-0.051269202036765854,-0.20515121126277536,-0.2318544511675624,0.5049420753517618,0.458798156667859,0.3462338763480669,0.17532544924324317,0.33401868385108285,0.767296779238436],[0.4842953283894603,0.6790903880020748,0.2758686761737624,0.6917650135334814,0.7325622269972965,0.30146709825316953,0.49747344608506194,0.6319248221414905,0.6980498335607405,0.30337926320726233,0.00011099507262810202,1.0,0.21324733725115816,0.9727936770160744,0.9518301121109903,0.16451421981281095,0.35606457553220233,0.3323575376076103,0.5133464414367646,0.24056736245007188,0.22775353267198045,0.7150651951351843,0.19479855683425107,0.7196838036650056,0.7515484761266201,0.1419185529186049,0.2871031656007399,0.38058463462872205,0.5310623278216036,0.09454283035438077,0.04955943246457297],[0.01957114818820955,-0.09731744314481272,0.38635762272449126,-0.08676107831179393,-0.06628021360457675,0.06840644817118277,0.04620483071640746,0.07621834813534067,0.021479581923402474,0.1280529263402562,0.16417396587172908,0.21324733725115816,1.0,0.2231707286307144,0.1115672472180399,0.3972428526412094,0.2316996989762375,0.1949984644588191,0.23028339955703359,0.4116206801975398,0.27972274771919414,-0.1116903131249297,0.4090027663153062,-0.10224192188743218,-0.08319498858504598,-0.07365765910118517,-0.09243935361819303,-0.06895622054645531,-0.1196375231398453,-0.12821475779252925,-0.04565456859320664],[0.4807889951984729,0.6741716157641052,0.28167311478720325,0.6931348895408663,0.726628327790685,0.29609193289351454,0.5489052645888238,0.660390787241962,0.7106498716138993,0.31389276079651335,0.03982993157204571,0.9727936770160744,0.2231707286307144,1.0,0.9376554069544158,0.15107533120841282,0.4163223679924621,0.36248158227044863,0.5562640836543961,0.26648709186402314,0.2441427734162862,0.6972005927206464,0.2003708539594519,0.7210313099890181,0.730712973130283,0.13005439199100846,0.3419194453712062,0.4188988157305722,0.5548972306282114,0.10993043423134957,0.08543257205665734],[0.48271441721976166,0.7358636632128175,0.25984498661009864,0.7449826941190676,0.8000859212343204,0.24655243166573548,0.45565285198788913,0.6174268058452412,0.6902985397595534,0.2239702194176299,-0.09017024752042847,0.9518301121109903,0.1115672472180399,0.9376554069544158,1.0,0.07515033812199369,0.2848400565411604,0.2708947261906319,0.4157295683714,0.13410897969247523,0.12707090297801252,0.7573731889240157,0.1964966490728105,0.7612126360687588,0.8114079609317278,0.12538943051608978,0.2832565375374553,0.3851001355985288,0.5381663138957362,0.0741262915995272,0.017539295132385464],[-0.06253259007391161,-0.22260012458211192,0.006613777353585312,-0.20269402629832217,-0.1667766666011126,0.3323754426475912,0.13529926770047127,0.09856374579911725,0.027653308387136002,0.1873211652613907,0.4019644254484135,0.16451421981281095,0.3972428526412094,0.15107533120841282,0.07515033812199369,1.0,0.33669608050544525,0.26868475987226226,0.328429499109679,0.41350612520789726,0.4273742067231576,-0.23069070984514814,-0.07474296487675633,-0.2173037545818623,-0.18219547805909925,0.314457455980829,-0.055558138715050845,-0.05829838674344542,-0.10200679633746536,-0.1073420977891447,0.10148031504252497],[0.230753427386303,0.2059999804076984,0.19197461132396643,0.25074368074058784,0.21258255077923224,0.31894329670537847,0.7387217896603919,0.6702788246430195,0.4904242495935708,0.4216591470050104,0.5598366906211324,0.35606457553220233,0.2316996989762375,0.4163223679924621,0.2848400565411604,0.33669608050544525,1.0,0.8012683427383275,0.7440826676953246,0.3947128347620321,0.8032688176617668,0.20460716594748105,0.1430025832957164,0.2605158396472085,0.1993713290910136,0.2273942323054223,0.6787803543724947,0.6391466977559194,0.4832083268256135,0.2778784307146345,0.5909727625047898],[0.19457611692125987,0.194203622761509,0.1432930765604986,0.22808234539365782,0.20766006048256921,0.24839567988255531,0.5705168714898887,0.691270207544851,0.4391670684742615,0.3426270230777198,0.4466303216995712,0.3323575376076103,0.1949984644588191,0.36248158227044863,0.2708947261906319,0.26868475987226226,0.8012683427383275,1.0,0.7718039949238457,0.3094285779844512,0.7273721838811924,0.18690351568589755,0.10024098374834625,0.22668042559090112,0.18835265208953048,0.16848132079136685,0.4848578006864689,0.6625641337427407,0.4404722630462225,0.1977878218614104,0.439329268575791],[0.33592623811108824,0.37616895593992566,0.16385102528521822,0.4072169159986186,0.3723202823307099,0.3806756909832856,0.6422618509716471,0.6832599165123265,0.6156341308969191,0.39329787208901684,0.3411980443971169,0.5133464414367646,0.23028339955703359,0.5562640836543961,0.4157295683714,0.328429499109679,0.7440826676953246,0.7718039949238457,1.0,0.3127802232097338,0.6110441393807224,0.3581266692410421,0.0867412099428686,0.39499925177418477,0.3422711620926816,0.21535059681593244,0.45288837736988086,0.5495923752351933,0.6024496059209867,0.1431156686330493,0.31065455149383064],[-0.0693446713813502,-0.10432088141786558,0.009127167755036546,-0.08162932702839927,-0.07249658821176244,0.20077437592048378,0.22997659080143226,0.1780092079208783,0.09535078688667742,0.4491365423934294,0.34500739714372797,0.24056736245007188,0.4116206801975398,0.26648709186402314,0.13410897969247523,0.41350612520789726,0.3947128347620321,0.3094285779844512,0.3127802232097338,1.0,0.36907808336572917,-0.12812076907274225,-0.07747342018407848,-0.1037530438433249,-0.1103427428954984,-0.01266179956590846,0.06025487946536716,0.03711904859992888,-0.030413396423600456,0.3894024848846465,0.07807947627266813],[0.0325031167966979,-0.04264126911445638,0.054457519568933674,-0.005523391057004126,-0.019886963235068087,0.283606698546885,0.5073181269004214,0.44930074905033907,0.2575837462430326,0.3317861462731241,0.6881315774585511,0.22775353267198045,0.27972274771919414,0.2441427734162862,0.12707090297801252,0.4273742067231576,0.8032688176617668,0.7273721838811924,0.6110441393807224,0.36907808336572917,1.0,-0.03748761786267349,-0.0031950288680895923,-0.0010003976259669836,-0.022736147308900587,0.1705683159531421,0.3901588420866744,0.37997466145707903,0.21520401331002928,0.1110939557557242,0.5913280656608757],[0.6887203318029438,0.9695389726112056,0.35257294715029636,0.9694763634663154,0.9627460860470831,0.21312014189594855,0.5353153982176668,0.6882364076436729,0.8303176311186158,0.18572775349568704,-0.25369149487661175,0.7150651951351843,-0.1116903131249297,0.6972005927206464,0.7573731889240157,-0.23069070984514814,0.20460716594748105,0.18690351568589755,0.3581266692410421,-0.12812076907274225,-0.03748761786267349,1.0,0.35992075422104813,0.9937079161029516,0.9840145644590744,0.2165744312596938,0.47582003746014634,0.5739747080993033,0.7874238517122413,0.24352920429131208,0.09349197867930151],[0.4740985019254066,0.2970076439863736,0.912044588840421,0.30303837155715074,0.28748862712139694,0.03607179878564622,0.24813283327741872,0.29987888870969115,0.29275171300151753,0.09065068811664262,-0.051269202036765854,0.19479855683425107,0.4090027663153062,0.2003708539594519,0.1964966490728105,-0.07474296487675633,0.1430025832957164,0.10024098374834625,0.0867412099428686,-0.07747342018407848,-0.0031950288680895923,0.35992075422104813,1.0,0.3650982454086194,0.34584228252679733,0.22542941490948554,0.3608323385979732,0.3683656074599454,0.3597546095250368,0.23302746144531672,0.21912242546315847],[0.6951065827597437,0.9651365139559882,0.3580395750532249,0.97038688704264,0.9591195743552654,0.2388526262091507,0.5902104277312992,0.7295649165132031,0.8559231281343114,0.21916855911105754,-0.20515121126277536,0.7196838036650056,-0.10224192188743218,0.7210313099890181,0.7612126360687588,-0.2173037545818623,0.2605158396472085,0.22668042559090112,0.39499925177418477,-0.1037530438433249,-0.0010003976259669836,0.9937079161029516,0.3650982454086194,1.0,0.9775780914063877,0.23677460388606755,0.529407690164103,0.6183440795335166,0.8163221016875447,0.2694927690838161,0.13895686184575776],[0.6525976330532871,0.9410824595860464,0.34354594718647014,0.9415498080023075,0.9592133256498996,0.2067183634285766,0.5096038055579208,0.6759872313060884,0.8096296199096182,0.1771933773740967,-0.2318544511675624,0.7515484761266201,-0.08319498858504598,0.730712973130283,0.8114079609317278,-0.18219547805909925,0.1993713290910136,0.18835265208953048,0.3422711620926816,-0.1103427428954984,-0.022736147308900587,0.9840145644590744,0.34584228252679733,0.9775780914063877,1.0,0.2091453337602882,0.4382962837796735,0.54333052541108,0.7474188023228187,0.2091455083870776,0.07964703402467599],[0.33371267130012844,0.11961613992160601,0.0775033588221278,0.1505494043170354,0.12352293875556902,0.8053241954943627,0.5655411663750871,0.4488220384047591,0.4527530541790468,0.42667502638494537,0.5049420753517618,0.1419185529186049,-0.07365765910118517,0.13005439199100846,0.12538943051608978,0.314457455980829,0.2273942323054223,0.16848132079136685,0.21535059681593244,-0.01266179956590846,0.1705683159531421,0.2165744312596938,0.22542941490948554,0.23677460388606755,0.2091453337602882,1.0,0.568186516685606,0.5185232928640006,0.5476909029497863,0.4938383302357584,0.6176241916554384],[0.4940182271039446,0.4134628230608013,0.27782959247897954,0.4557742280383269,0.39041030924249887,0.4724684437304434,0.8658090398022633,0.7549680159063958,0.6674536768257122,0.4732000132446179,0.458798156667859,0.2871031656007399,-0.09243935361819303,0.3419194453712062,0.2832565375374553,-0.055558138715050845,0.6787803543724947,0.4848578006864689,0.45288837736988086,0.06025487946536716,0.3901588420866744,0.47582003746014634,0.3608323385979732,0.529407690164103,0.4382962837796735,0.568186516685606,1.0,0.8922608987764691,0.8010803646352535,0.6144405011493054,0.8104548563116106],[0.5559813461419298,0.5269114618385445,0.301025223816491,0.5638792634736618,0.5126059204433244,0.4349257147250869,0.8162752498000291,0.8841026390943814,0.7523994975749646,0.43372100759017224,0.3462338763480669,0.38058463462872205,-0.06895622054645531,0.4188988157305722,0.3851001355985288,-0.05829838674344542,0.6391466977559194,0.6625641337427407,0.5495923752351933,0.03711904859992888,0.37997466145707903,0.5739747080993033,0.3683656074599454,0.6183440795335166,0.54333052541108,0.5185232928640006,0.8922608987764691,1.0,0.855433860343999,0.5325197291183609,0.6865109212448639],[0.6785257098028701,0.7442141978674663,0.2953158433377373,0.7712407893605496,0.722016626260359,0.5030533532989508,0.8155732235690656,0.8613230336379514,0.9101553142985936,0.43029661145795395,0.17532544924324317,0.5310623278216036,-0.1196375231398453,0.5548972306282114,0.5381663138957362,-0.10200679633746536,0.4832083268256135,0.4404722630462225,0.6024496059209867,-0.030413396423600456,0.21520401331002928,0.7874238517122413,0.3597546095250368,0.8163221016875447,0.7474188023228187,0.5476909029497863,0.8010803646352535,0.855433860343999,1.0,0.502528493830697,0.5111141458863393],[0.28903973746568173,0.16395333493630593,0.10500791031597134,0.18911504046245645,0.14356991388906995,0.394309481811755,0.5102234299218051,0.40946412653998543,0.3757441454236097,0.69982579764373,0.33401868385108285,0.09454283035438077,-0.12821475779252925,0.10993043423134957,0.0741262915995272,-0.1073420977891447,0.2778784307146345,0.1977878218614104,0.1431156686330493,0.3894024848846465,0.1110939557557242,0.24352920429131208,0.23302746144531672,0.2694927690838161,0.2091455083870776,0.4938383302357584,0.6144405011493054,0.5325197291183609,0.502528493830697,1.0,0.5378482062536085],[0.24830932718775295,0.007065885692182328,0.11920535139708556,0.05101852972340683,0.003737597351571627,0.4993163685937658,0.6873823227538962,0.514929890636387,0.3686611337167709,0.43841349844460215,0.767296779238436,0.04955943246457297,-0.04565456859320664,0.08543257205665734,0.017539295132385464,0.10148031504252497,0.5909727625047898,0.439329268575791,0.31065455149383064,0.07807947627266813,0.5913280656608757,0.09349197867930151,0.21912242546315847,0.13895686184575776,0.07964703402467599,0.6176241916554384,0.8104548563116106,0.6865109212448639,0.5111141458863393,0.5378482062536085,1.0]],\"type\":\"heatmap\",\"xaxis\":\"x\",\"yaxis\":\"y\",\"hovertemplate\":\"x: %{x}\\u003cbr\\u003ey: %{y}\\u003cbr\\u003ecolor: %{z}\\u003cextra\\u003e\\u003c\\u002fextra\\u003e\"}],                        {\"template\":{\"data\":{\"histogram2dcontour\":[{\"type\":\"histogram2dcontour\",\"colorbar\":{\"outlinewidth\":0,\"ticks\":\"\"},\"colorscale\":[[0.0,\"#0d0887\"],[0.1111111111111111,\"#46039f\"],[0.2222222222222222,\"#7201a8\"],[0.3333333333333333,\"#9c179e\"],[0.4444444444444444,\"#bd3786\"],[0.5555555555555556,\"#d8576b\"],[0.6666666666666666,\"#ed7953\"],[0.7777777777777778,\"#fb9f3a\"],[0.8888888888888888,\"#fdca26\"],[1.0,\"#f0f921\"]]}],\"choropleth\":[{\"type\":\"choropleth\",\"colorbar\":{\"outlinewidth\":0,\"ticks\":\"\"}}],\"histogram2d\":[{\"type\":\"histogram2d\",\"colorbar\":{\"outlinewidth\":0,\"ticks\":\"\"},\"colorscale\":[[0.0,\"#0d0887\"],[0.1111111111111111,\"#46039f\"],[0.2222222222222222,\"#7201a8\"],[0.3333333333333333,\"#9c179e\"],[0.4444444444444444,\"#bd3786\"],[0.5555555555555556,\"#d8576b\"],[0.6666666666666666,\"#ed7953\"],[0.7777777777777778,\"#fb9f3a\"],[0.8888888888888888,\"#fdca26\"],[1.0,\"#f0f921\"]]}],\"heatmap\":[{\"type\":\"heatmap\",\"colorbar\":{\"outlinewidth\":0,\"ticks\":\"\"},\"colorscale\":[[0.0,\"#0d0887\"],[0.1111111111111111,\"#46039f\"],[0.2222222222222222,\"#7201a8\"],[0.3333333333333333,\"#9c179e\"],[0.4444444444444444,\"#bd3786\"],[0.5555555555555556,\"#d8576b\"],[0.6666666666666666,\"#ed7953\"],[0.7777777777777778,\"#fb9f3a\"],[0.8888888888888888,\"#fdca26\"],[1.0,\"#f0f921\"]]}],\"heatmapgl\":[{\"type\":\"heatmapgl\",\"colorbar\":{\"outlinewidth\":0,\"ticks\":\"\"},\"colorscale\":[[0.0,\"#0d0887\"],[0.1111111111111111,\"#46039f\"],[0.2222222222222222,\"#7201a8\"],[0.3333333333333333,\"#9c179e\"],[0.4444444444444444,\"#bd3786\"],[0.5555555555555556,\"#d8576b\"],[0.6666666666666666,\"#ed7953\"],[0.7777777777777778,\"#fb9f3a\"],[0.8888888888888888,\"#fdca26\"],[1.0,\"#f0f921\"]]}],\"contourcarpet\":[{\"type\":\"contourcarpet\",\"colorbar\":{\"outlinewidth\":0,\"ticks\":\"\"}}],\"contour\":[{\"type\":\"contour\",\"colorbar\":{\"outlinewidth\":0,\"ticks\":\"\"},\"colorscale\":[[0.0,\"#0d0887\"],[0.1111111111111111,\"#46039f\"],[0.2222222222222222,\"#7201a8\"],[0.3333333333333333,\"#9c179e\"],[0.4444444444444444,\"#bd3786\"],[0.5555555555555556,\"#d8576b\"],[0.6666666666666666,\"#ed7953\"],[0.7777777777777778,\"#fb9f3a\"],[0.8888888888888888,\"#fdca26\"],[1.0,\"#f0f921\"]]}],\"surface\":[{\"type\":\"surface\",\"colorbar\":{\"outlinewidth\":0,\"ticks\":\"\"},\"colorscale\":[[0.0,\"#0d0887\"],[0.1111111111111111,\"#46039f\"],[0.2222222222222222,\"#7201a8\"],[0.3333333333333333,\"#9c179e\"],[0.4444444444444444,\"#bd3786\"],[0.5555555555555556,\"#d8576b\"],[0.6666666666666666,\"#ed7953\"],[0.7777777777777778,\"#fb9f3a\"],[0.8888888888888888,\"#fdca26\"],[1.0,\"#f0f921\"]]}],\"mesh3d\":[{\"type\":\"mesh3d\",\"colorbar\":{\"outlinewidth\":0,\"ticks\":\"\"}}],\"scatter\":[{\"fillpattern\":{\"fillmode\":\"overlay\",\"size\":10,\"solidity\":0.2},\"type\":\"scatter\"}],\"parcoords\":[{\"type\":\"parcoords\",\"line\":{\"colorbar\":{\"outlinewidth\":0,\"ticks\":\"\"}}}],\"scatterpolargl\":[{\"type\":\"scatterpolargl\",\"marker\":{\"colorbar\":{\"outlinewidth\":0,\"ticks\":\"\"}}}],\"bar\":[{\"error_x\":{\"color\":\"#2a3f5f\"},\"error_y\":{\"color\":\"#2a3f5f\"},\"marker\":{\"line\":{\"color\":\"#E5ECF6\",\"width\":0.5},\"pattern\":{\"fillmode\":\"overlay\",\"size\":10,\"solidity\":0.2}},\"type\":\"bar\"}],\"scattergeo\":[{\"type\":\"scattergeo\",\"marker\":{\"colorbar\":{\"outlinewidth\":0,\"ticks\":\"\"}}}],\"scatterpolar\":[{\"type\":\"scatterpolar\",\"marker\":{\"colorbar\":{\"outlinewidth\":0,\"ticks\":\"\"}}}],\"histogram\":[{\"marker\":{\"pattern\":{\"fillmode\":\"overlay\",\"size\":10,\"solidity\":0.2}},\"type\":\"histogram\"}],\"scattergl\":[{\"type\":\"scattergl\",\"marker\":{\"colorbar\":{\"outlinewidth\":0,\"ticks\":\"\"}}}],\"scatter3d\":[{\"type\":\"scatter3d\",\"line\":{\"colorbar\":{\"outlinewidth\":0,\"ticks\":\"\"}},\"marker\":{\"colorbar\":{\"outlinewidth\":0,\"ticks\":\"\"}}}],\"scattermapbox\":[{\"type\":\"scattermapbox\",\"marker\":{\"colorbar\":{\"outlinewidth\":0,\"ticks\":\"\"}}}],\"scatterternary\":[{\"type\":\"scatterternary\",\"marker\":{\"colorbar\":{\"outlinewidth\":0,\"ticks\":\"\"}}}],\"scattercarpet\":[{\"type\":\"scattercarpet\",\"marker\":{\"colorbar\":{\"outlinewidth\":0,\"ticks\":\"\"}}}],\"carpet\":[{\"aaxis\":{\"endlinecolor\":\"#2a3f5f\",\"gridcolor\":\"white\",\"linecolor\":\"white\",\"minorgridcolor\":\"white\",\"startlinecolor\":\"#2a3f5f\"},\"baxis\":{\"endlinecolor\":\"#2a3f5f\",\"gridcolor\":\"white\",\"linecolor\":\"white\",\"minorgridcolor\":\"white\",\"startlinecolor\":\"#2a3f5f\"},\"type\":\"carpet\"}],\"table\":[{\"cells\":{\"fill\":{\"color\":\"#EBF0F8\"},\"line\":{\"color\":\"white\"}},\"header\":{\"fill\":{\"color\":\"#C8D4E3\"},\"line\":{\"color\":\"white\"}},\"type\":\"table\"}],\"barpolar\":[{\"marker\":{\"line\":{\"color\":\"#E5ECF6\",\"width\":0.5},\"pattern\":{\"fillmode\":\"overlay\",\"size\":10,\"solidity\":0.2}},\"type\":\"barpolar\"}],\"pie\":[{\"automargin\":true,\"type\":\"pie\"}]},\"layout\":{\"autotypenumbers\":\"strict\",\"colorway\":[\"#636efa\",\"#EF553B\",\"#00cc96\",\"#ab63fa\",\"#FFA15A\",\"#19d3f3\",\"#FF6692\",\"#B6E880\",\"#FF97FF\",\"#FECB52\"],\"font\":{\"color\":\"#2a3f5f\"},\"hovermode\":\"closest\",\"hoverlabel\":{\"align\":\"left\"},\"paper_bgcolor\":\"white\",\"plot_bgcolor\":\"#E5ECF6\",\"polar\":{\"bgcolor\":\"#E5ECF6\",\"angularaxis\":{\"gridcolor\":\"white\",\"linecolor\":\"white\",\"ticks\":\"\"},\"radialaxis\":{\"gridcolor\":\"white\",\"linecolor\":\"white\",\"ticks\":\"\"}},\"ternary\":{\"bgcolor\":\"#E5ECF6\",\"aaxis\":{\"gridcolor\":\"white\",\"linecolor\":\"white\",\"ticks\":\"\"},\"baxis\":{\"gridcolor\":\"white\",\"linecolor\":\"white\",\"ticks\":\"\"},\"caxis\":{\"gridcolor\":\"white\",\"linecolor\":\"white\",\"ticks\":\"\"}},\"coloraxis\":{\"colorbar\":{\"outlinewidth\":0,\"ticks\":\"\"}},\"colorscale\":{\"sequential\":[[0.0,\"#0d0887\"],[0.1111111111111111,\"#46039f\"],[0.2222222222222222,\"#7201a8\"],[0.3333333333333333,\"#9c179e\"],[0.4444444444444444,\"#bd3786\"],[0.5555555555555556,\"#d8576b\"],[0.6666666666666666,\"#ed7953\"],[0.7777777777777778,\"#fb9f3a\"],[0.8888888888888888,\"#fdca26\"],[1.0,\"#f0f921\"]],\"sequentialminus\":[[0.0,\"#0d0887\"],[0.1111111111111111,\"#46039f\"],[0.2222222222222222,\"#7201a8\"],[0.3333333333333333,\"#9c179e\"],[0.4444444444444444,\"#bd3786\"],[0.5555555555555556,\"#d8576b\"],[0.6666666666666666,\"#ed7953\"],[0.7777777777777778,\"#fb9f3a\"],[0.8888888888888888,\"#fdca26\"],[1.0,\"#f0f921\"]],\"diverging\":[[0,\"#8e0152\"],[0.1,\"#c51b7d\"],[0.2,\"#de77ae\"],[0.3,\"#f1b6da\"],[0.4,\"#fde0ef\"],[0.5,\"#f7f7f7\"],[0.6,\"#e6f5d0\"],[0.7,\"#b8e186\"],[0.8,\"#7fbc41\"],[0.9,\"#4d9221\"],[1,\"#276419\"]]},\"xaxis\":{\"gridcolor\":\"white\",\"linecolor\":\"white\",\"ticks\":\"\",\"title\":{\"standoff\":15},\"zerolinecolor\":\"white\",\"automargin\":true,\"zerolinewidth\":2},\"yaxis\":{\"gridcolor\":\"white\",\"linecolor\":\"white\",\"ticks\":\"\",\"title\":{\"standoff\":15},\"zerolinecolor\":\"white\",\"automargin\":true,\"zerolinewidth\":2},\"scene\":{\"xaxis\":{\"backgroundcolor\":\"#E5ECF6\",\"gridcolor\":\"white\",\"linecolor\":\"white\",\"showbackground\":true,\"ticks\":\"\",\"zerolinecolor\":\"white\",\"gridwidth\":2},\"yaxis\":{\"backgroundcolor\":\"#E5ECF6\",\"gridcolor\":\"white\",\"linecolor\":\"white\",\"showbackground\":true,\"ticks\":\"\",\"zerolinecolor\":\"white\",\"gridwidth\":2},\"zaxis\":{\"backgroundcolor\":\"#E5ECF6\",\"gridcolor\":\"white\",\"linecolor\":\"white\",\"showbackground\":true,\"ticks\":\"\",\"zerolinecolor\":\"white\",\"gridwidth\":2}},\"shapedefaults\":{\"line\":{\"color\":\"#2a3f5f\"}},\"annotationdefaults\":{\"arrowcolor\":\"#2a3f5f\",\"arrowhead\":0,\"arrowwidth\":1},\"geo\":{\"bgcolor\":\"white\",\"landcolor\":\"#E5ECF6\",\"subunitcolor\":\"white\",\"showland\":true,\"showlakes\":true,\"lakecolor\":\"white\"},\"title\":{\"x\":0.05},\"mapbox\":{\"style\":\"light\"}}},\"xaxis\":{\"anchor\":\"y\",\"domain\":[0.0,1.0],\"scaleanchor\":\"y\",\"constrain\":\"domain\"},\"yaxis\":{\"anchor\":\"x\",\"domain\":[0.0,1.0],\"autorange\":\"reversed\",\"constrain\":\"domain\"},\"coloraxis\":{\"colorscale\":[[0.0,\"#0d0887\"],[0.1111111111111111,\"#46039f\"],[0.2222222222222222,\"#7201a8\"],[0.3333333333333333,\"#9c179e\"],[0.4444444444444444,\"#bd3786\"],[0.5555555555555556,\"#d8576b\"],[0.6666666666666666,\"#ed7953\"],[0.7777777777777778,\"#fb9f3a\"],[0.8888888888888888,\"#fdca26\"],[1.0,\"#f0f921\"]]},\"title\":{\"text\":\"Correlation Matrix For Breast Cancer Dataset\"},\"height\":1000,\"width\":1000},                        {\"responsive\": true}                    ).then(function(){\n                            \nvar gd = document.getElementById('11361c45-d912-4ca9-92e0-98b1c7c16340');\nvar x = new MutationObserver(function (mutations, observer) {{\n        var display = window.getComputedStyle(gd).display;\n        if (!display || display === 'none') {{\n            console.log([gd, 'removed!']);\n            Plotly.purge(gd);\n            observer.disconnect();\n        }}\n}});\n\n// Listen for the removal of the full notebook cells\nvar notebookContainer = gd.closest('#notebook-container');\nif (notebookContainer) {{\n    x.observe(notebookContainer, {childList: true});\n}}\n\n// Listen for the clearing of the current output cell\nvar outputEl = gd.closest('.output');\nif (outputEl) {{\n    x.observe(outputEl, {childList: true});\n}}\n\n                        })                };                });            </script>        </div>"
     },
     "metadata": {},
     "output_type": "display_data"
    }
   ],
   "source": [
    "fig = px.imshow(df.drop(\"y\", axis=1).corr(), width=1000, height=1000, text_auto=True, title=\"Correlation Matrix For Breast Cancer Dataset\")\n",
    "fig.show()"
   ],
   "metadata": {
    "collapsed": false,
    "is_executing": true,
    "ExecuteTime": {
     "start_time": "2023-07-07T00:30:20.569710Z"
    }
   }
  },
  {
   "cell_type": "markdown",
   "source": [
    "## Data Cleaning"
   ],
   "metadata": {
    "collapsed": false
   }
  },
  {
   "cell_type": "code",
   "execution_count": null,
   "outputs": [
    {
     "data": {
      "text/plain": "   Unnamed: 0  x.radius_mean  x.texture_mean  x.perimeter_mean  x.area_mean  \\\n0           1         13.540           14.36             87.46        566.3   \n1           2         13.080           15.71             85.63        520.0   \n2           3          9.504           12.44             60.34        273.9   \n3           4         13.030           18.42             82.61        523.8   \n4           5          8.196           16.84             51.71        201.9   \n\n   x.smoothness_mean  x.compactness_mean  x.concavity_mean  \\\n0            0.09779             0.08129           0.06664   \n1            0.10750             0.12700           0.04568   \n2            0.10240             0.06492           0.02956   \n3            0.08983             0.03766           0.02562   \n4            0.08600             0.05943           0.01588   \n\n   x.concave_pts_mean  x.symmetry_mean  ...  x.texture_worst  \\\n0            0.047810           0.1885  ...            19.26   \n1            0.031100           0.1967  ...            20.49   \n2            0.020760           0.1815  ...            15.66   \n3            0.029230           0.1467  ...            22.81   \n4            0.005917           0.1769  ...            21.96   \n\n   x.perimeter_worst  x.area_worst  x.smoothness_worst  x.compactness_worst  \\\n0              99.70         711.2             0.14400              0.17730   \n1              96.09         630.5             0.13120              0.27760   \n2              65.13         314.9             0.13240              0.11480   \n3              84.46         545.9             0.09701              0.04619   \n4              57.26         242.2             0.12970              0.13570   \n\n   x.concavity_worst  x.concave_pts_worst  x.symmetry_worst  \\\n0            0.23900              0.12880            0.2977   \n1            0.18900              0.07283            0.3184   \n2            0.08867              0.06227            0.2450   \n3            0.04833              0.05013            0.1987   \n4            0.06880              0.02564            0.3105   \n\n   x.fractal_dim_worst  y  \n0              0.07259  B  \n1              0.08183  B  \n2              0.07773  B  \n3              0.06169  B  \n4              0.07409  B  \n\n[5 rows x 32 columns]",
      "text/html": "<div>\n<style scoped>\n    .dataframe tbody tr th:only-of-type {\n        vertical-align: middle;\n    }\n\n    .dataframe tbody tr th {\n        vertical-align: top;\n    }\n\n    .dataframe thead th {\n        text-align: right;\n    }\n</style>\n<table border=\"1\" class=\"dataframe\">\n  <thead>\n    <tr style=\"text-align: right;\">\n      <th></th>\n      <th>Unnamed: 0</th>\n      <th>x.radius_mean</th>\n      <th>x.texture_mean</th>\n      <th>x.perimeter_mean</th>\n      <th>x.area_mean</th>\n      <th>x.smoothness_mean</th>\n      <th>x.compactness_mean</th>\n      <th>x.concavity_mean</th>\n      <th>x.concave_pts_mean</th>\n      <th>x.symmetry_mean</th>\n      <th>...</th>\n      <th>x.texture_worst</th>\n      <th>x.perimeter_worst</th>\n      <th>x.area_worst</th>\n      <th>x.smoothness_worst</th>\n      <th>x.compactness_worst</th>\n      <th>x.concavity_worst</th>\n      <th>x.concave_pts_worst</th>\n      <th>x.symmetry_worst</th>\n      <th>x.fractal_dim_worst</th>\n      <th>y</th>\n    </tr>\n  </thead>\n  <tbody>\n    <tr>\n      <th>0</th>\n      <td>1</td>\n      <td>13.540</td>\n      <td>14.36</td>\n      <td>87.46</td>\n      <td>566.3</td>\n      <td>0.09779</td>\n      <td>0.08129</td>\n      <td>0.06664</td>\n      <td>0.047810</td>\n      <td>0.1885</td>\n      <td>...</td>\n      <td>19.26</td>\n      <td>99.70</td>\n      <td>711.2</td>\n      <td>0.14400</td>\n      <td>0.17730</td>\n      <td>0.23900</td>\n      <td>0.12880</td>\n      <td>0.2977</td>\n      <td>0.07259</td>\n      <td>B</td>\n    </tr>\n    <tr>\n      <th>1</th>\n      <td>2</td>\n      <td>13.080</td>\n      <td>15.71</td>\n      <td>85.63</td>\n      <td>520.0</td>\n      <td>0.10750</td>\n      <td>0.12700</td>\n      <td>0.04568</td>\n      <td>0.031100</td>\n      <td>0.1967</td>\n      <td>...</td>\n      <td>20.49</td>\n      <td>96.09</td>\n      <td>630.5</td>\n      <td>0.13120</td>\n      <td>0.27760</td>\n      <td>0.18900</td>\n      <td>0.07283</td>\n      <td>0.3184</td>\n      <td>0.08183</td>\n      <td>B</td>\n    </tr>\n    <tr>\n      <th>2</th>\n      <td>3</td>\n      <td>9.504</td>\n      <td>12.44</td>\n      <td>60.34</td>\n      <td>273.9</td>\n      <td>0.10240</td>\n      <td>0.06492</td>\n      <td>0.02956</td>\n      <td>0.020760</td>\n      <td>0.1815</td>\n      <td>...</td>\n      <td>15.66</td>\n      <td>65.13</td>\n      <td>314.9</td>\n      <td>0.13240</td>\n      <td>0.11480</td>\n      <td>0.08867</td>\n      <td>0.06227</td>\n      <td>0.2450</td>\n      <td>0.07773</td>\n      <td>B</td>\n    </tr>\n    <tr>\n      <th>3</th>\n      <td>4</td>\n      <td>13.030</td>\n      <td>18.42</td>\n      <td>82.61</td>\n      <td>523.8</td>\n      <td>0.08983</td>\n      <td>0.03766</td>\n      <td>0.02562</td>\n      <td>0.029230</td>\n      <td>0.1467</td>\n      <td>...</td>\n      <td>22.81</td>\n      <td>84.46</td>\n      <td>545.9</td>\n      <td>0.09701</td>\n      <td>0.04619</td>\n      <td>0.04833</td>\n      <td>0.05013</td>\n      <td>0.1987</td>\n      <td>0.06169</td>\n      <td>B</td>\n    </tr>\n    <tr>\n      <th>4</th>\n      <td>5</td>\n      <td>8.196</td>\n      <td>16.84</td>\n      <td>51.71</td>\n      <td>201.9</td>\n      <td>0.08600</td>\n      <td>0.05943</td>\n      <td>0.01588</td>\n      <td>0.005917</td>\n      <td>0.1769</td>\n      <td>...</td>\n      <td>21.96</td>\n      <td>57.26</td>\n      <td>242.2</td>\n      <td>0.12970</td>\n      <td>0.13570</td>\n      <td>0.06880</td>\n      <td>0.02564</td>\n      <td>0.3105</td>\n      <td>0.07409</td>\n      <td>B</td>\n    </tr>\n  </tbody>\n</table>\n<p>5 rows × 32 columns</p>\n</div>"
     },
     "execution_count": 196,
     "metadata": {},
     "output_type": "execute_result"
    }
   ],
   "source": [
    "df.head()"
   ],
   "metadata": {
    "collapsed": false,
    "is_executing": true,
    "ExecuteTime": {
     "start_time": "2023-07-07T00:30:20.596395Z"
    }
   }
  },
  {
   "cell_type": "code",
   "execution_count": null,
   "outputs": [
    {
     "data": {
      "text/plain": "   x.radius_mean  x.texture_mean  x.perimeter_mean  x.area_mean  \\\n0         13.540           14.36             87.46        566.3   \n1         13.080           15.71             85.63        520.0   \n2          9.504           12.44             60.34        273.9   \n3         13.030           18.42             82.61        523.8   \n4          8.196           16.84             51.71        201.9   \n\n   x.smoothness_mean  x.compactness_mean  x.concavity_mean  \\\n0            0.09779             0.08129           0.06664   \n1            0.10750             0.12700           0.04568   \n2            0.10240             0.06492           0.02956   \n3            0.08983             0.03766           0.02562   \n4            0.08600             0.05943           0.01588   \n\n   x.concave_pts_mean  x.symmetry_mean  x.fractal_dim_mean  ...  \\\n0            0.047810           0.1885             0.05766  ...   \n1            0.031100           0.1967             0.06811  ...   \n2            0.020760           0.1815             0.06905  ...   \n3            0.029230           0.1467             0.05863  ...   \n4            0.005917           0.1769             0.06503  ...   \n\n   x.texture_worst  x.perimeter_worst  x.area_worst  x.smoothness_worst  \\\n0            19.26              99.70         711.2             0.14400   \n1            20.49              96.09         630.5             0.13120   \n2            15.66              65.13         314.9             0.13240   \n3            22.81              84.46         545.9             0.09701   \n4            21.96              57.26         242.2             0.12970   \n\n   x.compactness_worst  x.concavity_worst  x.concave_pts_worst  \\\n0              0.17730            0.23900              0.12880   \n1              0.27760            0.18900              0.07283   \n2              0.11480            0.08867              0.06227   \n3              0.04619            0.04833              0.05013   \n4              0.13570            0.06880              0.02564   \n\n   x.symmetry_worst  x.fractal_dim_worst  y  \n0            0.2977              0.07259  0  \n1            0.3184              0.08183  0  \n2            0.2450              0.07773  0  \n3            0.1987              0.06169  0  \n4            0.3105              0.07409  0  \n\n[5 rows x 31 columns]",
      "text/html": "<div>\n<style scoped>\n    .dataframe tbody tr th:only-of-type {\n        vertical-align: middle;\n    }\n\n    .dataframe tbody tr th {\n        vertical-align: top;\n    }\n\n    .dataframe thead th {\n        text-align: right;\n    }\n</style>\n<table border=\"1\" class=\"dataframe\">\n  <thead>\n    <tr style=\"text-align: right;\">\n      <th></th>\n      <th>x.radius_mean</th>\n      <th>x.texture_mean</th>\n      <th>x.perimeter_mean</th>\n      <th>x.area_mean</th>\n      <th>x.smoothness_mean</th>\n      <th>x.compactness_mean</th>\n      <th>x.concavity_mean</th>\n      <th>x.concave_pts_mean</th>\n      <th>x.symmetry_mean</th>\n      <th>x.fractal_dim_mean</th>\n      <th>...</th>\n      <th>x.texture_worst</th>\n      <th>x.perimeter_worst</th>\n      <th>x.area_worst</th>\n      <th>x.smoothness_worst</th>\n      <th>x.compactness_worst</th>\n      <th>x.concavity_worst</th>\n      <th>x.concave_pts_worst</th>\n      <th>x.symmetry_worst</th>\n      <th>x.fractal_dim_worst</th>\n      <th>y</th>\n    </tr>\n  </thead>\n  <tbody>\n    <tr>\n      <th>0</th>\n      <td>13.540</td>\n      <td>14.36</td>\n      <td>87.46</td>\n      <td>566.3</td>\n      <td>0.09779</td>\n      <td>0.08129</td>\n      <td>0.06664</td>\n      <td>0.047810</td>\n      <td>0.1885</td>\n      <td>0.05766</td>\n      <td>...</td>\n      <td>19.26</td>\n      <td>99.70</td>\n      <td>711.2</td>\n      <td>0.14400</td>\n      <td>0.17730</td>\n      <td>0.23900</td>\n      <td>0.12880</td>\n      <td>0.2977</td>\n      <td>0.07259</td>\n      <td>0</td>\n    </tr>\n    <tr>\n      <th>1</th>\n      <td>13.080</td>\n      <td>15.71</td>\n      <td>85.63</td>\n      <td>520.0</td>\n      <td>0.10750</td>\n      <td>0.12700</td>\n      <td>0.04568</td>\n      <td>0.031100</td>\n      <td>0.1967</td>\n      <td>0.06811</td>\n      <td>...</td>\n      <td>20.49</td>\n      <td>96.09</td>\n      <td>630.5</td>\n      <td>0.13120</td>\n      <td>0.27760</td>\n      <td>0.18900</td>\n      <td>0.07283</td>\n      <td>0.3184</td>\n      <td>0.08183</td>\n      <td>0</td>\n    </tr>\n    <tr>\n      <th>2</th>\n      <td>9.504</td>\n      <td>12.44</td>\n      <td>60.34</td>\n      <td>273.9</td>\n      <td>0.10240</td>\n      <td>0.06492</td>\n      <td>0.02956</td>\n      <td>0.020760</td>\n      <td>0.1815</td>\n      <td>0.06905</td>\n      <td>...</td>\n      <td>15.66</td>\n      <td>65.13</td>\n      <td>314.9</td>\n      <td>0.13240</td>\n      <td>0.11480</td>\n      <td>0.08867</td>\n      <td>0.06227</td>\n      <td>0.2450</td>\n      <td>0.07773</td>\n      <td>0</td>\n    </tr>\n    <tr>\n      <th>3</th>\n      <td>13.030</td>\n      <td>18.42</td>\n      <td>82.61</td>\n      <td>523.8</td>\n      <td>0.08983</td>\n      <td>0.03766</td>\n      <td>0.02562</td>\n      <td>0.029230</td>\n      <td>0.1467</td>\n      <td>0.05863</td>\n      <td>...</td>\n      <td>22.81</td>\n      <td>84.46</td>\n      <td>545.9</td>\n      <td>0.09701</td>\n      <td>0.04619</td>\n      <td>0.04833</td>\n      <td>0.05013</td>\n      <td>0.1987</td>\n      <td>0.06169</td>\n      <td>0</td>\n    </tr>\n    <tr>\n      <th>4</th>\n      <td>8.196</td>\n      <td>16.84</td>\n      <td>51.71</td>\n      <td>201.9</td>\n      <td>0.08600</td>\n      <td>0.05943</td>\n      <td>0.01588</td>\n      <td>0.005917</td>\n      <td>0.1769</td>\n      <td>0.06503</td>\n      <td>...</td>\n      <td>21.96</td>\n      <td>57.26</td>\n      <td>242.2</td>\n      <td>0.12970</td>\n      <td>0.13570</td>\n      <td>0.06880</td>\n      <td>0.02564</td>\n      <td>0.3105</td>\n      <td>0.07409</td>\n      <td>0</td>\n    </tr>\n  </tbody>\n</table>\n<p>5 rows × 31 columns</p>\n</div>"
     },
     "execution_count": 197,
     "metadata": {},
     "output_type": "execute_result"
    }
   ],
   "source": [
    "# changing y target column to numeric values of 0 and 1, where B is 0  i.e. not harmful and M is 1 i.e. harmful\n",
    "df.drop(\"Unnamed: 0\", axis=1, inplace=True)\n",
    "df.replace(to_replace=\"B\", value=0, inplace=True)\n",
    "df.replace(to_replace=\"M\", value=1, inplace=True)\n",
    "df.head()"
   ],
   "metadata": {
    "collapsed": false,
    "is_executing": true,
    "ExecuteTime": {
     "start_time": "2023-07-07T00:30:20.606458Z"
    }
   }
  },
  {
   "cell_type": "code",
   "execution_count": null,
   "outputs": [],
   "source": [
    "# Getting data ready for modelling\n",
    "X = df.drop(\"y\", axis=1)\n",
    "y = df.y\n",
    "\n",
    "X_train, X_test, y_train, y_test = train_test_split(X, y, test_size=0.2, random_state=8)"
   ],
   "metadata": {
    "collapsed": false,
    "is_executing": true,
    "ExecuteTime": {
     "start_time": "2023-07-07T00:30:20.611963Z"
    }
   }
  },
  {
   "cell_type": "code",
   "execution_count": null,
   "outputs": [
    {
     "data": {
      "text/plain": "((455, 30), (114, 30), (455,), (114,))"
     },
     "execution_count": 199,
     "metadata": {},
     "output_type": "execute_result"
    }
   ],
   "source": [
    "X_train.shape, X_test.shape, y_train.shape, y_test.shape"
   ],
   "metadata": {
    "collapsed": false,
    "is_executing": true,
    "ExecuteTime": {
     "start_time": "2023-07-07T00:30:20.616889Z"
    }
   }
  },
  {
   "cell_type": "markdown",
   "source": [
    "**Testing seven different machine learning algorithms:**\n",
    "1. LogisticRegression\n",
    "2. BaggingClassifier\n",
    "3. KNeighborsClassifier\n",
    "4. RandomForestClassifier\n",
    "5. SVC\n",
    "6. LinearSVC\n",
    "7. xgboost"
   ],
   "metadata": {
    "collapsed": false
   }
  },
  {
   "cell_type": "code",
   "execution_count": 269,
   "outputs": [],
   "source": [
    "import warnings\n",
    "warnings.filterwarnings('ignore')\n",
    "\n",
    "np.random.seed(8)\n",
    "models = {\"Logistic Regression\": LogisticRegression(),\n",
    "          \"Bagging Classifier\": BaggingClassifier(),\n",
    "          \"K-Neighbors Classifier\": KNeighborsClassifier(),\n",
    "          \"Random Forest Classifier\": RandomForestClassifier(),\n",
    "          \"SVC\": SVC(),\n",
    "          \"Linear SVC\": LinearSVC(),\n",
    "          \"XGBoost\": xgb.XGBClassifier(objective=\"binary:logistic\")}\n",
    "\n",
    "for name, model in models.items():\n",
    "    model.fit(X_train, y_train)"
   ],
   "metadata": {
    "collapsed": false,
    "ExecuteTime": {
     "end_time": "2023-07-07T02:10:00.448057Z",
     "start_time": "2023-07-07T02:09:59.850977Z"
    }
   }
  },
  {
   "cell_type": "markdown",
   "source": [
    "## Baseline Model Evaluation"
   ],
   "metadata": {
    "collapsed": false
   }
  },
  {
   "cell_type": "code",
   "execution_count": 270,
   "outputs": [
    {
     "data": {
      "text/plain": "        Logistic Regression  Bagging Classifier  K-Neighbors Classifier  \\\nScores              0.95614            0.991228                0.947368   \n\n        Random Forest Classifier       SVC  Linear SVC   XGBoost  \nScores                  0.982456  0.938596    0.649123  0.982456  ",
      "text/html": "<div>\n<style scoped>\n    .dataframe tbody tr th:only-of-type {\n        vertical-align: middle;\n    }\n\n    .dataframe tbody tr th {\n        vertical-align: top;\n    }\n\n    .dataframe thead th {\n        text-align: right;\n    }\n</style>\n<table border=\"1\" class=\"dataframe\">\n  <thead>\n    <tr style=\"text-align: right;\">\n      <th></th>\n      <th>Logistic Regression</th>\n      <th>Bagging Classifier</th>\n      <th>K-Neighbors Classifier</th>\n      <th>Random Forest Classifier</th>\n      <th>SVC</th>\n      <th>Linear SVC</th>\n      <th>XGBoost</th>\n    </tr>\n  </thead>\n  <tbody>\n    <tr>\n      <th>Scores</th>\n      <td>0.95614</td>\n      <td>0.991228</td>\n      <td>0.947368</td>\n      <td>0.982456</td>\n      <td>0.938596</td>\n      <td>0.649123</td>\n      <td>0.982456</td>\n    </tr>\n  </tbody>\n</table>\n</div>"
     },
     "execution_count": 270,
     "metadata": {},
     "output_type": "execute_result"
    }
   ],
   "source": [
    "warnings.filterwarnings('default')\n",
    "models_scores = {}\n",
    "for name, model in models.items():\n",
    "    models_scores[name] = model.score(X_test, y_test)\n",
    "\n",
    "scores_df = pd.DataFrame(models_scores, index=[\"Scores\"])\n",
    "scores_df"
   ],
   "metadata": {
    "collapsed": false,
    "ExecuteTime": {
     "end_time": "2023-07-07T02:10:02.075243Z",
     "start_time": "2023-07-07T02:10:02.054999Z"
    }
   }
  },
  {
   "cell_type": "code",
   "execution_count": 271,
   "outputs": [
    {
     "data": {
      "application/vnd.plotly.v1+json": {
       "data": [
        {
         "marker": {
          "color": [
           "plum",
           "coral",
           "honeydew",
           "khaki",
           "turquoise",
           "salmon",
           "cornsilk"
          ]
         },
         "x": [
          "Logistic Regression",
          "Bagging Classifier",
          "K-Neighbors Classifier",
          "Random Forest Classifier",
          "SVC",
          "Linear SVC",
          "XGBoost"
         ],
         "y": [
          0.956140350877193,
          0.9912280701754386,
          0.9473684210526315,
          0.9824561403508771,
          0.9385964912280702,
          0.6491228070175439,
          0.9824561403508771
         ],
         "type": "bar"
        }
       ],
       "layout": {
        "template": {
         "data": {
          "histogram2dcontour": [
           {
            "type": "histogram2dcontour",
            "colorbar": {
             "outlinewidth": 0,
             "ticks": ""
            },
            "colorscale": [
             [
              0.0,
              "#0d0887"
             ],
             [
              0.1111111111111111,
              "#46039f"
             ],
             [
              0.2222222222222222,
              "#7201a8"
             ],
             [
              0.3333333333333333,
              "#9c179e"
             ],
             [
              0.4444444444444444,
              "#bd3786"
             ],
             [
              0.5555555555555556,
              "#d8576b"
             ],
             [
              0.6666666666666666,
              "#ed7953"
             ],
             [
              0.7777777777777778,
              "#fb9f3a"
             ],
             [
              0.8888888888888888,
              "#fdca26"
             ],
             [
              1.0,
              "#f0f921"
             ]
            ]
           }
          ],
          "choropleth": [
           {
            "type": "choropleth",
            "colorbar": {
             "outlinewidth": 0,
             "ticks": ""
            }
           }
          ],
          "histogram2d": [
           {
            "type": "histogram2d",
            "colorbar": {
             "outlinewidth": 0,
             "ticks": ""
            },
            "colorscale": [
             [
              0.0,
              "#0d0887"
             ],
             [
              0.1111111111111111,
              "#46039f"
             ],
             [
              0.2222222222222222,
              "#7201a8"
             ],
             [
              0.3333333333333333,
              "#9c179e"
             ],
             [
              0.4444444444444444,
              "#bd3786"
             ],
             [
              0.5555555555555556,
              "#d8576b"
             ],
             [
              0.6666666666666666,
              "#ed7953"
             ],
             [
              0.7777777777777778,
              "#fb9f3a"
             ],
             [
              0.8888888888888888,
              "#fdca26"
             ],
             [
              1.0,
              "#f0f921"
             ]
            ]
           }
          ],
          "heatmap": [
           {
            "type": "heatmap",
            "colorbar": {
             "outlinewidth": 0,
             "ticks": ""
            },
            "colorscale": [
             [
              0.0,
              "#0d0887"
             ],
             [
              0.1111111111111111,
              "#46039f"
             ],
             [
              0.2222222222222222,
              "#7201a8"
             ],
             [
              0.3333333333333333,
              "#9c179e"
             ],
             [
              0.4444444444444444,
              "#bd3786"
             ],
             [
              0.5555555555555556,
              "#d8576b"
             ],
             [
              0.6666666666666666,
              "#ed7953"
             ],
             [
              0.7777777777777778,
              "#fb9f3a"
             ],
             [
              0.8888888888888888,
              "#fdca26"
             ],
             [
              1.0,
              "#f0f921"
             ]
            ]
           }
          ],
          "heatmapgl": [
           {
            "type": "heatmapgl",
            "colorbar": {
             "outlinewidth": 0,
             "ticks": ""
            },
            "colorscale": [
             [
              0.0,
              "#0d0887"
             ],
             [
              0.1111111111111111,
              "#46039f"
             ],
             [
              0.2222222222222222,
              "#7201a8"
             ],
             [
              0.3333333333333333,
              "#9c179e"
             ],
             [
              0.4444444444444444,
              "#bd3786"
             ],
             [
              0.5555555555555556,
              "#d8576b"
             ],
             [
              0.6666666666666666,
              "#ed7953"
             ],
             [
              0.7777777777777778,
              "#fb9f3a"
             ],
             [
              0.8888888888888888,
              "#fdca26"
             ],
             [
              1.0,
              "#f0f921"
             ]
            ]
           }
          ],
          "contourcarpet": [
           {
            "type": "contourcarpet",
            "colorbar": {
             "outlinewidth": 0,
             "ticks": ""
            }
           }
          ],
          "contour": [
           {
            "type": "contour",
            "colorbar": {
             "outlinewidth": 0,
             "ticks": ""
            },
            "colorscale": [
             [
              0.0,
              "#0d0887"
             ],
             [
              0.1111111111111111,
              "#46039f"
             ],
             [
              0.2222222222222222,
              "#7201a8"
             ],
             [
              0.3333333333333333,
              "#9c179e"
             ],
             [
              0.4444444444444444,
              "#bd3786"
             ],
             [
              0.5555555555555556,
              "#d8576b"
             ],
             [
              0.6666666666666666,
              "#ed7953"
             ],
             [
              0.7777777777777778,
              "#fb9f3a"
             ],
             [
              0.8888888888888888,
              "#fdca26"
             ],
             [
              1.0,
              "#f0f921"
             ]
            ]
           }
          ],
          "surface": [
           {
            "type": "surface",
            "colorbar": {
             "outlinewidth": 0,
             "ticks": ""
            },
            "colorscale": [
             [
              0.0,
              "#0d0887"
             ],
             [
              0.1111111111111111,
              "#46039f"
             ],
             [
              0.2222222222222222,
              "#7201a8"
             ],
             [
              0.3333333333333333,
              "#9c179e"
             ],
             [
              0.4444444444444444,
              "#bd3786"
             ],
             [
              0.5555555555555556,
              "#d8576b"
             ],
             [
              0.6666666666666666,
              "#ed7953"
             ],
             [
              0.7777777777777778,
              "#fb9f3a"
             ],
             [
              0.8888888888888888,
              "#fdca26"
             ],
             [
              1.0,
              "#f0f921"
             ]
            ]
           }
          ],
          "mesh3d": [
           {
            "type": "mesh3d",
            "colorbar": {
             "outlinewidth": 0,
             "ticks": ""
            }
           }
          ],
          "scatter": [
           {
            "marker": {
             "line": {
              "color": "#283442"
             }
            },
            "type": "scatter"
           }
          ],
          "parcoords": [
           {
            "type": "parcoords",
            "line": {
             "colorbar": {
              "outlinewidth": 0,
              "ticks": ""
             }
            }
           }
          ],
          "scatterpolargl": [
           {
            "type": "scatterpolargl",
            "marker": {
             "colorbar": {
              "outlinewidth": 0,
              "ticks": ""
             }
            }
           }
          ],
          "bar": [
           {
            "error_x": {
             "color": "#f2f5fa"
            },
            "error_y": {
             "color": "#f2f5fa"
            },
            "marker": {
             "line": {
              "color": "rgb(17,17,17)",
              "width": 0.5
             },
             "pattern": {
              "fillmode": "overlay",
              "size": 10,
              "solidity": 0.2
             }
            },
            "type": "bar"
           }
          ],
          "scattergeo": [
           {
            "type": "scattergeo",
            "marker": {
             "colorbar": {
              "outlinewidth": 0,
              "ticks": ""
             }
            }
           }
          ],
          "scatterpolar": [
           {
            "type": "scatterpolar",
            "marker": {
             "colorbar": {
              "outlinewidth": 0,
              "ticks": ""
             }
            }
           }
          ],
          "histogram": [
           {
            "marker": {
             "pattern": {
              "fillmode": "overlay",
              "size": 10,
              "solidity": 0.2
             }
            },
            "type": "histogram"
           }
          ],
          "scattergl": [
           {
            "marker": {
             "line": {
              "color": "#283442"
             }
            },
            "type": "scattergl"
           }
          ],
          "scatter3d": [
           {
            "type": "scatter3d",
            "line": {
             "colorbar": {
              "outlinewidth": 0,
              "ticks": ""
             }
            },
            "marker": {
             "colorbar": {
              "outlinewidth": 0,
              "ticks": ""
             }
            }
           }
          ],
          "scattermapbox": [
           {
            "type": "scattermapbox",
            "marker": {
             "colorbar": {
              "outlinewidth": 0,
              "ticks": ""
             }
            }
           }
          ],
          "scatterternary": [
           {
            "type": "scatterternary",
            "marker": {
             "colorbar": {
              "outlinewidth": 0,
              "ticks": ""
             }
            }
           }
          ],
          "scattercarpet": [
           {
            "type": "scattercarpet",
            "marker": {
             "colorbar": {
              "outlinewidth": 0,
              "ticks": ""
             }
            }
           }
          ],
          "carpet": [
           {
            "aaxis": {
             "endlinecolor": "#A2B1C6",
             "gridcolor": "#506784",
             "linecolor": "#506784",
             "minorgridcolor": "#506784",
             "startlinecolor": "#A2B1C6"
            },
            "baxis": {
             "endlinecolor": "#A2B1C6",
             "gridcolor": "#506784",
             "linecolor": "#506784",
             "minorgridcolor": "#506784",
             "startlinecolor": "#A2B1C6"
            },
            "type": "carpet"
           }
          ],
          "table": [
           {
            "cells": {
             "fill": {
              "color": "#506784"
             },
             "line": {
              "color": "rgb(17,17,17)"
             }
            },
            "header": {
             "fill": {
              "color": "#2a3f5f"
             },
             "line": {
              "color": "rgb(17,17,17)"
             }
            },
            "type": "table"
           }
          ],
          "barpolar": [
           {
            "marker": {
             "line": {
              "color": "rgb(17,17,17)",
              "width": 0.5
             },
             "pattern": {
              "fillmode": "overlay",
              "size": 10,
              "solidity": 0.2
             }
            },
            "type": "barpolar"
           }
          ],
          "pie": [
           {
            "automargin": true,
            "type": "pie"
           }
          ]
         },
         "layout": {
          "autotypenumbers": "strict",
          "colorway": [
           "#636efa",
           "#EF553B",
           "#00cc96",
           "#ab63fa",
           "#FFA15A",
           "#19d3f3",
           "#FF6692",
           "#B6E880",
           "#FF97FF",
           "#FECB52"
          ],
          "font": {
           "color": "#f2f5fa"
          },
          "hovermode": "closest",
          "hoverlabel": {
           "align": "left"
          },
          "paper_bgcolor": "rgb(17,17,17)",
          "plot_bgcolor": "rgb(17,17,17)",
          "polar": {
           "bgcolor": "rgb(17,17,17)",
           "angularaxis": {
            "gridcolor": "#506784",
            "linecolor": "#506784",
            "ticks": ""
           },
           "radialaxis": {
            "gridcolor": "#506784",
            "linecolor": "#506784",
            "ticks": ""
           }
          },
          "ternary": {
           "bgcolor": "rgb(17,17,17)",
           "aaxis": {
            "gridcolor": "#506784",
            "linecolor": "#506784",
            "ticks": ""
           },
           "baxis": {
            "gridcolor": "#506784",
            "linecolor": "#506784",
            "ticks": ""
           },
           "caxis": {
            "gridcolor": "#506784",
            "linecolor": "#506784",
            "ticks": ""
           }
          },
          "coloraxis": {
           "colorbar": {
            "outlinewidth": 0,
            "ticks": ""
           }
          },
          "colorscale": {
           "sequential": [
            [
             0.0,
             "#0d0887"
            ],
            [
             0.1111111111111111,
             "#46039f"
            ],
            [
             0.2222222222222222,
             "#7201a8"
            ],
            [
             0.3333333333333333,
             "#9c179e"
            ],
            [
             0.4444444444444444,
             "#bd3786"
            ],
            [
             0.5555555555555556,
             "#d8576b"
            ],
            [
             0.6666666666666666,
             "#ed7953"
            ],
            [
             0.7777777777777778,
             "#fb9f3a"
            ],
            [
             0.8888888888888888,
             "#fdca26"
            ],
            [
             1.0,
             "#f0f921"
            ]
           ],
           "sequentialminus": [
            [
             0.0,
             "#0d0887"
            ],
            [
             0.1111111111111111,
             "#46039f"
            ],
            [
             0.2222222222222222,
             "#7201a8"
            ],
            [
             0.3333333333333333,
             "#9c179e"
            ],
            [
             0.4444444444444444,
             "#bd3786"
            ],
            [
             0.5555555555555556,
             "#d8576b"
            ],
            [
             0.6666666666666666,
             "#ed7953"
            ],
            [
             0.7777777777777778,
             "#fb9f3a"
            ],
            [
             0.8888888888888888,
             "#fdca26"
            ],
            [
             1.0,
             "#f0f921"
            ]
           ],
           "diverging": [
            [
             0,
             "#8e0152"
            ],
            [
             0.1,
             "#c51b7d"
            ],
            [
             0.2,
             "#de77ae"
            ],
            [
             0.3,
             "#f1b6da"
            ],
            [
             0.4,
             "#fde0ef"
            ],
            [
             0.5,
             "#f7f7f7"
            ],
            [
             0.6,
             "#e6f5d0"
            ],
            [
             0.7,
             "#b8e186"
            ],
            [
             0.8,
             "#7fbc41"
            ],
            [
             0.9,
             "#4d9221"
            ],
            [
             1,
             "#276419"
            ]
           ]
          },
          "xaxis": {
           "gridcolor": "#283442",
           "linecolor": "#506784",
           "ticks": "",
           "title": {
            "standoff": 15
           },
           "zerolinecolor": "#283442",
           "automargin": true,
           "zerolinewidth": 2
          },
          "yaxis": {
           "gridcolor": "#283442",
           "linecolor": "#506784",
           "ticks": "",
           "title": {
            "standoff": 15
           },
           "zerolinecolor": "#283442",
           "automargin": true,
           "zerolinewidth": 2
          },
          "scene": {
           "xaxis": {
            "backgroundcolor": "rgb(17,17,17)",
            "gridcolor": "#506784",
            "linecolor": "#506784",
            "showbackground": true,
            "ticks": "",
            "zerolinecolor": "#C8D4E3",
            "gridwidth": 2
           },
           "yaxis": {
            "backgroundcolor": "rgb(17,17,17)",
            "gridcolor": "#506784",
            "linecolor": "#506784",
            "showbackground": true,
            "ticks": "",
            "zerolinecolor": "#C8D4E3",
            "gridwidth": 2
           },
           "zaxis": {
            "backgroundcolor": "rgb(17,17,17)",
            "gridcolor": "#506784",
            "linecolor": "#506784",
            "showbackground": true,
            "ticks": "",
            "zerolinecolor": "#C8D4E3",
            "gridwidth": 2
           }
          },
          "shapedefaults": {
           "line": {
            "color": "#f2f5fa"
           }
          },
          "annotationdefaults": {
           "arrowcolor": "#f2f5fa",
           "arrowhead": 0,
           "arrowwidth": 1
          },
          "geo": {
           "bgcolor": "rgb(17,17,17)",
           "landcolor": "rgb(17,17,17)",
           "subunitcolor": "#506784",
           "showland": true,
           "showlakes": true,
           "lakecolor": "rgb(17,17,17)"
          },
          "title": {
           "x": 0.05
          },
          "updatemenudefaults": {
           "bgcolor": "#506784",
           "borderwidth": 0
          },
          "sliderdefaults": {
           "bgcolor": "#C8D4E3",
           "borderwidth": 1,
           "bordercolor": "rgb(17,17,17)",
           "tickwidth": 0
          },
          "mapbox": {
           "style": "dark"
          }
         }
        },
        "title": {
         "text": "Base Models Score Comparisons"
        },
        "xaxis": {
         "title": {
          "text": "Models"
         }
        },
        "yaxis": {
         "title": {
          "text": "Accuracy Score"
         }
        },
        "width": 1000,
        "height": 700
       },
       "config": {
        "plotlyServerURL": "https://plot.ly"
       }
      },
      "text/html": "<div>                            <div id=\"74bd07a8-3867-4fda-9827-8e2da004d846\" class=\"plotly-graph-div\" style=\"height:700px; width:1000px;\"></div>            <script type=\"text/javascript\">                require([\"plotly\"], function(Plotly) {                    window.PLOTLYENV=window.PLOTLYENV || {};                                    if (document.getElementById(\"74bd07a8-3867-4fda-9827-8e2da004d846\")) {                    Plotly.newPlot(                        \"74bd07a8-3867-4fda-9827-8e2da004d846\",                        [{\"marker\":{\"color\":[\"plum\",\"coral\",\"honeydew\",\"khaki\",\"turquoise\",\"salmon\",\"cornsilk\"]},\"x\":[\"Logistic Regression\",\"Bagging Classifier\",\"K-Neighbors Classifier\",\"Random Forest Classifier\",\"SVC\",\"Linear SVC\",\"XGBoost\"],\"y\":[0.956140350877193,0.9912280701754386,0.9473684210526315,0.9824561403508771,0.9385964912280702,0.6491228070175439,0.9824561403508771],\"type\":\"bar\"}],                        {\"template\":{\"data\":{\"histogram2dcontour\":[{\"type\":\"histogram2dcontour\",\"colorbar\":{\"outlinewidth\":0,\"ticks\":\"\"},\"colorscale\":[[0.0,\"#0d0887\"],[0.1111111111111111,\"#46039f\"],[0.2222222222222222,\"#7201a8\"],[0.3333333333333333,\"#9c179e\"],[0.4444444444444444,\"#bd3786\"],[0.5555555555555556,\"#d8576b\"],[0.6666666666666666,\"#ed7953\"],[0.7777777777777778,\"#fb9f3a\"],[0.8888888888888888,\"#fdca26\"],[1.0,\"#f0f921\"]]}],\"choropleth\":[{\"type\":\"choropleth\",\"colorbar\":{\"outlinewidth\":0,\"ticks\":\"\"}}],\"histogram2d\":[{\"type\":\"histogram2d\",\"colorbar\":{\"outlinewidth\":0,\"ticks\":\"\"},\"colorscale\":[[0.0,\"#0d0887\"],[0.1111111111111111,\"#46039f\"],[0.2222222222222222,\"#7201a8\"],[0.3333333333333333,\"#9c179e\"],[0.4444444444444444,\"#bd3786\"],[0.5555555555555556,\"#d8576b\"],[0.6666666666666666,\"#ed7953\"],[0.7777777777777778,\"#fb9f3a\"],[0.8888888888888888,\"#fdca26\"],[1.0,\"#f0f921\"]]}],\"heatmap\":[{\"type\":\"heatmap\",\"colorbar\":{\"outlinewidth\":0,\"ticks\":\"\"},\"colorscale\":[[0.0,\"#0d0887\"],[0.1111111111111111,\"#46039f\"],[0.2222222222222222,\"#7201a8\"],[0.3333333333333333,\"#9c179e\"],[0.4444444444444444,\"#bd3786\"],[0.5555555555555556,\"#d8576b\"],[0.6666666666666666,\"#ed7953\"],[0.7777777777777778,\"#fb9f3a\"],[0.8888888888888888,\"#fdca26\"],[1.0,\"#f0f921\"]]}],\"heatmapgl\":[{\"type\":\"heatmapgl\",\"colorbar\":{\"outlinewidth\":0,\"ticks\":\"\"},\"colorscale\":[[0.0,\"#0d0887\"],[0.1111111111111111,\"#46039f\"],[0.2222222222222222,\"#7201a8\"],[0.3333333333333333,\"#9c179e\"],[0.4444444444444444,\"#bd3786\"],[0.5555555555555556,\"#d8576b\"],[0.6666666666666666,\"#ed7953\"],[0.7777777777777778,\"#fb9f3a\"],[0.8888888888888888,\"#fdca26\"],[1.0,\"#f0f921\"]]}],\"contourcarpet\":[{\"type\":\"contourcarpet\",\"colorbar\":{\"outlinewidth\":0,\"ticks\":\"\"}}],\"contour\":[{\"type\":\"contour\",\"colorbar\":{\"outlinewidth\":0,\"ticks\":\"\"},\"colorscale\":[[0.0,\"#0d0887\"],[0.1111111111111111,\"#46039f\"],[0.2222222222222222,\"#7201a8\"],[0.3333333333333333,\"#9c179e\"],[0.4444444444444444,\"#bd3786\"],[0.5555555555555556,\"#d8576b\"],[0.6666666666666666,\"#ed7953\"],[0.7777777777777778,\"#fb9f3a\"],[0.8888888888888888,\"#fdca26\"],[1.0,\"#f0f921\"]]}],\"surface\":[{\"type\":\"surface\",\"colorbar\":{\"outlinewidth\":0,\"ticks\":\"\"},\"colorscale\":[[0.0,\"#0d0887\"],[0.1111111111111111,\"#46039f\"],[0.2222222222222222,\"#7201a8\"],[0.3333333333333333,\"#9c179e\"],[0.4444444444444444,\"#bd3786\"],[0.5555555555555556,\"#d8576b\"],[0.6666666666666666,\"#ed7953\"],[0.7777777777777778,\"#fb9f3a\"],[0.8888888888888888,\"#fdca26\"],[1.0,\"#f0f921\"]]}],\"mesh3d\":[{\"type\":\"mesh3d\",\"colorbar\":{\"outlinewidth\":0,\"ticks\":\"\"}}],\"scatter\":[{\"marker\":{\"line\":{\"color\":\"#283442\"}},\"type\":\"scatter\"}],\"parcoords\":[{\"type\":\"parcoords\",\"line\":{\"colorbar\":{\"outlinewidth\":0,\"ticks\":\"\"}}}],\"scatterpolargl\":[{\"type\":\"scatterpolargl\",\"marker\":{\"colorbar\":{\"outlinewidth\":0,\"ticks\":\"\"}}}],\"bar\":[{\"error_x\":{\"color\":\"#f2f5fa\"},\"error_y\":{\"color\":\"#f2f5fa\"},\"marker\":{\"line\":{\"color\":\"rgb(17,17,17)\",\"width\":0.5},\"pattern\":{\"fillmode\":\"overlay\",\"size\":10,\"solidity\":0.2}},\"type\":\"bar\"}],\"scattergeo\":[{\"type\":\"scattergeo\",\"marker\":{\"colorbar\":{\"outlinewidth\":0,\"ticks\":\"\"}}}],\"scatterpolar\":[{\"type\":\"scatterpolar\",\"marker\":{\"colorbar\":{\"outlinewidth\":0,\"ticks\":\"\"}}}],\"histogram\":[{\"marker\":{\"pattern\":{\"fillmode\":\"overlay\",\"size\":10,\"solidity\":0.2}},\"type\":\"histogram\"}],\"scattergl\":[{\"marker\":{\"line\":{\"color\":\"#283442\"}},\"type\":\"scattergl\"}],\"scatter3d\":[{\"type\":\"scatter3d\",\"line\":{\"colorbar\":{\"outlinewidth\":0,\"ticks\":\"\"}},\"marker\":{\"colorbar\":{\"outlinewidth\":0,\"ticks\":\"\"}}}],\"scattermapbox\":[{\"type\":\"scattermapbox\",\"marker\":{\"colorbar\":{\"outlinewidth\":0,\"ticks\":\"\"}}}],\"scatterternary\":[{\"type\":\"scatterternary\",\"marker\":{\"colorbar\":{\"outlinewidth\":0,\"ticks\":\"\"}}}],\"scattercarpet\":[{\"type\":\"scattercarpet\",\"marker\":{\"colorbar\":{\"outlinewidth\":0,\"ticks\":\"\"}}}],\"carpet\":[{\"aaxis\":{\"endlinecolor\":\"#A2B1C6\",\"gridcolor\":\"#506784\",\"linecolor\":\"#506784\",\"minorgridcolor\":\"#506784\",\"startlinecolor\":\"#A2B1C6\"},\"baxis\":{\"endlinecolor\":\"#A2B1C6\",\"gridcolor\":\"#506784\",\"linecolor\":\"#506784\",\"minorgridcolor\":\"#506784\",\"startlinecolor\":\"#A2B1C6\"},\"type\":\"carpet\"}],\"table\":[{\"cells\":{\"fill\":{\"color\":\"#506784\"},\"line\":{\"color\":\"rgb(17,17,17)\"}},\"header\":{\"fill\":{\"color\":\"#2a3f5f\"},\"line\":{\"color\":\"rgb(17,17,17)\"}},\"type\":\"table\"}],\"barpolar\":[{\"marker\":{\"line\":{\"color\":\"rgb(17,17,17)\",\"width\":0.5},\"pattern\":{\"fillmode\":\"overlay\",\"size\":10,\"solidity\":0.2}},\"type\":\"barpolar\"}],\"pie\":[{\"automargin\":true,\"type\":\"pie\"}]},\"layout\":{\"autotypenumbers\":\"strict\",\"colorway\":[\"#636efa\",\"#EF553B\",\"#00cc96\",\"#ab63fa\",\"#FFA15A\",\"#19d3f3\",\"#FF6692\",\"#B6E880\",\"#FF97FF\",\"#FECB52\"],\"font\":{\"color\":\"#f2f5fa\"},\"hovermode\":\"closest\",\"hoverlabel\":{\"align\":\"left\"},\"paper_bgcolor\":\"rgb(17,17,17)\",\"plot_bgcolor\":\"rgb(17,17,17)\",\"polar\":{\"bgcolor\":\"rgb(17,17,17)\",\"angularaxis\":{\"gridcolor\":\"#506784\",\"linecolor\":\"#506784\",\"ticks\":\"\"},\"radialaxis\":{\"gridcolor\":\"#506784\",\"linecolor\":\"#506784\",\"ticks\":\"\"}},\"ternary\":{\"bgcolor\":\"rgb(17,17,17)\",\"aaxis\":{\"gridcolor\":\"#506784\",\"linecolor\":\"#506784\",\"ticks\":\"\"},\"baxis\":{\"gridcolor\":\"#506784\",\"linecolor\":\"#506784\",\"ticks\":\"\"},\"caxis\":{\"gridcolor\":\"#506784\",\"linecolor\":\"#506784\",\"ticks\":\"\"}},\"coloraxis\":{\"colorbar\":{\"outlinewidth\":0,\"ticks\":\"\"}},\"colorscale\":{\"sequential\":[[0.0,\"#0d0887\"],[0.1111111111111111,\"#46039f\"],[0.2222222222222222,\"#7201a8\"],[0.3333333333333333,\"#9c179e\"],[0.4444444444444444,\"#bd3786\"],[0.5555555555555556,\"#d8576b\"],[0.6666666666666666,\"#ed7953\"],[0.7777777777777778,\"#fb9f3a\"],[0.8888888888888888,\"#fdca26\"],[1.0,\"#f0f921\"]],\"sequentialminus\":[[0.0,\"#0d0887\"],[0.1111111111111111,\"#46039f\"],[0.2222222222222222,\"#7201a8\"],[0.3333333333333333,\"#9c179e\"],[0.4444444444444444,\"#bd3786\"],[0.5555555555555556,\"#d8576b\"],[0.6666666666666666,\"#ed7953\"],[0.7777777777777778,\"#fb9f3a\"],[0.8888888888888888,\"#fdca26\"],[1.0,\"#f0f921\"]],\"diverging\":[[0,\"#8e0152\"],[0.1,\"#c51b7d\"],[0.2,\"#de77ae\"],[0.3,\"#f1b6da\"],[0.4,\"#fde0ef\"],[0.5,\"#f7f7f7\"],[0.6,\"#e6f5d0\"],[0.7,\"#b8e186\"],[0.8,\"#7fbc41\"],[0.9,\"#4d9221\"],[1,\"#276419\"]]},\"xaxis\":{\"gridcolor\":\"#283442\",\"linecolor\":\"#506784\",\"ticks\":\"\",\"title\":{\"standoff\":15},\"zerolinecolor\":\"#283442\",\"automargin\":true,\"zerolinewidth\":2},\"yaxis\":{\"gridcolor\":\"#283442\",\"linecolor\":\"#506784\",\"ticks\":\"\",\"title\":{\"standoff\":15},\"zerolinecolor\":\"#283442\",\"automargin\":true,\"zerolinewidth\":2},\"scene\":{\"xaxis\":{\"backgroundcolor\":\"rgb(17,17,17)\",\"gridcolor\":\"#506784\",\"linecolor\":\"#506784\",\"showbackground\":true,\"ticks\":\"\",\"zerolinecolor\":\"#C8D4E3\",\"gridwidth\":2},\"yaxis\":{\"backgroundcolor\":\"rgb(17,17,17)\",\"gridcolor\":\"#506784\",\"linecolor\":\"#506784\",\"showbackground\":true,\"ticks\":\"\",\"zerolinecolor\":\"#C8D4E3\",\"gridwidth\":2},\"zaxis\":{\"backgroundcolor\":\"rgb(17,17,17)\",\"gridcolor\":\"#506784\",\"linecolor\":\"#506784\",\"showbackground\":true,\"ticks\":\"\",\"zerolinecolor\":\"#C8D4E3\",\"gridwidth\":2}},\"shapedefaults\":{\"line\":{\"color\":\"#f2f5fa\"}},\"annotationdefaults\":{\"arrowcolor\":\"#f2f5fa\",\"arrowhead\":0,\"arrowwidth\":1},\"geo\":{\"bgcolor\":\"rgb(17,17,17)\",\"landcolor\":\"rgb(17,17,17)\",\"subunitcolor\":\"#506784\",\"showland\":true,\"showlakes\":true,\"lakecolor\":\"rgb(17,17,17)\"},\"title\":{\"x\":0.05},\"updatemenudefaults\":{\"bgcolor\":\"#506784\",\"borderwidth\":0},\"sliderdefaults\":{\"bgcolor\":\"#C8D4E3\",\"borderwidth\":1,\"bordercolor\":\"rgb(17,17,17)\",\"tickwidth\":0},\"mapbox\":{\"style\":\"dark\"}}},\"title\":{\"text\":\"Base Models Score Comparisons\"},\"xaxis\":{\"title\":{\"text\":\"Models\"}},\"yaxis\":{\"title\":{\"text\":\"Accuracy Score\"}},\"width\":1000,\"height\":700},                        {\"responsive\": true}                    ).then(function(){\n                            \nvar gd = document.getElementById('74bd07a8-3867-4fda-9827-8e2da004d846');\nvar x = new MutationObserver(function (mutations, observer) {{\n        var display = window.getComputedStyle(gd).display;\n        if (!display || display === 'none') {{\n            console.log([gd, 'removed!']);\n            Plotly.purge(gd);\n            observer.disconnect();\n        }}\n}});\n\n// Listen for the removal of the full notebook cells\nvar notebookContainer = gd.closest('#notebook-container');\nif (notebookContainer) {{\n    x.observe(notebookContainer, {childList: true});\n}}\n\n// Listen for the clearing of the current output cell\nvar outputEl = gd.closest('.output');\nif (outputEl) {{\n    x.observe(outputEl, {childList: true});\n}}\n\n                        })                };                });            </script>        </div>"
     },
     "metadata": {},
     "output_type": "display_data"
    }
   ],
   "source": [
    "colors = [\"plum\", \"coral\", \"honeydew\", \"khaki\", \"turquoise\", \"salmon\", \"cornsilk\"]\n",
    "\n",
    "fig = go.Figure(data=[go.Bar(\n",
    "    x=scores_df.columns,\n",
    "    y=scores_df.iloc[0],\n",
    "    marker_color=colors,\n",
    ")])\n",
    "fig.update_layout(title=\"Base Models Score Comparisons\", xaxis_title=\"Models\", yaxis_title=\"Accuracy Score\", width=1000, height=700)\n",
    "fig.show()"
   ],
   "metadata": {
    "collapsed": false,
    "ExecuteTime": {
     "end_time": "2023-07-07T02:10:03.530004Z",
     "start_time": "2023-07-07T02:10:03.525113Z"
    }
   }
  },
  {
   "cell_type": "markdown",
   "source": [
    "## Hyperparameter Tuning"
   ],
   "metadata": {
    "collapsed": false
   }
  },
  {
   "cell_type": "markdown",
   "source": [
    "**Top three models:**\n",
    "1. Bagging Classifier\n",
    "2. XGBoost\n",
    "3. Random Forest Classifier"
   ],
   "metadata": {
    "collapsed": false
   }
  },
  {
   "cell_type": "markdown",
   "source": [
    "**Bagging Classifier Hyperparameter Tuning**"
   ],
   "metadata": {
    "collapsed": false
   }
  },
  {
   "cell_type": "code",
   "execution_count": 272,
   "outputs": [
    {
     "name": "stdout",
     "output_type": "stream",
     "text": [
      "Fitting 5 folds for each of 225 candidates, totalling 1125 fits\n"
     ]
    },
    {
     "data": {
      "text/plain": "GridSearchCV(cv=5, estimator=BaggingClassifier(), n_jobs=-1,\n             param_grid={'max_features': [0.5, 0.6, 0.7, 0.8, 1],\n                         'max_samples': [0.5, 0.6, 0.7, 0.8, 1],\n                         'n_estimators': array([ 200,  400,  600,  800, 1000, 1200, 1400, 1600, 1800])},\n             verbose=1)",
      "text/html": "<style>#sk-container-id-11 {color: black;background-color: white;}#sk-container-id-11 pre{padding: 0;}#sk-container-id-11 div.sk-toggleable {background-color: white;}#sk-container-id-11 label.sk-toggleable__label {cursor: pointer;display: block;width: 100%;margin-bottom: 0;padding: 0.3em;box-sizing: border-box;text-align: center;}#sk-container-id-11 label.sk-toggleable__label-arrow:before {content: \"▸\";float: left;margin-right: 0.25em;color: #696969;}#sk-container-id-11 label.sk-toggleable__label-arrow:hover:before {color: black;}#sk-container-id-11 div.sk-estimator:hover label.sk-toggleable__label-arrow:before {color: black;}#sk-container-id-11 div.sk-toggleable__content {max-height: 0;max-width: 0;overflow: hidden;text-align: left;background-color: #f0f8ff;}#sk-container-id-11 div.sk-toggleable__content pre {margin: 0.2em;color: black;border-radius: 0.25em;background-color: #f0f8ff;}#sk-container-id-11 input.sk-toggleable__control:checked~div.sk-toggleable__content {max-height: 200px;max-width: 100%;overflow: auto;}#sk-container-id-11 input.sk-toggleable__control:checked~label.sk-toggleable__label-arrow:before {content: \"▾\";}#sk-container-id-11 div.sk-estimator input.sk-toggleable__control:checked~label.sk-toggleable__label {background-color: #d4ebff;}#sk-container-id-11 div.sk-label input.sk-toggleable__control:checked~label.sk-toggleable__label {background-color: #d4ebff;}#sk-container-id-11 input.sk-hidden--visually {border: 0;clip: rect(1px 1px 1px 1px);clip: rect(1px, 1px, 1px, 1px);height: 1px;margin: -1px;overflow: hidden;padding: 0;position: absolute;width: 1px;}#sk-container-id-11 div.sk-estimator {font-family: monospace;background-color: #f0f8ff;border: 1px dotted black;border-radius: 0.25em;box-sizing: border-box;margin-bottom: 0.5em;}#sk-container-id-11 div.sk-estimator:hover {background-color: #d4ebff;}#sk-container-id-11 div.sk-parallel-item::after {content: \"\";width: 100%;border-bottom: 1px solid gray;flex-grow: 1;}#sk-container-id-11 div.sk-label:hover label.sk-toggleable__label {background-color: #d4ebff;}#sk-container-id-11 div.sk-serial::before {content: \"\";position: absolute;border-left: 1px solid gray;box-sizing: border-box;top: 0;bottom: 0;left: 50%;z-index: 0;}#sk-container-id-11 div.sk-serial {display: flex;flex-direction: column;align-items: center;background-color: white;padding-right: 0.2em;padding-left: 0.2em;position: relative;}#sk-container-id-11 div.sk-item {position: relative;z-index: 1;}#sk-container-id-11 div.sk-parallel {display: flex;align-items: stretch;justify-content: center;background-color: white;position: relative;}#sk-container-id-11 div.sk-item::before, #sk-container-id-11 div.sk-parallel-item::before {content: \"\";position: absolute;border-left: 1px solid gray;box-sizing: border-box;top: 0;bottom: 0;left: 50%;z-index: -1;}#sk-container-id-11 div.sk-parallel-item {display: flex;flex-direction: column;z-index: 1;position: relative;background-color: white;}#sk-container-id-11 div.sk-parallel-item:first-child::after {align-self: flex-end;width: 50%;}#sk-container-id-11 div.sk-parallel-item:last-child::after {align-self: flex-start;width: 50%;}#sk-container-id-11 div.sk-parallel-item:only-child::after {width: 0;}#sk-container-id-11 div.sk-dashed-wrapped {border: 1px dashed gray;margin: 0 0.4em 0.5em 0.4em;box-sizing: border-box;padding-bottom: 0.4em;background-color: white;}#sk-container-id-11 div.sk-label label {font-family: monospace;font-weight: bold;display: inline-block;line-height: 1.2em;}#sk-container-id-11 div.sk-label-container {text-align: center;}#sk-container-id-11 div.sk-container {/* jupyter's `normalize.less` sets `[hidden] { display: none; }` but bootstrap.min.css set `[hidden] { display: none !important; }` so we also need the `!important` here to be able to override the default hidden behavior on the sphinx rendered scikit-learn.org. See: https://github.com/scikit-learn/scikit-learn/issues/21755 */display: inline-block !important;position: relative;}#sk-container-id-11 div.sk-text-repr-fallback {display: none;}</style><div id=\"sk-container-id-11\" class=\"sk-top-container\"><div class=\"sk-text-repr-fallback\"><pre>GridSearchCV(cv=5, estimator=BaggingClassifier(), n_jobs=-1,\n             param_grid={&#x27;max_features&#x27;: [0.5, 0.6, 0.7, 0.8, 1],\n                         &#x27;max_samples&#x27;: [0.5, 0.6, 0.7, 0.8, 1],\n                         &#x27;n_estimators&#x27;: array([ 200,  400,  600,  800, 1000, 1200, 1400, 1600, 1800])},\n             verbose=1)</pre><b>In a Jupyter environment, please rerun this cell to show the HTML representation or trust the notebook. <br />On GitHub, the HTML representation is unable to render, please try loading this page with nbviewer.org.</b></div><div class=\"sk-container\" hidden><div class=\"sk-item sk-dashed-wrapped\"><div class=\"sk-label-container\"><div class=\"sk-label sk-toggleable\"><input class=\"sk-toggleable__control sk-hidden--visually\" id=\"sk-estimator-id-31\" type=\"checkbox\" ><label for=\"sk-estimator-id-31\" class=\"sk-toggleable__label sk-toggleable__label-arrow\">GridSearchCV</label><div class=\"sk-toggleable__content\"><pre>GridSearchCV(cv=5, estimator=BaggingClassifier(), n_jobs=-1,\n             param_grid={&#x27;max_features&#x27;: [0.5, 0.6, 0.7, 0.8, 1],\n                         &#x27;max_samples&#x27;: [0.5, 0.6, 0.7, 0.8, 1],\n                         &#x27;n_estimators&#x27;: array([ 200,  400,  600,  800, 1000, 1200, 1400, 1600, 1800])},\n             verbose=1)</pre></div></div></div><div class=\"sk-parallel\"><div class=\"sk-parallel-item\"><div class=\"sk-item\"><div class=\"sk-label-container\"><div class=\"sk-label sk-toggleable\"><input class=\"sk-toggleable__control sk-hidden--visually\" id=\"sk-estimator-id-32\" type=\"checkbox\" ><label for=\"sk-estimator-id-32\" class=\"sk-toggleable__label sk-toggleable__label-arrow\">estimator: BaggingClassifier</label><div class=\"sk-toggleable__content\"><pre>BaggingClassifier()</pre></div></div></div><div class=\"sk-serial\"><div class=\"sk-item\"><div class=\"sk-estimator sk-toggleable\"><input class=\"sk-toggleable__control sk-hidden--visually\" id=\"sk-estimator-id-33\" type=\"checkbox\" ><label for=\"sk-estimator-id-33\" class=\"sk-toggleable__label sk-toggleable__label-arrow\">BaggingClassifier</label><div class=\"sk-toggleable__content\"><pre>BaggingClassifier()</pre></div></div></div></div></div></div></div></div></div></div>"
     },
     "execution_count": 272,
     "metadata": {},
     "output_type": "execute_result"
    }
   ],
   "source": [
    "param_dict = {\"n_estimators\": np.arange(200, 2000, 200), \"max_samples\": [0.5, 0.6, 0.7, 0.8, 1], \"max_features\": [0.5, 0.6, 0.7, 0.8, 1]}\n",
    "\n",
    "np.random.seed(8)\n",
    "bag_clf = BaggingClassifier()\n",
    "\n",
    "bag_clf_tuned = GridSearchCV(estimator=bag_clf, param_grid=param_dict, n_jobs=-1, cv=5, verbose=1)\n",
    "\n",
    "bag_clf_tuned.fit(X_train, y_train)"
   ],
   "metadata": {
    "collapsed": false,
    "ExecuteTime": {
     "end_time": "2023-07-07T02:12:44.629499Z",
     "start_time": "2023-07-07T02:10:05.923054Z"
    }
   }
  },
  {
   "cell_type": "code",
   "execution_count": 273,
   "outputs": [
    {
     "data": {
      "text/plain": "{'max_features': 0.5, 'max_samples': 0.6, 'n_estimators': 1200}"
     },
     "execution_count": 273,
     "metadata": {},
     "output_type": "execute_result"
    }
   ],
   "source": [
    "bag_clf_tuned.best_params_"
   ],
   "metadata": {
    "collapsed": false,
    "ExecuteTime": {
     "end_time": "2023-07-07T02:12:44.632515Z",
     "start_time": "2023-07-07T02:12:44.630049Z"
    }
   }
  },
  {
   "cell_type": "code",
   "execution_count": 274,
   "outputs": [
    {
     "data": {
      "text/plain": "(0.9824561403508771,\n Scores    0.991228\n Name: Bagging Classifier, dtype: float64)"
     },
     "execution_count": 274,
     "metadata": {},
     "output_type": "execute_result"
    }
   ],
   "source": [
    "bag_clf_tuned_score = bag_clf_tuned.score(X_test, y_test)\n",
    "bag_clf_tuned_score, scores_df[\"Bagging Classifier\"]"
   ],
   "metadata": {
    "collapsed": false,
    "ExecuteTime": {
     "end_time": "2023-07-07T02:12:44.686666Z",
     "start_time": "2023-07-07T02:12:44.633652Z"
    }
   }
  },
  {
   "cell_type": "markdown",
   "source": [
    "**Bagging Classifier Conclusion:** By the looks of it, the default Bagging Classifier performs better by accuracy when predicting whether a patient might have breast cancer or not"
   ],
   "metadata": {
    "collapsed": false
   }
  },
  {
   "cell_type": "markdown",
   "source": [
    "**XGBoost Hyperparameter Tuning**"
   ],
   "metadata": {
    "collapsed": false
   }
  },
  {
   "cell_type": "code",
   "execution_count": 255,
   "outputs": [
    {
     "name": "stderr",
     "output_type": "stream",
     "text": [
      "/Users/yogeshprabhu/Documents/Computer Science/ml projects/wisconsin-breast-cancer-detection/env/lib/python3.11/site-packages/sklearn/model_selection/_search.py:313: DeprecationWarning:\n",
      "\n",
      "`product` is deprecated as of NumPy 1.25.0, and will be removed in NumPy 2.0. Please use `prod` instead.\n",
      "\n"
     ]
    },
    {
     "name": "stdout",
     "output_type": "stream",
     "text": [
      "Fitting 5 folds for each of 500 candidates, totalling 2500 fits\n"
     ]
    },
    {
     "data": {
      "text/plain": "RandomizedSearchCV(cv=5,\n                   estimator=XGBClassifier(base_score=None, booster=None,\n                                           callbacks=None,\n                                           colsample_bylevel=None,\n                                           colsample_bynode=None,\n                                           colsample_bytree=None,\n                                           early_stopping_rounds=None,\n                                           enable_categorical=False,\n                                           eval_metric=None, feature_types=None,\n                                           gamma=None, gpu_id=None,\n                                           grow_policy=None,\n                                           importance_type=None,\n                                           interaction_constraints=None,\n                                           learning_rate...\n                   param_distributions={'colsample_bytree': [0.6, 0.8, 1.0],\n                                        'gamma': [0.5, 1, 1.5, 2, 5],\n                                        'max_depth': array([ 3,  4,  5,  6,  7,  8,  9, 10, 11, 12, 13, 14, 15, 16, 17]),\n                                        'min_child_weight': array([0, 1, 2, 3, 4, 5, 6, 7, 8, 9]),\n                                        'n_estimators': array([ 100,  300,  500,  700,  900, 1100, 1300, 1500, 1700, 1900]),\n                                        'reg_alpha': array([ 40,  50,  60,  70,  80,  90, 100, 110, 120, 130, 140, 150, 160,\n       170]),\n                                        'reg_lambda': [0, 1],\n                                        'subsample': [0.6, 0.8, 1.0]},\n                   verbose=1)",
      "text/html": "<style>#sk-container-id-7 {color: black;background-color: white;}#sk-container-id-7 pre{padding: 0;}#sk-container-id-7 div.sk-toggleable {background-color: white;}#sk-container-id-7 label.sk-toggleable__label {cursor: pointer;display: block;width: 100%;margin-bottom: 0;padding: 0.3em;box-sizing: border-box;text-align: center;}#sk-container-id-7 label.sk-toggleable__label-arrow:before {content: \"▸\";float: left;margin-right: 0.25em;color: #696969;}#sk-container-id-7 label.sk-toggleable__label-arrow:hover:before {color: black;}#sk-container-id-7 div.sk-estimator:hover label.sk-toggleable__label-arrow:before {color: black;}#sk-container-id-7 div.sk-toggleable__content {max-height: 0;max-width: 0;overflow: hidden;text-align: left;background-color: #f0f8ff;}#sk-container-id-7 div.sk-toggleable__content pre {margin: 0.2em;color: black;border-radius: 0.25em;background-color: #f0f8ff;}#sk-container-id-7 input.sk-toggleable__control:checked~div.sk-toggleable__content {max-height: 200px;max-width: 100%;overflow: auto;}#sk-container-id-7 input.sk-toggleable__control:checked~label.sk-toggleable__label-arrow:before {content: \"▾\";}#sk-container-id-7 div.sk-estimator input.sk-toggleable__control:checked~label.sk-toggleable__label {background-color: #d4ebff;}#sk-container-id-7 div.sk-label input.sk-toggleable__control:checked~label.sk-toggleable__label {background-color: #d4ebff;}#sk-container-id-7 input.sk-hidden--visually {border: 0;clip: rect(1px 1px 1px 1px);clip: rect(1px, 1px, 1px, 1px);height: 1px;margin: -1px;overflow: hidden;padding: 0;position: absolute;width: 1px;}#sk-container-id-7 div.sk-estimator {font-family: monospace;background-color: #f0f8ff;border: 1px dotted black;border-radius: 0.25em;box-sizing: border-box;margin-bottom: 0.5em;}#sk-container-id-7 div.sk-estimator:hover {background-color: #d4ebff;}#sk-container-id-7 div.sk-parallel-item::after {content: \"\";width: 100%;border-bottom: 1px solid gray;flex-grow: 1;}#sk-container-id-7 div.sk-label:hover label.sk-toggleable__label {background-color: #d4ebff;}#sk-container-id-7 div.sk-serial::before {content: \"\";position: absolute;border-left: 1px solid gray;box-sizing: border-box;top: 0;bottom: 0;left: 50%;z-index: 0;}#sk-container-id-7 div.sk-serial {display: flex;flex-direction: column;align-items: center;background-color: white;padding-right: 0.2em;padding-left: 0.2em;position: relative;}#sk-container-id-7 div.sk-item {position: relative;z-index: 1;}#sk-container-id-7 div.sk-parallel {display: flex;align-items: stretch;justify-content: center;background-color: white;position: relative;}#sk-container-id-7 div.sk-item::before, #sk-container-id-7 div.sk-parallel-item::before {content: \"\";position: absolute;border-left: 1px solid gray;box-sizing: border-box;top: 0;bottom: 0;left: 50%;z-index: -1;}#sk-container-id-7 div.sk-parallel-item {display: flex;flex-direction: column;z-index: 1;position: relative;background-color: white;}#sk-container-id-7 div.sk-parallel-item:first-child::after {align-self: flex-end;width: 50%;}#sk-container-id-7 div.sk-parallel-item:last-child::after {align-self: flex-start;width: 50%;}#sk-container-id-7 div.sk-parallel-item:only-child::after {width: 0;}#sk-container-id-7 div.sk-dashed-wrapped {border: 1px dashed gray;margin: 0 0.4em 0.5em 0.4em;box-sizing: border-box;padding-bottom: 0.4em;background-color: white;}#sk-container-id-7 div.sk-label label {font-family: monospace;font-weight: bold;display: inline-block;line-height: 1.2em;}#sk-container-id-7 div.sk-label-container {text-align: center;}#sk-container-id-7 div.sk-container {/* jupyter's `normalize.less` sets `[hidden] { display: none; }` but bootstrap.min.css set `[hidden] { display: none !important; }` so we also need the `!important` here to be able to override the default hidden behavior on the sphinx rendered scikit-learn.org. See: https://github.com/scikit-learn/scikit-learn/issues/21755 */display: inline-block !important;position: relative;}#sk-container-id-7 div.sk-text-repr-fallback {display: none;}</style><div id=\"sk-container-id-7\" class=\"sk-top-container\"><div class=\"sk-text-repr-fallback\"><pre>RandomizedSearchCV(cv=5,\n                   estimator=XGBClassifier(base_score=None, booster=None,\n                                           callbacks=None,\n                                           colsample_bylevel=None,\n                                           colsample_bynode=None,\n                                           colsample_bytree=None,\n                                           early_stopping_rounds=None,\n                                           enable_categorical=False,\n                                           eval_metric=None, feature_types=None,\n                                           gamma=None, gpu_id=None,\n                                           grow_policy=None,\n                                           importance_type=None,\n                                           interaction_constraints=None,\n                                           learning_rate...\n                   param_distributions={&#x27;colsample_bytree&#x27;: [0.6, 0.8, 1.0],\n                                        &#x27;gamma&#x27;: [0.5, 1, 1.5, 2, 5],\n                                        &#x27;max_depth&#x27;: array([ 3,  4,  5,  6,  7,  8,  9, 10, 11, 12, 13, 14, 15, 16, 17]),\n                                        &#x27;min_child_weight&#x27;: array([0, 1, 2, 3, 4, 5, 6, 7, 8, 9]),\n                                        &#x27;n_estimators&#x27;: array([ 100,  300,  500,  700,  900, 1100, 1300, 1500, 1700, 1900]),\n                                        &#x27;reg_alpha&#x27;: array([ 40,  50,  60,  70,  80,  90, 100, 110, 120, 130, 140, 150, 160,\n       170]),\n                                        &#x27;reg_lambda&#x27;: [0, 1],\n                                        &#x27;subsample&#x27;: [0.6, 0.8, 1.0]},\n                   verbose=1)</pre><b>In a Jupyter environment, please rerun this cell to show the HTML representation or trust the notebook. <br />On GitHub, the HTML representation is unable to render, please try loading this page with nbviewer.org.</b></div><div class=\"sk-container\" hidden><div class=\"sk-item sk-dashed-wrapped\"><div class=\"sk-label-container\"><div class=\"sk-label sk-toggleable\"><input class=\"sk-toggleable__control sk-hidden--visually\" id=\"sk-estimator-id-19\" type=\"checkbox\" ><label for=\"sk-estimator-id-19\" class=\"sk-toggleable__label sk-toggleable__label-arrow\">RandomizedSearchCV</label><div class=\"sk-toggleable__content\"><pre>RandomizedSearchCV(cv=5,\n                   estimator=XGBClassifier(base_score=None, booster=None,\n                                           callbacks=None,\n                                           colsample_bylevel=None,\n                                           colsample_bynode=None,\n                                           colsample_bytree=None,\n                                           early_stopping_rounds=None,\n                                           enable_categorical=False,\n                                           eval_metric=None, feature_types=None,\n                                           gamma=None, gpu_id=None,\n                                           grow_policy=None,\n                                           importance_type=None,\n                                           interaction_constraints=None,\n                                           learning_rate...\n                   param_distributions={&#x27;colsample_bytree&#x27;: [0.6, 0.8, 1.0],\n                                        &#x27;gamma&#x27;: [0.5, 1, 1.5, 2, 5],\n                                        &#x27;max_depth&#x27;: array([ 3,  4,  5,  6,  7,  8,  9, 10, 11, 12, 13, 14, 15, 16, 17]),\n                                        &#x27;min_child_weight&#x27;: array([0, 1, 2, 3, 4, 5, 6, 7, 8, 9]),\n                                        &#x27;n_estimators&#x27;: array([ 100,  300,  500,  700,  900, 1100, 1300, 1500, 1700, 1900]),\n                                        &#x27;reg_alpha&#x27;: array([ 40,  50,  60,  70,  80,  90, 100, 110, 120, 130, 140, 150, 160,\n       170]),\n                                        &#x27;reg_lambda&#x27;: [0, 1],\n                                        &#x27;subsample&#x27;: [0.6, 0.8, 1.0]},\n                   verbose=1)</pre></div></div></div><div class=\"sk-parallel\"><div class=\"sk-parallel-item\"><div class=\"sk-item\"><div class=\"sk-label-container\"><div class=\"sk-label sk-toggleable\"><input class=\"sk-toggleable__control sk-hidden--visually\" id=\"sk-estimator-id-20\" type=\"checkbox\" ><label for=\"sk-estimator-id-20\" class=\"sk-toggleable__label sk-toggleable__label-arrow\">estimator: XGBClassifier</label><div class=\"sk-toggleable__content\"><pre>XGBClassifier(base_score=None, booster=None, callbacks=None,\n              colsample_bylevel=None, colsample_bynode=None,\n              colsample_bytree=None, early_stopping_rounds=None,\n              enable_categorical=False, eval_metric=None, feature_types=None,\n              gamma=None, gpu_id=None, grow_policy=None, importance_type=None,\n              interaction_constraints=None, learning_rate=None, max_bin=None,\n              max_cat_threshold=None, max_cat_to_onehot=None,\n              max_delta_step=None, max_depth=None, max_leaves=None,\n              min_child_weight=None, missing=nan, monotone_constraints=None,\n              n_estimators=100, n_jobs=None, num_parallel_tree=None,\n              predictor=None, random_state=None, ...)</pre></div></div></div><div class=\"sk-serial\"><div class=\"sk-item\"><div class=\"sk-estimator sk-toggleable\"><input class=\"sk-toggleable__control sk-hidden--visually\" id=\"sk-estimator-id-21\" type=\"checkbox\" ><label for=\"sk-estimator-id-21\" class=\"sk-toggleable__label sk-toggleable__label-arrow\">XGBClassifier</label><div class=\"sk-toggleable__content\"><pre>XGBClassifier(base_score=None, booster=None, callbacks=None,\n              colsample_bylevel=None, colsample_bynode=None,\n              colsample_bytree=None, early_stopping_rounds=None,\n              enable_categorical=False, eval_metric=None, feature_types=None,\n              gamma=None, gpu_id=None, grow_policy=None, importance_type=None,\n              interaction_constraints=None, learning_rate=None, max_bin=None,\n              max_cat_threshold=None, max_cat_to_onehot=None,\n              max_delta_step=None, max_depth=None, max_leaves=None,\n              min_child_weight=None, missing=nan, monotone_constraints=None,\n              n_estimators=100, n_jobs=None, num_parallel_tree=None,\n              predictor=None, random_state=None, ...)</pre></div></div></div></div></div></div></div></div></div></div>"
     },
     "execution_count": 255,
     "metadata": {},
     "output_type": "execute_result"
    }
   ],
   "source": [
    "param_dict={'max_depth': np.arange(3, 18, 1),\n",
    "       'gamma': [0.5, 1, 1.5, 2, 5],\n",
    "       'reg_alpha' : np.arange(40,180,10),\n",
    "       'reg_lambda' : [0,1],\n",
    "       'colsample_bytree' : [0.6, 0.8, 1.0],\n",
    "       'min_child_weight' : np.arange(0, 10, 1),\n",
    "       'n_estimators': np.arange(100, 2000, 200),\n",
    "        'subsample': [0.6, 0.8, 1.0],\n",
    "}\n",
    "\n",
    "np.random.seed(8)\n",
    "xgb_model = xgb.XGBClassifier()\n",
    "xgb_model_tuned= RandomizedSearchCV(estimator=xgb_model, param_distributions=param_dict, n_iter=500, n_jobs=-1, cv=5, verbose=1)\n",
    "xgb_model_tuned.fit(X_train, y_train)"
   ],
   "metadata": {
    "collapsed": false,
    "ExecuteTime": {
     "end_time": "2023-07-07T02:01:51.104899Z",
     "start_time": "2023-07-07T02:00:31.264900Z"
    }
   }
  },
  {
   "cell_type": "code",
   "execution_count": 256,
   "outputs": [
    {
     "data": {
      "text/plain": "{'subsample': 1.0,\n 'reg_lambda': 1,\n 'reg_alpha': 40,\n 'n_estimators': 100,\n 'min_child_weight': 4,\n 'max_depth': 11,\n 'gamma': 1,\n 'colsample_bytree': 0.8}"
     },
     "execution_count": 256,
     "metadata": {},
     "output_type": "execute_result"
    }
   ],
   "source": [
    "xgb_model_tuned.best_params_"
   ],
   "metadata": {
    "collapsed": false,
    "ExecuteTime": {
     "end_time": "2023-07-07T02:01:51.108191Z",
     "start_time": "2023-07-07T02:01:51.106137Z"
    }
   }
  },
  {
   "cell_type": "code",
   "execution_count": 257,
   "outputs": [
    {
     "data": {
      "text/plain": "0.9473684210526315"
     },
     "execution_count": 257,
     "metadata": {},
     "output_type": "execute_result"
    }
   ],
   "source": [
    "xgb_model_tuned.score(X_test, y_test)"
   ],
   "metadata": {
    "collapsed": false,
    "ExecuteTime": {
     "end_time": "2023-07-07T02:01:51.112290Z",
     "start_time": "2023-07-07T02:01:51.108704Z"
    }
   }
  },
  {
   "cell_type": "markdown",
   "source": [
    "Further Tuning with GridSearchCV"
   ],
   "metadata": {
    "collapsed": false
   }
  },
  {
   "cell_type": "code",
   "execution_count": 338,
   "outputs": [
    {
     "name": "stdout",
     "output_type": "stream",
     "text": [
      "Fitting 5 folds for each of 360 candidates, totalling 1800 fits\n"
     ]
    },
    {
     "data": {
      "text/plain": "GridSearchCV(cv=5,\n             estimator=XGBClassifier(base_score=None, booster=None,\n                                     callbacks=None, colsample_bylevel=None,\n                                     colsample_bynode=None,\n                                     colsample_bytree=None,\n                                     early_stopping_rounds=None,\n                                     enable_categorical=False, eval_metric=None,\n                                     feature_types=None, gamma=None,\n                                     gpu_id=None, grow_policy=None,\n                                     importance_type=None,\n                                     interaction_constraints=None,\n                                     learning_rate=None,...\n                                     missing=nan, monotone_constraints=None,\n                                     n_estimators=100, n_jobs=None,\n                                     num_parallel_tree=None, predictor=None,\n                                     random_state=None, ...),\n             n_jobs=-1,\n             param_grid={'colsample_bytree': [0.4, 0.5, 0.6], 'gamma': [1],\n                         'learning_rate': [0.1, 0.22, 0.23, 0.5, 1],\n                         'max_depth': [1, 2, 3], 'min_child_weight': [4],\n                         'n_estimators': [60, 100],\n                         'reg_alpha': [5, 10, 15, 20], 'reg_lambda': [1]},\n             verbose=1)",
      "text/html": "<style>#sk-container-id-33 {color: black;background-color: white;}#sk-container-id-33 pre{padding: 0;}#sk-container-id-33 div.sk-toggleable {background-color: white;}#sk-container-id-33 label.sk-toggleable__label {cursor: pointer;display: block;width: 100%;margin-bottom: 0;padding: 0.3em;box-sizing: border-box;text-align: center;}#sk-container-id-33 label.sk-toggleable__label-arrow:before {content: \"▸\";float: left;margin-right: 0.25em;color: #696969;}#sk-container-id-33 label.sk-toggleable__label-arrow:hover:before {color: black;}#sk-container-id-33 div.sk-estimator:hover label.sk-toggleable__label-arrow:before {color: black;}#sk-container-id-33 div.sk-toggleable__content {max-height: 0;max-width: 0;overflow: hidden;text-align: left;background-color: #f0f8ff;}#sk-container-id-33 div.sk-toggleable__content pre {margin: 0.2em;color: black;border-radius: 0.25em;background-color: #f0f8ff;}#sk-container-id-33 input.sk-toggleable__control:checked~div.sk-toggleable__content {max-height: 200px;max-width: 100%;overflow: auto;}#sk-container-id-33 input.sk-toggleable__control:checked~label.sk-toggleable__label-arrow:before {content: \"▾\";}#sk-container-id-33 div.sk-estimator input.sk-toggleable__control:checked~label.sk-toggleable__label {background-color: #d4ebff;}#sk-container-id-33 div.sk-label input.sk-toggleable__control:checked~label.sk-toggleable__label {background-color: #d4ebff;}#sk-container-id-33 input.sk-hidden--visually {border: 0;clip: rect(1px 1px 1px 1px);clip: rect(1px, 1px, 1px, 1px);height: 1px;margin: -1px;overflow: hidden;padding: 0;position: absolute;width: 1px;}#sk-container-id-33 div.sk-estimator {font-family: monospace;background-color: #f0f8ff;border: 1px dotted black;border-radius: 0.25em;box-sizing: border-box;margin-bottom: 0.5em;}#sk-container-id-33 div.sk-estimator:hover {background-color: #d4ebff;}#sk-container-id-33 div.sk-parallel-item::after {content: \"\";width: 100%;border-bottom: 1px solid gray;flex-grow: 1;}#sk-container-id-33 div.sk-label:hover label.sk-toggleable__label {background-color: #d4ebff;}#sk-container-id-33 div.sk-serial::before {content: \"\";position: absolute;border-left: 1px solid gray;box-sizing: border-box;top: 0;bottom: 0;left: 50%;z-index: 0;}#sk-container-id-33 div.sk-serial {display: flex;flex-direction: column;align-items: center;background-color: white;padding-right: 0.2em;padding-left: 0.2em;position: relative;}#sk-container-id-33 div.sk-item {position: relative;z-index: 1;}#sk-container-id-33 div.sk-parallel {display: flex;align-items: stretch;justify-content: center;background-color: white;position: relative;}#sk-container-id-33 div.sk-item::before, #sk-container-id-33 div.sk-parallel-item::before {content: \"\";position: absolute;border-left: 1px solid gray;box-sizing: border-box;top: 0;bottom: 0;left: 50%;z-index: -1;}#sk-container-id-33 div.sk-parallel-item {display: flex;flex-direction: column;z-index: 1;position: relative;background-color: white;}#sk-container-id-33 div.sk-parallel-item:first-child::after {align-self: flex-end;width: 50%;}#sk-container-id-33 div.sk-parallel-item:last-child::after {align-self: flex-start;width: 50%;}#sk-container-id-33 div.sk-parallel-item:only-child::after {width: 0;}#sk-container-id-33 div.sk-dashed-wrapped {border: 1px dashed gray;margin: 0 0.4em 0.5em 0.4em;box-sizing: border-box;padding-bottom: 0.4em;background-color: white;}#sk-container-id-33 div.sk-label label {font-family: monospace;font-weight: bold;display: inline-block;line-height: 1.2em;}#sk-container-id-33 div.sk-label-container {text-align: center;}#sk-container-id-33 div.sk-container {/* jupyter's `normalize.less` sets `[hidden] { display: none; }` but bootstrap.min.css set `[hidden] { display: none !important; }` so we also need the `!important` here to be able to override the default hidden behavior on the sphinx rendered scikit-learn.org. See: https://github.com/scikit-learn/scikit-learn/issues/21755 */display: inline-block !important;position: relative;}#sk-container-id-33 div.sk-text-repr-fallback {display: none;}</style><div id=\"sk-container-id-33\" class=\"sk-top-container\"><div class=\"sk-text-repr-fallback\"><pre>GridSearchCV(cv=5,\n             estimator=XGBClassifier(base_score=None, booster=None,\n                                     callbacks=None, colsample_bylevel=None,\n                                     colsample_bynode=None,\n                                     colsample_bytree=None,\n                                     early_stopping_rounds=None,\n                                     enable_categorical=False, eval_metric=None,\n                                     feature_types=None, gamma=None,\n                                     gpu_id=None, grow_policy=None,\n                                     importance_type=None,\n                                     interaction_constraints=None,\n                                     learning_rate=None,...\n                                     missing=nan, monotone_constraints=None,\n                                     n_estimators=100, n_jobs=None,\n                                     num_parallel_tree=None, predictor=None,\n                                     random_state=None, ...),\n             n_jobs=-1,\n             param_grid={&#x27;colsample_bytree&#x27;: [0.4, 0.5, 0.6], &#x27;gamma&#x27;: [1],\n                         &#x27;learning_rate&#x27;: [0.1, 0.22, 0.23, 0.5, 1],\n                         &#x27;max_depth&#x27;: [1, 2, 3], &#x27;min_child_weight&#x27;: [4],\n                         &#x27;n_estimators&#x27;: [60, 100],\n                         &#x27;reg_alpha&#x27;: [5, 10, 15, 20], &#x27;reg_lambda&#x27;: [1]},\n             verbose=1)</pre><b>In a Jupyter environment, please rerun this cell to show the HTML representation or trust the notebook. <br />On GitHub, the HTML representation is unable to render, please try loading this page with nbviewer.org.</b></div><div class=\"sk-container\" hidden><div class=\"sk-item sk-dashed-wrapped\"><div class=\"sk-label-container\"><div class=\"sk-label sk-toggleable\"><input class=\"sk-toggleable__control sk-hidden--visually\" id=\"sk-estimator-id-97\" type=\"checkbox\" ><label for=\"sk-estimator-id-97\" class=\"sk-toggleable__label sk-toggleable__label-arrow\">GridSearchCV</label><div class=\"sk-toggleable__content\"><pre>GridSearchCV(cv=5,\n             estimator=XGBClassifier(base_score=None, booster=None,\n                                     callbacks=None, colsample_bylevel=None,\n                                     colsample_bynode=None,\n                                     colsample_bytree=None,\n                                     early_stopping_rounds=None,\n                                     enable_categorical=False, eval_metric=None,\n                                     feature_types=None, gamma=None,\n                                     gpu_id=None, grow_policy=None,\n                                     importance_type=None,\n                                     interaction_constraints=None,\n                                     learning_rate=None,...\n                                     missing=nan, monotone_constraints=None,\n                                     n_estimators=100, n_jobs=None,\n                                     num_parallel_tree=None, predictor=None,\n                                     random_state=None, ...),\n             n_jobs=-1,\n             param_grid={&#x27;colsample_bytree&#x27;: [0.4, 0.5, 0.6], &#x27;gamma&#x27;: [1],\n                         &#x27;learning_rate&#x27;: [0.1, 0.22, 0.23, 0.5, 1],\n                         &#x27;max_depth&#x27;: [1, 2, 3], &#x27;min_child_weight&#x27;: [4],\n                         &#x27;n_estimators&#x27;: [60, 100],\n                         &#x27;reg_alpha&#x27;: [5, 10, 15, 20], &#x27;reg_lambda&#x27;: [1]},\n             verbose=1)</pre></div></div></div><div class=\"sk-parallel\"><div class=\"sk-parallel-item\"><div class=\"sk-item\"><div class=\"sk-label-container\"><div class=\"sk-label sk-toggleable\"><input class=\"sk-toggleable__control sk-hidden--visually\" id=\"sk-estimator-id-98\" type=\"checkbox\" ><label for=\"sk-estimator-id-98\" class=\"sk-toggleable__label sk-toggleable__label-arrow\">estimator: XGBClassifier</label><div class=\"sk-toggleable__content\"><pre>XGBClassifier(base_score=None, booster=None, callbacks=None,\n              colsample_bylevel=None, colsample_bynode=None,\n              colsample_bytree=None, early_stopping_rounds=None,\n              enable_categorical=False, eval_metric=None, feature_types=None,\n              gamma=None, gpu_id=None, grow_policy=None, importance_type=None,\n              interaction_constraints=None, learning_rate=None, max_bin=None,\n              max_cat_threshold=None, max_cat_to_onehot=None,\n              max_delta_step=None, max_depth=None, max_leaves=None,\n              min_child_weight=None, missing=nan, monotone_constraints=None,\n              n_estimators=100, n_jobs=None, num_parallel_tree=None,\n              predictor=None, random_state=None, ...)</pre></div></div></div><div class=\"sk-serial\"><div class=\"sk-item\"><div class=\"sk-estimator sk-toggleable\"><input class=\"sk-toggleable__control sk-hidden--visually\" id=\"sk-estimator-id-99\" type=\"checkbox\" ><label for=\"sk-estimator-id-99\" class=\"sk-toggleable__label sk-toggleable__label-arrow\">XGBClassifier</label><div class=\"sk-toggleable__content\"><pre>XGBClassifier(base_score=None, booster=None, callbacks=None,\n              colsample_bylevel=None, colsample_bynode=None,\n              colsample_bytree=None, early_stopping_rounds=None,\n              enable_categorical=False, eval_metric=None, feature_types=None,\n              gamma=None, gpu_id=None, grow_policy=None, importance_type=None,\n              interaction_constraints=None, learning_rate=None, max_bin=None,\n              max_cat_threshold=None, max_cat_to_onehot=None,\n              max_delta_step=None, max_depth=None, max_leaves=None,\n              min_child_weight=None, missing=nan, monotone_constraints=None,\n              n_estimators=100, n_jobs=None, num_parallel_tree=None,\n              predictor=None, random_state=None, ...)</pre></div></div></div></div></div></div></div></div></div></div>"
     },
     "execution_count": 338,
     "metadata": {},
     "output_type": "execute_result"
    }
   ],
   "source": [
    "param_dict={'max_depth': [1, 2, 3],\n",
    "            'gamma': [1],\n",
    "            'reg_alpha' : [5, 10, 15, 20],\n",
    "            'reg_lambda' : [1],\n",
    "            'colsample_bytree' : [0.4, 0.5, 0.6],\n",
    "            'min_child_weight' : [4],\n",
    "            'n_estimators': [60, 100],\n",
    "            'learning_rate':[0.1, 0.22, 0.23, 0.5, 1]\n",
    "            }\n",
    "\n",
    "np.random.seed(8)\n",
    "xgb_model = xgb.XGBClassifier(objective=\"binary:logistic\")\n",
    "xgb_model_tuned= GridSearchCV(estimator=xgb_model, param_grid=param_dict, n_jobs=-1, cv=5, verbose=1)\n",
    "xgb_model_tuned.fit(X_train, y_train)"
   ],
   "metadata": {
    "collapsed": false,
    "ExecuteTime": {
     "end_time": "2023-07-07T02:19:23.079967Z",
     "start_time": "2023-07-07T02:19:18.101007Z"
    }
   }
  },
  {
   "cell_type": "code",
   "execution_count": 339,
   "outputs": [
    {
     "data": {
      "text/plain": "{'colsample_bytree': 0.4,\n 'gamma': 1,\n 'learning_rate': 0.22,\n 'max_depth': 2,\n 'min_child_weight': 4,\n 'n_estimators': 100,\n 'reg_alpha': 5,\n 'reg_lambda': 1}"
     },
     "execution_count": 339,
     "metadata": {},
     "output_type": "execute_result"
    }
   ],
   "source": [
    "xgb_model_tuned.best_params_"
   ],
   "metadata": {
    "collapsed": false,
    "ExecuteTime": {
     "end_time": "2023-07-07T02:19:23.083952Z",
     "start_time": "2023-07-07T02:19:23.080194Z"
    }
   }
  },
  {
   "cell_type": "code",
   "execution_count": 341,
   "outputs": [
    {
     "data": {
      "text/plain": "0.9912280701754386"
     },
     "execution_count": 341,
     "metadata": {},
     "output_type": "execute_result"
    }
   ],
   "source": [
    "xgb_model_tuned_score = xgb_model_tuned.score(X_test, y_test)\n",
    "xgb_model_tuned_score"
   ],
   "metadata": {
    "collapsed": false,
    "ExecuteTime": {
     "end_time": "2023-07-07T02:20:33.862378Z",
     "start_time": "2023-07-07T02:20:33.851919Z"
    }
   }
  },
  {
   "cell_type": "code",
   "execution_count": 337,
   "outputs": [],
   "source": [],
   "metadata": {
    "collapsed": false,
    "ExecuteTime": {
     "end_time": "2023-07-07T02:18:40.404488Z",
     "start_time": "2023-07-07T02:18:40.402501Z"
    }
   }
  },
  {
   "cell_type": "markdown",
   "source": [],
   "metadata": {
    "collapsed": false
   }
  }
 ],
 "metadata": {
  "kernelspec": {
   "display_name": "Python 3",
   "language": "python",
   "name": "python3"
  },
  "language_info": {
   "codemirror_mode": {
    "name": "ipython",
    "version": 2
   },
   "file_extension": ".py",
   "mimetype": "text/x-python",
   "name": "python",
   "nbconvert_exporter": "python",
   "pygments_lexer": "ipython2",
   "version": "2.7.6"
  }
 },
 "nbformat": 4,
 "nbformat_minor": 0
}
