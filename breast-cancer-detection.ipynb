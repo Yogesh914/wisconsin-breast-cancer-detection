{
 "cells": [
  {
   "cell_type": "markdown",
   "source": [
    "# Breast Cancer Detection Project\n",
    "\n",
    "This notebook will look into using various different python-based machine learning libraries, models by evaluating them and improving them through hyperparameter tuning in an attempt to build a machine learning model that is capable of predicting whether someone has breast cancer based on their medical attributes.\n",
    "\n",
    "## Problem\n",
    "\n",
    "> Given clinical parameters about a patient, can we predict whether they have breast cancer or not?\n",
    "\n",
    "## Data\n",
    "\n",
    "Data is from kaggle: https://www.kaggle.com/datasets/utkarshx27/breast-cancer-wisconsin-diagnostic-dataset\n",
    "\n",
    "## Target\n",
    "\n",
    "Evaluate the model using various different statistics:\n",
    "* Hyperparameter Tuning\n",
    "* ROC Curve + Area under the curve (AUC)\n",
    "* Confusion Matrix\n",
    "* Cross-validation\n",
    "* Precision\n",
    "* Recall\n",
    "* F1 Score\n",
    "* Classification Report\n",
    "* Feature Importance\n",
    "\n",
    "> Aiming to reach 95% accuracy when predicting whether a patient has breast cancer or not.\n",
    "\n",
    "## Features\n",
    "\n",
    "x.radius_mean - Mean radius of the tumor cells\n",
    "x.radius_mean - Mean radius of the tumor cells\n",
    "x.texture_mean - Mean texture of the tumor cells\n",
    "x.perimeter_mean - Mean perimeter of the tumor cells\n",
    "x.area_mean - Mean area of the tumor cells\n",
    "x.smoothness_mean - Mean smoothness of the tumor cells\n",
    "x.compactness_mean - Mean compactness of the tumor cells\n",
    "x.concavity_mean - Mean concavity of the tumor cells\n",
    "x.concave_points_mean - Mean number of concave portions of the contour of the tumor cells\n",
    "x.symmetry_mean\tMean - symmetry of the tumor cells\n",
    "x.fractal_dimension_mean - Mean \"coastline approximation\" of the tumor cells\n",
    "x.radius_se - Standard error of the radius of the tumor cells\n",
    "x.texture_se - Standard error of the texture of the tumor cells\n",
    "x.perimeter_se - Standard error of the perimeter of the tumor cells\n",
    "x.area_se - Standard error of the area of the tumor cells\n",
    "x.smoothness_se - Standard error of the smoothness of the tumor cells\n",
    "x.compactness_se - Standard error of the compactness of the tumor cells\n",
    "x.concavity_se - Standard error of the concavity of the tumor cells\n",
    "x.concave_points_se - Standard error of the number of concave portions of the contour of the tumor cells\n",
    "x.symmetry_se - Standard error of the symmetry of the tumor cells\n",
    "x.fractal_dimension_se - Standard error of the \"coastline approximation\" of the tumor cells\n",
    "x.radius_worst - Worst (largest) radius of the tumor cells\n",
    "x.texture_worst - Worst (most severe) texture of the tumor cells\n",
    "x.perimeter_worst - Worst (largest) perimeter of the tumor cells\n",
    "x.area_worst - Worst (largest) area of the tumor cells\n",
    "x.smoothness_worst - Worst (most severe) smoothness of the tumor cells\n",
    "x.compactness_worst - Worst (most severe) compactness of the tumor cells\n",
    "x.concavity_worst - Worst (most severe) concavity of the tumor cells\n",
    "x.concave_points_worst - Worst (most severe) number of concave portions of the contour of the tumor cells\n",
    "x.symmetry_worst - Worst (most severe) symmetry of the tumor cells\n",
    "x.fractal_dimension_worst - Worst (most severe) \"coastline approximation\" of the tumor cells\n",
    "y - target"
   ],
   "metadata": {
    "collapsed": false
   }
  },
  {
   "cell_type": "markdown",
   "source": [
    "## Getting Workspace Ready"
   ],
   "metadata": {
    "collapsed": false
   }
  },
  {
   "cell_type": "code",
   "execution_count": 1,
   "metadata": {
    "collapsed": true,
    "ExecuteTime": {
     "end_time": "2023-07-06T01:44:16.117042Z",
     "start_time": "2023-07-06T01:44:11.510076Z"
    }
   },
   "outputs": [],
   "source": [
    "import numpy as np\n",
    "import pandas as pd\n",
    "import matplotlib.pyplot as plt\n",
    "import seaborn as sns\n",
    "\n",
    "%matplotlib inline\n",
    "plt.style.use(\"seaborn-v0_8-dark\")\n",
    "\n",
    "from sklearn.linear_model import LogisticRegression\n",
    "from sklearn.ensemble import BaggingClassifier\n",
    "from sklearn.neighbors import KNeighborsClassifier\n",
    "from sklearn.ensemble import RandomForestClassifier\n",
    "from sklearn.svm import SVC\n",
    "from sklearn.svm import LinearSVC\n",
    "from sklearn.model_selection import train_test_split, cross_val_score, RandomizedSearchCV, GridSearchCV\n",
    "from sklearn.metrics import confusion_matrix, classification_report, precision_score, recall_score, f1_score, \\\n",
    "    RocCurveDisplay"
   ]
  },
  {
   "cell_type": "markdown",
   "source": [
    "## Exploring Data"
   ],
   "metadata": {
    "collapsed": false
   }
  },
  {
   "cell_type": "code",
   "execution_count": null,
   "outputs": [],
   "source": [],
   "metadata": {
    "collapsed": false
   }
  }
 ],
 "metadata": {
  "kernelspec": {
   "display_name": "Python 3",
   "language": "python",
   "name": "python3"
  },
  "language_info": {
   "codemirror_mode": {
    "name": "ipython",
    "version": 2
   },
   "file_extension": ".py",
   "mimetype": "text/x-python",
   "name": "python",
   "nbconvert_exporter": "python",
   "pygments_lexer": "ipython2",
   "version": "2.7.6"
  }
 },
 "nbformat": 4,
 "nbformat_minor": 0
}
